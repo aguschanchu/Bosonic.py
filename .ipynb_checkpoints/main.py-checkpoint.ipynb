{
 "cells": [
  {
   "cell_type": "markdown",
   "metadata": {
    "id": "gmg2zMT5iLvk"
   },
   "source": [
    "# Bosonic.py"
   ]
  },
  {
   "cell_type": "code",
   "execution_count": 55,
   "metadata": {
    "id": "XMdfOwDNiLvr"
   },
   "outputs": [],
   "source": [
    "import numpy as np\n",
    "from scipy.special import binom \n",
    "from scipy.sparse import dok_matrix, linalg\n",
    "from scipy import linalg as linalg_d\n",
    "from joblib import Memory\n",
    "import random\n",
    "import plotly.graph_objects as go\n",
    "from joblib import Parallel, delayed\n",
    "\n",
    "location = './cachedir'\n",
    "memory = Memory(location, verbose=0)"
   ]
  },
  {
   "cell_type": "code",
   "execution_count": 82,
   "metadata": {
    "id": "4bbt6PcJiLvu"
   },
   "outputs": [],
   "source": [
    "class fixed_basis:\n",
    "\n",
    "    # Convierte a un enterno n a su escritura en base b\n",
    "    def int_to_tuple(self, n, b, digits = None):\n",
    "        rep = np.base_repr(n, b)\n",
    "        rep_int = [int(x,b) for x in rep] \n",
    "        if digits is not None:\n",
    "            zeros = [0 for i in range(0,digits-len(rep))]\n",
    "            return zeros + rep_int\n",
    "        else:\n",
    "            return rep_int\n",
    "    \n",
    "    # Revierte la transformacion anterior\n",
    "    def tuple_to_int(self, t):\n",
    "        b = self.d-1\n",
    "        l = len(t)\n",
    "        s = [t[k]*b**(l-k-1) for k in range(0,l)]\n",
    "        return sum(s)\n",
    "\n",
    "    # Convierte el vector en su representacion\n",
    "    def vect_to_repr(self, vect):\n",
    "        for i, k in enumerate(vect):\n",
    "            if k == 1. or k == 1:\n",
    "                break\n",
    "        return self.base[i,:]\n",
    "            \n",
    "    def rep_to_vect(self, rep):\n",
    "        rep = list(rep)\n",
    "        for i, r in [(j, self.base[j,:]) for j in range(0,self.size)]:\n",
    "            if list(r) == rep:\n",
    "                return self.canonicals[:,i]\n",
    "        else:\n",
    "            None\n",
    "    \n",
    "    def rep_to_index(self, rep):\n",
    "        rep = list(rep)\n",
    "        for i, r in [(j, self.base[j,:]) for j in range(0,self.size)]:\n",
    "            if list(r) == rep:\n",
    "                return i\n",
    "        else:\n",
    "            None\n",
    "\n",
    "    @staticmethod\n",
    "    def rep_to_exi(rep):\n",
    "        r = []\n",
    "        for i, k in enumerate(rep):\n",
    "            r += [i for x in range(0,k)]\n",
    "        return r\n",
    "\n",
    "    # Crea base de M particulas en D estados (repr y base canonica)\n",
    "    def create_basis(self, m, d):\n",
    "        length = int(binom(d+m-1,d-1))\n",
    "        base = []\n",
    "        index = 0\n",
    "        for x in range(0,(d+1)**max(d,m)):\n",
    "            x = self.int_to_tuple(x,m+1,d)\n",
    "            if sum(x) == m and len(x) == d:\n",
    "                base.append(x)\n",
    "                index += 1\n",
    "        base = np.array(base)\n",
    "        # Asignamos a cada uno de ellos un canónico\n",
    "        x = [1.0 for j in range(0,length)]\n",
    "        canonicals = np.diag(x)\n",
    "        return base, canonicals\n",
    "    \n",
    "    def __init__(self, m, d):\n",
    "        self.m = m\n",
    "        self.d = d\n",
    "        self.size = int(binom(d+m-1,d-1))\n",
    "        (self.base, self.canonicals) = self.create_basis(m, d)\n",
    "\n",
    "# Matrices de aniquilación y creación endomórficas. Estan fuera de la clase para poder ser cacheadas        \n",
    "@memory.cache    \n",
    "def bdb(basis, i, j):\n",
    "    mat = dok_matrix((basis.size, basis.size), dtype=np.float32)\n",
    "    if i != j:\n",
    "        for k, v in enumerate(basis.base):\n",
    "            if v[j] != 0:\n",
    "                dest = list(v.copy())\n",
    "                dest[j] -= 1\n",
    "                dest[i] += 1\n",
    "                tar = basis.rep_to_index(dest)\n",
    "                mat[tar, k] = np.sqrt(v[i]+1)*np.sqrt(v[j])\n",
    "    else:\n",
    "        for k, v in enumerate(basis.base):\n",
    "            if v[j] != 0:\n",
    "                mat[k, k] = v[i] \n",
    "    return mat\n",
    "\n",
    "@memory.cache    \n",
    "def bbd(basis, i, j):\n",
    "    mat = dok_matrix((basis.size, basis.size), dtype=np.float32)\n",
    "    if i != j:\n",
    "        for k, v in enumerate(basis.base):\n",
    "            if v[i] != 0:\n",
    "                dest = list(v.copy())\n",
    "                dest[i] -= 1\n",
    "                dest[j] += 1\n",
    "                tar = basis.rep_to_index(dest)\n",
    "                mat[tar, k] = np.sqrt(v[j]+1)*np.sqrt(v[i])\n",
    "    else:\n",
    "        for k, v in enumerate(basis.base):\n",
    "            mat[k, k] = v[i]+1\n",
    "    return mat\n",
    "\n",
    "# Matrices de aniquilación y creación.Toman la base de origen y destino (basis_o, basis_d) resp\n",
    "@memory.cache   \n",
    "def b(basis_o, basis_d, i):\n",
    "    mat = dok_matrix((basis_d.size, basis_o.size), dtype=np.float32)\n",
    "    for k, v in enumerate(basis_o.base):\n",
    "        if v[i] != 0:\n",
    "            dest = list(v.copy())\n",
    "            dest[i] -= 1   \n",
    "            tar = basis_d.rep_to_index(dest)\n",
    "            mat[tar, k] = np.sqrt(v[i])\n",
    "    return mat\n",
    "\n",
    "\n",
    "@memory.cache   \n",
    "def bd(basis_o, basis_d, i):\n",
    "    mat = dok_matrix((basis_d.size, basis_o.size), dtype=np.float32)\n",
    "    for k, v in enumerate(basis_o.base):\n",
    "        dest = list(v.copy())\n",
    "        dest[i] += 1   \n",
    "        tar = basis_d.rep_to_index(dest)\n",
    "        mat[tar, k] = np.sqrt(v[i]+1)\n",
    "    return mat\n",
    "\n",
    "# Devuelve la matriz gamma asociada a la descomposición (M,N-M) del vector\n",
    "def gamma(basis, m, vect, m_basis = None, nm_basis = None):\n",
    "    d = basis.d\n",
    "    if not m_basis or not nm_basis:\n",
    "        m_basis = fixed_basis(m, d)\n",
    "        nm_basis = fixed_basis(basis.m-m,d)\n",
    "    mat = dok_matrix((m_basis.size, nm_basis.size), dtype=np.float32)\n",
    "    for i, v in enumerate(m_basis.base):\n",
    "        for j, w in enumerate(nm_basis.base):\n",
    "            targ = v+w\n",
    "            index = basis.rep_to_index(targ)\n",
    "            if index == None:\n",
    "                continue\n",
    "            coef = vect[index]\n",
    "            if coef != 0:      \n",
    "                aux = lambda x: np.prod(np.reciprocal(np.sqrt([np.math.factorial(o) for o in x])))\n",
    "                aux_inv = lambda x: np.prod(np.sqrt([np.math.factorial(o) for o in x]))\n",
    "                coef = coef * aux(v) * aux(w) * aux_inv(targ)\n",
    "            mat[i,j] = coef\n",
    "    return mat\n",
    "\n",
    "# Devuelve la matriz rho M asociada al vector\n",
    "def rho_m(basis, m, vect, m_basis = None, nm_basis = None):\n",
    "    g = gamma(basis, m, vect, m_basis, nm_basis)\n",
    "    return np.dot(g,np.transpose(g))\n",
    "\n",
    "# Devuelve la matriz rho 1 asociada al vector\n",
    "def rho_1(basis, vect):\n",
    "    d = basis.d\n",
    "    mat = dok_matrix((d, d), dtype=np.float32)\n",
    "    for i in range(0, d):\n",
    "        for j in range(0, d):\n",
    "            v = bdb(basis,j,i)*vect\n",
    "            mat[i,j] = np.inner(vect,v)\n",
    "    return mat\n",
    "      \n",
    "# Devuelve la matriz rho 2 asociada al vector\n",
    "def rho_2(basis, vect, ml_basis = None, mll_basis = None, t_basis = None):\n",
    "    d = basis.d\n",
    "    # Creo las bases si no están dadad\n",
    "    if ml_basis == None or mll_basis == None or t_basis == None:\n",
    "        ml_basis = fixed_basis(m-1,d)\n",
    "        mll_basis = fixed_basis(m-2,d)\n",
    "        t_basis = fixed_basis(2,d)\n",
    "    mat = dok_matrix((t_basis.size, t_basis.size), dtype=np.float32)\n",
    "    for i, v in enumerate(t_basis.base):\n",
    "        for j, w in enumerate(t_basis.base):\n",
    "            # Creacion de los a\n",
    "            i_set = t_basis.rep_to_exi(v)\n",
    "            b_m = np.dot(b(ml_basis, mll_basis, i_set[1]),b(basis, ml_basis, i_set[0]))\n",
    "            \n",
    "            # Creacion de los ad\n",
    "            i_set = t_basis.rep_to_exi(w)\n",
    "            bd_m = np.dot(bd(ml_basis, basis, i_set[1]),bd(mll_basis, ml_basis, i_set[0]))    \n",
    "\n",
    "            # Mult de b's y filleo de mat\n",
    "            coef = np.inner(vect,np.dot(bd_m,b_m)*vect)\n",
    "            aux = lambda x: np.prod(np.reciprocal(np.sqrt([np.math.factorial(o) for o in x])))\n",
    "            mat[i,j] = coef * aux(v) * aux(w)\n",
    "    return mat    "
   ]
  },
  {
   "cell_type": "code",
   "execution_count": 83,
   "metadata": {},
   "outputs": [
    {
     "name": "stdout",
     "output_type": "stream",
     "text": [
      "3.719712972640991\n",
      "[[0 0 0 0 0 4]\n",
      " [0 0 0 0 1 3]\n",
      " [0 0 0 0 2 2]\n",
      " [0 0 0 0 3 1]\n",
      " [0 0 0 0 4 0]\n",
      " [0 0 0 1 0 3]\n",
      " [0 0 0 1 1 2]\n",
      " [0 0 0 1 2 1]\n",
      " [0 0 0 1 3 0]\n",
      " [0 0 0 2 0 2]\n",
      " [0 0 0 2 1 1]\n",
      " [0 0 0 2 2 0]\n",
      " [0 0 0 3 0 1]\n",
      " [0 0 0 3 1 0]\n",
      " [0 0 0 4 0 0]\n",
      " [0 0 1 0 0 3]\n",
      " [0 0 1 0 1 2]\n",
      " [0 0 1 0 2 1]\n",
      " [0 0 1 0 3 0]\n",
      " [0 0 1 1 0 2]\n",
      " [0 0 1 1 1 1]\n",
      " [0 0 1 1 2 0]\n",
      " [0 0 1 2 0 1]\n",
      " [0 0 1 2 1 0]\n",
      " [0 0 1 3 0 0]\n",
      " [0 0 2 0 0 2]\n",
      " [0 0 2 0 1 1]\n",
      " [0 0 2 0 2 0]\n",
      " [0 0 2 1 0 1]\n",
      " [0 0 2 1 1 0]\n",
      " [0 0 2 2 0 0]\n",
      " [0 0 3 0 0 1]\n",
      " [0 0 3 0 1 0]\n",
      " [0 0 3 1 0 0]\n",
      " [0 0 4 0 0 0]\n",
      " [0 1 0 0 0 3]\n",
      " [0 1 0 0 1 2]\n",
      " [0 1 0 0 2 1]\n",
      " [0 1 0 0 3 0]\n",
      " [0 1 0 1 0 2]\n",
      " [0 1 0 1 1 1]\n",
      " [0 1 0 1 2 0]\n",
      " [0 1 0 2 0 1]\n",
      " [0 1 0 2 1 0]\n",
      " [0 1 0 3 0 0]\n",
      " [0 1 1 0 0 2]\n",
      " [0 1 1 0 1 1]\n",
      " [0 1 1 0 2 0]\n",
      " [0 1 1 1 0 1]\n",
      " [0 1 1 1 1 0]\n",
      " [0 1 1 2 0 0]\n",
      " [0 1 2 0 0 1]\n",
      " [0 1 2 0 1 0]\n",
      " [0 1 2 1 0 0]\n",
      " [0 1 3 0 0 0]\n",
      " [0 2 0 0 0 2]\n",
      " [0 2 0 0 1 1]\n",
      " [0 2 0 0 2 0]\n",
      " [0 2 0 1 0 1]\n",
      " [0 2 0 1 1 0]\n",
      " [0 2 0 2 0 0]\n",
      " [0 2 1 0 0 1]\n",
      " [0 2 1 0 1 0]\n",
      " [0 2 1 1 0 0]\n",
      " [0 2 2 0 0 0]\n",
      " [0 3 0 0 0 1]\n",
      " [0 3 0 0 1 0]\n",
      " [0 3 0 1 0 0]\n",
      " [0 3 1 0 0 0]\n",
      " [0 4 0 0 0 0]\n",
      " [1 0 0 0 0 3]\n",
      " [1 0 0 0 1 2]\n",
      " [1 0 0 0 2 1]\n",
      " [1 0 0 0 3 0]\n",
      " [1 0 0 1 0 2]\n",
      " [1 0 0 1 1 1]\n",
      " [1 0 0 1 2 0]\n",
      " [1 0 0 2 0 1]\n",
      " [1 0 0 2 1 0]\n",
      " [1 0 0 3 0 0]\n",
      " [1 0 1 0 0 2]\n",
      " [1 0 1 0 1 1]\n",
      " [1 0 1 0 2 0]\n",
      " [1 0 1 1 0 1]\n",
      " [1 0 1 1 1 0]\n",
      " [1 0 1 2 0 0]\n",
      " [1 0 2 0 0 1]\n",
      " [1 0 2 0 1 0]\n",
      " [1 0 2 1 0 0]\n",
      " [1 0 3 0 0 0]\n",
      " [1 1 0 0 0 2]\n",
      " [1 1 0 0 1 1]\n",
      " [1 1 0 0 2 0]\n",
      " [1 1 0 1 0 1]\n",
      " [1 1 0 1 1 0]\n",
      " [1 1 0 2 0 0]\n",
      " [1 1 1 0 0 1]\n",
      " [1 1 1 0 1 0]\n",
      " [1 1 1 1 0 0]\n",
      " [1 1 2 0 0 0]\n",
      " [1 2 0 0 0 1]\n",
      " [1 2 0 0 1 0]\n",
      " [1 2 0 1 0 0]\n",
      " [1 2 1 0 0 0]\n",
      " [1 3 0 0 0 0]\n",
      " [2 0 0 0 0 2]\n",
      " [2 0 0 0 1 1]\n",
      " [2 0 0 0 2 0]\n",
      " [2 0 0 1 0 1]\n",
      " [2 0 0 1 1 0]\n",
      " [2 0 0 2 0 0]\n",
      " [2 0 1 0 0 1]\n",
      " [2 0 1 0 1 0]\n",
      " [2 0 1 1 0 0]\n",
      " [2 0 2 0 0 0]\n",
      " [2 1 0 0 0 1]\n",
      " [2 1 0 0 1 0]\n",
      " [2 1 0 1 0 0]\n",
      " [2 1 1 0 0 0]\n",
      " [2 2 0 0 0 0]\n",
      " [3 0 0 0 0 1]\n",
      " [3 0 0 0 1 0]\n",
      " [3 0 0 1 0 0]\n",
      " [3 0 1 0 0 0]\n",
      " [3 1 0 0 0 0]\n",
      " [4 0 0 0 0 0]]\n"
     ]
    }
   ],
   "source": [
    "m = 4\n",
    "d = 6\n",
    "import time\n",
    "ti = time.time()\n",
    "a = fixed_basis(m, d)\n",
    "tf = time.time()\n",
    "print(tf-ti)\n",
    "print(a.base)"
   ]
  },
  {
   "cell_type": "code",
   "execution_count": null,
   "metadata": {
    "id": "J1BYHiABiLv1",
    "outputId": "da2a22e5-64cd-43a7-d2e0-4e42c8b3719f"
   },
   "outputs": [
    {
     "name": "stdout",
     "output_type": "stream",
     "text": [
      "[0. 0. 0. 0. 0. 0. 1. 0. 0. 0. 0. 0. 0. 0. 0. 0. 0. 0. 0. 0. 0. 1. 0. 0.\n",
      " 0. 0. 0. 0. 0. 0. 0. 0. 0. 0. 0.]\n",
      "[0.29033901 0.13673684 0.08792772 0.13363623 0.08228274 0.2349543\n",
      " 0.15559778 0.15495642 0.00073171 0.15029627 0.00290446 0.283889\n",
      " 0.09512864 0.20174247 0.08405987 0.02414921 0.01972325 0.11700251\n",
      " 0.28425527 0.1501779  0.04730217 0.1910561  0.29681086 0.27637613\n",
      " 0.12939154 0.07349414 0.16606558 0.11792164 0.27328547 0.04051742\n",
      " 0.14844461 0.24804708 0.18761501 0.14194226 0.03336991]\n"
     ]
    },
    {
     "data": {
      "text/plain": [
       "<10x10 sparse matrix of type '<class 'numpy.float32'>'\n",
       "\twith 100 stored elements in Dictionary Of Keys format>"
      ]
     },
     "execution_count": 4,
     "metadata": {},
     "output_type": "execute_result"
    }
   ],
   "source": [
    "# Prueba de las matrices gamma (TODO normalizacion)\n",
    "v = a.rep_to_vect([0, 1, 1, 2])+a.rep_to_vect([1, 1, 2, 0])\n",
    "print(v)\n",
    "gamma(a, 2, v)\n",
    "v = np.array([random.random() for a in range(0,a.size)])\n",
    "v = v / np.linalg.norm(v)\n",
    "print(v)\n",
    "gamma(a, 2, v)"
   ]
  },
  {
   "cell_type": "code",
   "execution_count": 63,
   "metadata": {
    "id": "gzscSFeriLv1",
    "outputId": "5786aeba-4b51-4f52-daf1-24873702c38c"
   },
   "outputs": [
    {
     "name": "stdout",
     "output_type": "stream",
     "text": [
      "[0 2 0 2]\n"
     ]
    }
   ],
   "source": [
    "# Prueba de funcionamiento de las matrices bdb y bbd\n",
    "v = [1, 1, 0, 2]\n",
    "vect = a.rep_to_vect(v)\n",
    "res = bbd(a,0,1) * vect\n",
    "if np.linalg.norm(res) != 0:\n",
    "    res = res / np.linalg.norm(res)\n",
    "    print(a.vect_to_repr(res))\n",
    "else:\n",
    "    res = 0\n",
    "    print(0)\n"
   ]
  },
  {
   "cell_type": "code",
   "execution_count": 69,
   "metadata": {
    "id": "-34mFuIViLv3",
    "outputId": "c7c4e973-b9f7-48cc-afac-f6089c71f0ec"
   },
   "outputs": [
    {
     "name": "stdout",
     "output_type": "stream",
     "text": [
      "[0.         1.41421354 0.         0.         0.         0.        ]\n",
      "[0 1 1]\n",
      "[1.73205078 0.         0.         0.         0.         0.\n",
      " 0.         0.         0.         0.        ]\n",
      "[0 0 3]\n"
     ]
    }
   ],
   "source": [
    "# Prueba de funcionamiento de las matrices b y bd\n",
    "\n",
    "l = fixed_basis(3, 3)\n",
    "m = fixed_basis(2, 3)\n",
    "\n",
    "vect = l.rep_to_vect([0,1,2])\n",
    "res = b(l,m,2) * vect\n",
    "if np.linalg.norm(res) != 0:\n",
    "    print(res)\n",
    "    res = res / np.linalg.norm(res)\n",
    "    print(m.vect_to_repr(res))\n",
    "    \n",
    "vect = m.rep_to_vect([0,0,2])\n",
    "res = bd(m,l,2) * vect\n",
    "if np.linalg.norm(res) != 0:\n",
    "    print(res)\n",
    "    res = res / np.linalg.norm(res)\n",
    "    print(l.vect_to_repr(res))"
   ]
  },
  {
   "cell_type": "markdown",
   "metadata": {
    "id": "6u9pr4WuiLv4"
   },
   "source": [
    "## Pairing"
   ]
  },
  {
   "cell_type": "markdown",
   "metadata": {
    "id": "WL14MzsGiLv4"
   },
   "source": [
    "Construimos el espacio para n particulas en d estados. El hamiltoniano de pairing posee energias equiespaciadas con degeneración doble (asociada a cada estado y su inverso temporal), así como un término de interacción. Por tal motivo, crearemos un espacio con d = 2d."
   ]
  },
  {
   "cell_type": "code",
   "execution_count": 60,
   "metadata": {
    "colab": {
     "base_uri": "https://localhost:8080/"
    },
    "id": "4wyZ2Mu3iLv6",
    "outputId": "1d675801-7913-4a51-b56a-37202bb50102"
   },
   "outputs": [
    {
     "ename": "NameError",
     "evalue": "name 'create_basis_aux' is not defined",
     "output_type": "error",
     "traceback": [
      "\u001b[0;31m---------------------------------------------------------------------------\u001b[0m",
      "\u001b[0;31mEmpty\u001b[0m                                     Traceback (most recent call last)",
      "\u001b[0;32m~/anaconda3/lib/python3.7/site-packages/joblib/parallel.py\u001b[0m in \u001b[0;36mdispatch_one_batch\u001b[0;34m(self, iterator)\u001b[0m\n\u001b[1;32m    821\u001b[0m             \u001b[0;32mtry\u001b[0m\u001b[0;34m:\u001b[0m\u001b[0;34m\u001b[0m\u001b[0;34m\u001b[0m\u001b[0m\n\u001b[0;32m--> 822\u001b[0;31m                 \u001b[0mtasks\u001b[0m \u001b[0;34m=\u001b[0m \u001b[0mself\u001b[0m\u001b[0;34m.\u001b[0m\u001b[0m_ready_batches\u001b[0m\u001b[0;34m.\u001b[0m\u001b[0mget\u001b[0m\u001b[0;34m(\u001b[0m\u001b[0mblock\u001b[0m\u001b[0;34m=\u001b[0m\u001b[0;32mFalse\u001b[0m\u001b[0;34m)\u001b[0m\u001b[0;34m\u001b[0m\u001b[0;34m\u001b[0m\u001b[0m\n\u001b[0m\u001b[1;32m    823\u001b[0m             \u001b[0;32mexcept\u001b[0m \u001b[0mqueue\u001b[0m\u001b[0;34m.\u001b[0m\u001b[0mEmpty\u001b[0m\u001b[0;34m:\u001b[0m\u001b[0;34m\u001b[0m\u001b[0;34m\u001b[0m\u001b[0m\n",
      "\u001b[0;32m~/anaconda3/lib/python3.7/queue.py\u001b[0m in \u001b[0;36mget\u001b[0;34m(self, block, timeout)\u001b[0m\n\u001b[1;32m    166\u001b[0m                 \u001b[0;32mif\u001b[0m \u001b[0;32mnot\u001b[0m \u001b[0mself\u001b[0m\u001b[0;34m.\u001b[0m\u001b[0m_qsize\u001b[0m\u001b[0;34m(\u001b[0m\u001b[0;34m)\u001b[0m\u001b[0;34m:\u001b[0m\u001b[0;34m\u001b[0m\u001b[0;34m\u001b[0m\u001b[0m\n\u001b[0;32m--> 167\u001b[0;31m                     \u001b[0;32mraise\u001b[0m \u001b[0mEmpty\u001b[0m\u001b[0;34m\u001b[0m\u001b[0;34m\u001b[0m\u001b[0m\n\u001b[0m\u001b[1;32m    168\u001b[0m             \u001b[0;32melif\u001b[0m \u001b[0mtimeout\u001b[0m \u001b[0;32mis\u001b[0m \u001b[0;32mNone\u001b[0m\u001b[0;34m:\u001b[0m\u001b[0;34m\u001b[0m\u001b[0;34m\u001b[0m\u001b[0m\n",
      "\u001b[0;31mEmpty\u001b[0m: ",
      "\nDuring handling of the above exception, another exception occurred:\n",
      "\u001b[0;31mNameError\u001b[0m                                 Traceback (most recent call last)",
      "\u001b[0;32m<ipython-input-60-6569432e9a9c>\u001b[0m in \u001b[0;36m<module>\u001b[0;34m\u001b[0m\n\u001b[1;32m      2\u001b[0m \u001b[0md\u001b[0m \u001b[0;34m=\u001b[0m \u001b[0;36m2\u001b[0m\u001b[0;34m\u001b[0m\u001b[0;34m\u001b[0m\u001b[0m\n\u001b[1;32m      3\u001b[0m \u001b[0;31m# Creo las bases para no tener que recrearlas luego\u001b[0m\u001b[0;34m\u001b[0m\u001b[0;34m\u001b[0m\u001b[0;34m\u001b[0m\u001b[0m\n\u001b[0;32m----> 4\u001b[0;31m \u001b[0mbasis\u001b[0m \u001b[0;34m=\u001b[0m \u001b[0mfixed_basis\u001b[0m\u001b[0;34m(\u001b[0m\u001b[0mm\u001b[0m\u001b[0;34m,\u001b[0m \u001b[0;36m2\u001b[0m\u001b[0;34m*\u001b[0m\u001b[0md\u001b[0m\u001b[0;34m)\u001b[0m\u001b[0;34m\u001b[0m\u001b[0;34m\u001b[0m\u001b[0m\n\u001b[0m\u001b[1;32m      5\u001b[0m \u001b[0mbasis_m1\u001b[0m \u001b[0;34m=\u001b[0m \u001b[0mfixed_basis\u001b[0m\u001b[0;34m(\u001b[0m\u001b[0mm\u001b[0m\u001b[0;34m-\u001b[0m\u001b[0;36m1\u001b[0m\u001b[0;34m,\u001b[0m \u001b[0;36m2\u001b[0m\u001b[0;34m*\u001b[0m\u001b[0md\u001b[0m\u001b[0;34m)\u001b[0m\u001b[0;34m\u001b[0m\u001b[0;34m\u001b[0m\u001b[0m\n\u001b[1;32m      6\u001b[0m \u001b[0mbasis_m2\u001b[0m \u001b[0;34m=\u001b[0m \u001b[0mfixed_basis\u001b[0m\u001b[0;34m(\u001b[0m\u001b[0mm\u001b[0m\u001b[0;34m-\u001b[0m\u001b[0;36m2\u001b[0m\u001b[0;34m,\u001b[0m \u001b[0;36m2\u001b[0m\u001b[0;34m*\u001b[0m\u001b[0md\u001b[0m\u001b[0;34m)\u001b[0m\u001b[0;34m\u001b[0m\u001b[0;34m\u001b[0m\u001b[0m\n",
      "\u001b[0;32m<ipython-input-59-bae2847e3f25>\u001b[0m in \u001b[0;36m__init__\u001b[0;34m(self, m, d)\u001b[0m\n\u001b[1;32m     72\u001b[0m         \u001b[0mself\u001b[0m\u001b[0;34m.\u001b[0m\u001b[0md\u001b[0m \u001b[0;34m=\u001b[0m \u001b[0md\u001b[0m\u001b[0;34m\u001b[0m\u001b[0;34m\u001b[0m\u001b[0m\n\u001b[1;32m     73\u001b[0m         \u001b[0mself\u001b[0m\u001b[0;34m.\u001b[0m\u001b[0msize\u001b[0m \u001b[0;34m=\u001b[0m \u001b[0mint\u001b[0m\u001b[0;34m(\u001b[0m\u001b[0mbinom\u001b[0m\u001b[0;34m(\u001b[0m\u001b[0md\u001b[0m\u001b[0;34m+\u001b[0m\u001b[0mm\u001b[0m\u001b[0;34m-\u001b[0m\u001b[0;36m1\u001b[0m\u001b[0;34m,\u001b[0m\u001b[0md\u001b[0m\u001b[0;34m-\u001b[0m\u001b[0;36m1\u001b[0m\u001b[0;34m)\u001b[0m\u001b[0;34m)\u001b[0m\u001b[0;34m\u001b[0m\u001b[0;34m\u001b[0m\u001b[0m\n\u001b[0;32m---> 74\u001b[0;31m         \u001b[0;34m(\u001b[0m\u001b[0mself\u001b[0m\u001b[0;34m.\u001b[0m\u001b[0mbase\u001b[0m\u001b[0;34m,\u001b[0m \u001b[0mself\u001b[0m\u001b[0;34m.\u001b[0m\u001b[0mcanonicals\u001b[0m\u001b[0;34m)\u001b[0m \u001b[0;34m=\u001b[0m \u001b[0mself\u001b[0m\u001b[0;34m.\u001b[0m\u001b[0mcreate_basis\u001b[0m\u001b[0;34m(\u001b[0m\u001b[0mm\u001b[0m\u001b[0;34m,\u001b[0m \u001b[0md\u001b[0m\u001b[0;34m)\u001b[0m\u001b[0;34m\u001b[0m\u001b[0;34m\u001b[0m\u001b[0m\n\u001b[0m\u001b[1;32m     75\u001b[0m \u001b[0;34m\u001b[0m\u001b[0m\n\u001b[1;32m     76\u001b[0m \u001b[0;31m# Matrices de aniquilación y creación endomórficas. Estan fuera de la clase para poder ser cacheadas\u001b[0m\u001b[0;34m\u001b[0m\u001b[0;34m\u001b[0m\u001b[0;34m\u001b[0m\u001b[0m\n",
      "\u001b[0;32m<ipython-input-59-bae2847e3f25>\u001b[0m in \u001b[0;36mcreate_basis\u001b[0;34m(self, m, d)\u001b[0m\n\u001b[1;32m     59\u001b[0m \u001b[0;34m\u001b[0m\u001b[0m\n\u001b[1;32m     60\u001b[0m         Parallel(n_jobs=16, require='sharedmem')(\n\u001b[0;32m---> 61\u001b[0;31m         delayed(create_basis_aux)(x, base, m, d) for x in range(0,(d+1)**max(d,m)));\n\u001b[0m\u001b[1;32m     62\u001b[0m \u001b[0;34m\u001b[0m\u001b[0m\n\u001b[1;32m     63\u001b[0m         \u001b[0mbase\u001b[0m \u001b[0;34m=\u001b[0m \u001b[0mdict\u001b[0m\u001b[0;34m(\u001b[0m\u001b[0msorted\u001b[0m\u001b[0;34m(\u001b[0m\u001b[0mbase\u001b[0m\u001b[0;34m.\u001b[0m\u001b[0mitems\u001b[0m\u001b[0;34m(\u001b[0m\u001b[0;34m)\u001b[0m\u001b[0;34m)\u001b[0m\u001b[0;34m)\u001b[0m\u001b[0;34m\u001b[0m\u001b[0;34m\u001b[0m\u001b[0m\n",
      "\u001b[0;32m~/anaconda3/lib/python3.7/site-packages/joblib/parallel.py\u001b[0m in \u001b[0;36m__call__\u001b[0;34m(self, iterable)\u001b[0m\n\u001b[1;32m   1041\u001b[0m             \u001b[0;31m# remaining jobs.\u001b[0m\u001b[0;34m\u001b[0m\u001b[0;34m\u001b[0m\u001b[0;34m\u001b[0m\u001b[0m\n\u001b[1;32m   1042\u001b[0m             \u001b[0mself\u001b[0m\u001b[0;34m.\u001b[0m\u001b[0m_iterating\u001b[0m \u001b[0;34m=\u001b[0m \u001b[0;32mFalse\u001b[0m\u001b[0;34m\u001b[0m\u001b[0;34m\u001b[0m\u001b[0m\n\u001b[0;32m-> 1043\u001b[0;31m             \u001b[0;32mif\u001b[0m \u001b[0mself\u001b[0m\u001b[0;34m.\u001b[0m\u001b[0mdispatch_one_batch\u001b[0m\u001b[0;34m(\u001b[0m\u001b[0miterator\u001b[0m\u001b[0;34m)\u001b[0m\u001b[0;34m:\u001b[0m\u001b[0;34m\u001b[0m\u001b[0;34m\u001b[0m\u001b[0m\n\u001b[0m\u001b[1;32m   1044\u001b[0m                 \u001b[0mself\u001b[0m\u001b[0;34m.\u001b[0m\u001b[0m_iterating\u001b[0m \u001b[0;34m=\u001b[0m \u001b[0mself\u001b[0m\u001b[0;34m.\u001b[0m\u001b[0m_original_iterator\u001b[0m \u001b[0;32mis\u001b[0m \u001b[0;32mnot\u001b[0m \u001b[0;32mNone\u001b[0m\u001b[0;34m\u001b[0m\u001b[0;34m\u001b[0m\u001b[0m\n\u001b[1;32m   1045\u001b[0m \u001b[0;34m\u001b[0m\u001b[0m\n",
      "\u001b[0;32m~/anaconda3/lib/python3.7/site-packages/joblib/parallel.py\u001b[0m in \u001b[0;36mdispatch_one_batch\u001b[0;34m(self, iterator)\u001b[0m\n\u001b[1;32m    831\u001b[0m                 \u001b[0mbig_batch_size\u001b[0m \u001b[0;34m=\u001b[0m \u001b[0mbatch_size\u001b[0m \u001b[0;34m*\u001b[0m \u001b[0mn_jobs\u001b[0m\u001b[0;34m\u001b[0m\u001b[0;34m\u001b[0m\u001b[0m\n\u001b[1;32m    832\u001b[0m \u001b[0;34m\u001b[0m\u001b[0m\n\u001b[0;32m--> 833\u001b[0;31m                 \u001b[0mislice\u001b[0m \u001b[0;34m=\u001b[0m \u001b[0mlist\u001b[0m\u001b[0;34m(\u001b[0m\u001b[0mitertools\u001b[0m\u001b[0;34m.\u001b[0m\u001b[0mislice\u001b[0m\u001b[0;34m(\u001b[0m\u001b[0miterator\u001b[0m\u001b[0;34m,\u001b[0m \u001b[0mbig_batch_size\u001b[0m\u001b[0;34m)\u001b[0m\u001b[0;34m)\u001b[0m\u001b[0;34m\u001b[0m\u001b[0;34m\u001b[0m\u001b[0m\n\u001b[0m\u001b[1;32m    834\u001b[0m                 \u001b[0;32mif\u001b[0m \u001b[0mlen\u001b[0m\u001b[0;34m(\u001b[0m\u001b[0mislice\u001b[0m\u001b[0;34m)\u001b[0m \u001b[0;34m==\u001b[0m \u001b[0;36m0\u001b[0m\u001b[0;34m:\u001b[0m\u001b[0;34m\u001b[0m\u001b[0;34m\u001b[0m\u001b[0m\n\u001b[1;32m    835\u001b[0m                     \u001b[0;32mreturn\u001b[0m \u001b[0;32mFalse\u001b[0m\u001b[0;34m\u001b[0m\u001b[0;34m\u001b[0m\u001b[0m\n",
      "\u001b[0;32m<ipython-input-59-bae2847e3f25>\u001b[0m in \u001b[0;36m<genexpr>\u001b[0;34m(.0)\u001b[0m\n\u001b[1;32m     59\u001b[0m \u001b[0;34m\u001b[0m\u001b[0m\n\u001b[1;32m     60\u001b[0m         Parallel(n_jobs=16, require='sharedmem')(\n\u001b[0;32m---> 61\u001b[0;31m         delayed(create_basis_aux)(x, base, m, d) for x in range(0,(d+1)**max(d,m)));\n\u001b[0m\u001b[1;32m     62\u001b[0m \u001b[0;34m\u001b[0m\u001b[0m\n\u001b[1;32m     63\u001b[0m         \u001b[0mbase\u001b[0m \u001b[0;34m=\u001b[0m \u001b[0mdict\u001b[0m\u001b[0;34m(\u001b[0m\u001b[0msorted\u001b[0m\u001b[0;34m(\u001b[0m\u001b[0mbase\u001b[0m\u001b[0;34m.\u001b[0m\u001b[0mitems\u001b[0m\u001b[0;34m(\u001b[0m\u001b[0;34m)\u001b[0m\u001b[0;34m)\u001b[0m\u001b[0;34m)\u001b[0m\u001b[0;34m\u001b[0m\u001b[0;34m\u001b[0m\u001b[0m\n",
      "\u001b[0;31mNameError\u001b[0m: name 'create_basis_aux' is not defined"
     ]
    }
   ],
   "source": [
    "m = 2\n",
    "d = 2\n",
    "# Creo las bases para no tener que recrearlas luego\n",
    "basis = fixed_basis(m, 2*d)\n",
    "basis_m1 = fixed_basis(m-1, 2*d)\n",
    "basis_m2 = fixed_basis(m-2, 2*d)\n",
    "print(basis.base)\n",
    "print(basis.size)\n",
    "\n"
   ]
  },
  {
   "cell_type": "code",
   "execution_count": 52,
   "metadata": {
    "id": "2Qg_HZUziLv7"
   },
   "outputs": [],
   "source": [
    "# Parametros hamiltoniano\n",
    "e = 1\n",
    "eps = 0.0001\n",
    "e0 = np.zeros(2*d)\n",
    "eigenspace_tol = 0.0001\n",
    "for k in range(0, d):\n",
    "    r = random.random() * eps\n",
    "    e0[2*k] = k*e+r\n",
    "    e0[2*k+1] = k*e+r\n",
    "\n",
    "def hamiltonian(g, basis, basis_m1, basis_m2):\n",
    "    # Construccion de H\n",
    "    h0 = sum([e0[k]*bdb(basis,k,k) for k in range(0,2*d)])\n",
    "    hi = dok_matrix((basis.size, basis.size), dtype=np.float32)\n",
    "    for k in range(0,d):\n",
    "        for kb in range(0,d):\n",
    "            hi += -1*g*bd(basis_m1, basis, 2*k)*bd(basis_m2, basis_m1, 2*k+1)*b(basis_m1, basis_m2, 2*kb+1)*b(basis, basis_m1, 2*kb)\n",
    "\n",
    "    return h0+hi\n",
    "\n",
    "def solve(g, m, last_step = None):\n",
    "    h = hamiltonian(g, basis, basis_m1, basis_m2)\n",
    "    sol = linalg.eigsh(h,which='SA',k=19)\n",
    "    if type(last_step) != type(None):\n",
    "        # Seleccionamos todos los autovects que difieren sus autovalores menos que tol (mismo autoespacio)\n",
    "        # y tomamos la proyección en el autoespacio de la solución del paso anterior (last_step)\n",
    "        eig = sol[0].real\n",
    "        eigv = sol[1]\n",
    "        cand = [eigv[:,i].real  for (i, x) in enumerate(eig) if abs(x-min(eig)) < eigenspace_tol]\n",
    "        cand_norm = [x/np.linalg.norm(x) for x in cand]\n",
    "        fund = np.zeros(len(cand[0]))\n",
    "        for x in cand_norm:\n",
    "            fund += np.dot(last_step,x) * x\n",
    "        #print(np.dot(fund,last_step))\n",
    "    else:\n",
    "        argmin = np.argmin(sol[0].real)\n",
    "        fund = sol[1][:,argmin]\n",
    "    fund = fund.real / np.linalg.norm(fund)\n",
    "    return fund"
   ]
  },
  {
   "cell_type": "code",
   "execution_count": 53,
   "metadata": {
    "colab": {
     "base_uri": "https://localhost:8080/"
    },
    "id": "MgGqseiNiLv8",
    "outputId": "47952ad7-1a1b-4cb2-d3cf-4599d4094a6f"
   },
   "outputs": [
    {
     "name": "stdout",
     "output_type": "stream",
     "text": [
      "0.01\n",
      "0.11183673469387755\n",
      "0.2136734693877551\n",
      "0.31551020408163266\n",
      "0.4173469387755102\n",
      "0.5191836734693878\n",
      "0.6210204081632653\n",
      "0.7228571428571429\n",
      "0.8246938775510204\n",
      "0.926530612244898\n",
      "1.0283673469387755\n",
      "1.130204081632653\n",
      "1.2320408163265306\n",
      "1.3338775510204082\n",
      "1.4357142857142857\n",
      "1.5375510204081633\n",
      "1.6393877551020408\n",
      "1.7412244897959184\n",
      "1.843061224489796\n",
      "1.9448979591836735\n",
      "2.046734693877551\n",
      "2.1485714285714286\n",
      "2.250408163265306\n",
      "2.3522448979591832\n",
      "2.454081632653061\n",
      "2.555918367346939\n",
      "2.657755102040816\n",
      "2.7595918367346934\n",
      "2.861428571428571\n",
      "2.963265306122449\n",
      "3.0651020408163263\n",
      "3.1669387755102036\n",
      "3.2687755102040814\n",
      "3.370612244897959\n",
      "3.4724489795918365\n",
      "3.574285714285714\n",
      "3.6761224489795916\n",
      "3.7779591836734694\n",
      "3.8797959183673467\n",
      "3.981632653061224\n",
      "4.083469387755102\n",
      "4.18530612244898\n",
      "4.287142857142857\n",
      "4.388979591836734\n",
      "4.490816326530612\n",
      "4.59265306122449\n",
      "4.694489795918367\n",
      "4.7963265306122445\n",
      "4.898163265306122\n",
      "5.0\n"
     ]
    }
   ],
   "source": [
    "# Rutina de resolución\n",
    "m = 2\n",
    "m_basis = fixed_basis(m, 2*d)\n",
    "nm_basis = fixed_basis(basis.m-m, 2*d)\n",
    "\n",
    "num = 100\n",
    "g_range = np.linspace(0.01,5,num)\n",
    "rho_range= {}\n",
    "\n",
    "def compute_g(g):\n",
    "    print(g)\n",
    "    fund = solve(g, m)\n",
    "    rho = rho_m(basis, m, fund, m_basis, nm_basis).todense()\n",
    "    r = np.sort(linalg_d.eigvals(rho).real)\n",
    "    rho_range[g] = r\n",
    "\n",
    "Parallel(n_jobs=8, require='sharedmem')(\n",
    "    delayed(compute_g)(g) for g in g_range);"
   ]
  },
  {
   "cell_type": "code",
   "execution_count": 54,
   "metadata": {
    "colab": {
     "base_uri": "https://localhost:8080/",
     "height": 542
    },
    "id": "eZ3lAu42iLv9",
    "outputId": "d8b10584-0a47-4958-c6fa-66eccd4dfa8e"
   },
   "outputs": [
    {
     "data": {
      "application/vnd.plotly.v1+json": {
       "config": {
        "plotlyServerURL": "https://plot.ly"
       },
       "data": [
        {
         "type": "scatter",
         "x": [
          0.01,
          0.11183673469387755,
          0.2136734693877551,
          0.31551020408163266,
          0.4173469387755102,
          0.5191836734693878,
          0.6210204081632653,
          0.7228571428571429,
          0.8246938775510204,
          0.926530612244898,
          1.0283673469387755,
          1.130204081632653,
          1.2320408163265306,
          1.3338775510204082,
          1.4357142857142857,
          1.5375510204081633,
          1.6393877551020408,
          1.7412244897959184,
          1.843061224489796,
          1.9448979591836735,
          2.046734693877551,
          2.1485714285714286,
          2.250408163265306,
          2.3522448979591832,
          2.454081632653061,
          2.555918367346939,
          2.657755102040816,
          2.7595918367346934,
          2.861428571428571,
          2.963265306122449,
          3.0651020408163263,
          3.1669387755102036,
          3.2687755102040814,
          3.370612244897959,
          3.4724489795918365,
          3.574285714285714,
          3.6761224489795916,
          3.7779591836734694,
          3.8797959183673467,
          3.981632653061224,
          4.083469387755102,
          4.18530612244898,
          4.287142857142857,
          4.388979591836734,
          4.490816326530612,
          4.59265306122449,
          4.694489795918367,
          4.7963265306122445,
          4.898163265306122,
          5
         ],
         "y": [
          -5.537640346275907e-10,
          1.8427730537950993e-05,
          0.00019701221026480198,
          0.0007411009282805026,
          0.0018017408438026905,
          0.0034633493050932884,
          0.005764354486018419,
          0.008714900352060795,
          0.012306109070777893,
          0.016513988375663757,
          0.021301358938217163,
          0.026620328426361084,
          0.03241421654820442,
          0.038620732724666595,
          0.04517470300197601,
          0.05201136693358421,
          0.05906757712364197,
          0.06628400087356567,
          0.07360806316137314,
          0.08099038898944855,
          0.08838915824890137,
          0.095768041908741,
          0.10309605300426483,
          0.11034759134054184,
          0.11750225722789764,
          0.12454207986593246,
          0.1314544528722763,
          0.13822820782661438,
          0.14485645294189453,
          0.1513349413871765,
          0.1576579511165619,
          0.16382502019405365,
          0.1698348969221115,
          0.17568865418434143,
          0.18138690292835236,
          0.1869322657585144,
          0.19232651591300964,
          0.19757302105426788,
          0.20267567038536072,
          0.20763680338859558,
          0.21246057748794556,
          0.21715068817138672,
          0.2217114120721817,
          0.226146399974823,
          0.2304590344429016,
          0.23465418815612793,
          0.2387341409921646,
          0.24270392954349518,
          0.2465668022632599,
          0.25032520294189453
         ]
        },
        {
         "type": "scatter",
         "x": [
          0.01,
          0.11183673469387755,
          0.2136734693877551,
          0.31551020408163266,
          0.4173469387755102,
          0.5191836734693878,
          0.6210204081632653,
          0.7228571428571429,
          0.8246938775510204,
          0.926530612244898,
          1.0283673469387755,
          1.130204081632653,
          1.2320408163265306,
          1.3338775510204082,
          1.4357142857142857,
          1.5375510204081633,
          1.6393877551020408,
          1.7412244897959184,
          1.843061224489796,
          1.9448979591836735,
          2.046734693877551,
          2.1485714285714286,
          2.250408163265306,
          2.3522448979591832,
          2.454081632653061,
          2.555918367346939,
          2.657755102040816,
          2.7595918367346934,
          2.861428571428571,
          2.963265306122449,
          3.0651020408163263,
          3.1669387755102036,
          3.2687755102040814,
          3.370612244897959,
          3.4724489795918365,
          3.574285714285714,
          3.6761224489795916,
          3.7779591836734694,
          3.8797959183673467,
          3.981632653061224,
          4.083469387755102,
          4.18530612244898,
          4.287142857142857,
          4.388979591836734,
          4.490816326530612,
          4.59265306122449,
          4.694489795918367,
          4.7963265306122445,
          4.898163265306122,
          5
         ],
         "y": [
          1.3915709695666578e-09,
          1.8429846022627316e-05,
          0.00019706273451447487,
          0.0007411347469314933,
          0.0018017567927017808,
          0.003463408211246133,
          0.005764382891356945,
          0.008714934810996056,
          0.012306155636906624,
          0.01651400327682495,
          0.021301373839378357,
          0.026620427146553993,
          0.032414231449365616,
          0.03862074762582779,
          0.04517478495836258,
          0.05201137438416481,
          0.059067729860544205,
          0.06628450751304626,
          0.07360807061195374,
          0.08099046349525452,
          0.08838919550180435,
          0.09576805680990219,
          0.10309622436761856,
          0.11034791171550751,
          0.11750227212905884,
          0.12454217672348022,
          0.1314544677734375,
          0.13822829723358154,
          0.14485688507556915,
          0.15133515000343323,
          0.15765810012817383,
          0.16382518410682678,
          0.16983497142791748,
          0.17568877339363098,
          0.18138691782951355,
          0.18693237006664276,
          0.19232657551765442,
          0.19757318496704102,
          0.20267581939697266,
          0.20763704180717468,
          0.2124609351158142,
          0.21715115010738373,
          0.22171151638031006,
          0.2261466234922409,
          0.23045921325683594,
          0.23465441167354584,
          0.23873436450958252,
          0.24270398914813995,
          0.246567040681839,
          0.25032585859298706
         ]
        },
        {
         "type": "scatter",
         "x": [
          0.01,
          0.11183673469387755,
          0.2136734693877551,
          0.31551020408163266,
          0.4173469387755102,
          0.5191836734693878,
          0.6210204081632653,
          0.7228571428571429,
          0.8246938775510204,
          0.926530612244898,
          1.0283673469387755,
          1.130204081632653,
          1.2320408163265306,
          1.3338775510204082,
          1.4357142857142857,
          1.5375510204081633,
          1.6393877551020408,
          1.7412244897959184,
          1.843061224489796,
          1.9448979591836735,
          2.046734693877551,
          2.1485714285714286,
          2.250408163265306,
          2.3522448979591832,
          2.454081632653061,
          2.555918367346939,
          2.657755102040816,
          2.7595918367346934,
          2.861428571428571,
          2.963265306122449,
          3.0651020408163263,
          3.1669387755102036,
          3.2687755102040814,
          3.370612244897959,
          3.4724489795918365,
          3.574285714285714,
          3.6761224489795916,
          3.7779591836734694,
          3.8797959183673467,
          3.981632653061224,
          4.083469387755102,
          4.18530612244898,
          4.287142857142857,
          4.388979591836734,
          4.490816326530612,
          4.59265306122449,
          4.694489795918367,
          4.7963265306122445,
          4.898163265306122,
          5
         ],
         "y": [
          4.132746589391445e-09,
          2.0104205759707838e-05,
          0.00022608900326304138,
          0.000879458209965378,
          0.002187098376452923,
          0.004274243023246527,
          0.007203066721558571,
          0.010996024124324322,
          0.015645477920770645,
          0.021121131256222725,
          0.027370817959308624,
          0.03432571887969971,
          0.041902437806129456,
          0.05000956356525421,
          0.058550119400024414,
          0.06742986291646957,
          0.0765562430024147,
          0.0858444795012474,
          0.0952182486653328,
          0.10461002588272095,
          0.11396130174398422,
          0.12322422116994858,
          0.13235750794410706,
          0.1413298398256302,
          0.15011483430862427,
          0.15869274735450745,
          0.16705016791820526,
          0.17517663538455963,
          0.18306608498096466,
          0.19071562588214874,
          0.19812335073947906,
          0.2052927166223526,
          0.21222533285617828,
          0.21892547607421875,
          0.22539804875850677,
          0.2316487431526184,
          0.23768414556980133,
          0.24351084232330322,
          0.24913661181926727,
          0.2545663118362427,
          0.2598089873790741,
          0.26487135887145996,
          0.2697586119174957,
          0.27448034286499023,
          0.27904024720191956,
          0.28344738483428955,
          0.2877061069011688,
          0.2918229103088379,
          0.2958046793937683,
          0.2996550500392914
         ]
        },
        {
         "type": "scatter",
         "x": [
          0.01,
          0.11183673469387755,
          0.2136734693877551,
          0.31551020408163266,
          0.4173469387755102,
          0.5191836734693878,
          0.6210204081632653,
          0.7228571428571429,
          0.8246938775510204,
          0.926530612244898,
          1.0283673469387755,
          1.130204081632653,
          1.2320408163265306,
          1.3338775510204082,
          1.4357142857142857,
          1.5375510204081633,
          1.6393877551020408,
          1.7412244897959184,
          1.843061224489796,
          1.9448979591836735,
          2.046734693877551,
          2.1485714285714286,
          2.250408163265306,
          2.3522448979591832,
          2.454081632653061,
          2.555918367346939,
          2.657755102040816,
          2.7595918367346934,
          2.861428571428571,
          2.963265306122449,
          3.0651020408163263,
          3.1669387755102036,
          3.2687755102040814,
          3.370612244897959,
          3.4724489795918365,
          3.574285714285714,
          3.6761224489795916,
          3.7779591836734694,
          3.8797959183673467,
          3.981632653061224,
          4.083469387755102,
          4.18530612244898,
          4.287142857142857,
          4.388979591836734,
          4.490816326530612,
          4.59265306122449,
          4.694489795918367,
          4.7963265306122445,
          4.898163265306122,
          5
         ],
         "y": [
          4.132746589391445e-09,
          6.086779831093736e-05,
          0.0005766088725067675,
          0.0019803002942353487,
          0.004496774636209011,
          0.008202966302633286,
          0.013100266456604004,
          0.01914776675403118,
          0.02627304010093212,
          0.03437601774930954,
          0.043334294110536575,
          0.05300995707511902,
          0.06325677037239075,
          0.07392881065607071,
          0.08488661795854568,
          0.09600241482257843,
          0.10716311633586884,
          0.11827210336923599,
          0.12924879789352417,
          0.14002880454063416,
          0.1505618542432785,
          0.1608101725578308,
          0.17074638605117798,
          0.18035371601581573,
          0.18962089717388153,
          0.1985436975955963,
          0.20712292194366455,
          0.21536171436309814,
          0.2232675850391388,
          0.23084944486618042,
          0.2381165474653244,
          0.24508143961429596,
          0.2517540454864502,
          0.258149117231369,
          0.2642766833305359,
          0.2701498568058014,
          0.27578026056289673,
          0.2811790704727173,
          0.28635847568511963,
          0.29132911562919617,
          0.2961004674434662,
          0.30068251490592957,
          0.3050859272480011,
          0.3093186616897583,
          0.31338924169540405,
          0.3173061013221741,
          0.32107600569725037,
          0.32470691204071045,
          0.32820558547973633,
          0.33157819509506226
         ]
        },
        {
         "type": "scatter",
         "x": [
          0.01,
          0.11183673469387755,
          0.2136734693877551,
          0.31551020408163266,
          0.4173469387755102,
          0.5191836734693878,
          0.6210204081632653,
          0.7228571428571429,
          0.8246938775510204,
          0.926530612244898,
          1.0283673469387755,
          1.130204081632653,
          1.2320408163265306,
          1.3338775510204082,
          1.4357142857142857,
          1.5375510204081633,
          1.6393877551020408,
          1.7412244897959184,
          1.843061224489796,
          1.9448979591836735,
          2.046734693877551,
          2.1485714285714286,
          2.250408163265306,
          2.3522448979591832,
          2.454081632653061,
          2.555918367346939,
          2.657755102040816,
          2.7595918367346934,
          2.861428571428571,
          2.963265306122449,
          3.0651020408163263,
          3.1669387755102036,
          3.2687755102040814,
          3.370612244897959,
          3.4724489795918365,
          3.574285714285714,
          3.6761224489795916,
          3.7779591836734694,
          3.8797959183673467,
          3.981632653061224,
          4.083469387755102,
          4.18530612244898,
          4.287142857142857,
          4.388979591836734,
          4.490816326530612,
          4.59265306122449,
          4.694489795918367,
          4.7963265306122445,
          4.898163265306122,
          5
         ],
         "y": [
          5.452074347545022e-09,
          6.102259794715792e-05,
          0.0005766160902567208,
          0.001980304252356291,
          0.004496774636209011,
          0.008202971890568733,
          0.01310032606124878,
          0.019147789105772972,
          0.02627304568886757,
          0.03437604382634163,
          0.043334294110536575,
          0.053009968250989914,
          0.06325682252645493,
          0.0739288404583931,
          0.08488662540912628,
          0.0960024744272232,
          0.10716317594051361,
          0.11827219277620316,
          0.12924884259700775,
          0.14002887904644012,
          0.15056194365024567,
          0.16081023216247559,
          0.17074653506278992,
          0.18035376071929932,
          0.18962104618549347,
          0.198543980717659,
          0.2071230411529541,
          0.21536189317703247,
          0.22326767444610596,
          0.23084977269172668,
          0.23811699450016022,
          0.24508151412010193,
          0.25175410509109497,
          0.2581491470336914,
          0.26427674293518066,
          0.27015024423599243,
          0.2757803201675415,
          0.28117918968200684,
          0.2863587737083435,
          0.29132920503616333,
          0.2961004972457886,
          0.3006827235221863,
          0.305086225271225,
          0.3093186914920807,
          0.31338948011398315,
          0.31730613112449646,
          0.3210761547088623,
          0.32470691204071045,
          0.32820582389831543,
          0.3315785229206085
         ]
        },
        {
         "type": "scatter",
         "x": [
          0.01,
          0.11183673469387755,
          0.2136734693877551,
          0.31551020408163266,
          0.4173469387755102,
          0.5191836734693878,
          0.6210204081632653,
          0.7228571428571429,
          0.8246938775510204,
          0.926530612244898,
          1.0283673469387755,
          1.130204081632653,
          1.2320408163265306,
          1.3338775510204082,
          1.4357142857142857,
          1.5375510204081633,
          1.6393877551020408,
          1.7412244897959184,
          1.843061224489796,
          1.9448979591836735,
          2.046734693877551,
          2.1485714285714286,
          2.250408163265306,
          2.3522448979591832,
          2.454081632653061,
          2.555918367346939,
          2.657755102040816,
          2.7595918367346934,
          2.861428571428571,
          2.963265306122449,
          3.0651020408163263,
          3.1669387755102036,
          3.2687755102040814,
          3.370612244897959,
          3.4724489795918365,
          3.574285714285714,
          3.6761224489795916,
          3.7779591836734694,
          3.8797959183673467,
          3.981632653061224,
          4.083469387755102,
          4.18530612244898,
          4.287142857142857,
          4.388979591836734,
          4.490816326530612,
          4.59265306122449,
          4.694489795918367,
          4.7963265306122445,
          4.898163265306122,
          5
         ],
         "y": [
          5.469463104645911e-09,
          6.102259794715792e-05,
          0.000576620630454272,
          0.001980304252356291,
          0.004496793728321791,
          0.00820298120379448,
          0.01310035027563572,
          0.019147826358675957,
          0.02627304568886757,
          0.03437604382634163,
          0.04333443567156792,
          0.05301003158092499,
          0.0632568970322609,
          0.07392890751361847,
          0.08488669246435165,
          0.09600257873535156,
          0.10716317594051361,
          0.11827224493026733,
          0.12924890220165253,
          0.14002910256385803,
          0.15056194365024567,
          0.16081032156944275,
          0.1707465648651123,
          0.1803537756204605,
          0.18962104618549347,
          0.19854402542114258,
          0.20712333917617798,
          0.21536192297935486,
          0.22326815128326416,
          0.2308499813079834,
          0.23811711370944977,
          0.2450815588235855,
          0.2517549395561218,
          0.25814932584762573,
          0.264276921749115,
          0.27015063166618347,
          0.2757803201675415,
          0.28117918968200684,
          0.2863590121269226,
          0.2913292944431305,
          0.2961006164550781,
          0.30068281292915344,
          0.305086225271225,
          0.30931878089904785,
          0.31338948011398315,
          0.3173062205314636,
          0.3210761845111847,
          0.3247073292732239,
          0.3282058835029602,
          0.3315790295600891
         ]
        },
        {
         "type": "scatter",
         "x": [
          0.01,
          0.11183673469387755,
          0.2136734693877551,
          0.31551020408163266,
          0.4173469387755102,
          0.5191836734693878,
          0.6210204081632653,
          0.7228571428571429,
          0.8246938775510204,
          0.926530612244898,
          1.0283673469387755,
          1.130204081632653,
          1.2320408163265306,
          1.3338775510204082,
          1.4357142857142857,
          1.5375510204081633,
          1.6393877551020408,
          1.7412244897959184,
          1.843061224489796,
          1.9448979591836735,
          2.046734693877551,
          2.1485714285714286,
          2.250408163265306,
          2.3522448979591832,
          2.454081632653061,
          2.555918367346939,
          2.657755102040816,
          2.7595918367346934,
          2.861428571428571,
          2.963265306122449,
          3.0651020408163263,
          3.1669387755102036,
          3.2687755102040814,
          3.370612244897959,
          3.4724489795918365,
          3.574285714285714,
          3.6761224489795916,
          3.7779591836734694,
          3.8797959183673467,
          3.981632653061224,
          4.083469387755102,
          4.18530612244898,
          4.287142857142857,
          4.388979591836734,
          4.490816326530612,
          4.59265306122449,
          4.694489795918367,
          4.7963265306122445,
          4.898163265306122,
          5
         ],
         "y": [
          2.1379875647653535e-08,
          6.102748739067465e-05,
          0.0005766295944340527,
          0.0019803231116384268,
          0.00449681980535388,
          0.008203009143471718,
          0.01310039684176445,
          0.01914784498512745,
          0.02627306990325451,
          0.034376051276922226,
          0.04333494231104851,
          0.05301005765795708,
          0.06325692683458328,
          0.07392890751361847,
          0.08488671481609344,
          0.09600266069173813,
          0.10716335475444794,
          0.11827230453491211,
          0.12924893200397491,
          0.1400291621685028,
          0.15056215226650238,
          0.1608104407787323,
          0.17074692249298096,
          0.18035386502742767,
          0.18962106108665466,
          0.19854409992694855,
          0.20712339878082275,
          0.21536216139793396,
          0.22326822578907013,
          0.23085007071495056,
          0.23811766505241394,
          0.2450815737247467,
          0.2517552077770233,
          0.25814953446388245,
          0.264276921749115,
          0.27015063166618347,
          0.27578043937683105,
          0.28117942810058594,
          0.28635913133621216,
          0.291329562664032,
          0.2961006462574005,
          0.3006829619407654,
          0.3050864636898041,
          0.30931907892227173,
          0.3133895695209503,
          0.3173063099384308,
          0.32107627391815186,
          0.32470738887786865,
          0.32820627093315125,
          0.3315790593624115
         ]
        },
        {
         "type": "scatter",
         "x": [
          0.01,
          0.11183673469387755,
          0.2136734693877551,
          0.31551020408163266,
          0.4173469387755102,
          0.5191836734693878,
          0.6210204081632653,
          0.7228571428571429,
          0.8246938775510204,
          0.926530612244898,
          1.0283673469387755,
          1.130204081632653,
          1.2320408163265306,
          1.3338775510204082,
          1.4357142857142857,
          1.5375510204081633,
          1.6393877551020408,
          1.7412244897959184,
          1.843061224489796,
          1.9448979591836735,
          2.046734693877551,
          2.1485714285714286,
          2.250408163265306,
          2.3522448979591832,
          2.454081632653061,
          2.555918367346939,
          2.657755102040816,
          2.7595918367346934,
          2.861428571428571,
          2.963265306122449,
          3.0651020408163263,
          3.1669387755102036,
          3.2687755102040814,
          3.370612244897959,
          3.4724489795918365,
          3.574285714285714,
          3.6761224489795916,
          3.7779591836734694,
          3.8797959183673467,
          3.981632653061224,
          4.083469387755102,
          4.18530612244898,
          4.287142857142857,
          4.388979591836734,
          4.490816326530612,
          4.59265306122449,
          4.694489795918367,
          4.7963265306122445,
          4.898163265306122,
          5
         ],
         "y": [
          2.142360600032589e-08,
          0.000201373259187676,
          0.0016755618853494525,
          0.005242503248155117,
          0.011107515543699265,
          0.019215954467654228,
          0.029422037303447723,
          0.04152841493487358,
          0.05529194325208664,
          0.07043040543794632,
          0.08663620799779892,
          0.10359513759613037,
          0.12100300937891006,
          0.13858087360858917,
          0.15608470141887665,
          0.17331093549728394,
          0.19009651243686676,
          0.2063179314136505,
          0.2218860685825348,
          0.2367437779903412,
          0.25085756182670593,
          0.26421576738357544,
          0.2768198847770691,
          0.28868627548217773,
          0.2998370826244354,
          0.31030169129371643,
          0.32011404633522034,
          0.3293078541755676,
          0.3379194736480713,
          0.34598496556282043,
          0.3535380959510803,
          0.3606141209602356,
          0.3672451078891754,
          0.37346088886260986,
          0.3792913556098938,
          0.3847637176513672,
          0.38990211486816406,
          0.3947305381298065,
          0.3992714583873749,
          0.403545081615448,
          0.4075700640678406,
          0.41136249899864197,
          0.41494154930114746,
          0.41831886768341064,
          0.4215097427368164,
          0.42452549934387207,
          0.42738044261932373,
          0.4300825297832489,
          0.4326438903808594,
          0.43507280945777893
         ]
        },
        {
         "type": "scatter",
         "x": [
          0.01,
          0.11183673469387755,
          0.2136734693877551,
          0.31551020408163266,
          0.4173469387755102,
          0.5191836734693878,
          0.6210204081632653,
          0.7228571428571429,
          0.8246938775510204,
          0.926530612244898,
          1.0283673469387755,
          1.130204081632653,
          1.2320408163265306,
          1.3338775510204082,
          1.4357142857142857,
          1.5375510204081633,
          1.6393877551020408,
          1.7412244897959184,
          1.843061224489796,
          1.9448979591836735,
          2.046734693877551,
          2.1485714285714286,
          2.250408163265306,
          2.3522448979591832,
          2.454081632653061,
          2.555918367346939,
          2.657755102040816,
          2.7595918367346934,
          2.861428571428571,
          2.963265306122449,
          3.0651020408163263,
          3.1669387755102036,
          3.2687755102040814,
          3.370612244897959,
          3.4724489795918365,
          3.574285714285714,
          3.6761224489795916,
          3.7779591836734694,
          3.8797959183673467,
          3.981632653061224,
          4.083469387755102,
          4.18530612244898,
          4.287142857142857,
          4.388979591836734,
          4.490816326530612,
          4.59265306122449,
          4.694489795918367,
          4.7963265306122445,
          4.898163265306122,
          5
         ],
         "y": [
          2.1801518812480936e-08,
          0.0002013777702813968,
          0.00167556491214782,
          0.005242513492703438,
          0.011107537895441055,
          0.019215987995266914,
          0.02942207269370556,
          0.04152843728661537,
          0.05529201775789261,
          0.07043050974607468,
          0.08663635700941086,
          0.1035953164100647,
          0.12100314348936081,
          0.13858096301555634,
          0.15608488023281097,
          0.17331117391586304,
          0.19009679555892944,
          0.2063179910182953,
          0.22188648581504822,
          0.2367439568042755,
          0.2508578598499298,
          0.26421594619750977,
          0.27681997418403625,
          0.28868651390075684,
          0.299837201833725,
          0.31030237674713135,
          0.32011404633522034,
          0.32930809259414673,
          0.33791956305503845,
          0.3459851145744324,
          0.3535386323928833,
          0.36061424016952515,
          0.36724528670310974,
          0.37346142530441284,
          0.37929168343544006,
          0.3847641050815582,
          0.38990214467048645,
          0.394730806350708,
          0.39927181601524353,
          0.403545618057251,
          0.40757033228874207,
          0.41136249899864197,
          0.41494184732437134,
          0.4183189570903778,
          0.42151007056236267,
          0.4245257079601288,
          0.4273807406425476,
          0.43008288741111755,
          0.43264442682266235,
          0.4350729286670685
         ]
        },
        {
         "type": "scatter",
         "x": [
          0.01,
          0.11183673469387755,
          0.2136734693877551,
          0.31551020408163266,
          0.4173469387755102,
          0.5191836734693878,
          0.6210204081632653,
          0.7228571428571429,
          0.8246938775510204,
          0.926530612244898,
          1.0283673469387755,
          1.130204081632653,
          1.2320408163265306,
          1.3338775510204082,
          1.4357142857142857,
          1.5375510204081633,
          1.6393877551020408,
          1.7412244897959184,
          1.843061224489796,
          1.9448979591836735,
          2.046734693877551,
          2.1485714285714286,
          2.250408163265306,
          2.3522448979591832,
          2.454081632653061,
          2.555918367346939,
          2.657755102040816,
          2.7595918367346934,
          2.861428571428571,
          2.963265306122449,
          3.0651020408163263,
          3.1669387755102036,
          3.2687755102040814,
          3.370612244897959,
          3.4724489795918365,
          3.574285714285714,
          3.6761224489795916,
          3.7779591836734694,
          3.8797959183673467,
          3.981632653061224,
          4.083469387755102,
          4.18530612244898,
          4.287142857142857,
          4.388979591836734,
          4.490816326530612,
          4.59265306122449,
          4.694489795918367,
          4.7963265306122445,
          4.898163265306122,
          5
         ],
         "y": [
          2.537795182888658e-07,
          0.0002375270996708423,
          0.002157570794224739,
          0.007169963326305151,
          0.015910755842924118,
          0.028588321059942245,
          0.0451819971203804,
          0.06547950208187103,
          0.08908508718013763,
          0.11544734239578247,
          0.14390753209590912,
          0.17376293241977692,
          0.2043207883834839,
          0.23494300246238708,
          0.26507917046546936,
          0.2942797541618347,
          0.32220137119293213,
          0.348597913980484,
          0.37331467866897583,
          0.3962671458721161,
          0.4075853228569031,
          0.41464972496032715,
          0.42100679874420166,
          0.42673876881599426,
          0.43191516399383545,
          0.4365999698638916,
          0.4408482611179352,
          0.44470712542533875,
          0.44822075963020325,
          0.45142656564712524,
          0.4543558359146118,
          0.457040011882782,
          0.45950281620025635,
          0.4617670476436615,
          0.46385297179222107,
          0.4657779633998871,
          0.4675573408603668,
          0.46920502185821533,
          0.4707334339618683,
          0.4721534550189972,
          0.4734743535518646,
          0.47470569610595703,
          0.4758545160293579,
          0.4769284725189209,
          0.47793281078338623,
          0.4788753092288971,
          0.4797581434249878,
          0.4805888533592224,
          0.481368750333786,
          0.4821028709411621
         ]
        },
        {
         "type": "scatter",
         "x": [
          0.01,
          0.11183673469387755,
          0.2136734693877551,
          0.31551020408163266,
          0.4173469387755102,
          0.5191836734693878,
          0.6210204081632653,
          0.7228571428571429,
          0.8246938775510204,
          0.926530612244898,
          1.0283673469387755,
          1.130204081632653,
          1.2320408163265306,
          1.3338775510204082,
          1.4357142857142857,
          1.5375510204081633,
          1.6393877551020408,
          1.7412244897959184,
          1.843061224489796,
          1.9448979591836735,
          2.046734693877551,
          2.1485714285714286,
          2.250408163265306,
          2.3522448979591832,
          2.454081632653061,
          2.555918367346939,
          2.657755102040816,
          2.7595918367346934,
          2.861428571428571,
          2.963265306122449,
          3.0651020408163263,
          3.1669387755102036,
          3.2687755102040814,
          3.370612244897959,
          3.4724489795918365,
          3.574285714285714,
          3.6761224489795916,
          3.7779591836734694,
          3.8797959183673467,
          3.981632653061224,
          4.083469387755102,
          4.18530612244898,
          4.287142857142857,
          4.388979591836734,
          4.490816326530612,
          4.59265306122449,
          4.694489795918367,
          4.7963265306122445,
          4.898163265306122,
          5
         ],
         "y": [
          0.00011133940279250965,
          0.012108885683119297,
          0.03741512447595596,
          0.06886041909456253,
          0.10226850211620331,
          0.13542059063911438,
          0.1671697497367859,
          0.19695064425468445,
          0.22451050579547882,
          0.24977722764015198,
          0.27278390526771545,
          0.2936211824417114,
          0.31241801381111145,
          0.3293260931968689,
          0.34450042247772217,
          0.35810163617134094,
          0.3702838122844696,
          0.3811918795108795,
          0.39096471667289734,
          0.3997245728969574,
          0.4075859785079956,
          0.41464996337890625,
          0.4210071861743927,
          0.42673900723457336,
          0.431915283203125,
          0.4366001486778259,
          0.4408484697341919,
          0.44470730423927307,
          0.4482213258743286,
          0.451427161693573,
          0.4543565809726715,
          0.45704108476638794,
          0.4595031142234802,
          0.46176764369010925,
          0.4638531804084778,
          0.4657781422138214,
          0.4675576388835907,
          0.469205379486084,
          0.4707338809967041,
          0.4721536338329315,
          0.47347474098205566,
          0.47470593452453613,
          0.47585463523864746,
          0.4769285321235657,
          0.47793295979499817,
          0.47887560725212097,
          0.47975850105285645,
          0.4805889129638672,
          0.4813691973686218,
          0.4821029305458069
         ]
        },
        {
         "type": "scatter",
         "x": [
          0.01,
          0.11183673469387755,
          0.2136734693877551,
          0.31551020408163266,
          0.4173469387755102,
          0.5191836734693878,
          0.6210204081632653,
          0.7228571428571429,
          0.8246938775510204,
          0.926530612244898,
          1.0283673469387755,
          1.130204081632653,
          1.2320408163265306,
          1.3338775510204082,
          1.4357142857142857,
          1.5375510204081633,
          1.6393877551020408,
          1.7412244897959184,
          1.843061224489796,
          1.9448979591836735,
          2.046734693877551,
          2.1485714285714286,
          2.250408163265306,
          2.3522448979591832,
          2.454081632653061,
          2.555918367346939,
          2.657755102040816,
          2.7595918367346934,
          2.861428571428571,
          2.963265306122449,
          3.0651020408163263,
          3.1669387755102036,
          3.2687755102040814,
          3.370612244897959,
          3.4724489795918365,
          3.574285714285714,
          3.6761224489795916,
          3.7779591836734694,
          3.8797959183673467,
          3.981632653061224,
          4.083469387755102,
          4.18530612244898,
          4.287142857142857,
          4.388979591836734,
          4.490816326530612,
          4.59265306122449,
          4.694489795918367,
          4.7963265306122445,
          4.898163265306122,
          5
         ],
         "y": [
          0.00011134000669699162,
          0.012108893133699894,
          0.03741513192653656,
          0.0688604936003685,
          0.10226857662200928,
          0.13542065024375916,
          0.16716982424259186,
          0.19695071876049042,
          0.22451069951057434,
          0.24977724254131317,
          0.27278396487236023,
          0.29362139105796814,
          0.3124181628227234,
          0.32932621240615845,
          0.3445005714893341,
          0.3581019937992096,
          0.37028393149375916,
          0.3811919093132019,
          0.39096471667289734,
          0.3997246026992798,
          0.4075860381126404,
          0.41465020179748535,
          0.4210077226161957,
          0.42673954367637634,
          0.43191611766815186,
          0.43660104274749756,
          0.4408486783504486,
          0.44470804929733276,
          0.44822195172309875,
          0.451427161693573,
          0.45435771346092224,
          0.4570411145687103,
          0.45950353145599365,
          0.4617677927017212,
          0.46385377645492554,
          0.46577849984169006,
          0.46755799651145935,
          0.4692056477069855,
          0.4707340896129608,
          0.4721539318561554,
          0.47347506880760193,
          0.47470611333847046,
          0.47585487365722656,
          0.4769291877746582,
          0.47793295979499817,
          0.47887560725212097,
          0.4797593057155609,
          0.48058900237083435,
          0.4813697934150696,
          0.48210465908050537
         ]
        },
        {
         "type": "scatter",
         "x": [
          0.01,
          0.11183673469387755,
          0.2136734693877551,
          0.31551020408163266,
          0.4173469387755102,
          0.5191836734693878,
          0.6210204081632653,
          0.7228571428571429,
          0.8246938775510204,
          0.926530612244898,
          1.0283673469387755,
          1.130204081632653,
          1.2320408163265306,
          1.3338775510204082,
          1.4357142857142857,
          1.5375510204081633,
          1.6393877551020408,
          1.7412244897959184,
          1.843061224489796,
          1.9448979591836735,
          2.046734693877551,
          2.1485714285714286,
          2.250408163265306,
          2.3522448979591832,
          2.454081632653061,
          2.555918367346939,
          2.657755102040816,
          2.7595918367346934,
          2.861428571428571,
          2.963265306122449,
          3.0651020408163263,
          3.1669387755102036,
          3.2687755102040814,
          3.370612244897959,
          3.4724489795918365,
          3.574285714285714,
          3.6761224489795916,
          3.7779591836734694,
          3.8797959183673467,
          3.981632653061224,
          4.083469387755102,
          4.18530612244898,
          4.287142857142857,
          4.388979591836734,
          4.490816326530612,
          4.59265306122449,
          4.694489795918367,
          4.7963265306122445,
          4.898163265306122,
          5
         ],
         "y": [
          0.00011134122178191319,
          0.012108969502151012,
          0.037415675818920135,
          0.06886052340269089,
          0.1022699624300003,
          0.13542130589485168,
          0.16717104613780975,
          0.196950763463974,
          0.2245112508535385,
          0.2497795820236206,
          0.2727844715118408,
          0.29362156987190247,
          0.3124195337295532,
          0.3293266296386719,
          0.3445013165473938,
          0.3581025004386902,
          0.3702841103076935,
          0.38119322061538696,
          0.39096495509147644,
          0.3997248709201813,
          0.40758657455444336,
          0.4146502614021301,
          0.4210079312324524,
          0.42673957347869873,
          0.43191641569137573,
          0.4366011917591095,
          0.44084879755973816,
          0.44470807909965515,
          0.4482225477695465,
          0.45142775774002075,
          0.45435869693756104,
          0.45704206824302673,
          0.459503710269928,
          0.4617685079574585,
          0.4638538956642151,
          0.4657786190509796,
          0.4675580859184265,
          0.4692060947418213,
          0.47073423862457275,
          0.4721541702747345,
          0.4734753966331482,
          0.47470685839653015,
          0.47585511207580566,
          0.4769294261932373,
          0.47793304920196533,
          0.4788757562637329,
          0.4797595739364624,
          0.4805893301963806,
          0.48136982321739197,
          0.482105016708374
         ]
        },
        {
         "type": "scatter",
         "x": [
          0.01,
          0.11183673469387755,
          0.2136734693877551,
          0.31551020408163266,
          0.4173469387755102,
          0.5191836734693878,
          0.6210204081632653,
          0.7228571428571429,
          0.8246938775510204,
          0.926530612244898,
          1.0283673469387755,
          1.130204081632653,
          1.2320408163265306,
          1.3338775510204082,
          1.4357142857142857,
          1.5375510204081633,
          1.6393877551020408,
          1.7412244897959184,
          1.843061224489796,
          1.9448979591836735,
          2.046734693877551,
          2.1485714285714286,
          2.250408163265306,
          2.3522448979591832,
          2.454081632653061,
          2.555918367346939,
          2.657755102040816,
          2.7595918367346934,
          2.861428571428571,
          2.963265306122449,
          3.0651020408163263,
          3.1669387755102036,
          3.2687755102040814,
          3.370612244897959,
          3.4724489795918365,
          3.574285714285714,
          3.6761224489795916,
          3.7779591836734694,
          3.8797959183673467,
          3.981632653061224,
          4.083469387755102,
          4.18530612244898,
          4.287142857142857,
          4.388979591836734,
          4.490816326530612,
          4.59265306122449,
          4.694489795918367,
          4.7963265306122445,
          4.898163265306122,
          5
         ],
         "y": [
          0.00011137213004985824,
          0.012108984403312206,
          0.037415698170661926,
          0.06886065751314163,
          0.10227006673812866,
          0.13542135059833527,
          0.16717112064361572,
          0.19695083796977997,
          0.22451141476631165,
          0.24977965652942657,
          0.27278462052345276,
          0.2936219871044159,
          0.3124198615550995,
          0.3293268084526062,
          0.3445013165473938,
          0.3581026494503021,
          0.3702843487262726,
          0.38119328022003174,
          0.39096513390541077,
          0.39972496032714844,
          0.4174346923828125,
          0.43684038519859314,
          0.4545404613018036,
          0.47061580419540405,
          0.48516207933425903,
          0.49828293919563293,
          0.5100833177566528,
          0.5206700563430786,
          0.530148983001709,
          0.5386168360710144,
          0.5461673736572266,
          0.5528863072395325,
          0.5588552951812744,
          0.5641469359397888,
          0.5688281655311584,
          0.572960615158081,
          0.5765981674194336,
          0.5797910690307617,
          0.582586944103241,
          0.5850242376327515,
          0.5871392488479614,
          0.5889659523963928,
          0.5905333161354065,
          0.5918683409690857,
          0.5929940342903137,
          0.5939310193061829,
          0.5947014093399048,
          0.5953199863433838,
          0.5958027243614197,
          0.5961645245552063
         ]
        },
        {
         "type": "scatter",
         "x": [
          0.01,
          0.11183673469387755,
          0.2136734693877551,
          0.31551020408163266,
          0.4173469387755102,
          0.5191836734693878,
          0.6210204081632653,
          0.7228571428571429,
          0.8246938775510204,
          0.926530612244898,
          1.0283673469387755,
          1.130204081632653,
          1.2320408163265306,
          1.3338775510204082,
          1.4357142857142857,
          1.5375510204081633,
          1.6393877551020408,
          1.7412244897959184,
          1.843061224489796,
          1.9448979591836735,
          2.046734693877551,
          2.1485714285714286,
          2.250408163265306,
          2.3522448979591832,
          2.454081632653061,
          2.555918367346939,
          2.657755102040816,
          2.7595918367346934,
          2.861428571428571,
          2.963265306122449,
          3.0651020408163263,
          3.1669387755102036,
          3.2687755102040814,
          3.370612244897959,
          3.4724489795918365,
          3.574285714285714,
          3.6761224489795916,
          3.7779591836734694,
          3.8797959183673467,
          3.981632653061224,
          4.083469387755102,
          4.18530612244898,
          4.287142857142857,
          4.388979591836734,
          4.490816326530612,
          4.59265306122449,
          4.694489795918367,
          4.7963265306122445,
          4.898163265306122,
          5
         ],
         "y": [
          0.000434522662544623,
          0.0385708324611187,
          0.10367560386657715,
          0.17273631691932678,
          0.23814912140369415,
          0.2976077198982239,
          0.35065561532974243,
          0.3975086212158203,
          0.4385967552661896,
          0.4744166135787964,
          0.505463719367981,
          0.5322098135948181,
          0.5551056265830994,
          0.5745794773101807,
          0.5910229682922363,
          0.6048076152801514,
          0.616267740726471,
          0.6257081627845764,
          0.6334044933319092,
          0.6395991444587708,
          0.6445057988166809,
          0.6483157873153687,
          0.6511900424957275,
          0.6532716155052185,
          0.6546815633773804,
          0.6555253863334656,
          0.6558940410614014,
          0.6558631062507629,
          0.6554984450340271,
          0.6548561453819275,
          0.6539822220802307,
          0.6529210209846497,
          0.6517015695571899,
          0.6503584980964661,
          0.6489121317863464,
          0.6473857164382935,
          0.6457967162132263,
          0.6441599726676941,
          0.6424883008003235,
          0.640792191028595,
          0.6390817761421204,
          0.6373639106750488,
          0.6356454491615295,
          0.6339305639266968,
          0.632226288318634,
          0.6305339336395264,
          0.6288576126098633,
          0.6271994113922119,
          0.6255624294281006,
          0.623945951461792
         ]
        },
        {
         "type": "scatter",
         "x": [
          0.01,
          0.11183673469387755,
          0.2136734693877551,
          0.31551020408163266,
          0.4173469387755102,
          0.5191836734693878,
          0.6210204081632653,
          0.7228571428571429,
          0.8246938775510204,
          0.926530612244898,
          1.0283673469387755,
          1.130204081632653,
          1.2320408163265306,
          1.3338775510204082,
          1.4357142857142857,
          1.5375510204081633,
          1.6393877551020408,
          1.7412244897959184,
          1.843061224489796,
          1.9448979591836735,
          2.046734693877551,
          2.1485714285714286,
          2.250408163265306,
          2.3522448979591832,
          2.454081632653061,
          2.555918367346939,
          2.657755102040816,
          2.7595918367346934,
          2.861428571428571,
          2.963265306122449,
          3.0651020408163263,
          3.1669387755102036,
          3.2687755102040814,
          3.370612244897959,
          3.4724489795918365,
          3.574285714285714,
          3.6761224489795916,
          3.7779591836734694,
          3.8797959183673467,
          3.981632653061224,
          4.083469387755102,
          4.18530612244898,
          4.287142857142857,
          4.388979591836734,
          4.490816326530612,
          4.59265306122449,
          4.694489795918367,
          4.7963265306122445,
          4.898163265306122,
          5
         ],
         "y": [
          0.00043452857062220573,
          0.03857096657156944,
          0.10367581248283386,
          0.17273631691932678,
          0.23814944922924042,
          0.2976078689098358,
          0.350655734539032,
          0.3975087106227875,
          0.43859753012657166,
          0.4744166135787964,
          0.5054637789726257,
          0.5322099924087524,
          0.5551058053970337,
          0.5745794773101807,
          0.5910230278968811,
          0.6048082709312439,
          0.6162682771682739,
          0.6257084012031555,
          0.633404552936554,
          0.6395995616912842,
          0.6445062756538391,
          0.6483158469200134,
          0.6511902213096619,
          0.6532719135284424,
          0.6546821594238281,
          0.6555254459381104,
          0.6558941602706909,
          0.6558635234832764,
          0.6554989814758301,
          0.6548568606376648,
          0.6539835333824158,
          0.652921199798584,
          0.6517025232315063,
          0.6503586769104004,
          0.6489123702049255,
          0.6473861336708069,
          0.6457969546318054,
          0.644160270690918,
          0.6424883604049683,
          0.6407924890518188,
          0.6390818357467651,
          0.6373643279075623,
          0.635645866394043,
          0.6339313387870789,
          0.6322265863418579,
          0.6305344700813293,
          0.6288578510284424,
          0.6271997094154358,
          0.6255624890327454,
          0.6239467859268188
         ]
        },
        {
         "type": "scatter",
         "x": [
          0.01,
          0.11183673469387755,
          0.2136734693877551,
          0.31551020408163266,
          0.4173469387755102,
          0.5191836734693878,
          0.6210204081632653,
          0.7228571428571429,
          0.8246938775510204,
          0.926530612244898,
          1.0283673469387755,
          1.130204081632653,
          1.2320408163265306,
          1.3338775510204082,
          1.4357142857142857,
          1.5375510204081633,
          1.6393877551020408,
          1.7412244897959184,
          1.843061224489796,
          1.9448979591836735,
          2.046734693877551,
          2.1485714285714286,
          2.250408163265306,
          2.3522448979591832,
          2.454081632653061,
          2.555918367346939,
          2.657755102040816,
          2.7595918367346934,
          2.861428571428571,
          2.963265306122449,
          3.0651020408163263,
          3.1669387755102036,
          3.2687755102040814,
          3.370612244897959,
          3.4724489795918365,
          3.574285714285714,
          3.6761224489795916,
          3.7779591836734694,
          3.8797959183673467,
          3.981632653061224,
          4.083469387755102,
          4.18530612244898,
          4.287142857142857,
          4.388979591836734,
          4.490816326530612,
          4.59265306122449,
          4.694489795918367,
          4.7963265306122445,
          4.898163265306122,
          5
         ],
         "y": [
          0.0004345336346887052,
          0.038571085780858994,
          0.1036771610379219,
          0.1727365106344223,
          0.23815257847309113,
          0.2976095676422119,
          0.35065847635269165,
          0.39750900864601135,
          0.43859854340553284,
          0.47442108392715454,
          0.5054644346237183,
          0.532210648059845,
          0.5551084876060486,
          0.5745800733566284,
          0.5910243988037109,
          0.6048088073730469,
          0.6162682771682739,
          0.6257098317146301,
          0.6334046125411987,
          0.639599621295929,
          0.6445067524909973,
          0.6483167409896851,
          0.6511909365653992,
          0.6532725095748901,
          0.6546833515167236,
          0.6555269360542297,
          0.6558955311775208,
          0.6558647155761719,
          0.6555003523826599,
          0.6548576354980469,
          0.6539849638938904,
          0.6529220342636108,
          0.6517043709754944,
          0.6503591537475586,
          0.6489130854606628,
          0.6473863124847412,
          0.6457973122596741,
          0.6441606283187866,
          0.6424886584281921,
          0.6407933235168457,
          0.6390827894210815,
          0.6373650431632996,
          0.6356460452079773,
          0.6339322924613953,
          0.6322268843650818,
          0.6305347681045532,
          0.6288588047027588,
          0.6272001266479492,
          0.6255635619163513,
          0.6239479780197144
         ]
        },
        {
         "type": "scatter",
         "x": [
          0.01,
          0.11183673469387755,
          0.2136734693877551,
          0.31551020408163266,
          0.4173469387755102,
          0.5191836734693878,
          0.6210204081632653,
          0.7228571428571429,
          0.8246938775510204,
          0.926530612244898,
          1.0283673469387755,
          1.130204081632653,
          1.2320408163265306,
          1.3338775510204082,
          1.4357142857142857,
          1.5375510204081633,
          1.6393877551020408,
          1.7412244897959184,
          1.843061224489796,
          1.9448979591836735,
          2.046734693877551,
          2.1485714285714286,
          2.250408163265306,
          2.3522448979591832,
          2.454081632653061,
          2.555918367346939,
          2.657755102040816,
          2.7595918367346934,
          2.861428571428571,
          2.963265306122449,
          3.0651020408163263,
          3.1669387755102036,
          3.2687755102040814,
          3.370612244897959,
          3.4724489795918365,
          3.574285714285714,
          3.6761224489795916,
          3.7779591836734694,
          3.8797959183673467,
          3.981632653061224,
          4.083469387755102,
          4.18530612244898,
          4.287142857142857,
          4.388979591836734,
          4.490816326530612,
          4.59265306122449,
          4.694489795918367,
          4.7963265306122445,
          4.898163265306122,
          5
         ],
         "y": [
          0.0004345336928963661,
          0.03857121244072914,
          0.1036771759390831,
          0.17273685336112976,
          0.2381531447172165,
          0.2976096570491791,
          0.35065850615501404,
          0.39750921726226807,
          0.43859899044036865,
          0.4744211435317993,
          0.505465030670166,
          0.5322112441062927,
          0.5551086068153381,
          0.574580192565918,
          0.5910248756408691,
          0.6048088669776917,
          0.6162689924240112,
          0.6257102489471436,
          0.6334051489830017,
          0.6395999193191528,
          0.6445072293281555,
          0.6483168005943298,
          0.6511921286582947,
          0.6532727479934692,
          0.6546835899353027,
          0.6555269956588745,
          0.6558957695960999,
          0.6558647155761719,
          0.6555012464523315,
          0.6548582315444946,
          0.6539855599403381,
          0.652922511100769,
          0.6517049670219421,
          0.6503596901893616,
          0.6489135026931763,
          0.6473870873451233,
          0.6457974314689636,
          0.6441609859466553,
          0.6424887776374817,
          0.64079350233078,
          0.6390831470489502,
          0.6373653411865234,
          0.6356475353240967,
          0.6339327096939087,
          0.6322270631790161,
          0.6305350065231323,
          0.6288590431213379,
          0.6272003054618835,
          0.6255638003349304,
          0.6239490509033203
         ]
        },
        {
         "type": "scatter",
         "x": [
          0.01,
          0.11183673469387755,
          0.2136734693877551,
          0.31551020408163266,
          0.4173469387755102,
          0.5191836734693878,
          0.6210204081632653,
          0.7228571428571429,
          0.8246938775510204,
          0.926530612244898,
          1.0283673469387755,
          1.130204081632653,
          1.2320408163265306,
          1.3338775510204082,
          1.4357142857142857,
          1.5375510204081633,
          1.6393877551020408,
          1.7412244897959184,
          1.843061224489796,
          1.9448979591836735,
          2.046734693877551,
          2.1485714285714286,
          2.250408163265306,
          2.3522448979591832,
          2.454081632653061,
          2.555918367346939,
          2.657755102040816,
          2.7595918367346934,
          2.861428571428571,
          2.963265306122449,
          3.0651020408163263,
          3.1669387755102036,
          3.2687755102040814,
          3.370612244897959,
          3.4724489795918365,
          3.574285714285714,
          3.6761224489795916,
          3.7779591836734694,
          3.8797959183673467,
          3.981632653061224,
          4.083469387755102,
          4.18530612244898,
          4.287142857142857,
          4.388979591836734,
          4.490816326530612,
          4.59265306122449,
          4.694489795918367,
          4.7963265306122445,
          4.898163265306122,
          5
         ],
         "y": [
          2.999424457550049,
          2.94903564453125,
          2.856457471847534,
          2.7504336833953857,
          2.6421725749969482,
          2.5360872745513916,
          2.433885097503662,
          2.3361477851867676,
          2.2430198192596436,
          2.154482126235962,
          2.070479154586792,
          1.9909436702728271,
          1.9157999753952026,
          1.8449634313583374,
          1.778328537940979,
          1.7157658338546753,
          1.6571215391159058,
          1.6022238731384277,
          1.550887942314148,
          1.5029127597808838,
          1.4580981731414795,
          1.41624116897583,
          1.3771390914916992,
          1.3406003713607788,
          1.306440830230713,
          1.2744848728179932,
          1.2445651292800903,
          1.2165290117263794,
          1.1902329921722412,
          1.1655467748641968,
          1.1423460245132446,
          1.1205170154571533,
          1.0999584197998047,
          1.0805745124816895,
          1.062278151512146,
          1.044988989830017,
          1.0286365747451782,
          1.0131515264511108,
          0.9984710216522217,
          0.9845420122146606,
          0.9713121652603149,
          0.9587327241897583,
          0.9467600584030151,
          0.9353558421134949,
          0.9244816899299622,
          0.9141050577163696,
          0.9041925072669983,
          0.8947184085845947,
          0.8856513500213623,
          0.8769719004631042
         ]
        },
        {
         "type": "scatter",
         "x": [
          0.01,
          0.11183673469387755,
          0.2136734693877551,
          0.31551020408163266,
          0.4173469387755102,
          0.5191836734693878,
          0.6210204081632653,
          0.7228571428571429,
          0.8246938775510204,
          0.926530612244898,
          1.0283673469387755,
          1.130204081632653,
          1.2320408163265306,
          1.3338775510204082,
          1.4357142857142857,
          1.5375510204081633,
          1.6393877551020408,
          1.7412244897959184,
          1.843061224489796,
          1.9448979591836735,
          2.046734693877551,
          2.1485714285714286,
          2.250408163265306,
          2.3522448979591832,
          2.454081632653061,
          2.555918367346939,
          2.657755102040816,
          2.7595918367346934,
          2.861428571428571,
          2.963265306122449,
          3.0651020408163263,
          3.1669387755102036,
          3.2687755102040814,
          3.370612244897959,
          3.4724489795918365,
          3.574285714285714,
          3.6761224489795916,
          3.7779591836734694,
          3.8797959183673467,
          3.981632653061224,
          4.083469387755102,
          4.18530612244898,
          4.287142857142857,
          4.388979591836734,
          4.490816326530612,
          4.59265306122449,
          4.694489795918367,
          4.7963265306122445,
          4.898163265306122,
          5
         ],
         "y": [
          2.9994864463806152,
          2.949044704437256,
          2.8564610481262207,
          2.7504453659057617,
          2.6421751976013184,
          2.5360894203186035,
          2.4338855743408203,
          2.336148500442505,
          2.24302077293396,
          2.15448260307312,
          2.0704803466796875,
          1.9909443855285645,
          1.91580069065094,
          1.8449649810791016,
          1.7783293724060059,
          1.7157659530639648,
          1.6571221351623535,
          1.6022255420684814,
          1.5508885383605957,
          1.502914309501648,
          1.4580986499786377,
          1.4162417650222778,
          1.3771411180496216,
          1.340601921081543,
          1.3064417839050293,
          1.2744853496551514,
          1.2445651292800903,
          1.2165299654006958,
          1.1902368068695068,
          1.1655471324920654,
          1.1423463821411133,
          1.1205174922943115,
          1.0999590158462524,
          1.0805754661560059,
          1.0622793436050415,
          1.0449892282485962,
          1.0286369323730469,
          1.0131518840789795,
          0.9984720349311829,
          0.984542965888977,
          0.971312403678894,
          0.9587337970733643,
          0.9467606544494629,
          0.9353559613227844,
          0.9244825839996338,
          0.9141051173210144,
          0.9041927456855774,
          0.8947185277938843,
          0.8856521844863892,
          0.8769720196723938
         ]
        },
        {
         "type": "scatter",
         "x": [
          0.01,
          0.11183673469387755,
          0.2136734693877551,
          0.31551020408163266,
          0.4173469387755102,
          0.5191836734693878,
          0.6210204081632653,
          0.7228571428571429,
          0.8246938775510204,
          0.926530612244898,
          1.0283673469387755,
          1.130204081632653,
          1.2320408163265306,
          1.3338775510204082,
          1.4357142857142857,
          1.5375510204081633,
          1.6393877551020408,
          1.7412244897959184,
          1.843061224489796,
          1.9448979591836735,
          2.046734693877551,
          2.1485714285714286,
          2.250408163265306,
          2.3522448979591832,
          2.454081632653061,
          2.555918367346939,
          2.657755102040816,
          2.7595918367346934,
          2.861428571428571,
          2.963265306122449,
          3.0651020408163263,
          3.1669387755102036,
          3.2687755102040814,
          3.370612244897959,
          3.4724489795918365,
          3.574285714285714,
          3.6761224489795916,
          3.7779591836734694,
          3.8797959183673467,
          3.981632653061224,
          4.083469387755102,
          4.18530612244898,
          4.287142857142857,
          4.388979591836734,
          4.490816326530612,
          4.59265306122449,
          4.694489795918367,
          4.7963265306122445,
          4.898163265306122,
          5
         ],
         "y": [
          8.998912811279297,
          8.89826488494873,
          8.714284896850586,
          8.504793167114258,
          8.292068481445312,
          8.084671974182129,
          7.885759353637695,
          7.696310997009277,
          7.516502380371094,
          7.346285343170166,
          7.185556411743164,
          7.034229278564453,
          6.892215728759766,
          6.759382247924805,
          6.635547637939453,
          6.5204691886901855,
          6.413811683654785,
          6.31521463394165,
          6.224234104156494,
          6.140417098999023,
          6.063298225402832,
          5.992384910583496,
          5.927216529846191,
          5.867321968078613,
          5.812289714813232,
          5.761681079864502,
          5.71513557434082,
          5.6722893714904785,
          5.632808685302734,
          5.59639835357666,
          5.562792778015137,
          5.531733512878418,
          5.50299596786499,
          5.476376056671143,
          5.451690673828125,
          5.428761959075928,
          5.40744686126709,
          5.387609481811523,
          5.369112968444824,
          5.351855278015137,
          5.335737228393555,
          5.320655822753906,
          5.3065361976623535,
          5.293294906616211,
          5.280867576599121,
          5.269192695617676,
          5.258208274841309,
          5.247864723205566,
          5.238117218017578,
          5.2289228439331055
         ]
        }
       ],
       "layout": {
        "template": {
         "data": {
          "bar": [
           {
            "error_x": {
             "color": "#2a3f5f"
            },
            "error_y": {
             "color": "#2a3f5f"
            },
            "marker": {
             "line": {
              "color": "#E5ECF6",
              "width": 0.5
             }
            },
            "type": "bar"
           }
          ],
          "barpolar": [
           {
            "marker": {
             "line": {
              "color": "#E5ECF6",
              "width": 0.5
             }
            },
            "type": "barpolar"
           }
          ],
          "carpet": [
           {
            "aaxis": {
             "endlinecolor": "#2a3f5f",
             "gridcolor": "white",
             "linecolor": "white",
             "minorgridcolor": "white",
             "startlinecolor": "#2a3f5f"
            },
            "baxis": {
             "endlinecolor": "#2a3f5f",
             "gridcolor": "white",
             "linecolor": "white",
             "minorgridcolor": "white",
             "startlinecolor": "#2a3f5f"
            },
            "type": "carpet"
           }
          ],
          "choropleth": [
           {
            "colorbar": {
             "outlinewidth": 0,
             "ticks": ""
            },
            "type": "choropleth"
           }
          ],
          "contour": [
           {
            "colorbar": {
             "outlinewidth": 0,
             "ticks": ""
            },
            "colorscale": [
             [
              0,
              "#0d0887"
             ],
             [
              0.1111111111111111,
              "#46039f"
             ],
             [
              0.2222222222222222,
              "#7201a8"
             ],
             [
              0.3333333333333333,
              "#9c179e"
             ],
             [
              0.4444444444444444,
              "#bd3786"
             ],
             [
              0.5555555555555556,
              "#d8576b"
             ],
             [
              0.6666666666666666,
              "#ed7953"
             ],
             [
              0.7777777777777778,
              "#fb9f3a"
             ],
             [
              0.8888888888888888,
              "#fdca26"
             ],
             [
              1,
              "#f0f921"
             ]
            ],
            "type": "contour"
           }
          ],
          "contourcarpet": [
           {
            "colorbar": {
             "outlinewidth": 0,
             "ticks": ""
            },
            "type": "contourcarpet"
           }
          ],
          "heatmap": [
           {
            "colorbar": {
             "outlinewidth": 0,
             "ticks": ""
            },
            "colorscale": [
             [
              0,
              "#0d0887"
             ],
             [
              0.1111111111111111,
              "#46039f"
             ],
             [
              0.2222222222222222,
              "#7201a8"
             ],
             [
              0.3333333333333333,
              "#9c179e"
             ],
             [
              0.4444444444444444,
              "#bd3786"
             ],
             [
              0.5555555555555556,
              "#d8576b"
             ],
             [
              0.6666666666666666,
              "#ed7953"
             ],
             [
              0.7777777777777778,
              "#fb9f3a"
             ],
             [
              0.8888888888888888,
              "#fdca26"
             ],
             [
              1,
              "#f0f921"
             ]
            ],
            "type": "heatmap"
           }
          ],
          "heatmapgl": [
           {
            "colorbar": {
             "outlinewidth": 0,
             "ticks": ""
            },
            "colorscale": [
             [
              0,
              "#0d0887"
             ],
             [
              0.1111111111111111,
              "#46039f"
             ],
             [
              0.2222222222222222,
              "#7201a8"
             ],
             [
              0.3333333333333333,
              "#9c179e"
             ],
             [
              0.4444444444444444,
              "#bd3786"
             ],
             [
              0.5555555555555556,
              "#d8576b"
             ],
             [
              0.6666666666666666,
              "#ed7953"
             ],
             [
              0.7777777777777778,
              "#fb9f3a"
             ],
             [
              0.8888888888888888,
              "#fdca26"
             ],
             [
              1,
              "#f0f921"
             ]
            ],
            "type": "heatmapgl"
           }
          ],
          "histogram": [
           {
            "marker": {
             "colorbar": {
              "outlinewidth": 0,
              "ticks": ""
             }
            },
            "type": "histogram"
           }
          ],
          "histogram2d": [
           {
            "colorbar": {
             "outlinewidth": 0,
             "ticks": ""
            },
            "colorscale": [
             [
              0,
              "#0d0887"
             ],
             [
              0.1111111111111111,
              "#46039f"
             ],
             [
              0.2222222222222222,
              "#7201a8"
             ],
             [
              0.3333333333333333,
              "#9c179e"
             ],
             [
              0.4444444444444444,
              "#bd3786"
             ],
             [
              0.5555555555555556,
              "#d8576b"
             ],
             [
              0.6666666666666666,
              "#ed7953"
             ],
             [
              0.7777777777777778,
              "#fb9f3a"
             ],
             [
              0.8888888888888888,
              "#fdca26"
             ],
             [
              1,
              "#f0f921"
             ]
            ],
            "type": "histogram2d"
           }
          ],
          "histogram2dcontour": [
           {
            "colorbar": {
             "outlinewidth": 0,
             "ticks": ""
            },
            "colorscale": [
             [
              0,
              "#0d0887"
             ],
             [
              0.1111111111111111,
              "#46039f"
             ],
             [
              0.2222222222222222,
              "#7201a8"
             ],
             [
              0.3333333333333333,
              "#9c179e"
             ],
             [
              0.4444444444444444,
              "#bd3786"
             ],
             [
              0.5555555555555556,
              "#d8576b"
             ],
             [
              0.6666666666666666,
              "#ed7953"
             ],
             [
              0.7777777777777778,
              "#fb9f3a"
             ],
             [
              0.8888888888888888,
              "#fdca26"
             ],
             [
              1,
              "#f0f921"
             ]
            ],
            "type": "histogram2dcontour"
           }
          ],
          "mesh3d": [
           {
            "colorbar": {
             "outlinewidth": 0,
             "ticks": ""
            },
            "type": "mesh3d"
           }
          ],
          "parcoords": [
           {
            "line": {
             "colorbar": {
              "outlinewidth": 0,
              "ticks": ""
             }
            },
            "type": "parcoords"
           }
          ],
          "pie": [
           {
            "automargin": true,
            "type": "pie"
           }
          ],
          "scatter": [
           {
            "marker": {
             "colorbar": {
              "outlinewidth": 0,
              "ticks": ""
             }
            },
            "type": "scatter"
           }
          ],
          "scatter3d": [
           {
            "line": {
             "colorbar": {
              "outlinewidth": 0,
              "ticks": ""
             }
            },
            "marker": {
             "colorbar": {
              "outlinewidth": 0,
              "ticks": ""
             }
            },
            "type": "scatter3d"
           }
          ],
          "scattercarpet": [
           {
            "marker": {
             "colorbar": {
              "outlinewidth": 0,
              "ticks": ""
             }
            },
            "type": "scattercarpet"
           }
          ],
          "scattergeo": [
           {
            "marker": {
             "colorbar": {
              "outlinewidth": 0,
              "ticks": ""
             }
            },
            "type": "scattergeo"
           }
          ],
          "scattergl": [
           {
            "marker": {
             "colorbar": {
              "outlinewidth": 0,
              "ticks": ""
             }
            },
            "type": "scattergl"
           }
          ],
          "scattermapbox": [
           {
            "marker": {
             "colorbar": {
              "outlinewidth": 0,
              "ticks": ""
             }
            },
            "type": "scattermapbox"
           }
          ],
          "scatterpolar": [
           {
            "marker": {
             "colorbar": {
              "outlinewidth": 0,
              "ticks": ""
             }
            },
            "type": "scatterpolar"
           }
          ],
          "scatterpolargl": [
           {
            "marker": {
             "colorbar": {
              "outlinewidth": 0,
              "ticks": ""
             }
            },
            "type": "scatterpolargl"
           }
          ],
          "scatterternary": [
           {
            "marker": {
             "colorbar": {
              "outlinewidth": 0,
              "ticks": ""
             }
            },
            "type": "scatterternary"
           }
          ],
          "surface": [
           {
            "colorbar": {
             "outlinewidth": 0,
             "ticks": ""
            },
            "colorscale": [
             [
              0,
              "#0d0887"
             ],
             [
              0.1111111111111111,
              "#46039f"
             ],
             [
              0.2222222222222222,
              "#7201a8"
             ],
             [
              0.3333333333333333,
              "#9c179e"
             ],
             [
              0.4444444444444444,
              "#bd3786"
             ],
             [
              0.5555555555555556,
              "#d8576b"
             ],
             [
              0.6666666666666666,
              "#ed7953"
             ],
             [
              0.7777777777777778,
              "#fb9f3a"
             ],
             [
              0.8888888888888888,
              "#fdca26"
             ],
             [
              1,
              "#f0f921"
             ]
            ],
            "type": "surface"
           }
          ],
          "table": [
           {
            "cells": {
             "fill": {
              "color": "#EBF0F8"
             },
             "line": {
              "color": "white"
             }
            },
            "header": {
             "fill": {
              "color": "#C8D4E3"
             },
             "line": {
              "color": "white"
             }
            },
            "type": "table"
           }
          ]
         },
         "layout": {
          "annotationdefaults": {
           "arrowcolor": "#2a3f5f",
           "arrowhead": 0,
           "arrowwidth": 1
          },
          "coloraxis": {
           "colorbar": {
            "outlinewidth": 0,
            "ticks": ""
           }
          },
          "colorscale": {
           "diverging": [
            [
             0,
             "#8e0152"
            ],
            [
             0.1,
             "#c51b7d"
            ],
            [
             0.2,
             "#de77ae"
            ],
            [
             0.3,
             "#f1b6da"
            ],
            [
             0.4,
             "#fde0ef"
            ],
            [
             0.5,
             "#f7f7f7"
            ],
            [
             0.6,
             "#e6f5d0"
            ],
            [
             0.7,
             "#b8e186"
            ],
            [
             0.8,
             "#7fbc41"
            ],
            [
             0.9,
             "#4d9221"
            ],
            [
             1,
             "#276419"
            ]
           ],
           "sequential": [
            [
             0,
             "#0d0887"
            ],
            [
             0.1111111111111111,
             "#46039f"
            ],
            [
             0.2222222222222222,
             "#7201a8"
            ],
            [
             0.3333333333333333,
             "#9c179e"
            ],
            [
             0.4444444444444444,
             "#bd3786"
            ],
            [
             0.5555555555555556,
             "#d8576b"
            ],
            [
             0.6666666666666666,
             "#ed7953"
            ],
            [
             0.7777777777777778,
             "#fb9f3a"
            ],
            [
             0.8888888888888888,
             "#fdca26"
            ],
            [
             1,
             "#f0f921"
            ]
           ],
           "sequentialminus": [
            [
             0,
             "#0d0887"
            ],
            [
             0.1111111111111111,
             "#46039f"
            ],
            [
             0.2222222222222222,
             "#7201a8"
            ],
            [
             0.3333333333333333,
             "#9c179e"
            ],
            [
             0.4444444444444444,
             "#bd3786"
            ],
            [
             0.5555555555555556,
             "#d8576b"
            ],
            [
             0.6666666666666666,
             "#ed7953"
            ],
            [
             0.7777777777777778,
             "#fb9f3a"
            ],
            [
             0.8888888888888888,
             "#fdca26"
            ],
            [
             1,
             "#f0f921"
            ]
           ]
          },
          "colorway": [
           "#636efa",
           "#EF553B",
           "#00cc96",
           "#ab63fa",
           "#FFA15A",
           "#19d3f3",
           "#FF6692",
           "#B6E880",
           "#FF97FF",
           "#FECB52"
          ],
          "font": {
           "color": "#2a3f5f"
          },
          "geo": {
           "bgcolor": "white",
           "lakecolor": "white",
           "landcolor": "#E5ECF6",
           "showlakes": true,
           "showland": true,
           "subunitcolor": "white"
          },
          "hoverlabel": {
           "align": "left"
          },
          "hovermode": "closest",
          "mapbox": {
           "style": "light"
          },
          "paper_bgcolor": "white",
          "plot_bgcolor": "#E5ECF6",
          "polar": {
           "angularaxis": {
            "gridcolor": "white",
            "linecolor": "white",
            "ticks": ""
           },
           "bgcolor": "#E5ECF6",
           "radialaxis": {
            "gridcolor": "white",
            "linecolor": "white",
            "ticks": ""
           }
          },
          "scene": {
           "xaxis": {
            "backgroundcolor": "#E5ECF6",
            "gridcolor": "white",
            "gridwidth": 2,
            "linecolor": "white",
            "showbackground": true,
            "ticks": "",
            "zerolinecolor": "white"
           },
           "yaxis": {
            "backgroundcolor": "#E5ECF6",
            "gridcolor": "white",
            "gridwidth": 2,
            "linecolor": "white",
            "showbackground": true,
            "ticks": "",
            "zerolinecolor": "white"
           },
           "zaxis": {
            "backgroundcolor": "#E5ECF6",
            "gridcolor": "white",
            "gridwidth": 2,
            "linecolor": "white",
            "showbackground": true,
            "ticks": "",
            "zerolinecolor": "white"
           }
          },
          "shapedefaults": {
           "line": {
            "color": "#2a3f5f"
           }
          },
          "ternary": {
           "aaxis": {
            "gridcolor": "white",
            "linecolor": "white",
            "ticks": ""
           },
           "baxis": {
            "gridcolor": "white",
            "linecolor": "white",
            "ticks": ""
           },
           "bgcolor": "#E5ECF6",
           "caxis": {
            "gridcolor": "white",
            "linecolor": "white",
            "ticks": ""
           }
          },
          "title": {
           "x": 0.05
          },
          "xaxis": {
           "automargin": true,
           "gridcolor": "white",
           "linecolor": "white",
           "ticks": "",
           "title": {
            "standoff": 15
           },
           "zerolinecolor": "white",
           "zerolinewidth": 2
          },
          "yaxis": {
           "automargin": true,
           "gridcolor": "white",
           "linecolor": "white",
           "ticks": "",
           "title": {
            "standoff": 15
           },
           "zerolinecolor": "white",
           "zerolinewidth": 2
          }
         }
        },
        "xaxis": {
         "title": {
          "text": "G"
         }
        },
        "yaxis": {
         "title": {
          "text": "Rho2"
         }
        }
       }
      },
      "text/html": [
       "<div>\n",
       "        \n",
       "        \n",
       "            <div id=\"52722d7e-60f8-42b5-a161-76ef209141f5\" class=\"plotly-graph-div\" style=\"height:525px; width:100%;\"></div>\n",
       "            <script type=\"text/javascript\">\n",
       "                require([\"plotly\"], function(Plotly) {\n",
       "                    window.PLOTLYENV=window.PLOTLYENV || {};\n",
       "                    \n",
       "                if (document.getElementById(\"52722d7e-60f8-42b5-a161-76ef209141f5\")) {\n",
       "                    Plotly.newPlot(\n",
       "                        '52722d7e-60f8-42b5-a161-76ef209141f5',\n",
       "                        [{\"type\": \"scatter\", \"x\": [0.01, 0.11183673469387755, 0.2136734693877551, 0.31551020408163266, 0.4173469387755102, 0.5191836734693878, 0.6210204081632653, 0.7228571428571429, 0.8246938775510204, 0.926530612244898, 1.0283673469387755, 1.130204081632653, 1.2320408163265306, 1.3338775510204082, 1.4357142857142857, 1.5375510204081633, 1.6393877551020408, 1.7412244897959184, 1.843061224489796, 1.9448979591836735, 2.046734693877551, 2.1485714285714286, 2.250408163265306, 2.3522448979591832, 2.454081632653061, 2.555918367346939, 2.657755102040816, 2.7595918367346934, 2.861428571428571, 2.963265306122449, 3.0651020408163263, 3.1669387755102036, 3.2687755102040814, 3.370612244897959, 3.4724489795918365, 3.574285714285714, 3.6761224489795916, 3.7779591836734694, 3.8797959183673467, 3.981632653061224, 4.083469387755102, 4.18530612244898, 4.287142857142857, 4.388979591836734, 4.490816326530612, 4.59265306122449, 4.694489795918367, 4.7963265306122445, 4.898163265306122, 5.0], \"y\": [-5.537640346275907e-10, 1.8427730537950993e-05, 0.00019701221026480198, 0.0007411009282805026, 0.0018017408438026905, 0.0034633493050932884, 0.005764354486018419, 0.008714900352060795, 0.012306109070777893, 0.016513988375663757, 0.021301358938217163, 0.026620328426361084, 0.03241421654820442, 0.038620732724666595, 0.04517470300197601, 0.05201136693358421, 0.05906757712364197, 0.06628400087356567, 0.07360806316137314, 0.08099038898944855, 0.08838915824890137, 0.095768041908741, 0.10309605300426483, 0.11034759134054184, 0.11750225722789764, 0.12454207986593246, 0.1314544528722763, 0.13822820782661438, 0.14485645294189453, 0.1513349413871765, 0.1576579511165619, 0.16382502019405365, 0.1698348969221115, 0.17568865418434143, 0.18138690292835236, 0.1869322657585144, 0.19232651591300964, 0.19757302105426788, 0.20267567038536072, 0.20763680338859558, 0.21246057748794556, 0.21715068817138672, 0.2217114120721817, 0.226146399974823, 0.2304590344429016, 0.23465418815612793, 0.2387341409921646, 0.24270392954349518, 0.2465668022632599, 0.25032520294189453]}, {\"type\": \"scatter\", \"x\": [0.01, 0.11183673469387755, 0.2136734693877551, 0.31551020408163266, 0.4173469387755102, 0.5191836734693878, 0.6210204081632653, 0.7228571428571429, 0.8246938775510204, 0.926530612244898, 1.0283673469387755, 1.130204081632653, 1.2320408163265306, 1.3338775510204082, 1.4357142857142857, 1.5375510204081633, 1.6393877551020408, 1.7412244897959184, 1.843061224489796, 1.9448979591836735, 2.046734693877551, 2.1485714285714286, 2.250408163265306, 2.3522448979591832, 2.454081632653061, 2.555918367346939, 2.657755102040816, 2.7595918367346934, 2.861428571428571, 2.963265306122449, 3.0651020408163263, 3.1669387755102036, 3.2687755102040814, 3.370612244897959, 3.4724489795918365, 3.574285714285714, 3.6761224489795916, 3.7779591836734694, 3.8797959183673467, 3.981632653061224, 4.083469387755102, 4.18530612244898, 4.287142857142857, 4.388979591836734, 4.490816326530612, 4.59265306122449, 4.694489795918367, 4.7963265306122445, 4.898163265306122, 5.0], \"y\": [1.3915709695666578e-09, 1.8429846022627316e-05, 0.00019706273451447487, 0.0007411347469314933, 0.0018017567927017808, 0.003463408211246133, 0.005764382891356945, 0.008714934810996056, 0.012306155636906624, 0.01651400327682495, 0.021301373839378357, 0.026620427146553993, 0.032414231449365616, 0.03862074762582779, 0.04517478495836258, 0.05201137438416481, 0.059067729860544205, 0.06628450751304626, 0.07360807061195374, 0.08099046349525452, 0.08838919550180435, 0.09576805680990219, 0.10309622436761856, 0.11034791171550751, 0.11750227212905884, 0.12454217672348022, 0.1314544677734375, 0.13822829723358154, 0.14485688507556915, 0.15133515000343323, 0.15765810012817383, 0.16382518410682678, 0.16983497142791748, 0.17568877339363098, 0.18138691782951355, 0.18693237006664276, 0.19232657551765442, 0.19757318496704102, 0.20267581939697266, 0.20763704180717468, 0.2124609351158142, 0.21715115010738373, 0.22171151638031006, 0.2261466234922409, 0.23045921325683594, 0.23465441167354584, 0.23873436450958252, 0.24270398914813995, 0.246567040681839, 0.25032585859298706]}, {\"type\": \"scatter\", \"x\": [0.01, 0.11183673469387755, 0.2136734693877551, 0.31551020408163266, 0.4173469387755102, 0.5191836734693878, 0.6210204081632653, 0.7228571428571429, 0.8246938775510204, 0.926530612244898, 1.0283673469387755, 1.130204081632653, 1.2320408163265306, 1.3338775510204082, 1.4357142857142857, 1.5375510204081633, 1.6393877551020408, 1.7412244897959184, 1.843061224489796, 1.9448979591836735, 2.046734693877551, 2.1485714285714286, 2.250408163265306, 2.3522448979591832, 2.454081632653061, 2.555918367346939, 2.657755102040816, 2.7595918367346934, 2.861428571428571, 2.963265306122449, 3.0651020408163263, 3.1669387755102036, 3.2687755102040814, 3.370612244897959, 3.4724489795918365, 3.574285714285714, 3.6761224489795916, 3.7779591836734694, 3.8797959183673467, 3.981632653061224, 4.083469387755102, 4.18530612244898, 4.287142857142857, 4.388979591836734, 4.490816326530612, 4.59265306122449, 4.694489795918367, 4.7963265306122445, 4.898163265306122, 5.0], \"y\": [4.132746589391445e-09, 2.0104205759707838e-05, 0.00022608900326304138, 0.000879458209965378, 0.002187098376452923, 0.004274243023246527, 0.007203066721558571, 0.010996024124324322, 0.015645477920770645, 0.021121131256222725, 0.027370817959308624, 0.03432571887969971, 0.041902437806129456, 0.05000956356525421, 0.058550119400024414, 0.06742986291646957, 0.0765562430024147, 0.0858444795012474, 0.0952182486653328, 0.10461002588272095, 0.11396130174398422, 0.12322422116994858, 0.13235750794410706, 0.1413298398256302, 0.15011483430862427, 0.15869274735450745, 0.16705016791820526, 0.17517663538455963, 0.18306608498096466, 0.19071562588214874, 0.19812335073947906, 0.2052927166223526, 0.21222533285617828, 0.21892547607421875, 0.22539804875850677, 0.2316487431526184, 0.23768414556980133, 0.24351084232330322, 0.24913661181926727, 0.2545663118362427, 0.2598089873790741, 0.26487135887145996, 0.2697586119174957, 0.27448034286499023, 0.27904024720191956, 0.28344738483428955, 0.2877061069011688, 0.2918229103088379, 0.2958046793937683, 0.2996550500392914]}, {\"type\": \"scatter\", \"x\": [0.01, 0.11183673469387755, 0.2136734693877551, 0.31551020408163266, 0.4173469387755102, 0.5191836734693878, 0.6210204081632653, 0.7228571428571429, 0.8246938775510204, 0.926530612244898, 1.0283673469387755, 1.130204081632653, 1.2320408163265306, 1.3338775510204082, 1.4357142857142857, 1.5375510204081633, 1.6393877551020408, 1.7412244897959184, 1.843061224489796, 1.9448979591836735, 2.046734693877551, 2.1485714285714286, 2.250408163265306, 2.3522448979591832, 2.454081632653061, 2.555918367346939, 2.657755102040816, 2.7595918367346934, 2.861428571428571, 2.963265306122449, 3.0651020408163263, 3.1669387755102036, 3.2687755102040814, 3.370612244897959, 3.4724489795918365, 3.574285714285714, 3.6761224489795916, 3.7779591836734694, 3.8797959183673467, 3.981632653061224, 4.083469387755102, 4.18530612244898, 4.287142857142857, 4.388979591836734, 4.490816326530612, 4.59265306122449, 4.694489795918367, 4.7963265306122445, 4.898163265306122, 5.0], \"y\": [4.132746589391445e-09, 6.086779831093736e-05, 0.0005766088725067675, 0.0019803002942353487, 0.004496774636209011, 0.008202966302633286, 0.013100266456604004, 0.01914776675403118, 0.02627304010093212, 0.03437601774930954, 0.043334294110536575, 0.05300995707511902, 0.06325677037239075, 0.07392881065607071, 0.08488661795854568, 0.09600241482257843, 0.10716311633586884, 0.11827210336923599, 0.12924879789352417, 0.14002880454063416, 0.1505618542432785, 0.1608101725578308, 0.17074638605117798, 0.18035371601581573, 0.18962089717388153, 0.1985436975955963, 0.20712292194366455, 0.21536171436309814, 0.2232675850391388, 0.23084944486618042, 0.2381165474653244, 0.24508143961429596, 0.2517540454864502, 0.258149117231369, 0.2642766833305359, 0.2701498568058014, 0.27578026056289673, 0.2811790704727173, 0.28635847568511963, 0.29132911562919617, 0.2961004674434662, 0.30068251490592957, 0.3050859272480011, 0.3093186616897583, 0.31338924169540405, 0.3173061013221741, 0.32107600569725037, 0.32470691204071045, 0.32820558547973633, 0.33157819509506226]}, {\"type\": \"scatter\", \"x\": [0.01, 0.11183673469387755, 0.2136734693877551, 0.31551020408163266, 0.4173469387755102, 0.5191836734693878, 0.6210204081632653, 0.7228571428571429, 0.8246938775510204, 0.926530612244898, 1.0283673469387755, 1.130204081632653, 1.2320408163265306, 1.3338775510204082, 1.4357142857142857, 1.5375510204081633, 1.6393877551020408, 1.7412244897959184, 1.843061224489796, 1.9448979591836735, 2.046734693877551, 2.1485714285714286, 2.250408163265306, 2.3522448979591832, 2.454081632653061, 2.555918367346939, 2.657755102040816, 2.7595918367346934, 2.861428571428571, 2.963265306122449, 3.0651020408163263, 3.1669387755102036, 3.2687755102040814, 3.370612244897959, 3.4724489795918365, 3.574285714285714, 3.6761224489795916, 3.7779591836734694, 3.8797959183673467, 3.981632653061224, 4.083469387755102, 4.18530612244898, 4.287142857142857, 4.388979591836734, 4.490816326530612, 4.59265306122449, 4.694489795918367, 4.7963265306122445, 4.898163265306122, 5.0], \"y\": [5.452074347545022e-09, 6.102259794715792e-05, 0.0005766160902567208, 0.001980304252356291, 0.004496774636209011, 0.008202971890568733, 0.01310032606124878, 0.019147789105772972, 0.02627304568886757, 0.03437604382634163, 0.043334294110536575, 0.053009968250989914, 0.06325682252645493, 0.0739288404583931, 0.08488662540912628, 0.0960024744272232, 0.10716317594051361, 0.11827219277620316, 0.12924884259700775, 0.14002887904644012, 0.15056194365024567, 0.16081023216247559, 0.17074653506278992, 0.18035376071929932, 0.18962104618549347, 0.198543980717659, 0.2071230411529541, 0.21536189317703247, 0.22326767444610596, 0.23084977269172668, 0.23811699450016022, 0.24508151412010193, 0.25175410509109497, 0.2581491470336914, 0.26427674293518066, 0.27015024423599243, 0.2757803201675415, 0.28117918968200684, 0.2863587737083435, 0.29132920503616333, 0.2961004972457886, 0.3006827235221863, 0.305086225271225, 0.3093186914920807, 0.31338948011398315, 0.31730613112449646, 0.3210761547088623, 0.32470691204071045, 0.32820582389831543, 0.3315785229206085]}, {\"type\": \"scatter\", \"x\": [0.01, 0.11183673469387755, 0.2136734693877551, 0.31551020408163266, 0.4173469387755102, 0.5191836734693878, 0.6210204081632653, 0.7228571428571429, 0.8246938775510204, 0.926530612244898, 1.0283673469387755, 1.130204081632653, 1.2320408163265306, 1.3338775510204082, 1.4357142857142857, 1.5375510204081633, 1.6393877551020408, 1.7412244897959184, 1.843061224489796, 1.9448979591836735, 2.046734693877551, 2.1485714285714286, 2.250408163265306, 2.3522448979591832, 2.454081632653061, 2.555918367346939, 2.657755102040816, 2.7595918367346934, 2.861428571428571, 2.963265306122449, 3.0651020408163263, 3.1669387755102036, 3.2687755102040814, 3.370612244897959, 3.4724489795918365, 3.574285714285714, 3.6761224489795916, 3.7779591836734694, 3.8797959183673467, 3.981632653061224, 4.083469387755102, 4.18530612244898, 4.287142857142857, 4.388979591836734, 4.490816326530612, 4.59265306122449, 4.694489795918367, 4.7963265306122445, 4.898163265306122, 5.0], \"y\": [5.469463104645911e-09, 6.102259794715792e-05, 0.000576620630454272, 0.001980304252356291, 0.004496793728321791, 0.00820298120379448, 0.01310035027563572, 0.019147826358675957, 0.02627304568886757, 0.03437604382634163, 0.04333443567156792, 0.05301003158092499, 0.0632568970322609, 0.07392890751361847, 0.08488669246435165, 0.09600257873535156, 0.10716317594051361, 0.11827224493026733, 0.12924890220165253, 0.14002910256385803, 0.15056194365024567, 0.16081032156944275, 0.1707465648651123, 0.1803537756204605, 0.18962104618549347, 0.19854402542114258, 0.20712333917617798, 0.21536192297935486, 0.22326815128326416, 0.2308499813079834, 0.23811711370944977, 0.2450815588235855, 0.2517549395561218, 0.25814932584762573, 0.264276921749115, 0.27015063166618347, 0.2757803201675415, 0.28117918968200684, 0.2863590121269226, 0.2913292944431305, 0.2961006164550781, 0.30068281292915344, 0.305086225271225, 0.30931878089904785, 0.31338948011398315, 0.3173062205314636, 0.3210761845111847, 0.3247073292732239, 0.3282058835029602, 0.3315790295600891]}, {\"type\": \"scatter\", \"x\": [0.01, 0.11183673469387755, 0.2136734693877551, 0.31551020408163266, 0.4173469387755102, 0.5191836734693878, 0.6210204081632653, 0.7228571428571429, 0.8246938775510204, 0.926530612244898, 1.0283673469387755, 1.130204081632653, 1.2320408163265306, 1.3338775510204082, 1.4357142857142857, 1.5375510204081633, 1.6393877551020408, 1.7412244897959184, 1.843061224489796, 1.9448979591836735, 2.046734693877551, 2.1485714285714286, 2.250408163265306, 2.3522448979591832, 2.454081632653061, 2.555918367346939, 2.657755102040816, 2.7595918367346934, 2.861428571428571, 2.963265306122449, 3.0651020408163263, 3.1669387755102036, 3.2687755102040814, 3.370612244897959, 3.4724489795918365, 3.574285714285714, 3.6761224489795916, 3.7779591836734694, 3.8797959183673467, 3.981632653061224, 4.083469387755102, 4.18530612244898, 4.287142857142857, 4.388979591836734, 4.490816326530612, 4.59265306122449, 4.694489795918367, 4.7963265306122445, 4.898163265306122, 5.0], \"y\": [2.1379875647653535e-08, 6.102748739067465e-05, 0.0005766295944340527, 0.0019803231116384268, 0.00449681980535388, 0.008203009143471718, 0.01310039684176445, 0.01914784498512745, 0.02627306990325451, 0.034376051276922226, 0.04333494231104851, 0.05301005765795708, 0.06325692683458328, 0.07392890751361847, 0.08488671481609344, 0.09600266069173813, 0.10716335475444794, 0.11827230453491211, 0.12924893200397491, 0.1400291621685028, 0.15056215226650238, 0.1608104407787323, 0.17074692249298096, 0.18035386502742767, 0.18962106108665466, 0.19854409992694855, 0.20712339878082275, 0.21536216139793396, 0.22326822578907013, 0.23085007071495056, 0.23811766505241394, 0.2450815737247467, 0.2517552077770233, 0.25814953446388245, 0.264276921749115, 0.27015063166618347, 0.27578043937683105, 0.28117942810058594, 0.28635913133621216, 0.291329562664032, 0.2961006462574005, 0.3006829619407654, 0.3050864636898041, 0.30931907892227173, 0.3133895695209503, 0.3173063099384308, 0.32107627391815186, 0.32470738887786865, 0.32820627093315125, 0.3315790593624115]}, {\"type\": \"scatter\", \"x\": [0.01, 0.11183673469387755, 0.2136734693877551, 0.31551020408163266, 0.4173469387755102, 0.5191836734693878, 0.6210204081632653, 0.7228571428571429, 0.8246938775510204, 0.926530612244898, 1.0283673469387755, 1.130204081632653, 1.2320408163265306, 1.3338775510204082, 1.4357142857142857, 1.5375510204081633, 1.6393877551020408, 1.7412244897959184, 1.843061224489796, 1.9448979591836735, 2.046734693877551, 2.1485714285714286, 2.250408163265306, 2.3522448979591832, 2.454081632653061, 2.555918367346939, 2.657755102040816, 2.7595918367346934, 2.861428571428571, 2.963265306122449, 3.0651020408163263, 3.1669387755102036, 3.2687755102040814, 3.370612244897959, 3.4724489795918365, 3.574285714285714, 3.6761224489795916, 3.7779591836734694, 3.8797959183673467, 3.981632653061224, 4.083469387755102, 4.18530612244898, 4.287142857142857, 4.388979591836734, 4.490816326530612, 4.59265306122449, 4.694489795918367, 4.7963265306122445, 4.898163265306122, 5.0], \"y\": [2.142360600032589e-08, 0.000201373259187676, 0.0016755618853494525, 0.005242503248155117, 0.011107515543699265, 0.019215954467654228, 0.029422037303447723, 0.04152841493487358, 0.05529194325208664, 0.07043040543794632, 0.08663620799779892, 0.10359513759613037, 0.12100300937891006, 0.13858087360858917, 0.15608470141887665, 0.17331093549728394, 0.19009651243686676, 0.2063179314136505, 0.2218860685825348, 0.2367437779903412, 0.25085756182670593, 0.26421576738357544, 0.2768198847770691, 0.28868627548217773, 0.2998370826244354, 0.31030169129371643, 0.32011404633522034, 0.3293078541755676, 0.3379194736480713, 0.34598496556282043, 0.3535380959510803, 0.3606141209602356, 0.3672451078891754, 0.37346088886260986, 0.3792913556098938, 0.3847637176513672, 0.38990211486816406, 0.3947305381298065, 0.3992714583873749, 0.403545081615448, 0.4075700640678406, 0.41136249899864197, 0.41494154930114746, 0.41831886768341064, 0.4215097427368164, 0.42452549934387207, 0.42738044261932373, 0.4300825297832489, 0.4326438903808594, 0.43507280945777893]}, {\"type\": \"scatter\", \"x\": [0.01, 0.11183673469387755, 0.2136734693877551, 0.31551020408163266, 0.4173469387755102, 0.5191836734693878, 0.6210204081632653, 0.7228571428571429, 0.8246938775510204, 0.926530612244898, 1.0283673469387755, 1.130204081632653, 1.2320408163265306, 1.3338775510204082, 1.4357142857142857, 1.5375510204081633, 1.6393877551020408, 1.7412244897959184, 1.843061224489796, 1.9448979591836735, 2.046734693877551, 2.1485714285714286, 2.250408163265306, 2.3522448979591832, 2.454081632653061, 2.555918367346939, 2.657755102040816, 2.7595918367346934, 2.861428571428571, 2.963265306122449, 3.0651020408163263, 3.1669387755102036, 3.2687755102040814, 3.370612244897959, 3.4724489795918365, 3.574285714285714, 3.6761224489795916, 3.7779591836734694, 3.8797959183673467, 3.981632653061224, 4.083469387755102, 4.18530612244898, 4.287142857142857, 4.388979591836734, 4.490816326530612, 4.59265306122449, 4.694489795918367, 4.7963265306122445, 4.898163265306122, 5.0], \"y\": [2.1801518812480936e-08, 0.0002013777702813968, 0.00167556491214782, 0.005242513492703438, 0.011107537895441055, 0.019215987995266914, 0.02942207269370556, 0.04152843728661537, 0.05529201775789261, 0.07043050974607468, 0.08663635700941086, 0.1035953164100647, 0.12100314348936081, 0.13858096301555634, 0.15608488023281097, 0.17331117391586304, 0.19009679555892944, 0.2063179910182953, 0.22188648581504822, 0.2367439568042755, 0.2508578598499298, 0.26421594619750977, 0.27681997418403625, 0.28868651390075684, 0.299837201833725, 0.31030237674713135, 0.32011404633522034, 0.32930809259414673, 0.33791956305503845, 0.3459851145744324, 0.3535386323928833, 0.36061424016952515, 0.36724528670310974, 0.37346142530441284, 0.37929168343544006, 0.3847641050815582, 0.38990214467048645, 0.394730806350708, 0.39927181601524353, 0.403545618057251, 0.40757033228874207, 0.41136249899864197, 0.41494184732437134, 0.4183189570903778, 0.42151007056236267, 0.4245257079601288, 0.4273807406425476, 0.43008288741111755, 0.43264442682266235, 0.4350729286670685]}, {\"type\": \"scatter\", \"x\": [0.01, 0.11183673469387755, 0.2136734693877551, 0.31551020408163266, 0.4173469387755102, 0.5191836734693878, 0.6210204081632653, 0.7228571428571429, 0.8246938775510204, 0.926530612244898, 1.0283673469387755, 1.130204081632653, 1.2320408163265306, 1.3338775510204082, 1.4357142857142857, 1.5375510204081633, 1.6393877551020408, 1.7412244897959184, 1.843061224489796, 1.9448979591836735, 2.046734693877551, 2.1485714285714286, 2.250408163265306, 2.3522448979591832, 2.454081632653061, 2.555918367346939, 2.657755102040816, 2.7595918367346934, 2.861428571428571, 2.963265306122449, 3.0651020408163263, 3.1669387755102036, 3.2687755102040814, 3.370612244897959, 3.4724489795918365, 3.574285714285714, 3.6761224489795916, 3.7779591836734694, 3.8797959183673467, 3.981632653061224, 4.083469387755102, 4.18530612244898, 4.287142857142857, 4.388979591836734, 4.490816326530612, 4.59265306122449, 4.694489795918367, 4.7963265306122445, 4.898163265306122, 5.0], \"y\": [2.537795182888658e-07, 0.0002375270996708423, 0.002157570794224739, 0.007169963326305151, 0.015910755842924118, 0.028588321059942245, 0.0451819971203804, 0.06547950208187103, 0.08908508718013763, 0.11544734239578247, 0.14390753209590912, 0.17376293241977692, 0.2043207883834839, 0.23494300246238708, 0.26507917046546936, 0.2942797541618347, 0.32220137119293213, 0.348597913980484, 0.37331467866897583, 0.3962671458721161, 0.4075853228569031, 0.41464972496032715, 0.42100679874420166, 0.42673876881599426, 0.43191516399383545, 0.4365999698638916, 0.4408482611179352, 0.44470712542533875, 0.44822075963020325, 0.45142656564712524, 0.4543558359146118, 0.457040011882782, 0.45950281620025635, 0.4617670476436615, 0.46385297179222107, 0.4657779633998871, 0.4675573408603668, 0.46920502185821533, 0.4707334339618683, 0.4721534550189972, 0.4734743535518646, 0.47470569610595703, 0.4758545160293579, 0.4769284725189209, 0.47793281078338623, 0.4788753092288971, 0.4797581434249878, 0.4805888533592224, 0.481368750333786, 0.4821028709411621]}, {\"type\": \"scatter\", \"x\": [0.01, 0.11183673469387755, 0.2136734693877551, 0.31551020408163266, 0.4173469387755102, 0.5191836734693878, 0.6210204081632653, 0.7228571428571429, 0.8246938775510204, 0.926530612244898, 1.0283673469387755, 1.130204081632653, 1.2320408163265306, 1.3338775510204082, 1.4357142857142857, 1.5375510204081633, 1.6393877551020408, 1.7412244897959184, 1.843061224489796, 1.9448979591836735, 2.046734693877551, 2.1485714285714286, 2.250408163265306, 2.3522448979591832, 2.454081632653061, 2.555918367346939, 2.657755102040816, 2.7595918367346934, 2.861428571428571, 2.963265306122449, 3.0651020408163263, 3.1669387755102036, 3.2687755102040814, 3.370612244897959, 3.4724489795918365, 3.574285714285714, 3.6761224489795916, 3.7779591836734694, 3.8797959183673467, 3.981632653061224, 4.083469387755102, 4.18530612244898, 4.287142857142857, 4.388979591836734, 4.490816326530612, 4.59265306122449, 4.694489795918367, 4.7963265306122445, 4.898163265306122, 5.0], \"y\": [0.00011133940279250965, 0.012108885683119297, 0.03741512447595596, 0.06886041909456253, 0.10226850211620331, 0.13542059063911438, 0.1671697497367859, 0.19695064425468445, 0.22451050579547882, 0.24977722764015198, 0.27278390526771545, 0.2936211824417114, 0.31241801381111145, 0.3293260931968689, 0.34450042247772217, 0.35810163617134094, 0.3702838122844696, 0.3811918795108795, 0.39096471667289734, 0.3997245728969574, 0.4075859785079956, 0.41464996337890625, 0.4210071861743927, 0.42673900723457336, 0.431915283203125, 0.4366001486778259, 0.4408484697341919, 0.44470730423927307, 0.4482213258743286, 0.451427161693573, 0.4543565809726715, 0.45704108476638794, 0.4595031142234802, 0.46176764369010925, 0.4638531804084778, 0.4657781422138214, 0.4675576388835907, 0.469205379486084, 0.4707338809967041, 0.4721536338329315, 0.47347474098205566, 0.47470593452453613, 0.47585463523864746, 0.4769285321235657, 0.47793295979499817, 0.47887560725212097, 0.47975850105285645, 0.4805889129638672, 0.4813691973686218, 0.4821029305458069]}, {\"type\": \"scatter\", \"x\": [0.01, 0.11183673469387755, 0.2136734693877551, 0.31551020408163266, 0.4173469387755102, 0.5191836734693878, 0.6210204081632653, 0.7228571428571429, 0.8246938775510204, 0.926530612244898, 1.0283673469387755, 1.130204081632653, 1.2320408163265306, 1.3338775510204082, 1.4357142857142857, 1.5375510204081633, 1.6393877551020408, 1.7412244897959184, 1.843061224489796, 1.9448979591836735, 2.046734693877551, 2.1485714285714286, 2.250408163265306, 2.3522448979591832, 2.454081632653061, 2.555918367346939, 2.657755102040816, 2.7595918367346934, 2.861428571428571, 2.963265306122449, 3.0651020408163263, 3.1669387755102036, 3.2687755102040814, 3.370612244897959, 3.4724489795918365, 3.574285714285714, 3.6761224489795916, 3.7779591836734694, 3.8797959183673467, 3.981632653061224, 4.083469387755102, 4.18530612244898, 4.287142857142857, 4.388979591836734, 4.490816326530612, 4.59265306122449, 4.694489795918367, 4.7963265306122445, 4.898163265306122, 5.0], \"y\": [0.00011134000669699162, 0.012108893133699894, 0.03741513192653656, 0.0688604936003685, 0.10226857662200928, 0.13542065024375916, 0.16716982424259186, 0.19695071876049042, 0.22451069951057434, 0.24977724254131317, 0.27278396487236023, 0.29362139105796814, 0.3124181628227234, 0.32932621240615845, 0.3445005714893341, 0.3581019937992096, 0.37028393149375916, 0.3811919093132019, 0.39096471667289734, 0.3997246026992798, 0.4075860381126404, 0.41465020179748535, 0.4210077226161957, 0.42673954367637634, 0.43191611766815186, 0.43660104274749756, 0.4408486783504486, 0.44470804929733276, 0.44822195172309875, 0.451427161693573, 0.45435771346092224, 0.4570411145687103, 0.45950353145599365, 0.4617677927017212, 0.46385377645492554, 0.46577849984169006, 0.46755799651145935, 0.4692056477069855, 0.4707340896129608, 0.4721539318561554, 0.47347506880760193, 0.47470611333847046, 0.47585487365722656, 0.4769291877746582, 0.47793295979499817, 0.47887560725212097, 0.4797593057155609, 0.48058900237083435, 0.4813697934150696, 0.48210465908050537]}, {\"type\": \"scatter\", \"x\": [0.01, 0.11183673469387755, 0.2136734693877551, 0.31551020408163266, 0.4173469387755102, 0.5191836734693878, 0.6210204081632653, 0.7228571428571429, 0.8246938775510204, 0.926530612244898, 1.0283673469387755, 1.130204081632653, 1.2320408163265306, 1.3338775510204082, 1.4357142857142857, 1.5375510204081633, 1.6393877551020408, 1.7412244897959184, 1.843061224489796, 1.9448979591836735, 2.046734693877551, 2.1485714285714286, 2.250408163265306, 2.3522448979591832, 2.454081632653061, 2.555918367346939, 2.657755102040816, 2.7595918367346934, 2.861428571428571, 2.963265306122449, 3.0651020408163263, 3.1669387755102036, 3.2687755102040814, 3.370612244897959, 3.4724489795918365, 3.574285714285714, 3.6761224489795916, 3.7779591836734694, 3.8797959183673467, 3.981632653061224, 4.083469387755102, 4.18530612244898, 4.287142857142857, 4.388979591836734, 4.490816326530612, 4.59265306122449, 4.694489795918367, 4.7963265306122445, 4.898163265306122, 5.0], \"y\": [0.00011134122178191319, 0.012108969502151012, 0.037415675818920135, 0.06886052340269089, 0.1022699624300003, 0.13542130589485168, 0.16717104613780975, 0.196950763463974, 0.2245112508535385, 0.2497795820236206, 0.2727844715118408, 0.29362156987190247, 0.3124195337295532, 0.3293266296386719, 0.3445013165473938, 0.3581025004386902, 0.3702841103076935, 0.38119322061538696, 0.39096495509147644, 0.3997248709201813, 0.40758657455444336, 0.4146502614021301, 0.4210079312324524, 0.42673957347869873, 0.43191641569137573, 0.4366011917591095, 0.44084879755973816, 0.44470807909965515, 0.4482225477695465, 0.45142775774002075, 0.45435869693756104, 0.45704206824302673, 0.459503710269928, 0.4617685079574585, 0.4638538956642151, 0.4657786190509796, 0.4675580859184265, 0.4692060947418213, 0.47073423862457275, 0.4721541702747345, 0.4734753966331482, 0.47470685839653015, 0.47585511207580566, 0.4769294261932373, 0.47793304920196533, 0.4788757562637329, 0.4797595739364624, 0.4805893301963806, 0.48136982321739197, 0.482105016708374]}, {\"type\": \"scatter\", \"x\": [0.01, 0.11183673469387755, 0.2136734693877551, 0.31551020408163266, 0.4173469387755102, 0.5191836734693878, 0.6210204081632653, 0.7228571428571429, 0.8246938775510204, 0.926530612244898, 1.0283673469387755, 1.130204081632653, 1.2320408163265306, 1.3338775510204082, 1.4357142857142857, 1.5375510204081633, 1.6393877551020408, 1.7412244897959184, 1.843061224489796, 1.9448979591836735, 2.046734693877551, 2.1485714285714286, 2.250408163265306, 2.3522448979591832, 2.454081632653061, 2.555918367346939, 2.657755102040816, 2.7595918367346934, 2.861428571428571, 2.963265306122449, 3.0651020408163263, 3.1669387755102036, 3.2687755102040814, 3.370612244897959, 3.4724489795918365, 3.574285714285714, 3.6761224489795916, 3.7779591836734694, 3.8797959183673467, 3.981632653061224, 4.083469387755102, 4.18530612244898, 4.287142857142857, 4.388979591836734, 4.490816326530612, 4.59265306122449, 4.694489795918367, 4.7963265306122445, 4.898163265306122, 5.0], \"y\": [0.00011137213004985824, 0.012108984403312206, 0.037415698170661926, 0.06886065751314163, 0.10227006673812866, 0.13542135059833527, 0.16717112064361572, 0.19695083796977997, 0.22451141476631165, 0.24977965652942657, 0.27278462052345276, 0.2936219871044159, 0.3124198615550995, 0.3293268084526062, 0.3445013165473938, 0.3581026494503021, 0.3702843487262726, 0.38119328022003174, 0.39096513390541077, 0.39972496032714844, 0.4174346923828125, 0.43684038519859314, 0.4545404613018036, 0.47061580419540405, 0.48516207933425903, 0.49828293919563293, 0.5100833177566528, 0.5206700563430786, 0.530148983001709, 0.5386168360710144, 0.5461673736572266, 0.5528863072395325, 0.5588552951812744, 0.5641469359397888, 0.5688281655311584, 0.572960615158081, 0.5765981674194336, 0.5797910690307617, 0.582586944103241, 0.5850242376327515, 0.5871392488479614, 0.5889659523963928, 0.5905333161354065, 0.5918683409690857, 0.5929940342903137, 0.5939310193061829, 0.5947014093399048, 0.5953199863433838, 0.5958027243614197, 0.5961645245552063]}, {\"type\": \"scatter\", \"x\": [0.01, 0.11183673469387755, 0.2136734693877551, 0.31551020408163266, 0.4173469387755102, 0.5191836734693878, 0.6210204081632653, 0.7228571428571429, 0.8246938775510204, 0.926530612244898, 1.0283673469387755, 1.130204081632653, 1.2320408163265306, 1.3338775510204082, 1.4357142857142857, 1.5375510204081633, 1.6393877551020408, 1.7412244897959184, 1.843061224489796, 1.9448979591836735, 2.046734693877551, 2.1485714285714286, 2.250408163265306, 2.3522448979591832, 2.454081632653061, 2.555918367346939, 2.657755102040816, 2.7595918367346934, 2.861428571428571, 2.963265306122449, 3.0651020408163263, 3.1669387755102036, 3.2687755102040814, 3.370612244897959, 3.4724489795918365, 3.574285714285714, 3.6761224489795916, 3.7779591836734694, 3.8797959183673467, 3.981632653061224, 4.083469387755102, 4.18530612244898, 4.287142857142857, 4.388979591836734, 4.490816326530612, 4.59265306122449, 4.694489795918367, 4.7963265306122445, 4.898163265306122, 5.0], \"y\": [0.000434522662544623, 0.0385708324611187, 0.10367560386657715, 0.17273631691932678, 0.23814912140369415, 0.2976077198982239, 0.35065561532974243, 0.3975086212158203, 0.4385967552661896, 0.4744166135787964, 0.505463719367981, 0.5322098135948181, 0.5551056265830994, 0.5745794773101807, 0.5910229682922363, 0.6048076152801514, 0.616267740726471, 0.6257081627845764, 0.6334044933319092, 0.6395991444587708, 0.6445057988166809, 0.6483157873153687, 0.6511900424957275, 0.6532716155052185, 0.6546815633773804, 0.6555253863334656, 0.6558940410614014, 0.6558631062507629, 0.6554984450340271, 0.6548561453819275, 0.6539822220802307, 0.6529210209846497, 0.6517015695571899, 0.6503584980964661, 0.6489121317863464, 0.6473857164382935, 0.6457967162132263, 0.6441599726676941, 0.6424883008003235, 0.640792191028595, 0.6390817761421204, 0.6373639106750488, 0.6356454491615295, 0.6339305639266968, 0.632226288318634, 0.6305339336395264, 0.6288576126098633, 0.6271994113922119, 0.6255624294281006, 0.623945951461792]}, {\"type\": \"scatter\", \"x\": [0.01, 0.11183673469387755, 0.2136734693877551, 0.31551020408163266, 0.4173469387755102, 0.5191836734693878, 0.6210204081632653, 0.7228571428571429, 0.8246938775510204, 0.926530612244898, 1.0283673469387755, 1.130204081632653, 1.2320408163265306, 1.3338775510204082, 1.4357142857142857, 1.5375510204081633, 1.6393877551020408, 1.7412244897959184, 1.843061224489796, 1.9448979591836735, 2.046734693877551, 2.1485714285714286, 2.250408163265306, 2.3522448979591832, 2.454081632653061, 2.555918367346939, 2.657755102040816, 2.7595918367346934, 2.861428571428571, 2.963265306122449, 3.0651020408163263, 3.1669387755102036, 3.2687755102040814, 3.370612244897959, 3.4724489795918365, 3.574285714285714, 3.6761224489795916, 3.7779591836734694, 3.8797959183673467, 3.981632653061224, 4.083469387755102, 4.18530612244898, 4.287142857142857, 4.388979591836734, 4.490816326530612, 4.59265306122449, 4.694489795918367, 4.7963265306122445, 4.898163265306122, 5.0], \"y\": [0.00043452857062220573, 0.03857096657156944, 0.10367581248283386, 0.17273631691932678, 0.23814944922924042, 0.2976078689098358, 0.350655734539032, 0.3975087106227875, 0.43859753012657166, 0.4744166135787964, 0.5054637789726257, 0.5322099924087524, 0.5551058053970337, 0.5745794773101807, 0.5910230278968811, 0.6048082709312439, 0.6162682771682739, 0.6257084012031555, 0.633404552936554, 0.6395995616912842, 0.6445062756538391, 0.6483158469200134, 0.6511902213096619, 0.6532719135284424, 0.6546821594238281, 0.6555254459381104, 0.6558941602706909, 0.6558635234832764, 0.6554989814758301, 0.6548568606376648, 0.6539835333824158, 0.652921199798584, 0.6517025232315063, 0.6503586769104004, 0.6489123702049255, 0.6473861336708069, 0.6457969546318054, 0.644160270690918, 0.6424883604049683, 0.6407924890518188, 0.6390818357467651, 0.6373643279075623, 0.635645866394043, 0.6339313387870789, 0.6322265863418579, 0.6305344700813293, 0.6288578510284424, 0.6271997094154358, 0.6255624890327454, 0.6239467859268188]}, {\"type\": \"scatter\", \"x\": [0.01, 0.11183673469387755, 0.2136734693877551, 0.31551020408163266, 0.4173469387755102, 0.5191836734693878, 0.6210204081632653, 0.7228571428571429, 0.8246938775510204, 0.926530612244898, 1.0283673469387755, 1.130204081632653, 1.2320408163265306, 1.3338775510204082, 1.4357142857142857, 1.5375510204081633, 1.6393877551020408, 1.7412244897959184, 1.843061224489796, 1.9448979591836735, 2.046734693877551, 2.1485714285714286, 2.250408163265306, 2.3522448979591832, 2.454081632653061, 2.555918367346939, 2.657755102040816, 2.7595918367346934, 2.861428571428571, 2.963265306122449, 3.0651020408163263, 3.1669387755102036, 3.2687755102040814, 3.370612244897959, 3.4724489795918365, 3.574285714285714, 3.6761224489795916, 3.7779591836734694, 3.8797959183673467, 3.981632653061224, 4.083469387755102, 4.18530612244898, 4.287142857142857, 4.388979591836734, 4.490816326530612, 4.59265306122449, 4.694489795918367, 4.7963265306122445, 4.898163265306122, 5.0], \"y\": [0.0004345336346887052, 0.038571085780858994, 0.1036771610379219, 0.1727365106344223, 0.23815257847309113, 0.2976095676422119, 0.35065847635269165, 0.39750900864601135, 0.43859854340553284, 0.47442108392715454, 0.5054644346237183, 0.532210648059845, 0.5551084876060486, 0.5745800733566284, 0.5910243988037109, 0.6048088073730469, 0.6162682771682739, 0.6257098317146301, 0.6334046125411987, 0.639599621295929, 0.6445067524909973, 0.6483167409896851, 0.6511909365653992, 0.6532725095748901, 0.6546833515167236, 0.6555269360542297, 0.6558955311775208, 0.6558647155761719, 0.6555003523826599, 0.6548576354980469, 0.6539849638938904, 0.6529220342636108, 0.6517043709754944, 0.6503591537475586, 0.6489130854606628, 0.6473863124847412, 0.6457973122596741, 0.6441606283187866, 0.6424886584281921, 0.6407933235168457, 0.6390827894210815, 0.6373650431632996, 0.6356460452079773, 0.6339322924613953, 0.6322268843650818, 0.6305347681045532, 0.6288588047027588, 0.6272001266479492, 0.6255635619163513, 0.6239479780197144]}, {\"type\": \"scatter\", \"x\": [0.01, 0.11183673469387755, 0.2136734693877551, 0.31551020408163266, 0.4173469387755102, 0.5191836734693878, 0.6210204081632653, 0.7228571428571429, 0.8246938775510204, 0.926530612244898, 1.0283673469387755, 1.130204081632653, 1.2320408163265306, 1.3338775510204082, 1.4357142857142857, 1.5375510204081633, 1.6393877551020408, 1.7412244897959184, 1.843061224489796, 1.9448979591836735, 2.046734693877551, 2.1485714285714286, 2.250408163265306, 2.3522448979591832, 2.454081632653061, 2.555918367346939, 2.657755102040816, 2.7595918367346934, 2.861428571428571, 2.963265306122449, 3.0651020408163263, 3.1669387755102036, 3.2687755102040814, 3.370612244897959, 3.4724489795918365, 3.574285714285714, 3.6761224489795916, 3.7779591836734694, 3.8797959183673467, 3.981632653061224, 4.083469387755102, 4.18530612244898, 4.287142857142857, 4.388979591836734, 4.490816326530612, 4.59265306122449, 4.694489795918367, 4.7963265306122445, 4.898163265306122, 5.0], \"y\": [0.0004345336928963661, 0.03857121244072914, 0.1036771759390831, 0.17273685336112976, 0.2381531447172165, 0.2976096570491791, 0.35065850615501404, 0.39750921726226807, 0.43859899044036865, 0.4744211435317993, 0.505465030670166, 0.5322112441062927, 0.5551086068153381, 0.574580192565918, 0.5910248756408691, 0.6048088669776917, 0.6162689924240112, 0.6257102489471436, 0.6334051489830017, 0.6395999193191528, 0.6445072293281555, 0.6483168005943298, 0.6511921286582947, 0.6532727479934692, 0.6546835899353027, 0.6555269956588745, 0.6558957695960999, 0.6558647155761719, 0.6555012464523315, 0.6548582315444946, 0.6539855599403381, 0.652922511100769, 0.6517049670219421, 0.6503596901893616, 0.6489135026931763, 0.6473870873451233, 0.6457974314689636, 0.6441609859466553, 0.6424887776374817, 0.64079350233078, 0.6390831470489502, 0.6373653411865234, 0.6356475353240967, 0.6339327096939087, 0.6322270631790161, 0.6305350065231323, 0.6288590431213379, 0.6272003054618835, 0.6255638003349304, 0.6239490509033203]}, {\"type\": \"scatter\", \"x\": [0.01, 0.11183673469387755, 0.2136734693877551, 0.31551020408163266, 0.4173469387755102, 0.5191836734693878, 0.6210204081632653, 0.7228571428571429, 0.8246938775510204, 0.926530612244898, 1.0283673469387755, 1.130204081632653, 1.2320408163265306, 1.3338775510204082, 1.4357142857142857, 1.5375510204081633, 1.6393877551020408, 1.7412244897959184, 1.843061224489796, 1.9448979591836735, 2.046734693877551, 2.1485714285714286, 2.250408163265306, 2.3522448979591832, 2.454081632653061, 2.555918367346939, 2.657755102040816, 2.7595918367346934, 2.861428571428571, 2.963265306122449, 3.0651020408163263, 3.1669387755102036, 3.2687755102040814, 3.370612244897959, 3.4724489795918365, 3.574285714285714, 3.6761224489795916, 3.7779591836734694, 3.8797959183673467, 3.981632653061224, 4.083469387755102, 4.18530612244898, 4.287142857142857, 4.388979591836734, 4.490816326530612, 4.59265306122449, 4.694489795918367, 4.7963265306122445, 4.898163265306122, 5.0], \"y\": [2.999424457550049, 2.94903564453125, 2.856457471847534, 2.7504336833953857, 2.6421725749969482, 2.5360872745513916, 2.433885097503662, 2.3361477851867676, 2.2430198192596436, 2.154482126235962, 2.070479154586792, 1.9909436702728271, 1.9157999753952026, 1.8449634313583374, 1.778328537940979, 1.7157658338546753, 1.6571215391159058, 1.6022238731384277, 1.550887942314148, 1.5029127597808838, 1.4580981731414795, 1.41624116897583, 1.3771390914916992, 1.3406003713607788, 1.306440830230713, 1.2744848728179932, 1.2445651292800903, 1.2165290117263794, 1.1902329921722412, 1.1655467748641968, 1.1423460245132446, 1.1205170154571533, 1.0999584197998047, 1.0805745124816895, 1.062278151512146, 1.044988989830017, 1.0286365747451782, 1.0131515264511108, 0.9984710216522217, 0.9845420122146606, 0.9713121652603149, 0.9587327241897583, 0.9467600584030151, 0.9353558421134949, 0.9244816899299622, 0.9141050577163696, 0.9041925072669983, 0.8947184085845947, 0.8856513500213623, 0.8769719004631042]}, {\"type\": \"scatter\", \"x\": [0.01, 0.11183673469387755, 0.2136734693877551, 0.31551020408163266, 0.4173469387755102, 0.5191836734693878, 0.6210204081632653, 0.7228571428571429, 0.8246938775510204, 0.926530612244898, 1.0283673469387755, 1.130204081632653, 1.2320408163265306, 1.3338775510204082, 1.4357142857142857, 1.5375510204081633, 1.6393877551020408, 1.7412244897959184, 1.843061224489796, 1.9448979591836735, 2.046734693877551, 2.1485714285714286, 2.250408163265306, 2.3522448979591832, 2.454081632653061, 2.555918367346939, 2.657755102040816, 2.7595918367346934, 2.861428571428571, 2.963265306122449, 3.0651020408163263, 3.1669387755102036, 3.2687755102040814, 3.370612244897959, 3.4724489795918365, 3.574285714285714, 3.6761224489795916, 3.7779591836734694, 3.8797959183673467, 3.981632653061224, 4.083469387755102, 4.18530612244898, 4.287142857142857, 4.388979591836734, 4.490816326530612, 4.59265306122449, 4.694489795918367, 4.7963265306122445, 4.898163265306122, 5.0], \"y\": [2.9994864463806152, 2.949044704437256, 2.8564610481262207, 2.7504453659057617, 2.6421751976013184, 2.5360894203186035, 2.4338855743408203, 2.336148500442505, 2.24302077293396, 2.15448260307312, 2.0704803466796875, 1.9909443855285645, 1.91580069065094, 1.8449649810791016, 1.7783293724060059, 1.7157659530639648, 1.6571221351623535, 1.6022255420684814, 1.5508885383605957, 1.502914309501648, 1.4580986499786377, 1.4162417650222778, 1.3771411180496216, 1.340601921081543, 1.3064417839050293, 1.2744853496551514, 1.2445651292800903, 1.2165299654006958, 1.1902368068695068, 1.1655471324920654, 1.1423463821411133, 1.1205174922943115, 1.0999590158462524, 1.0805754661560059, 1.0622793436050415, 1.0449892282485962, 1.0286369323730469, 1.0131518840789795, 0.9984720349311829, 0.984542965888977, 0.971312403678894, 0.9587337970733643, 0.9467606544494629, 0.9353559613227844, 0.9244825839996338, 0.9141051173210144, 0.9041927456855774, 0.8947185277938843, 0.8856521844863892, 0.8769720196723938]}, {\"type\": \"scatter\", \"x\": [0.01, 0.11183673469387755, 0.2136734693877551, 0.31551020408163266, 0.4173469387755102, 0.5191836734693878, 0.6210204081632653, 0.7228571428571429, 0.8246938775510204, 0.926530612244898, 1.0283673469387755, 1.130204081632653, 1.2320408163265306, 1.3338775510204082, 1.4357142857142857, 1.5375510204081633, 1.6393877551020408, 1.7412244897959184, 1.843061224489796, 1.9448979591836735, 2.046734693877551, 2.1485714285714286, 2.250408163265306, 2.3522448979591832, 2.454081632653061, 2.555918367346939, 2.657755102040816, 2.7595918367346934, 2.861428571428571, 2.963265306122449, 3.0651020408163263, 3.1669387755102036, 3.2687755102040814, 3.370612244897959, 3.4724489795918365, 3.574285714285714, 3.6761224489795916, 3.7779591836734694, 3.8797959183673467, 3.981632653061224, 4.083469387755102, 4.18530612244898, 4.287142857142857, 4.388979591836734, 4.490816326530612, 4.59265306122449, 4.694489795918367, 4.7963265306122445, 4.898163265306122, 5.0], \"y\": [8.998912811279297, 8.89826488494873, 8.714284896850586, 8.504793167114258, 8.292068481445312, 8.084671974182129, 7.885759353637695, 7.696310997009277, 7.516502380371094, 7.346285343170166, 7.185556411743164, 7.034229278564453, 6.892215728759766, 6.759382247924805, 6.635547637939453, 6.5204691886901855, 6.413811683654785, 6.31521463394165, 6.224234104156494, 6.140417098999023, 6.063298225402832, 5.992384910583496, 5.927216529846191, 5.867321968078613, 5.812289714813232, 5.761681079864502, 5.71513557434082, 5.6722893714904785, 5.632808685302734, 5.59639835357666, 5.562792778015137, 5.531733512878418, 5.50299596786499, 5.476376056671143, 5.451690673828125, 5.428761959075928, 5.40744686126709, 5.387609481811523, 5.369112968444824, 5.351855278015137, 5.335737228393555, 5.320655822753906, 5.3065361976623535, 5.293294906616211, 5.280867576599121, 5.269192695617676, 5.258208274841309, 5.247864723205566, 5.238117218017578, 5.2289228439331055]}],\n",
       "                        {\"template\": {\"data\": {\"bar\": [{\"error_x\": {\"color\": \"#2a3f5f\"}, \"error_y\": {\"color\": \"#2a3f5f\"}, \"marker\": {\"line\": {\"color\": \"#E5ECF6\", \"width\": 0.5}}, \"type\": \"bar\"}], \"barpolar\": [{\"marker\": {\"line\": {\"color\": \"#E5ECF6\", \"width\": 0.5}}, \"type\": \"barpolar\"}], \"carpet\": [{\"aaxis\": {\"endlinecolor\": \"#2a3f5f\", \"gridcolor\": \"white\", \"linecolor\": \"white\", \"minorgridcolor\": \"white\", \"startlinecolor\": \"#2a3f5f\"}, \"baxis\": {\"endlinecolor\": \"#2a3f5f\", \"gridcolor\": \"white\", \"linecolor\": \"white\", \"minorgridcolor\": \"white\", \"startlinecolor\": \"#2a3f5f\"}, \"type\": \"carpet\"}], \"choropleth\": [{\"colorbar\": {\"outlinewidth\": 0, \"ticks\": \"\"}, \"type\": \"choropleth\"}], \"contour\": [{\"colorbar\": {\"outlinewidth\": 0, \"ticks\": \"\"}, \"colorscale\": [[0.0, \"#0d0887\"], [0.1111111111111111, \"#46039f\"], [0.2222222222222222, \"#7201a8\"], [0.3333333333333333, \"#9c179e\"], [0.4444444444444444, \"#bd3786\"], [0.5555555555555556, \"#d8576b\"], [0.6666666666666666, \"#ed7953\"], [0.7777777777777778, \"#fb9f3a\"], [0.8888888888888888, \"#fdca26\"], [1.0, \"#f0f921\"]], \"type\": \"contour\"}], \"contourcarpet\": [{\"colorbar\": {\"outlinewidth\": 0, \"ticks\": \"\"}, \"type\": \"contourcarpet\"}], \"heatmap\": [{\"colorbar\": {\"outlinewidth\": 0, \"ticks\": \"\"}, \"colorscale\": [[0.0, \"#0d0887\"], [0.1111111111111111, \"#46039f\"], [0.2222222222222222, \"#7201a8\"], [0.3333333333333333, \"#9c179e\"], [0.4444444444444444, \"#bd3786\"], [0.5555555555555556, \"#d8576b\"], [0.6666666666666666, \"#ed7953\"], [0.7777777777777778, \"#fb9f3a\"], [0.8888888888888888, \"#fdca26\"], [1.0, \"#f0f921\"]], \"type\": \"heatmap\"}], \"heatmapgl\": [{\"colorbar\": {\"outlinewidth\": 0, \"ticks\": \"\"}, \"colorscale\": [[0.0, \"#0d0887\"], [0.1111111111111111, \"#46039f\"], [0.2222222222222222, \"#7201a8\"], [0.3333333333333333, \"#9c179e\"], [0.4444444444444444, \"#bd3786\"], [0.5555555555555556, \"#d8576b\"], [0.6666666666666666, \"#ed7953\"], [0.7777777777777778, \"#fb9f3a\"], [0.8888888888888888, \"#fdca26\"], [1.0, \"#f0f921\"]], \"type\": \"heatmapgl\"}], \"histogram\": [{\"marker\": {\"colorbar\": {\"outlinewidth\": 0, \"ticks\": \"\"}}, \"type\": \"histogram\"}], \"histogram2d\": [{\"colorbar\": {\"outlinewidth\": 0, \"ticks\": \"\"}, \"colorscale\": [[0.0, \"#0d0887\"], [0.1111111111111111, \"#46039f\"], [0.2222222222222222, \"#7201a8\"], [0.3333333333333333, \"#9c179e\"], [0.4444444444444444, \"#bd3786\"], [0.5555555555555556, \"#d8576b\"], [0.6666666666666666, \"#ed7953\"], [0.7777777777777778, \"#fb9f3a\"], [0.8888888888888888, \"#fdca26\"], [1.0, \"#f0f921\"]], \"type\": \"histogram2d\"}], \"histogram2dcontour\": [{\"colorbar\": {\"outlinewidth\": 0, \"ticks\": \"\"}, \"colorscale\": [[0.0, \"#0d0887\"], [0.1111111111111111, \"#46039f\"], [0.2222222222222222, \"#7201a8\"], [0.3333333333333333, \"#9c179e\"], [0.4444444444444444, \"#bd3786\"], [0.5555555555555556, \"#d8576b\"], [0.6666666666666666, \"#ed7953\"], [0.7777777777777778, \"#fb9f3a\"], [0.8888888888888888, \"#fdca26\"], [1.0, \"#f0f921\"]], \"type\": \"histogram2dcontour\"}], \"mesh3d\": [{\"colorbar\": {\"outlinewidth\": 0, \"ticks\": \"\"}, \"type\": \"mesh3d\"}], \"parcoords\": [{\"line\": {\"colorbar\": {\"outlinewidth\": 0, \"ticks\": \"\"}}, \"type\": \"parcoords\"}], \"pie\": [{\"automargin\": true, \"type\": \"pie\"}], \"scatter\": [{\"marker\": {\"colorbar\": {\"outlinewidth\": 0, \"ticks\": \"\"}}, \"type\": \"scatter\"}], \"scatter3d\": [{\"line\": {\"colorbar\": {\"outlinewidth\": 0, \"ticks\": \"\"}}, \"marker\": {\"colorbar\": {\"outlinewidth\": 0, \"ticks\": \"\"}}, \"type\": \"scatter3d\"}], \"scattercarpet\": [{\"marker\": {\"colorbar\": {\"outlinewidth\": 0, \"ticks\": \"\"}}, \"type\": \"scattercarpet\"}], \"scattergeo\": [{\"marker\": {\"colorbar\": {\"outlinewidth\": 0, \"ticks\": \"\"}}, \"type\": \"scattergeo\"}], \"scattergl\": [{\"marker\": {\"colorbar\": {\"outlinewidth\": 0, \"ticks\": \"\"}}, \"type\": \"scattergl\"}], \"scattermapbox\": [{\"marker\": {\"colorbar\": {\"outlinewidth\": 0, \"ticks\": \"\"}}, \"type\": \"scattermapbox\"}], \"scatterpolar\": [{\"marker\": {\"colorbar\": {\"outlinewidth\": 0, \"ticks\": \"\"}}, \"type\": \"scatterpolar\"}], \"scatterpolargl\": [{\"marker\": {\"colorbar\": {\"outlinewidth\": 0, \"ticks\": \"\"}}, \"type\": \"scatterpolargl\"}], \"scatterternary\": [{\"marker\": {\"colorbar\": {\"outlinewidth\": 0, \"ticks\": \"\"}}, \"type\": \"scatterternary\"}], \"surface\": [{\"colorbar\": {\"outlinewidth\": 0, \"ticks\": \"\"}, \"colorscale\": [[0.0, \"#0d0887\"], [0.1111111111111111, \"#46039f\"], [0.2222222222222222, \"#7201a8\"], [0.3333333333333333, \"#9c179e\"], [0.4444444444444444, \"#bd3786\"], [0.5555555555555556, \"#d8576b\"], [0.6666666666666666, \"#ed7953\"], [0.7777777777777778, \"#fb9f3a\"], [0.8888888888888888, \"#fdca26\"], [1.0, \"#f0f921\"]], \"type\": \"surface\"}], \"table\": [{\"cells\": {\"fill\": {\"color\": \"#EBF0F8\"}, \"line\": {\"color\": \"white\"}}, \"header\": {\"fill\": {\"color\": \"#C8D4E3\"}, \"line\": {\"color\": \"white\"}}, \"type\": \"table\"}]}, \"layout\": {\"annotationdefaults\": {\"arrowcolor\": \"#2a3f5f\", \"arrowhead\": 0, \"arrowwidth\": 1}, \"coloraxis\": {\"colorbar\": {\"outlinewidth\": 0, \"ticks\": \"\"}}, \"colorscale\": {\"diverging\": [[0, \"#8e0152\"], [0.1, \"#c51b7d\"], [0.2, \"#de77ae\"], [0.3, \"#f1b6da\"], [0.4, \"#fde0ef\"], [0.5, \"#f7f7f7\"], [0.6, \"#e6f5d0\"], [0.7, \"#b8e186\"], [0.8, \"#7fbc41\"], [0.9, \"#4d9221\"], [1, \"#276419\"]], \"sequential\": [[0.0, \"#0d0887\"], [0.1111111111111111, \"#46039f\"], [0.2222222222222222, \"#7201a8\"], [0.3333333333333333, \"#9c179e\"], [0.4444444444444444, \"#bd3786\"], [0.5555555555555556, \"#d8576b\"], [0.6666666666666666, \"#ed7953\"], [0.7777777777777778, \"#fb9f3a\"], [0.8888888888888888, \"#fdca26\"], [1.0, \"#f0f921\"]], \"sequentialminus\": [[0.0, \"#0d0887\"], [0.1111111111111111, \"#46039f\"], [0.2222222222222222, \"#7201a8\"], [0.3333333333333333, \"#9c179e\"], [0.4444444444444444, \"#bd3786\"], [0.5555555555555556, \"#d8576b\"], [0.6666666666666666, \"#ed7953\"], [0.7777777777777778, \"#fb9f3a\"], [0.8888888888888888, \"#fdca26\"], [1.0, \"#f0f921\"]]}, \"colorway\": [\"#636efa\", \"#EF553B\", \"#00cc96\", \"#ab63fa\", \"#FFA15A\", \"#19d3f3\", \"#FF6692\", \"#B6E880\", \"#FF97FF\", \"#FECB52\"], \"font\": {\"color\": \"#2a3f5f\"}, \"geo\": {\"bgcolor\": \"white\", \"lakecolor\": \"white\", \"landcolor\": \"#E5ECF6\", \"showlakes\": true, \"showland\": true, \"subunitcolor\": \"white\"}, \"hoverlabel\": {\"align\": \"left\"}, \"hovermode\": \"closest\", \"mapbox\": {\"style\": \"light\"}, \"paper_bgcolor\": \"white\", \"plot_bgcolor\": \"#E5ECF6\", \"polar\": {\"angularaxis\": {\"gridcolor\": \"white\", \"linecolor\": \"white\", \"ticks\": \"\"}, \"bgcolor\": \"#E5ECF6\", \"radialaxis\": {\"gridcolor\": \"white\", \"linecolor\": \"white\", \"ticks\": \"\"}}, \"scene\": {\"xaxis\": {\"backgroundcolor\": \"#E5ECF6\", \"gridcolor\": \"white\", \"gridwidth\": 2, \"linecolor\": \"white\", \"showbackground\": true, \"ticks\": \"\", \"zerolinecolor\": \"white\"}, \"yaxis\": {\"backgroundcolor\": \"#E5ECF6\", \"gridcolor\": \"white\", \"gridwidth\": 2, \"linecolor\": \"white\", \"showbackground\": true, \"ticks\": \"\", \"zerolinecolor\": \"white\"}, \"zaxis\": {\"backgroundcolor\": \"#E5ECF6\", \"gridcolor\": \"white\", \"gridwidth\": 2, \"linecolor\": \"white\", \"showbackground\": true, \"ticks\": \"\", \"zerolinecolor\": \"white\"}}, \"shapedefaults\": {\"line\": {\"color\": \"#2a3f5f\"}}, \"ternary\": {\"aaxis\": {\"gridcolor\": \"white\", \"linecolor\": \"white\", \"ticks\": \"\"}, \"baxis\": {\"gridcolor\": \"white\", \"linecolor\": \"white\", \"ticks\": \"\"}, \"bgcolor\": \"#E5ECF6\", \"caxis\": {\"gridcolor\": \"white\", \"linecolor\": \"white\", \"ticks\": \"\"}}, \"title\": {\"x\": 0.05}, \"xaxis\": {\"automargin\": true, \"gridcolor\": \"white\", \"linecolor\": \"white\", \"ticks\": \"\", \"title\": {\"standoff\": 15}, \"zerolinecolor\": \"white\", \"zerolinewidth\": 2}, \"yaxis\": {\"automargin\": true, \"gridcolor\": \"white\", \"linecolor\": \"white\", \"ticks\": \"\", \"title\": {\"standoff\": 15}, \"zerolinecolor\": \"white\", \"zerolinewidth\": 2}}}, \"xaxis\": {\"title\": {\"text\": \"G\"}}, \"yaxis\": {\"title\": {\"text\": \"Rho2\"}}},\n",
       "                        {\"responsive\": true}\n",
       "                    ).then(function(){\n",
       "                            \n",
       "var gd = document.getElementById('52722d7e-60f8-42b5-a161-76ef209141f5');\n",
       "var x = new MutationObserver(function (mutations, observer) {{\n",
       "        var display = window.getComputedStyle(gd).display;\n",
       "        if (!display || display === 'none') {{\n",
       "            console.log([gd, 'removed!']);\n",
       "            Plotly.purge(gd);\n",
       "            observer.disconnect();\n",
       "        }}\n",
       "}});\n",
       "\n",
       "// Listen for the removal of the full notebook cells\n",
       "var notebookContainer = gd.closest('#notebook-container');\n",
       "if (notebookContainer) {{\n",
       "    x.observe(notebookContainer, {childList: true});\n",
       "}}\n",
       "\n",
       "// Listen for the clearing of the current output cell\n",
       "var outputEl = gd.closest('.output');\n",
       "if (outputEl) {{\n",
       "    x.observe(outputEl, {childList: true});\n",
       "}}\n",
       "\n",
       "                        })\n",
       "                };\n",
       "                });\n",
       "            </script>\n",
       "        </div>"
      ]
     },
     "metadata": {},
     "output_type": "display_data"
    }
   ],
   "source": [
    "# Ploteamos\n",
    "rho_range = dict(sorted(rho_range.items()))\n",
    "x_axis = list(rho_range.keys())\n",
    "values = list(rho_range.items())\n",
    "size = len(values[0][1])\n",
    "\n",
    "fig = go.Figure()\n",
    "for k in range(0,size):\n",
    "    fig.add_trace(go.Scatter(\n",
    "        x=x_axis,\n",
    "        y=[values[j][1][k] for j in range(0,num)]\n",
    "    ))\n",
    "fig.update_layout(xaxis_title='G',\n",
    "                   yaxis_title='Rho2')\n",
    "fig.show()"
   ]
  },
  {
   "cell_type": "code",
   "execution_count": 5,
   "metadata": {
    "id": "AWjeIo1BiLv9",
    "outputId": "8ab0aee4-17b2-4d0f-8449-477c9b9d9b35"
   },
   "outputs": [
    {
     "name": "stdout",
     "output_type": "stream",
     "text": [
      "[[0 0 0 4]\n",
      " [0 0 1 3]\n",
      " [0 0 2 2]\n",
      " [0 0 3 1]\n",
      " [0 0 4 0]\n",
      " [0 1 0 3]\n",
      " [0 1 1 2]\n",
      " [0 1 2 1]\n",
      " [0 1 3 0]\n",
      " [0 2 0 2]\n",
      " [0 2 1 1]\n",
      " [0 2 2 0]\n",
      " [0 3 0 1]\n",
      " [0 3 1 0]\n",
      " [0 4 0 0]\n",
      " [1 0 0 3]\n",
      " [1 0 1 2]\n",
      " [1 0 2 1]\n",
      " [1 0 3 0]\n",
      " [1 1 0 2]\n",
      " [1 1 1 1]\n",
      " [1 1 2 0]\n",
      " [1 2 0 1]\n",
      " [1 2 1 0]\n",
      " [1 3 0 0]\n",
      " [2 0 0 2]\n",
      " [2 0 1 1]\n",
      " [2 0 2 0]\n",
      " [2 1 0 1]\n",
      " [2 1 1 0]\n",
      " [2 2 0 0]\n",
      " [3 0 0 1]\n",
      " [3 0 1 0]\n",
      " [3 1 0 0]\n",
      " [4 0 0 0]]\n"
     ]
    },
    {
     "data": {
      "text/plain": [
       "35"
      ]
     },
     "execution_count": 5,
     "metadata": {},
     "output_type": "execute_result"
    }
   ],
   "source": [
    "m = 4\n",
    "d = 2\n",
    "# Creo las bases para no tener que recrearlas luego\n",
    "basis = fixed_basis(m, 2*d)\n",
    "basis_m1 = fixed_basis(m-1, 2*d)\n",
    "basis_m2 = fixed_basis(m-2, 2*d)\n",
    "print(basis.base)\n",
    "e = 1\n",
    "eps = 0\n",
    "e0 = np.zeros(2*d)\n",
    "for k in range(0, d):\n",
    "    r = random.random() * eps\n",
    "    e0[2*k] = k*e+r\n",
    "    e0[2*k+1] = k*e+r\n",
    "\n",
    "h = hamiltonian(2, basis, basis_m1, basis_m2)\n",
    "ha = np.array(h.todense())\n",
    "ha.astype(np.float32).tofile(\"myData.dat\")\n",
    "basis.size"
   ]
  },
  {
   "cell_type": "code",
   "execution_count": 6,
   "metadata": {
    "id": "KJnULGghiLv_",
    "outputId": "eb50f4eb-2c77-49b8-8057-093b8b6faa93"
   },
   "outputs": [
    {
     "name": "stdout",
     "output_type": "stream",
     "text": [
      "[0.12368441 0.12368453 1.8763157  1.8763165 ]\n"
     ]
    },
    {
     "data": {
      "text/plain": [
       "array([-2.6804726e+00, -1.9946163e+00, -1.9946148e+00, -6.5644348e-01,\n",
       "       -6.5644300e-01, -6.5644288e-01, -6.5644217e-01, -2.3859553e-07,\n",
       "        7.1170712e-07,  3.7932914e-01,  7.8315294e-01,  7.8315294e-01,\n",
       "        9.9999905e-01,  9.9999928e-01,  1.0000001e+00,  1.0000002e+00,\n",
       "        1.7146156e+00,  1.7146163e+00,  2.0000000e+00], dtype=float32)"
      ]
     },
     "execution_count": 6,
     "metadata": {},
     "output_type": "execute_result"
    }
   ],
   "source": [
    "h = hamiltonian(0.57, basis, basis_m1, basis_m2)\n",
    "sol = linalg.eigsh(h,which='SA',k=19,return_eigenvectors=True)\n",
    "eig = sol[0].real\n",
    "eigv = sol[1]\n",
    "argmin = np.argmin(sol[0].real)\n",
    "fund = sol[1][:,argmin]\n",
    "fund = fund.real / np.linalg.norm(fund)\n",
    "rho = rho_m(basis, 1, fund).todense()\n",
    "print(linalg_d.eigvals(rho).real)\n",
    "eig"
   ]
  },
  {
   "cell_type": "code",
   "execution_count": 18,
   "metadata": {},
   "outputs": [
    {
     "name": "stdout",
     "output_type": "stream",
     "text": [
      "3.9999998\n",
      "[1.8763163  1.876315   0.12368434 0.12368418]\n"
     ]
    }
   ],
   "source": [
    "rho1 = rho_1(basis, fund).todense()\n",
    "print(np.trace(rho1))\n",
    "print(linalg_d.eigvals(rho1).real)"
   ]
  },
  {
   "cell_type": "code",
   "execution_count": 13,
   "metadata": {},
   "outputs": [
    {
     "name": "stdout",
     "output_type": "stream",
     "text": [
      "6.0\n",
      "[0.00731809 3.7699203  0.00731803 0.01199096 0.88363785 0.10904462\n",
      " 0.88363725 0.10904456 0.10904457 0.10904454]\n"
     ]
    }
   ],
   "source": [
    "rho2 = rho_2(basis, fund).todense()\n",
    "print(np.trace(rho2))\n",
    "print(linalg_d.eigvals(rho2).real)\n",
    "np.set_printoptions(suppress=True)\n"
   ]
  },
  {
   "cell_type": "code",
   "execution_count": 28,
   "metadata": {},
   "outputs": [
    {
     "name": "stdout",
     "output_type": "stream",
     "text": [
      "0 2\n",
      "[0 0 0 2] [0 0 2 0] 0.08554583787918091\n",
      "1 1\n",
      "[0 0 1 1] [0 0 1 1] 0.17109167575836184\n",
      "1 8\n",
      "[0 0 1 1] [1 1 0 0] 0.3302189111709595\n",
      "2 0\n",
      "[0 0 2 0] [0 0 0 2] 0.08554583787918091\n",
      "3 7\n",
      "[0 1 0 1] [1 0 1 0] 0.3302189111709595\n",
      "4 6\n",
      "[0 1 1 0] [1 0 0 1] 0.3302189111709595\n",
      "5 9\n",
      "[0 2 0 0] [2 0 0 0] 0.9400199055671692\n",
      "6 4\n",
      "[1 0 0 1] [0 1 1 0] 0.3302189111709595\n",
      "7 3\n",
      "[1 0 1 0] [0 1 0 1] 0.3302189111709595\n",
      "8 1\n",
      "[1 1 0 0] [0 0 1 1] 0.3302189111709595\n",
      "8 8\n",
      "[1 1 0 0] [1 1 0 0] 1.8800398111343388\n",
      "9 5\n",
      "[2 0 0 0] [0 2 0 0] 0.9400199055671692\n",
      "6.0000005\n"
     ]
    },
    {
     "data": {
      "text/plain": [
       "array([ 0.00000019, -0.00000003,  0.08554584, -0.00000006,  0.00000006,\n",
       "        0.00000007, -0.00000002, -0.00000005,  0.00000001, -0.        ,\n",
       "       -0.00000008,  0.00000001,  0.00000005,  0.00000005, -0.        ,\n",
       "        0.00000008,  0.00000007, -0.00000007,  0.00000002, -0.00000004,\n",
       "        0.3302189 ,  0.00000004, -0.00000001, -0.00000015, -0.00000048,\n",
       "        0.00000002,  0.00000011, -0.00000001,  0.00000016, -0.00000014,\n",
       "        0.9400199 , -0.00000003,  0.00000011,  0.0000002 , -0.00000003],\n",
       "      dtype=float32)"
      ]
     },
     "execution_count": 28,
     "metadata": {},
     "output_type": "execute_result"
    }
   ],
   "source": [
    "g = gamma(basis, 2, fund).todense()\n",
    "rho = np.dot(g,np.transpose(g))\n",
    "print(np.trace(rho))\n",
    "fund"
   ]
  },
  {
   "cell_type": "code",
   "execution_count": 8,
   "metadata": {},
   "outputs": [
    {
     "name": "stdout",
     "output_type": "stream",
     "text": [
      "0.030218124389648438\n",
      "0.31302523612976074\n"
     ]
    }
   ],
   "source": [
    "import time\n",
    "t = time.time()\n",
    "r1 = rho_m(basis, 2, fund)\n",
    "to = time.time()\n",
    "print(to-t)\n",
    "t = time.time()\n",
    "r1 = rho_2(basis, fund)\n",
    "to = time.time()\n",
    "print(to-t)"
   ]
  },
  {
   "cell_type": "code",
   "execution_count": null,
   "metadata": {},
   "outputs": [],
   "source": []
  }
 ],
 "metadata": {
  "colab": {
   "name": "main.py.ipynb",
   "provenance": []
  },
  "kernelspec": {
   "display_name": "Python 3",
   "language": "python",
   "name": "python3"
  },
  "language_info": {
   "codemirror_mode": {
    "name": "ipython",
    "version": 3
   },
   "file_extension": ".py",
   "mimetype": "text/x-python",
   "name": "python",
   "nbconvert_exporter": "python",
   "pygments_lexer": "ipython3",
   "version": "3.7.3"
  }
 },
 "nbformat": 4,
 "nbformat_minor": 1
}
