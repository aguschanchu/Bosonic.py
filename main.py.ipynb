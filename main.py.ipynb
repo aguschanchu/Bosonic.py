{
 "cells": [
  {
   "cell_type": "markdown",
   "metadata": {},
   "source": [
    "# Bosonic.py"
   ]
  },
  {
   "cell_type": "code",
   "execution_count": 23,
   "metadata": {},
   "outputs": [],
   "source": [
    "import numpy as np\n",
    "from scipy.special import binom \n",
    "from scipy.sparse import dok_matrix\n",
    "from joblib import Memory\n",
    "import random\n",
    "\n",
    "location = './cachedir'\n",
    "memory = Memory(location, verbose=0)"
   ]
  },
  {
   "cell_type": "code",
   "execution_count": 49,
   "metadata": {},
   "outputs": [],
   "source": [
    "class fixed_basis:\n",
    "\n",
    "    # Convierte a un enterno n a su escritura en base b\n",
    "    def int_to_tuple(self, n, b, digits = None):\n",
    "        r = []\n",
    "        re = n \n",
    "        while re != 0:\n",
    "            r.append(re%b)\n",
    "            re = re // b\n",
    "        if digits is not None:\n",
    "            if len(r)<digits:\n",
    "                for i in range(0,digits-len(r)):\n",
    "                    r.append(0)\n",
    "        r.reverse()\n",
    "        return r\n",
    "    \n",
    "    # Revierte la transformacion anterior\n",
    "    def tuple_to_int(self, t):\n",
    "        b = self.d-1\n",
    "        l = len(t)\n",
    "        s = [t[k]*b**(l-k-1) for k in range(0,l)]\n",
    "        return sum(s)\n",
    "\n",
    "    # Convierte el vector en su representacion\n",
    "    def vect_to_repr(self, vect):\n",
    "        for i, k in enumerate(vect):\n",
    "            if k == 1. or k == 1:\n",
    "                break\n",
    "        return self.base[i,:]\n",
    "            \n",
    "    def rep_to_vect(self, rep):\n",
    "        rep = list(rep)\n",
    "        for i, r in [(j, self.base[j,:]) for j in range(0,self.size)]:\n",
    "            if list(r) == rep:\n",
    "                return self.canonicals[:,i]\n",
    "        else:\n",
    "            None\n",
    "    \n",
    "    def rep_to_index(self, rep):\n",
    "        rep = list(rep)\n",
    "        for i, r in [(j, self.base[j,:]) for j in range(0,self.size)]:\n",
    "            if list(r) == rep:\n",
    "                return i\n",
    "        else:\n",
    "            None\n",
    "        \n",
    "    # Crea base de M particulas en D estados (repr y base canonica)\n",
    "    def create_basis(self, m, d):\n",
    "        length = int(binom(d+m-1,d-1))\n",
    "        base = []\n",
    "        index = 0\n",
    "        for x in range(0,(d+1)**max(d,m)):\n",
    "            x = self.int_to_tuple(x,m+1,d)\n",
    "            if sum(x) == m and len(x) == d:\n",
    "                base.append(x)\n",
    "                index += 1\n",
    "        base = np.array(base)\n",
    "        # Asignamos a cada uno de ellos un canónico\n",
    "        x = [1.0 for j in range(0,length)]\n",
    "        canonicals = np.diag(x)\n",
    "        return base, canonicals\n",
    "    \n",
    "    def __init__(self, m, d):\n",
    "        self.m = m\n",
    "        self.d = d\n",
    "        self.size = int(binom(d+m-1,d-1))\n",
    "        (self.base, self.canonicals) = self.create_basis(m, d)\n",
    "\n",
    "# Matrices de aniquilación y creación endomórficas. Estan fuera de la clase para poder ser cacheadas        \n",
    "@memory.cache    \n",
    "def bdb(basis, i, j):\n",
    "    mat = dok_matrix((basis.size, basis.size), dtype=np.float32)\n",
    "    for k, v in enumerate(basis.base):\n",
    "        if v[j] != 0:\n",
    "            dest = list(v.copy())\n",
    "            dest[j] -= 1\n",
    "            dest[i] += 1\n",
    "            tar = basis.rep_to_index(dest)\n",
    "            mat[tar, k] = np.sqrt(v[i]+1)*np.sqrt(v[j])\n",
    "    return mat\n",
    "\n",
    "@memory.cache    \n",
    "def bbd(basis, i, j):\n",
    "    mat = dok_matrix((basis.size, basis.size), dtype=np.float32)\n",
    "    for k, v in enumerate(basis.base):\n",
    "        if v[i] != 0:\n",
    "            dest = list(v.copy())\n",
    "            dest[i] -= 1\n",
    "            dest[j] += 1\n",
    "            tar = basis.rep_to_index(dest)\n",
    "            mat[tar, k] = np.sqrt(v[j]+1)*np.sqrt(v[i])\n",
    "    return mat\n",
    "\n",
    "# Matrices de aniquilación y creación.Toman la base de origen y destino (basis_o, basis_d) resp\n",
    "@memory.cache   \n",
    "def b(basis_o, basis_d, i):\n",
    "    mat = dok_matrix((basis_d.size, basis_o.size), dtype=np.float32)\n",
    "    for k, v in enumerate(basis_o.base):\n",
    "        if v[i] != 0:\n",
    "            dest = list(v.copy())\n",
    "            dest[i] -= 1   \n",
    "            tar = basis_d.rep_to_index(dest)\n",
    "            mat[tar, k] = np.sqrt(v[i])\n",
    "    return mat\n",
    "\n",
    "@memory.cache   \n",
    "def bd(basis_o, basis_d, i):\n",
    "    mat = dok_matrix((basis_d.size, basis_o.size), dtype=np.float32)\n",
    "    for k, v in enumerate(basis_o.base):\n",
    "        dest = list(v.copy())\n",
    "        dest[i] += 1   \n",
    "        tar = basis_d.rep_to_index(dest)\n",
    "        mat[tar, k] = np.sqrt(v[i]+1)\n",
    "    return mat\n",
    "\n",
    "# Devuelve la matriz gamma asociada a la descomposición (M,N-M) del vector\n",
    "def gamma(basis, m, vect):\n",
    "    d = basis.d\n",
    "    m_basis = fixed_basis(m, d)\n",
    "    nm_basis = fixed_basis(basis.m-m,d)\n",
    "    mat = dok_matrix((m_basis.size, nm_basis.size), dtype=np.float32)\n",
    "    for i, v in enumerate(m_basis.base):\n",
    "        for j, w in enumerate(nm_basis.base):\n",
    "            targ = v+w\n",
    "            index = basis.rep_to_index(targ)\n",
    "            if index == None:\n",
    "                continue\n",
    "            coef = vect[index]\n",
    "            if coef != 0:      \n",
    "                aux = lambda x: np.prod(np.sqrt([np.math.factorial(o) for o in x]))\n",
    "                coef = coef * aux(v) * aux(w)\n",
    "                print(v,w,coef)\n",
    "            mat[i,j] = coef\n",
    "    return mat\n",
    "\n",
    "# Devuelve la matriz rho M asociada al vector\n",
    "def rho_m(basis, m, vect):\n",
    "    gamma = gamma(basis, m, vect)\n",
    "    return np.dot(gamma,np.transpose(gamma))"
   ]
  },
  {
   "cell_type": "code",
   "execution_count": 24,
   "metadata": {},
   "outputs": [
    {
     "name": "stdout",
     "output_type": "stream",
     "text": [
      "[[0 0 0 4]\n",
      " [0 0 1 3]\n",
      " [0 0 2 2]\n",
      " [0 0 3 1]\n",
      " [0 0 4 0]\n",
      " [0 1 0 3]\n",
      " [0 1 1 2]\n",
      " [0 1 2 1]\n",
      " [0 1 3 0]\n",
      " [0 2 0 2]\n",
      " [0 2 1 1]\n",
      " [0 2 2 0]\n",
      " [0 3 0 1]\n",
      " [0 3 1 0]\n",
      " [0 4 0 0]\n",
      " [1 0 0 3]\n",
      " [1 0 1 2]\n",
      " [1 0 2 1]\n",
      " [1 0 3 0]\n",
      " [1 1 0 2]\n",
      " [1 1 1 1]\n",
      " [1 1 2 0]\n",
      " [1 2 0 1]\n",
      " [1 2 1 0]\n",
      " [1 3 0 0]\n",
      " [2 0 0 2]\n",
      " [2 0 1 1]\n",
      " [2 0 2 0]\n",
      " [2 1 0 1]\n",
      " [2 1 1 0]\n",
      " [2 2 0 0]\n",
      " [3 0 0 1]\n",
      " [3 0 1 0]\n",
      " [3 1 0 0]\n",
      " [4 0 0 0]]\n"
     ]
    }
   ],
   "source": [
    "m = 4\n",
    "d = 4\n",
    "a = fixed_basis(m, d)\n",
    "print(a.base)\n",
    "a.rep_to_index(np.array([0, 1, 1]))"
   ]
  },
  {
   "cell_type": "code",
   "execution_count": 5,
   "metadata": {},
   "outputs": [
    {
     "name": "stdout",
     "output_type": "stream",
     "text": [
      "[0. 0. 0. 0. 0. 0. 1. 0. 0. 0. 0. 0. 0. 0. 0. 0. 0. 0. 0. 0. 0. 0. 0. 0.\n",
      " 0. 0. 0. 0. 0. 0. 0. 0. 0. 0. 0.]\n",
      "[0 0 0 2] [0 1 1 0] 1.4142135623730951\n",
      "[0 0 1 1] [0 1 0 1] 1.0\n",
      "[0 1 0 1] [0 0 1 1] 1.0\n",
      "[0 1 1 0] [0 0 0 2] 1.4142135623730951\n"
     ]
    },
    {
     "data": {
      "text/plain": [
       "<10x10 sparse matrix of type '<class 'numpy.float32'>'\n",
       "\twith 4 stored elements in Dictionary Of Keys format>"
      ]
     },
     "execution_count": 5,
     "metadata": {},
     "output_type": "execute_result"
    }
   ],
   "source": [
    "# Prueba de las matrices gamma (TODO normalizacion)\n",
    "v = a.rep_to_vect([0, 1, 1, 2])\n",
    "print(v)\n",
    "gamma(a, 2, v)"
   ]
  },
  {
   "cell_type": "code",
   "execution_count": null,
   "metadata": {},
   "outputs": [],
   "source": [
    "# Prueba de funcionamiento de las matrices bdb y bbd\n",
    "v = [1, 1, 0]\n",
    "vect = a.rep_to_vect(v)\n",
    "res = bbd(a,0,1) * vect\n",
    "if np.linalg.norm(res) != 0:\n",
    "    res = res / np.linalg.norm(res)\n",
    "    print(a.vect_to_repr(res))\n",
    "else:\n",
    "    res = 0\n",
    "    print(0)\n"
   ]
  },
  {
   "cell_type": "code",
   "execution_count": 55,
   "metadata": {},
   "outputs": [
    {
     "name": "stdout",
     "output_type": "stream",
     "text": [
      "[1 0 2]\n"
     ]
    }
   ],
   "source": [
    "# Prueba de funcionamiento de las matrices b y bd\n",
    "\n",
    "l = fixed_basis(3, 3)\n",
    "m = fixed_basis(2, 3)\n",
    "\n",
    "vect = l.rep_to_vect([0,2,1])\n",
    "res = b(l,m,2) * vect\n",
    "if np.linalg.norm(res) != 0:\n",
    "    res = res / np.linalg.norm(res)\n",
    "    #print(m.vect_to_repr(res))\n",
    "    \n",
    "vect = m.rep_to_vect([1,0,1])\n",
    "res = bd(m,l,2) * vect\n",
    "if np.linalg.norm(res) != 0:\n",
    "    res = res / np.linalg.norm(res)\n",
    "    print(l.vect_to_repr(res))"
   ]
  },
  {
   "cell_type": "markdown",
   "metadata": {},
   "source": [
    "## Pairing"
   ]
  },
  {
   "cell_type": "markdown",
   "metadata": {},
   "source": [
    "Construimos el espacio para n particulas en d estados. El hamiltoniano de pairing posee energias equiespaciadas con degeneración doble (asociada a cada estado y su inverso temporal), así como un término de interacción. Por tal motivo, crearemos un espacio con d = 2d."
   ]
  },
  {
   "cell_type": "code",
   "execution_count": 19,
   "metadata": {},
   "outputs": [],
   "source": [
    "m = 4\n",
    "d = 2\n",
    "base = fixed_basis(m, 2*d)\n",
    "# Parametros hamiltoniano\n",
    "e = 1\n",
    "eps = 0.01\n",
    "\n",
    "# Construccion de H\n",
    "e0 = np.zeros(2*d)\n",
    "for k in range(0, d):\n",
    "    r = random.random() * eps\n",
    "    e0[2*k] = k*e+r\n",
    "    e0[2*k+1] = k*e+r"
   ]
  },
  {
   "cell_type": "code",
   "execution_count": 20,
   "metadata": {},
   "outputs": [
    {
     "data": {
      "text/plain": [
       "array([0., 0., 0., 0., 0., 0., 0., 0., 0., 0., 0., 0., 0., 0., 0., 0., 0.,\n",
       "       0., 0., 0., 0., 0., 0., 0., 0., 0., 0., 0., 0., 0., 0., 0., 0., 0.,\n",
       "       0.])"
      ]
     },
     "execution_count": 20,
     "metadata": {},
     "output_type": "execute_result"
    }
   ],
   "source": [
    "np.zeros(base.size)"
   ]
  },
  {
   "cell_type": "code",
   "execution_count": 21,
   "metadata": {},
   "outputs": [
    {
     "data": {
      "text/plain": [
       "array([0.00718019, 0.00718019, 1.00922468, 1.00922468])"
      ]
     },
     "execution_count": 21,
     "metadata": {},
     "output_type": "execute_result"
    }
   ],
   "source": [
    "e0"
   ]
  },
  {
   "cell_type": "code",
   "execution_count": null,
   "metadata": {},
   "outputs": [],
   "source": []
  }
 ],
 "metadata": {
  "kernelspec": {
   "display_name": "Python 3",
   "language": "python",
   "name": "python3"
  },
  "language_info": {
   "codemirror_mode": {
    "name": "ipython",
    "version": 3
   },
   "file_extension": ".py",
   "mimetype": "text/x-python",
   "name": "python",
   "nbconvert_exporter": "python",
   "pygments_lexer": "ipython3",
   "version": "3.7.3"
  }
 },
 "nbformat": 4,
 "nbformat_minor": 2
}
