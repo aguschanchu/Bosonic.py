{
 "cells": [
  {
   "cell_type": "markdown",
   "metadata": {
    "id": "gmg2zMT5iLvk"
   },
   "source": [
    "# Bosonic.py"
   ]
  },
  {
   "cell_type": "code",
   "execution_count": 1,
   "metadata": {
    "id": "XMdfOwDNiLvr"
   },
   "outputs": [],
   "source": [
    "import numpy as np\n",
    "from scipy.special import binom \n",
    "from scipy.sparse import dok_matrix, linalg\n",
    "from scipy import linalg as linalg_d\n",
    "from joblib import Memory\n",
    "import random\n",
    "import plotly.graph_objects as go\n",
    "from joblib import Parallel, delayed\n",
    "from numba import jit, prange\n",
    "import pickle\n",
    "\n",
    "location = './cachedir'\n",
    "memory = Memory(location, verbose=0)"
   ]
  },
  {
   "cell_type": "code",
   "execution_count": null,
   "metadata": {
    "id": "4bbt6PcJiLvu"
   },
   "outputs": [],
   "source": [
    "# Funciones auxiliares optimiadas\n",
    "@jit\n",
    "def int_to_tuple(n, b, digits = None):\n",
    "    r = []\n",
    "    re = n \n",
    "    while re != 0:\n",
    "        r.append(re%b)\n",
    "        re = re // b\n",
    "    if digits is not None:\n",
    "        if len(r)<digits:\n",
    "            for i in range(0,digits-len(r)):\n",
    "                r.append(0)\n",
    "    r.reverse()\n",
    "    return r\n",
    "\n",
    "@jit\n",
    "def _create_basis(m, d):\n",
    "    base = []\n",
    "    index = 0\n",
    "    for x in range(0,(d+1)**max(d,m)):\n",
    "        x = int_to_tuple(x,m+1,d)\n",
    "        if sum(x) == m and len(x) == d:\n",
    "            base.append(x)\n",
    "            index += 1\n",
    "    return base\n",
    "\n",
    "class fixed_basis:\n",
    "\n",
    "    # Convierte a un enterno n a su escritura en base b\n",
    "    def _int_to_tuple(self, n, b, digits = None):\n",
    "        rep = np.base_repr(n, b)\n",
    "        rep_int = [int(x,b) for x in rep] \n",
    "        if digits is not None:\n",
    "            zeros = [0 for i in range(0,digits-len(rep))]\n",
    "            return zeros + rep_int\n",
    "        else:\n",
    "            return rep_int\n",
    "    \n",
    "    # Revierte la transformacion anterior\n",
    "    def tuple_to_int(self, t):\n",
    "        b = self.d-1\n",
    "        l = len(t)\n",
    "        s = [t[k]*b**(l-k-1) for k in range(0,l)]\n",
    "        return sum(s)\n",
    "\n",
    "    # Convierte el vector en su representacion\n",
    "    def vect_to_repr(self, vect):\n",
    "        for i, k in enumerate(vect):\n",
    "            if k == 1. or k == 1:\n",
    "                break\n",
    "        return self.base[i,:]\n",
    "            \n",
    "    def rep_to_vect(self, rep):\n",
    "        rep = list(rep)\n",
    "        for i, r in [(j, self.base[j,:]) for j in range(0,self.size)]:\n",
    "            if list(r) == rep:\n",
    "                return self.canonicals[:,i]\n",
    "        else:\n",
    "            None\n",
    "    \n",
    "    def rep_to_index(self, rep):\n",
    "        rep = list(rep)\n",
    "        for i, r in [(j, self.base[j,:]) for j in range(0,self.size)]:\n",
    "            if list(r) == rep:\n",
    "                return i\n",
    "        else:\n",
    "            None\n",
    "\n",
    "    @staticmethod\n",
    "    def rep_to_exi(rep):\n",
    "        r = []\n",
    "        for i, k in enumerate(rep):\n",
    "            r += [i for x in range(0,k)]\n",
    "        return r\n",
    "\n",
    "    # Crea base de M particulas en D estados (repr y base canonica)\n",
    "    def create_basis(self, m, d):\n",
    "        length = int(binom(d+m-1,d-1))\n",
    "        base = np.array(_create_basis(m, d))\n",
    "        # Asignamos a cada uno de ellos un canónico\n",
    "        length = int(binom(d+m-1,d-1))\n",
    "        x = [1.0 for j in range(0,length)]\n",
    "        canonicals = np.diag(x)\n",
    "        return base, canonicals\n",
    "    \n",
    "    def __init__(self, m, d):\n",
    "        self.m = m\n",
    "        self.d = d\n",
    "        self.size = int(binom(d+m-1,d-1))\n",
    "        (self.base, self.canonicals) = self.create_basis(m, d)\n",
    "\n",
    "# Matrices de aniquilación y creación endomórficas. Estan fuera de la clase para poder ser cacheadas        \n",
    "@memory.cache    \n",
    "def bdb(basis, i, j):\n",
    "    mat = dok_matrix((basis.size, basis.size), dtype=np.float32)\n",
    "    if i != j:\n",
    "        for k, v in enumerate(basis.base):\n",
    "            if v[j] != 0:\n",
    "                dest = list(v.copy())\n",
    "                dest[j] -= 1\n",
    "                dest[i] += 1\n",
    "                tar = basis.rep_to_index(dest)\n",
    "                mat[tar, k] = np.sqrt(v[i]+1)*np.sqrt(v[j])\n",
    "    else:\n",
    "        for k, v in enumerate(basis.base):\n",
    "            if v[j] != 0:\n",
    "                mat[k, k] = v[i] \n",
    "    return mat\n",
    "\n",
    "@memory.cache    \n",
    "def bbd(basis, i, j):\n",
    "    mat = dok_matrix((basis.size, basis.size), dtype=np.float32)\n",
    "    if i != j:\n",
    "        for k, v in enumerate(basis.base):\n",
    "            if v[i] != 0:\n",
    "                dest = list(v.copy())\n",
    "                dest[i] -= 1\n",
    "                dest[j] += 1\n",
    "                tar = basis.rep_to_index(dest)\n",
    "                mat[tar, k] = np.sqrt(v[j]+1)*np.sqrt(v[i])\n",
    "    else:\n",
    "        for k, v in enumerate(basis.base):\n",
    "            mat[k, k] = v[i]+1\n",
    "    return mat\n",
    "\n",
    "# Matrices de aniquilación y creación.Toman la base de origen y destino (basis_o, basis_d) resp\n",
    "@memory.cache   \n",
    "def b(basis_o, basis_d, i):\n",
    "    mat = dok_matrix((basis_d.size, basis_o.size), dtype=np.float32)\n",
    "    for k, v in enumerate(basis_o.base):\n",
    "        if v[i] != 0:\n",
    "            dest = list(v.copy())\n",
    "            dest[i] -= 1   \n",
    "            tar = basis_d.rep_to_index(dest)\n",
    "            mat[tar, k] = np.sqrt(v[i])\n",
    "    return mat\n",
    "\n",
    "\n",
    "@memory.cache   \n",
    "def bd(basis_o, basis_d, i):\n",
    "    mat = dok_matrix((basis_d.size, basis_o.size), dtype=np.float32)\n",
    "    for k, v in enumerate(basis_o.base):\n",
    "        dest = list(v.copy())\n",
    "        dest[i] += 1   \n",
    "        tar = basis_d.rep_to_index(dest)\n",
    "        mat[tar, k] = np.sqrt(v[i]+1)\n",
    "    return mat\n",
    "\n",
    "# Devuelve la matriz gamma asociada a la descomposición (M,N-M) del vector\n",
    "@jit\n",
    "def gamma(basis, m, vect, m_basis = None, nm_basis = None):\n",
    "    d = basis.d\n",
    "    if not m_basis or not nm_basis:\n",
    "        m_basis = fixed_basis(m, d)\n",
    "        nm_basis = fixed_basis(basis.m-m,d)\n",
    "    mat = dok_matrix((m_basis.size, nm_basis.size), dtype=np.float32)\n",
    "    for i, v in enumerate(m_basis.base):\n",
    "        for j, w in enumerate(nm_basis.base):\n",
    "            targ = v+w\n",
    "            index = basis.rep_to_index(targ)\n",
    "            if index == None:\n",
    "                continue\n",
    "            coef = vect[index]\n",
    "            if coef != 0:      \n",
    "                aux = lambda x: np.prod(np.reciprocal(np.sqrt([np.math.factorial(o) for o in x])))\n",
    "                aux_inv = lambda x: np.prod(np.sqrt([np.math.factorial(o) for o in x]))\n",
    "                coef = coef * aux(v) * aux(w) * aux_inv(targ)\n",
    "                #coef = coef \n",
    "                #print(v,w,coef)\n",
    "            mat[i,j] = coef\n",
    "    return mat\n",
    "\n",
    "# Devuelve la matriz rho M asociada al vector\n",
    "def rho_m(basis, m, vect, m_basis = None, nm_basis = None):\n",
    "    g = gamma(basis, m, vect, m_basis, nm_basis)\n",
    "    return np.dot(g,np.transpose(g))\n",
    "\n",
    "# Devuelve la matriz rho 1 asociada al vector\n",
    "def rho_1(basis, vect):\n",
    "    d = basis.d\n",
    "    mat = dok_matrix((d, d), dtype=np.float32)\n",
    "    for i in range(0, d):\n",
    "        for j in range(0, d):\n",
    "            v = bdb(basis,j,i)*vect\n",
    "            mat[i,j] = np.inner(vect,v)\n",
    "    return mat\n",
    "      \n",
    "# Devuelve la matriz rho 2 asociada al vector\n",
    "def rho_2(basis, vect, ml_basis = None, mll_basis = None, t_basis = None):\n",
    "    d = basis.d\n",
    "    # Creo las bases si no están dadad\n",
    "    if ml_basis == None or mll_basis == None or t_basis == None:\n",
    "        ml_basis = fixed_basis(m-1,d)\n",
    "        mll_basis = fixed_basis(m-2,d)\n",
    "        t_basis = fixed_basis(2,d)\n",
    "    mat = dok_matrix((t_basis.size, t_basis.size), dtype=np.float32)\n",
    "    for i, v in enumerate(t_basis.base):\n",
    "        for j, w in enumerate(t_basis.base):\n",
    "            # Creacion de los a\n",
    "            i_set = t_basis.rep_to_exi(v)\n",
    "            b_m = np.dot(b(ml_basis, mll_basis, i_set[1]),b(basis, ml_basis, i_set[0]))\n",
    "            \n",
    "            # Creacion de los ad\n",
    "            i_set = t_basis.rep_to_exi(w)\n",
    "            bd_m = np.dot(bd(ml_basis, basis, i_set[1]),bd(mll_basis, ml_basis, i_set[0]))    \n",
    "\n",
    "            # Mult de b's y filleo de mat\n",
    "            coef = np.inner(vect,np.dot(bd_m,b_m)*vect)\n",
    "            aux = lambda x: np.prod(np.reciprocal(np.sqrt([np.math.factorial(o) for o in x])))\n",
    "            mat[i,j] = coef * aux(v) * aux(w)\n",
    "    return mat    "
   ]
  },
  {
   "cell_type": "code",
   "execution_count": 25,
   "metadata": {},
   "outputs": [
    {
     "name": "stdout",
     "output_type": "stream",
     "text": [
      "0.06874918937683105\n",
      "660\n",
      "[[0 0 0 8]\n",
      " [0 0 1 7]\n",
      " [0 0 2 6]\n",
      " [0 0 3 5]\n",
      " [0 0 4 4]\n",
      " [0 0 5 3]\n",
      " [0 0 6 2]\n",
      " [0 0 7 1]\n",
      " [0 0 8 0]\n",
      " [0 1 0 7]\n",
      " [0 1 1 6]\n",
      " [0 1 2 5]\n",
      " [0 1 3 4]\n",
      " [0 1 4 3]\n",
      " [0 1 5 2]\n",
      " [0 1 6 1]\n",
      " [0 1 7 0]\n",
      " [0 2 0 6]\n",
      " [0 2 1 5]\n",
      " [0 2 2 4]\n",
      " [0 2 3 3]\n",
      " [0 2 4 2]\n",
      " [0 2 5 1]\n",
      " [0 2 6 0]\n",
      " [0 3 0 5]\n",
      " [0 3 1 4]\n",
      " [0 3 2 3]\n",
      " [0 3 3 2]\n",
      " [0 3 4 1]\n",
      " [0 3 5 0]\n",
      " [0 4 0 4]\n",
      " [0 4 1 3]\n",
      " [0 4 2 2]\n",
      " [0 4 3 1]\n",
      " [0 4 4 0]\n",
      " [0 5 0 3]\n",
      " [0 5 1 2]\n",
      " [0 5 2 1]\n",
      " [0 5 3 0]\n",
      " [0 6 0 2]\n",
      " [0 6 1 1]\n",
      " [0 6 2 0]\n",
      " [0 7 0 1]\n",
      " [0 7 1 0]\n",
      " [0 8 0 0]\n",
      " [1 0 0 7]\n",
      " [1 0 1 6]\n",
      " [1 0 2 5]\n",
      " [1 0 3 4]\n",
      " [1 0 4 3]\n",
      " [1 0 5 2]\n",
      " [1 0 6 1]\n",
      " [1 0 7 0]\n",
      " [1 1 0 6]\n",
      " [1 1 1 5]\n",
      " [1 1 2 4]\n",
      " [1 1 3 3]\n",
      " [1 1 4 2]\n",
      " [1 1 5 1]\n",
      " [1 1 6 0]\n",
      " [1 2 0 5]\n",
      " [1 2 1 4]\n",
      " [1 2 2 3]\n",
      " [1 2 3 2]\n",
      " [1 2 4 1]\n",
      " [1 2 5 0]\n",
      " [1 3 0 4]\n",
      " [1 3 1 3]\n",
      " [1 3 2 2]\n",
      " [1 3 3 1]\n",
      " [1 3 4 0]\n",
      " [1 4 0 3]\n",
      " [1 4 1 2]\n",
      " [1 4 2 1]\n",
      " [1 4 3 0]\n",
      " [1 5 0 2]\n",
      " [1 5 1 1]\n",
      " [1 5 2 0]\n",
      " [1 6 0 1]\n",
      " [1 6 1 0]\n",
      " [1 7 0 0]\n",
      " [2 0 0 6]\n",
      " [2 0 1 5]\n",
      " [2 0 2 4]\n",
      " [2 0 3 3]\n",
      " [2 0 4 2]\n",
      " [2 0 5 1]\n",
      " [2 0 6 0]\n",
      " [2 1 0 5]\n",
      " [2 1 1 4]\n",
      " [2 1 2 3]\n",
      " [2 1 3 2]\n",
      " [2 1 4 1]\n",
      " [2 1 5 0]\n",
      " [2 2 0 4]\n",
      " [2 2 1 3]\n",
      " [2 2 2 2]\n",
      " [2 2 3 1]\n",
      " [2 2 4 0]\n",
      " [2 3 0 3]\n",
      " [2 3 1 2]\n",
      " [2 3 2 1]\n",
      " [2 3 3 0]\n",
      " [2 4 0 2]\n",
      " [2 4 1 1]\n",
      " [2 4 2 0]\n",
      " [2 5 0 1]\n",
      " [2 5 1 0]\n",
      " [2 6 0 0]\n",
      " [3 0 0 5]\n",
      " [3 0 1 4]\n",
      " [3 0 2 3]\n",
      " [3 0 3 2]\n",
      " [3 0 4 1]\n",
      " [3 0 5 0]\n",
      " [3 1 0 4]\n",
      " [3 1 1 3]\n",
      " [3 1 2 2]\n",
      " [3 1 3 1]\n",
      " [3 1 4 0]\n",
      " [3 2 0 3]\n",
      " [3 2 1 2]\n",
      " [3 2 2 1]\n",
      " [3 2 3 0]\n",
      " [3 3 0 2]\n",
      " [3 3 1 1]\n",
      " [3 3 2 0]\n",
      " [3 4 0 1]\n",
      " [3 4 1 0]\n",
      " [3 5 0 0]\n",
      " [4 0 0 4]\n",
      " [4 0 1 3]\n",
      " [4 0 2 2]\n",
      " [4 0 3 1]\n",
      " [4 0 4 0]\n",
      " [4 1 0 3]\n",
      " [4 1 1 2]\n",
      " [4 1 2 1]\n",
      " [4 1 3 0]\n",
      " [4 2 0 2]\n",
      " [4 2 1 1]\n",
      " [4 2 2 0]\n",
      " [4 3 0 1]\n",
      " [4 3 1 0]\n",
      " [4 4 0 0]\n",
      " [5 0 0 3]\n",
      " [5 0 1 2]\n",
      " [5 0 2 1]\n",
      " [5 0 3 0]\n",
      " [5 1 0 2]\n",
      " [5 1 1 1]\n",
      " [5 1 2 0]\n",
      " [5 2 0 1]\n",
      " [5 2 1 0]\n",
      " [5 3 0 0]\n",
      " [6 0 0 2]\n",
      " [6 0 1 1]\n",
      " [6 0 2 0]\n",
      " [6 1 0 1]\n",
      " [6 1 1 0]\n",
      " [6 2 0 0]\n",
      " [7 0 0 1]\n",
      " [7 0 1 0]\n",
      " [7 1 0 0]\n",
      " [8 0 0 0]]\n"
     ]
    }
   ],
   "source": [
    "m = 8\n",
    "d = 4\n",
    "import time\n",
    "ti = time.time()\n",
    "base = fixed_basis(m, d).base\n",
    "tf = time.time()\n",
    "print(tf-ti)\n",
    "print(base.size)\n",
    "print(base)"
   ]
  },
  {
   "cell_type": "code",
   "execution_count": 29,
   "metadata": {
    "id": "J1BYHiABiLv1",
    "outputId": "da2a22e5-64cd-43a7-d2e0-4e42c8b3719f"
   },
   "outputs": [
    {
     "name": "stdout",
     "output_type": "stream",
     "text": [
      "[0. 0. 0. 0. 0. 0. 1. 0. 0. 0. 0. 0. 0. 0. 0. 0. 0. 0. 0. 0. 0. 0. 0. 0.\n",
      " 0. 0. 0. 0. 0. 0. 0. 0. 0. 0. 0.]\n",
      "[0 0 0 2] [0 1 1 0] 1.0\n",
      "[0 0 1 1] [0 1 0 1] 1.4142135623730951\n",
      "[0 1 0 1] [0 0 1 1] 1.4142135623730951\n",
      "[0 1 1 0] [0 0 0 2] 1.0\n",
      "[0.00245818 0.12429807 0.09235737 0.05673843 0.05200341 0.23388029\n",
      " 0.23401698 0.14239911 0.00137916 0.10011861 0.21210931 0.07653313\n",
      " 0.12088992 0.06257756 0.28254429 0.13310775 0.14610995 0.00906383\n",
      " 0.06093948 0.15766386 0.15810107 0.10776898 0.11063491 0.14373242\n",
      " 0.28678535 0.25566518 0.05989708 0.27571683 0.0874394  0.05737582\n",
      " 0.27334925 0.21140572 0.20371338 0.27734277 0.26057538]\n",
      "[0 0 0 2] [0 0 0 2] 0.006021284932702713\n",
      "[0 0 0 2] [0 0 1 1] 0.21529057693064307\n",
      "[0 0 0 2] [0 0 2 0] 0.09235737145334309\n",
      "[0 0 0 2] [0 1 0 1] 0.40509254671795236\n",
      "[0 0 0 2] [0 1 1 0] 0.23401697586066175\n",
      "[0 0 0 2] [0 2 0 0] 0.10011861433086211\n",
      "[0 0 0 2] [1 0 0 1] 0.23054938548114984\n",
      "[0 0 0 2] [1 0 1 0] 0.14610994956373693\n",
      "[0 0 0 2] [1 1 0 0] 0.15766386006695876\n",
      "[0 0 0 2] [2 0 0 0] 0.25566517775820646\n",
      "[0 0 1 1] [0 0 0 2] 0.21529057693064307\n",
      "[0 0 1 1] [0 0 1 1] 0.1847147429066862\n",
      "[0 0 1 1] [0 0 2 0] 0.09827383886375587\n",
      "[0 0 1 1] [0 1 0 1] 0.3309499810876851\n",
      "[0 0 1 1] [0 1 1 0] 0.20138274968030045\n",
      "[0 0 1 1] [0 2 0 0] 0.21210931413937073\n",
      "[0 0 1 1] [1 0 0 1] 0.20663067227068568\n",
      "[0 0 1 1] [1 0 1 0] 0.012818197351323557\n",
      "[0 0 1 1] [1 1 0 0] 0.15810106759757173\n",
      "[0 0 1 1] [2 0 0 0] 0.05989707552861775\n",
      "[0 0 2 0] [0 0 0 2] 0.09235737145334309\n",
      "[0 0 2 0] [0 0 1 1] 0.09827383886375587\n",
      "[0 0 2 0] [0 0 2 0] 0.12738182442804658\n",
      "[0 0 2 0] [0 1 0 1] 0.14239910791293348\n",
      "[0 0 2 0] [0 1 1 0] 0.0023887788917924227\n",
      "[0 0 2 0] [0 2 0 0] 0.07653312910541628\n",
      "[0 0 2 0] [1 0 0 1] 0.009063834269708328\n",
      "[0 0 2 0] [1 0 1 0] 0.10555027398892931\n",
      "[0 0 2 0] [1 1 0 0] 0.10776898012306675\n",
      "[0 0 2 0] [2 0 0 0] 0.2757168279742326\n",
      "[0 1 0 1] [0 0 0 2] 0.40509254671795236\n",
      "[0 1 0 1] [0 0 1 1] 0.3309499810876851\n",
      "[0 1 0 1] [0 0 2 0] 0.14239910791293348\n",
      "[0 1 0 1] [0 1 0 1] 0.20023722866172428\n",
      "[0 1 0 1] [0 1 1 0] 0.2999678687615534\n",
      "[0 1 0 1] [0 2 0 0] 0.20938747906845082\n",
      "[0 1 0 1] [1 0 0 1] 0.22297036920278693\n",
      "[0 1 0 1] [1 0 1 0] 0.15810106759757173\n",
      "[0 1 0 1] [1 1 0 0] 0.15646139388393804\n",
      "[0 1 0 1] [2 0 0 0] 0.08743940055096208\n",
      "[0 1 1 0] [0 0 0 2] 0.23401697586066175\n",
      "[0 1 1 0] [0 0 1 1] 0.20138274968030045\n",
      "[0 1 1 0] [0 0 2 0] 0.0023887788917924227\n",
      "[0 1 1 0] [0 1 0 1] 0.2999678687615534\n",
      "[0 1 1 0] [0 1 1 0] 0.15306625821083258\n",
      "[0 1 1 0] [0 2 0 0] 0.10838750885589693\n",
      "[0 1 1 0] [1 0 0 1] 0.15810106759757173\n",
      "[0 1 1 0] [1 0 1 0] 0.15240835329315752\n",
      "[0 1 1 0] [1 1 0 0] 0.2032683319683028\n",
      "[0 1 1 0] [2 0 0 0] 0.057375822616218784\n",
      "[0 2 0 0] [0 0 0 2] 0.10011861433086211\n",
      "[0 2 0 0] [0 0 1 1] 0.21210931413937073\n",
      "[0 2 0 0] [0 0 2 0] 0.07653312910541628\n",
      "[0 2 0 0] [0 1 0 1] 0.20938747906845082\n",
      "[0 2 0 0] [0 1 1 0] 0.10838750885589693\n",
      "[0 2 0 0] [0 2 0 0] 0.6920893396781245\n",
      "[0 2 0 0] [1 0 0 1] 0.11063491260923199\n",
      "[0 2 0 0] [1 0 1 0] 0.14373241593526517\n",
      "[0 2 0 0] [1 1 0 0] 0.4967267975987662\n",
      "[0 2 0 0] [2 0 0 0] 0.2733492452013069\n",
      "[1 0 0 1] [0 0 0 2] 0.23054938548114984\n",
      "[1 0 0 1] [0 0 1 1] 0.20663067227068568\n",
      "[1 0 0 1] [0 0 2 0] 0.009063834269708328\n",
      "[1 0 0 1] [0 1 0 1] 0.22297036920278693\n",
      "[1 0 0 1] [0 1 1 0] 0.15810106759757173\n",
      "[1 0 0 1] [0 2 0 0] 0.11063491260923199\n",
      "[1 0 0 1] [1 0 0 1] 0.511330355516413\n",
      "[1 0 0 1] [1 0 1 0] 0.08470725655905685\n",
      "[1 0 0 1] [1 1 0 0] 0.12365798614494407\n",
      "[1 0 0 1] [2 0 0 0] 0.36616544729826744\n",
      "[1 0 1 0] [0 0 0 2] 0.14610994956373693\n",
      "[1 0 1 0] [0 0 1 1] 0.012818197351323557\n",
      "[1 0 1 0] [0 0 2 0] 0.10555027398892931\n",
      "[1 0 1 0] [0 1 0 1] 0.15810106759757173\n",
      "[1 0 1 0] [0 1 1 0] 0.15240835329315752\n",
      "[1 0 1 0] [0 2 0 0] 0.14373241593526517\n",
      "[1 0 1 0] [1 0 0 1] 0.08470725655905685\n",
      "[1 0 1 0] [1 0 1 0] 0.5514336559484653\n",
      "[1 0 1 0] [1 1 0 0] 0.08114166649616956\n",
      "[1 0 1 0] [2 0 0 0] 0.3528419217444723\n",
      "[1 1 0 0] [0 0 0 2] 0.15766386006695876\n",
      "[1 1 0 0] [0 0 1 1] 0.15810106759757173\n",
      "[1 1 0 0] [0 0 2 0] 0.10776898012306675\n",
      "[1 1 0 0] [0 1 0 1] 0.15646139388393804\n",
      "[1 1 0 0] [0 1 1 0] 0.2032683319683028\n",
      "[1 1 0 0] [0 2 0 0] 0.4967267975987662\n",
      "[1 1 0 0] [1 0 0 1] 0.12365798614494407\n",
      "[1 1 0 0] [1 0 1 0] 0.08114166649616956\n",
      "[1 1 0 0] [1 1 0 0] 0.5466984904026139\n",
      "[1 1 0 0] [2 0 0 0] 0.48037176369787604\n",
      "[2 0 0 0] [0 0 0 2] 0.25566517775820646\n",
      "[2 0 0 0] [0 0 1 1] 0.05989707552861775\n",
      "[2 0 0 0] [0 0 2 0] 0.2757168279742326\n",
      "[2 0 0 0] [0 1 0 1] 0.08743940055096208\n",
      "[2 0 0 0] [0 1 1 0] 0.057375822616218784\n",
      "[2 0 0 0] [0 2 0 0] 0.2733492452013069\n",
      "[2 0 0 0] [1 0 0 1] 0.36616544729826744\n",
      "[2 0 0 0] [1 0 1 0] 0.3528419217444723\n",
      "[2 0 0 0] [1 1 0 0] 0.48037176369787604\n",
      "[2 0 0 0] [2 0 0 0] 0.6382767180067963\n"
     ]
    },
    {
     "data": {
      "text/plain": [
       "<10x10 sparse matrix of type '<class 'numpy.float32'>'\n",
       "\twith 100 stored elements in Dictionary Of Keys format>"
      ]
     },
     "execution_count": 29,
     "metadata": {},
     "output_type": "execute_result"
    }
   ],
   "source": [
    "# Prueba de las matrices gamma (TODO normalizacion)\n",
    "a = fixed_basis(4, 4)\n",
    "v = a.rep_to_vect([0, 1, 1, 2])\n",
    "#+a.rep_to_vect([1, 1, 2, 0])\n",
    "print(v)\n",
    "gamma(a, 2, v)\n",
    "v = np.array([random.random() for a in range(0,a.size)])\n",
    "v = v / np.linalg.norm(v)\n",
    "print(v)\n",
    "gamma(a, 2, v)"
   ]
  },
  {
   "cell_type": "code",
   "execution_count": 63,
   "metadata": {
    "id": "gzscSFeriLv1",
    "outputId": "5786aeba-4b51-4f52-daf1-24873702c38c"
   },
   "outputs": [
    {
     "name": "stdout",
     "output_type": "stream",
     "text": [
      "[0 2 0 2]\n"
     ]
    }
   ],
   "source": [
    "# Prueba de funcionamiento de las matrices bdb y bbd\n",
    "v = [1, 1, 0, 2]\n",
    "vect = a.rep_to_vect(v)\n",
    "res = bbd(a,0,1) * vect\n",
    "if np.linalg.norm(res) != 0:\n",
    "    res = res / np.linalg.norm(res)\n",
    "    print(a.vect_to_repr(res))\n",
    "else:\n",
    "    res = 0\n",
    "    print(0)\n"
   ]
  },
  {
   "cell_type": "code",
   "execution_count": 69,
   "metadata": {
    "id": "-34mFuIViLv3",
    "outputId": "c7c4e973-b9f7-48cc-afac-f6089c71f0ec"
   },
   "outputs": [
    {
     "name": "stdout",
     "output_type": "stream",
     "text": [
      "[0.         1.41421354 0.         0.         0.         0.        ]\n",
      "[0 1 1]\n",
      "[1.73205078 0.         0.         0.         0.         0.\n",
      " 0.         0.         0.         0.        ]\n",
      "[0 0 3]\n"
     ]
    }
   ],
   "source": [
    "# Prueba de funcionamiento de las matrices b y bd\n",
    "\n",
    "l = fixed_basis(3, 3)\n",
    "m = fixed_basis(2, 3)\n",
    "\n",
    "vect = l.rep_to_vect([0,1,2])\n",
    "res = b(l,m,2) * vect\n",
    "if np.linalg.norm(res) != 0:\n",
    "    print(res)\n",
    "    res = res / np.linalg.norm(res)\n",
    "    print(m.vect_to_repr(res))\n",
    "    \n",
    "vect = m.rep_to_vect([0,0,2])\n",
    "res = bd(m,l,2) * vect\n",
    "if np.linalg.norm(res) != 0:\n",
    "    print(res)\n",
    "    res = res / np.linalg.norm(res)\n",
    "    print(l.vect_to_repr(res))"
   ]
  },
  {
   "cell_type": "markdown",
   "metadata": {
    "id": "6u9pr4WuiLv4"
   },
   "source": [
    "## Pairing"
   ]
  },
  {
   "cell_type": "markdown",
   "metadata": {
    "id": "WL14MzsGiLv4"
   },
   "source": [
    "Construimos el espacio para n particulas en d estados. El hamiltoniano de pairing posee energias equiespaciadas con degeneración doble (asociada a cada estado y su inverso temporal), así como un término de interacción. Por tal motivo, crearemos un espacio con d = 2d."
   ]
  },
  {
   "cell_type": "code",
   "execution_count": 29,
   "metadata": {
    "colab": {
     "base_uri": "https://localhost:8080/"
    },
    "id": "4wyZ2Mu3iLv6",
    "outputId": "1d675801-7913-4a51-b56a-37202bb50102"
   },
   "outputs": [
    {
     "name": "stdout",
     "output_type": "stream",
     "text": [
      "[[0 0 0 0 0 6]\n",
      " [0 0 0 0 1 5]\n",
      " [0 0 0 0 2 4]\n",
      " ...\n",
      " [5 0 1 0 0 0]\n",
      " [5 1 0 0 0 0]\n",
      " [6 0 0 0 0 0]]\n",
      "462\n"
     ]
    }
   ],
   "source": [
    "m = 6\n",
    "d = 3\n",
    "# Creo las bases para no tener que recrearlas luego\n",
    "basis = fixed_basis(m, 2*d)\n",
    "basis_m1 = fixed_basis(m-1, 2*d)\n",
    "basis_m2 = fixed_basis(m-2, 2*d)\n",
    "print(basis.base)\n",
    "print(basis.size)\n",
    "\n"
   ]
  },
  {
   "cell_type": "code",
   "execution_count": 27,
   "metadata": {
    "id": "2Qg_HZUziLv7"
   },
   "outputs": [],
   "source": [
    "# Parametros hamiltoniano\n",
    "e = 1\n",
    "eps = 0.0001\n",
    "e0 = np.zeros(2*d)\n",
    "eigenspace_tol = 0.0001\n",
    "for k in range(0, d):\n",
    "    r = random.random() * eps\n",
    "    e0[2*k] = k*e+r\n",
    "    e0[2*k+1] = k*e+r\n",
    "\n",
    "def hamiltonian(g, basis, basis_m1, basis_m2):\n",
    "    # Construccion de H\n",
    "    h0 = sum([e0[k]*bdb(basis,k,k) for k in range(0,2*d)])\n",
    "    hi = dok_matrix((basis.size, basis.size), dtype=np.float32)\n",
    "    for k in range(0,d):\n",
    "        for kb in range(0,d):\n",
    "            hi += -1*g*bd(basis_m1, basis, 2*k)*bd(basis_m2, basis_m1, 2*k+1)*b(basis_m1, basis_m2, 2*kb+1)*b(basis, basis_m1, 2*kb)\n",
    "\n",
    "    return h0+hi\n",
    "\n",
    "def solve(g, m, last_step = None):\n",
    "    h = hamiltonian(g, basis, basis_m1, basis_m2)\n",
    "    sol = linalg.eigsh(h,which='SA',k=19)\n",
    "    if type(last_step) != type(None):\n",
    "        # Seleccionamos todos los autovects que difieren sus autovalores menos que tol (mismo autoespacio)\n",
    "        # y tomamos la proyección en el autoespacio de la solución del paso anterior (last_step)\n",
    "        eig = sol[0].real\n",
    "        eigv = sol[1]\n",
    "        cand = [eigv[:,i].real  for (i, x) in enumerate(eig) if abs(x-min(eig)) < eigenspace_tol]\n",
    "        cand_norm = [x/np.linalg.norm(x) for x in cand]\n",
    "        fund = np.zeros(len(cand[0]))\n",
    "        for x in cand_norm:\n",
    "            fund += np.dot(last_step,x) * x\n",
    "        #print(np.dot(fund,last_step))\n",
    "    else:\n",
    "        argmin = np.argmin(sol[0].real)\n",
    "        fund = sol[1][:,argmin]\n",
    "    fund = fund.real / np.linalg.norm(fund)\n",
    "    return fund"
   ]
  },
  {
   "cell_type": "code",
   "execution_count": 13,
   "metadata": {},
   "outputs": [],
   "source": [
    "m = 2\n",
    "m_basis = fixed_basis(m, 2*d)\n",
    "nm_basis = fixed_basis(basis.m-m, 2*d)\n",
    "fund = solve(1, m)\n",
    "rho = rho_m(basis, m, fund, m_basis, nm_basis).todense()\n",
    "r = np.sort(linalg_d.eigvals(rho).real)"
   ]
  },
  {
   "cell_type": "code",
   "execution_count": 9,
   "metadata": {},
   "outputs": [
    {
     "data": {
      "text/plain": [
       "21"
      ]
     },
     "execution_count": 9,
     "metadata": {},
     "output_type": "execute_result"
    }
   ],
   "source": []
  },
  {
   "cell_type": "code",
   "execution_count": 31,
   "metadata": {
    "colab": {
     "base_uri": "https://localhost:8080/"
    },
    "id": "MgGqseiNiLv8",
    "outputId": "47952ad7-1a1b-4cb2-d3cf-4599d4094a6f"
   },
   "outputs": [
    {
     "name": "stdout",
     "output_type": "stream",
     "text": [
      "0.010.11183673469387755\n",
      "0.2136734693877551\n",
      "\n",
      "0.31551020408163266\n",
      "0.4173469387755102\n",
      "0.5191836734693878\n",
      "0.6210204081632653\n",
      "0.7228571428571429\n",
      "rho\n",
      "0.8246938775510204\n",
      "rho\n",
      "0.926530612244898\n",
      "rho\n",
      "1.0283673469387755\n",
      "rho\n",
      "1.130204081632653\n",
      "rho\n",
      "1.2320408163265306\n",
      "rho\n",
      "1.3338775510204082\n",
      "rho\n",
      "1.4357142857142857\n",
      "rho\n",
      "1.5375510204081633\n",
      "rho\n",
      "1.6393877551020408\n",
      "rho\n",
      "1.7412244897959184\n",
      "rho\n",
      "1.843061224489796\n",
      "rho\n",
      "1.9448979591836735\n",
      "rho\n",
      "2.046734693877551\n",
      "rho\n",
      "2.1485714285714286\n",
      "rho\n",
      "2.250408163265306\n",
      "rho\n",
      "2.3522448979591832\n",
      "rho\n",
      "2.454081632653061\n",
      "rho\n",
      "2.555918367346939\n",
      "rho\n",
      "2.657755102040816\n",
      "rho\n",
      "2.7595918367346934\n",
      "rho\n",
      "2.861428571428571\n",
      "rho\n",
      "2.963265306122449\n",
      "rho\n",
      "3.0651020408163263\n",
      "rho\n",
      "3.1669387755102036\n",
      "rho\n",
      "3.2687755102040814\n",
      "rho\n",
      "3.370612244897959\n",
      "rho\n",
      "3.4724489795918365\n",
      "rho\n",
      "3.574285714285714\n",
      "rho\n",
      "3.6761224489795916\n",
      "rho\n",
      "3.7779591836734694\n",
      "rho\n",
      "3.8797959183673467\n",
      "rho\n",
      "3.981632653061224\n",
      "rho\n",
      "4.083469387755102\n",
      "rho\n",
      "4.18530612244898\n",
      "rho\n",
      "4.287142857142857\n",
      "rho\n",
      "4.388979591836734\n",
      "rho\n",
      "4.490816326530612\n",
      "rho\n",
      "4.59265306122449\n",
      "rho\n",
      "4.694489795918367\n",
      "rho\n",
      "4.7963265306122445\n",
      "rho\n",
      "4.898163265306122\n",
      "rho\n",
      "5.0\n",
      "rho\n",
      "rho\n",
      "rho\n",
      "rho\n",
      "rho\n",
      "rho\n",
      "rho\n",
      "rho\n"
     ]
    }
   ],
   "source": [
    "# Rutina de resolución\n",
    "m = 2\n",
    "m_basis = fixed_basis(m, 2*d)\n",
    "nm_basis = fixed_basis(basis.m-m, 2*d)\n",
    "\n",
    "num = 50\n",
    "g_range = np.linspace(0.01,5,num)\n",
    "rho_range= {}\n",
    "\n",
    "def compute_g(g):\n",
    "    print(g)\n",
    "    fund = solve(g, m)\n",
    "    print('rho')\n",
    "    rho = rho_m(basis, m, fund, m_basis, nm_basis).todense()\n",
    "    r = np.sort(linalg_d.eigvals(rho).real)\n",
    "    rho_range[g] = r\n",
    "\n",
    "Parallel(n_jobs=8, require='sharedmem')(\n",
    "    delayed(compute_g)(g) for g in g_range);"
   ]
  },
  {
   "cell_type": "code",
   "execution_count": 32,
   "metadata": {
    "colab": {
     "base_uri": "https://localhost:8080/",
     "height": 542
    },
    "id": "eZ3lAu42iLv9",
    "outputId": "d8b10584-0a47-4958-c6fa-66eccd4dfa8e"
   },
   "outputs": [
    {
     "data": {
      "application/vnd.plotly.v1+json": {
       "config": {
        "plotlyServerURL": "https://plot.ly"
       },
       "data": [
        {
         "type": "scatter",
         "x": [
          0.01,
          0.11183673469387755,
          0.2136734693877551,
          0.31551020408163266,
          0.4173469387755102,
          0.5191836734693878,
          0.6210204081632653,
          0.7228571428571429,
          0.8246938775510204,
          0.926530612244898,
          1.0283673469387755,
          1.130204081632653,
          1.2320408163265306,
          1.3338775510204082,
          1.4357142857142857,
          1.5375510204081633,
          1.6393877551020408,
          1.7412244897959184,
          1.843061224489796,
          1.9448979591836735,
          2.046734693877551,
          2.1485714285714286,
          2.250408163265306,
          2.3522448979591832,
          2.454081632653061,
          2.555918367346939,
          2.657755102040816,
          2.7595918367346934,
          2.861428571428571,
          2.963265306122449,
          3.0651020408163263,
          3.1669387755102036,
          3.2687755102040814,
          3.370612244897959,
          3.4724489795918365,
          3.574285714285714,
          3.6761224489795916,
          3.7779591836734694,
          3.8797959183673467,
          3.981632653061224,
          4.083469387755102,
          4.18530612244898,
          4.287142857142857,
          4.388979591836734,
          4.490816326530612,
          4.59265306122449,
          4.694489795918367,
          4.7963265306122445,
          4.898163265306122,
          5
         ],
         "y": [
          -1.3028683909510619e-08,
          1.8427581380819902e-05,
          0.0001969904697034508,
          0.000740969437174499,
          0.0018015367677435279,
          0.003463026136159897,
          0.0057638357393443584,
          0.008714205585420132,
          0.012305143289268017,
          0.016512617468833923,
          0.02129974775016308,
          0.026618361473083496,
          0.0324118509888649,
          0.03861793503165245,
          0.045171551406383514,
          0.052007824182510376,
          0.059063591063022614,
          0.0662800744175911,
          0.07360337674617767,
          0.08098526298999786,
          0.08838386833667755,
          0.09576217830181122,
          0.10309011489152908,
          0.11034148186445236,
          0.11749546229839325,
          0.12453494966030121,
          0.13144710659980774,
          0.13822098076343536,
          0.14484944939613342,
          0.1513267159461975,
          0.1576496660709381,
          0.16381694376468658,
          0.16982685029506683,
          0.1756802648305893,
          0.18137788772583008,
          0.1869232952594757,
          0.19231782853603363,
          0.1975645124912262,
          0.20266659557819366,
          0.2076278179883957,
          0.21245190501213074,
          0.2171420305967331,
          0.2217026948928833,
          0.22613756358623505,
          0.23045028746128082,
          0.23464512825012207,
          0.2387254536151886,
          0.2426951378583908,
          0.2465577870607376,
          0.2503167688846588
         ]
        },
        {
         "type": "scatter",
         "x": [
          0.01,
          0.11183673469387755,
          0.2136734693877551,
          0.31551020408163266,
          0.4173469387755102,
          0.5191836734693878,
          0.6210204081632653,
          0.7228571428571429,
          0.8246938775510204,
          0.926530612244898,
          1.0283673469387755,
          1.130204081632653,
          1.2320408163265306,
          1.3338775510204082,
          1.4357142857142857,
          1.5375510204081633,
          1.6393877551020408,
          1.7412244897959184,
          1.843061224489796,
          1.9448979591836735,
          2.046734693877551,
          2.1485714285714286,
          2.250408163265306,
          2.3522448979591832,
          2.454081632653061,
          2.555918367346939,
          2.657755102040816,
          2.7595918367346934,
          2.861428571428571,
          2.963265306122449,
          3.0651020408163263,
          3.1669387755102036,
          3.2687755102040814,
          3.370612244897959,
          3.4724489795918365,
          3.574285714285714,
          3.6761224489795916,
          3.7779591836734694,
          3.8797959183673467,
          3.981632653061224,
          4.083469387755102,
          4.18530612244898,
          4.287142857142857,
          4.388979591836734,
          4.490816326530612,
          4.59265306122449,
          4.694489795918367,
          4.7963265306122445,
          4.898163265306122,
          5
         ],
         "y": [
          1.3898673323353705e-09,
          1.8475906472303905e-05,
          0.00019701609562616795,
          0.0007410244434140623,
          0.001801581121981144,
          0.0034630291629582644,
          0.005763852037489414,
          0.008714214898645878,
          0.012305166572332382,
          0.016512684524059296,
          0.021299999207258224,
          0.026618391275405884,
          0.032411929219961166,
          0.038617972284555435,
          0.04517156258225441,
          0.05200789496302605,
          0.05906360596418381,
          0.06628008186817169,
          0.07360360026359558,
          0.08098530769348145,
          0.08838388323783875,
          0.09576228260993958,
          0.10309017449617386,
          0.11034148931503296,
          0.11749566346406937,
          0.12453509122133255,
          0.13144733011722565,
          0.13822099566459656,
          0.14484967291355133,
          0.15132679045200348,
          0.1576499044895172,
          0.16381697356700897,
          0.16982686519622803,
          0.17568041384220123,
          0.18137839436531067,
          0.18692338466644287,
          0.19231797754764557,
          0.19756482541561127,
          0.2026667594909668,
          0.20762795209884644,
          0.21245193481445312,
          0.21714207530021667,
          0.22170308232307434,
          0.2261376976966858,
          0.23045048117637634,
          0.23464524745941162,
          0.23872585594654083,
          0.24269534647464752,
          0.24655818939208984,
          0.2503170967102051
         ]
        },
        {
         "type": "scatter",
         "x": [
          0.01,
          0.11183673469387755,
          0.2136734693877551,
          0.31551020408163266,
          0.4173469387755102,
          0.5191836734693878,
          0.6210204081632653,
          0.7228571428571429,
          0.8246938775510204,
          0.926530612244898,
          1.0283673469387755,
          1.130204081632653,
          1.2320408163265306,
          1.3338775510204082,
          1.4357142857142857,
          1.5375510204081633,
          1.6393877551020408,
          1.7412244897959184,
          1.843061224489796,
          1.9448979591836735,
          2.046734693877551,
          2.1485714285714286,
          2.250408163265306,
          2.3522448979591832,
          2.454081632653061,
          2.555918367346939,
          2.657755102040816,
          2.7595918367346934,
          2.861428571428571,
          2.963265306122449,
          3.0651020408163263,
          3.1669387755102036,
          3.2687755102040814,
          3.370612244897959,
          3.4724489795918365,
          3.574285714285714,
          3.6761224489795916,
          3.7779591836734694,
          3.8797959183673467,
          3.981632653061224,
          4.083469387755102,
          4.18530612244898,
          4.287142857142857,
          4.388979591836734,
          4.490816326530612,
          4.59265306122449,
          4.694489795918367,
          4.7963265306122445,
          4.898163265306122,
          5
         ],
         "y": [
          5.45172351706924e-09,
          2.02037062990712e-05,
          0.0002261232293676585,
          0.0008793139713816345,
          0.0021868518088012934,
          0.004273862577974796,
          0.0072026303969323635,
          0.010994784533977509,
          0.015644188970327377,
          0.02111927978694439,
          0.027368826791644096,
          0.034323275089263916,
          0.041899606585502625,
          0.05000627785921097,
          0.05854649841785431,
          0.06742579489946365,
          0.07655148208141327,
          0.08583945780992508,
          0.09521332383155823,
          0.10460430383682251,
          0.11395563930273056,
          0.12321787327528,
          0.13235102593898773,
          0.141323059797287,
          0.1501072496175766,
          0.15868541598320007,
          0.16704297065734863,
          0.17516875267028809,
          0.18305882811546326,
          0.19070716202259064,
          0.19811637699604034,
          0.20528553426265717,
          0.21221797168254852,
          0.2189178615808487,
          0.22538971900939941,
          0.23164086043834686,
          0.2376764416694641,
          0.24350297451019287,
          0.24912844598293304,
          0.2545589506626129,
          0.259801983833313,
          0.2648637294769287,
          0.2697513699531555,
          0.27447301149368286,
          0.2790330946445465,
          0.2834404408931732,
          0.28769898414611816,
          0.29181602597236633,
          0.2957971692085266,
          0.2996479868888855
         ]
        },
        {
         "type": "scatter",
         "x": [
          0.01,
          0.11183673469387755,
          0.2136734693877551,
          0.31551020408163266,
          0.4173469387755102,
          0.5191836734693878,
          0.6210204081632653,
          0.7228571428571429,
          0.8246938775510204,
          0.926530612244898,
          1.0283673469387755,
          1.130204081632653,
          1.2320408163265306,
          1.3338775510204082,
          1.4357142857142857,
          1.5375510204081633,
          1.6393877551020408,
          1.7412244897959184,
          1.843061224489796,
          1.9448979591836735,
          2.046734693877551,
          2.1485714285714286,
          2.250408163265306,
          2.3522448979591832,
          2.454081632653061,
          2.555918367346939,
          2.657755102040816,
          2.7595918367346934,
          2.861428571428571,
          2.963265306122449,
          3.0651020408163263,
          3.1669387755102036,
          3.2687755102040814,
          3.370612244897959,
          3.4724489795918365,
          3.574285714285714,
          3.6761224489795916,
          3.7779591836734694,
          3.8797959183673467,
          3.981632653061224,
          4.083469387755102,
          4.18530612244898,
          4.287142857142857,
          4.388979591836734,
          4.490816326530612,
          4.59265306122449,
          4.694489795918367,
          4.7963265306122445,
          4.898163265306122,
          5
         ],
         "y": [
          5.5109001806386004e-09,
          6.102265615481883e-05,
          0.0005766177782788873,
          0.001980308210477233,
          0.004496792331337929,
          0.008203002624213696,
          0.013100353069603443,
          0.019147928804159164,
          0.026273174211382866,
          0.03437614440917969,
          0.04333437979221344,
          0.05301006883382797,
          0.06325692683458328,
          0.0739288479089737,
          0.08488664031028748,
          0.0960024744272232,
          0.10716309398412704,
          0.11827193200588226,
          0.12924884259700775,
          0.14002838730812073,
          0.1505618393421173,
          0.16080963611602783,
          0.17074640095233917,
          0.18035311996936798,
          0.1896202564239502,
          0.19854320585727692,
          0.2071220874786377,
          0.21536105871200562,
          0.22326715290546417,
          0.23084841668605804,
          0.23811562359333038,
          0.24508023262023926,
          0.2517535984516144,
          0.2581481337547302,
          0.26427528262138367,
          0.27014827728271484,
          0.27577847242355347,
          0.2811782658100128,
          0.28635716438293457,
          0.2913277745246887,
          0.29609930515289307,
          0.3006818890571594,
          0.305084764957428,
          0.30931752920150757,
          0.3133878707885742,
          0.3173048794269562,
          0.3210747241973877,
          0.32470598816871643,
          0.32820454239845276,
          0.33157724142074585
         ]
        },
        {
         "type": "scatter",
         "x": [
          0.01,
          0.11183673469387755,
          0.2136734693877551,
          0.31551020408163266,
          0.4173469387755102,
          0.5191836734693878,
          0.6210204081632653,
          0.7228571428571429,
          0.8246938775510204,
          0.926530612244898,
          1.0283673469387755,
          1.130204081632653,
          1.2320408163265306,
          1.3338775510204082,
          1.4357142857142857,
          1.5375510204081633,
          1.6393877551020408,
          1.7412244897959184,
          1.843061224489796,
          1.9448979591836735,
          2.046734693877551,
          2.1485714285714286,
          2.250408163265306,
          2.3522448979591832,
          2.454081632653061,
          2.555918367346939,
          2.657755102040816,
          2.7595918367346934,
          2.861428571428571,
          2.963265306122449,
          3.0651020408163263,
          3.1669387755102036,
          3.2687755102040814,
          3.370612244897959,
          3.4724489795918365,
          3.574285714285714,
          3.6761224489795916,
          3.7779591836734694,
          3.8797959183673467,
          3.981632653061224,
          4.083469387755102,
          4.18530612244898,
          4.287142857142857,
          4.388979591836734,
          4.490816326530612,
          4.59265306122449,
          4.694489795918367,
          4.7963265306122445,
          4.898163265306122,
          5
         ],
         "y": [
          5.5109001806386004e-09,
          6.102265615481883e-05,
          0.0005766187096014619,
          0.0019803119357675314,
          0.004496801644563675,
          0.008203013800084591,
          0.013100385665893555,
          0.019147973507642746,
          0.026273176074028015,
          0.03437615931034088,
          0.04333437979221344,
          0.05301009863615036,
          0.06325697898864746,
          0.07392889261245728,
          0.08488667756319046,
          0.0960024744272232,
          0.10716313868761063,
          0.11827202141284943,
          0.12924884259700775,
          0.14002853631973267,
          0.15056194365024567,
          0.16080980002880096,
          0.17074644565582275,
          0.18035325407981873,
          0.18962036073207855,
          0.19854329526424408,
          0.20712235569953918,
          0.21536114811897278,
          0.22326725721359253,
          0.23084843158721924,
          0.23811574280261993,
          0.24508030712604523,
          0.2517537474632263,
          0.2581481635570526,
          0.2642756998538971,
          0.27014878392219543,
          0.2757790982723236,
          0.2811782956123352,
          0.28635722398757935,
          0.29132798314094543,
          0.29609963297843933,
          0.30068203806877136,
          0.30508482456207275,
          0.30931758880615234,
          0.313387930393219,
          0.31730514764785767,
          0.32107478380203247,
          0.32470613718032837,
          0.32820481061935425,
          0.33157724142074585
         ]
        },
        {
         "type": "scatter",
         "x": [
          0.01,
          0.11183673469387755,
          0.2136734693877551,
          0.31551020408163266,
          0.4173469387755102,
          0.5191836734693878,
          0.6210204081632653,
          0.7228571428571429,
          0.8246938775510204,
          0.926530612244898,
          1.0283673469387755,
          1.130204081632653,
          1.2320408163265306,
          1.3338775510204082,
          1.4357142857142857,
          1.5375510204081633,
          1.6393877551020408,
          1.7412244897959184,
          1.843061224489796,
          1.9448979591836735,
          2.046734693877551,
          2.1485714285714286,
          2.250408163265306,
          2.3522448979591832,
          2.454081632653061,
          2.555918367346939,
          2.657755102040816,
          2.7595918367346934,
          2.861428571428571,
          2.963265306122449,
          3.0651020408163263,
          3.1669387755102036,
          3.2687755102040814,
          3.370612244897959,
          3.4724489795918365,
          3.574285714285714,
          3.6761224489795916,
          3.7779591836734694,
          3.8797959183673467,
          3.981632653061224,
          4.083469387755102,
          4.18530612244898,
          4.287142857142857,
          4.388979591836734,
          4.490816326530612,
          4.59265306122449,
          4.694489795918367,
          4.7963265306122445,
          4.898163265306122,
          5
         ],
         "y": [
          6.218016768144707e-09,
          6.1026094044791535e-05,
          0.0005766187096014619,
          0.001980323577299714,
          0.0044968039728701115,
          0.008203018456697464,
          0.013100388459861279,
          0.019147977232933044,
          0.026273176074028015,
          0.034376174211502075,
          0.04333452135324478,
          0.05301009863615036,
          0.06325697898864746,
          0.07392890751361847,
          0.08488672971725464,
          0.0960025042295456,
          0.10716328769922256,
          0.11827214807271957,
          0.1292489469051361,
          0.14002874493598938,
          0.1505620777606964,
          0.16080981492996216,
          0.1707465946674347,
          0.18035335838794708,
          0.18962040543556213,
          0.19854341447353363,
          0.20712250471115112,
          0.21536126732826233,
          0.22326737642288208,
          0.2308485358953476,
          0.23811575770378113,
          0.24508051574230194,
          0.2517537474632263,
          0.25814834237098694,
          0.2642759084701538,
          0.2701488435268402,
          0.275779128074646,
          0.28117868304252625,
          0.2863575220108032,
          0.2913280129432678,
          0.2961001396179199,
          0.30068203806877136,
          0.30508488416671753,
          0.3093176782131195,
          0.31338807940483093,
          0.3173052668571472,
          0.32107511162757874,
          0.32470616698265076,
          0.3282051086425781,
          0.33157727122306824
         ]
        },
        {
         "type": "scatter",
         "x": [
          0.01,
          0.11183673469387755,
          0.2136734693877551,
          0.31551020408163266,
          0.4173469387755102,
          0.5191836734693878,
          0.6210204081632653,
          0.7228571428571429,
          0.8246938775510204,
          0.926530612244898,
          1.0283673469387755,
          1.130204081632653,
          1.2320408163265306,
          1.3338775510204082,
          1.4357142857142857,
          1.5375510204081633,
          1.6393877551020408,
          1.7412244897959184,
          1.843061224489796,
          1.9448979591836735,
          2.046734693877551,
          2.1485714285714286,
          2.250408163265306,
          2.3522448979591832,
          2.454081632653061,
          2.555918367346939,
          2.657755102040816,
          2.7595918367346934,
          2.861428571428571,
          2.963265306122449,
          3.0651020408163263,
          3.1669387755102036,
          3.2687755102040814,
          3.370612244897959,
          3.4724489795918365,
          3.574285714285714,
          3.6761224489795916,
          3.7779591836734694,
          3.8797959183673467,
          3.981632653061224,
          4.083469387755102,
          4.18530612244898,
          4.287142857142857,
          4.388979591836734,
          4.490816326530612,
          4.59265306122449,
          4.694489795918367,
          4.7963265306122445,
          4.898163265306122,
          5
         ],
         "y": [
          2.140536281558525e-08,
          6.107644003350288e-05,
          0.0005766717367805541,
          0.001980374101549387,
          0.00449681282043457,
          0.008203030563890934,
          0.013100392185151577,
          0.019147999584674835,
          0.02627321518957615,
          0.03437621891498566,
          0.04333455115556717,
          0.05301018804311752,
          0.06325706094503403,
          0.07392894476652145,
          0.08488680422306061,
          0.09600259363651276,
          0.1071634367108345,
          0.11827225238084793,
          0.1292489916086197,
          0.14002880454063416,
          0.15056215226650238,
          0.16080991923809052,
          0.17074662446975708,
          0.1803535521030426,
          0.18962055444717407,
          0.19854356348514557,
          0.20712251961231232,
          0.21536141633987427,
          0.22326752543449402,
          0.2308485507965088,
          0.23811595141887665,
          0.24508051574230194,
          0.25175395607948303,
          0.2581484019756317,
          0.2642761170864105,
          0.2701491117477417,
          0.27577918767929077,
          0.2811788320541382,
          0.2863576412200928,
          0.29132819175720215,
          0.29610058665275574,
          0.30068209767341614,
          0.3050851821899414,
          0.3093178868293762,
          0.3133883476257324,
          0.3173055350780487,
          0.3210752308368683,
          0.3247063159942627,
          0.3282051384449005,
          0.33157727122306824
         ]
        },
        {
         "type": "scatter",
         "x": [
          0.01,
          0.11183673469387755,
          0.2136734693877551,
          0.31551020408163266,
          0.4173469387755102,
          0.5191836734693878,
          0.6210204081632653,
          0.7228571428571429,
          0.8246938775510204,
          0.926530612244898,
          1.0283673469387755,
          1.130204081632653,
          1.2320408163265306,
          1.3338775510204082,
          1.4357142857142857,
          1.5375510204081633,
          1.6393877551020408,
          1.7412244897959184,
          1.843061224489796,
          1.9448979591836735,
          2.046734693877551,
          2.1485714285714286,
          2.250408163265306,
          2.3522448979591832,
          2.454081632653061,
          2.555918367346939,
          2.657755102040816,
          2.7595918367346934,
          2.861428571428571,
          2.963265306122449,
          3.0651020408163263,
          3.1669387755102036,
          3.2687755102040814,
          3.370612244897959,
          3.4724489795918365,
          3.574285714285714,
          3.6761224489795916,
          3.7779591836734694,
          3.8797959183673467,
          3.981632653061224,
          4.083469387755102,
          4.18530612244898,
          4.287142857142857,
          4.388979591836734,
          4.490816326530612,
          4.59265306122449,
          4.694489795918367,
          4.7963265306122445,
          4.898163265306122,
          5
         ],
         "y": [
          2.1964211782687926e-08,
          0.00020140802371315658,
          0.0016757735284045339,
          0.005243110936135054,
          0.011108674108982086,
          0.019217850640416145,
          0.029424799606204033,
          0.041532158851623535,
          0.05529678240418434,
          0.07043622434139252,
          0.08664315938949585,
          0.10360308736562729,
          0.12101190537214279,
          0.13859063386917114,
          0.15609532594680786,
          0.17332234978675842,
          0.19010816514492035,
          0.20633012056350708,
          0.22189880907535553,
          0.23675674200057983,
          0.25087136030197144,
          0.26422935724258423,
          0.27683377265930176,
          0.28869983553886414,
          0.2998511791229248,
          0.3103163540363312,
          0.32012808322906494,
          0.3293219804763794,
          0.33793365955352783,
          0.3459981083869934,
          0.3535517156124115,
          0.3606279492378235,
          0.3672581911087036,
          0.3734745979309082,
          0.3793044090270996,
          0.3847770690917969,
          0.3899148404598236,
          0.3947438895702362,
          0.3992842733860016,
          0.4035579264163971,
          0.40758320689201355,
          0.41137585043907166,
          0.4149528741836548,
          0.41833075881004333,
          0.4215213358402252,
          0.42453891038894653,
          0.4273918867111206,
          0.4300946295261383,
          0.4326552152633667,
          0.43508389592170715
         ]
        },
        {
         "type": "scatter",
         "x": [
          0.01,
          0.11183673469387755,
          0.2136734693877551,
          0.31551020408163266,
          0.4173469387755102,
          0.5191836734693878,
          0.6210204081632653,
          0.7228571428571429,
          0.8246938775510204,
          0.926530612244898,
          1.0283673469387755,
          1.130204081632653,
          1.2320408163265306,
          1.3338775510204082,
          1.4357142857142857,
          1.5375510204081633,
          1.6393877551020408,
          1.7412244897959184,
          1.843061224489796,
          1.9448979591836735,
          2.046734693877551,
          2.1485714285714286,
          2.250408163265306,
          2.3522448979591832,
          2.454081632653061,
          2.555918367346939,
          2.657755102040816,
          2.7595918367346934,
          2.861428571428571,
          2.963265306122449,
          3.0651020408163263,
          3.1669387755102036,
          3.2687755102040814,
          3.370612244897959,
          3.4724489795918365,
          3.574285714285714,
          3.6761224489795916,
          3.7779591836734694,
          3.8797959183673467,
          3.981632653061224,
          4.083469387755102,
          4.18530612244898,
          4.287142857142857,
          4.388979591836734,
          4.490816326530612,
          4.59265306122449,
          4.694489795918367,
          4.7963265306122445,
          4.898163265306122,
          5
         ],
         "y": [
          2.4584753788303715e-08,
          0.00020140802371315658,
          0.0016757879639044404,
          0.005243122112005949,
          0.011108684353530407,
          0.019217921420931816,
          0.029424885287880898,
          0.04153226315975189,
          0.05529691278934479,
          0.07043640315532684,
          0.08664318919181824,
          0.10360314697027206,
          0.12101201713085175,
          0.13859064877033234,
          0.15609565377235413,
          0.17332255840301514,
          0.19010840356349945,
          0.20633026957511902,
          0.22189894318580627,
          0.23675699532032013,
          0.2508713901042938,
          0.264229416847229,
          0.27683398127555847,
          0.28870004415512085,
          0.2998514175415039,
          0.31031671166419983,
          0.3201281726360321,
          0.3293222188949585,
          0.3379336893558502,
          0.34599828720092773,
          0.3535518944263458,
          0.3606281876564026,
          0.36725836992263794,
          0.3734746277332306,
          0.3793051540851593,
          0.3847772181034088,
          0.38991495966911316,
          0.3947439193725586,
          0.3992844521999359,
          0.40355807542800903,
          0.4075832962989807,
          0.41137629747390747,
          0.41495341062545776,
          0.4183312952518463,
          0.4215215742588043,
          0.42453905940055847,
          0.4273921847343445,
          0.4300950765609741,
          0.43265560269355774,
          0.4350840151309967
         ]
        },
        {
         "type": "scatter",
         "x": [
          0.01,
          0.11183673469387755,
          0.2136734693877551,
          0.31551020408163266,
          0.4173469387755102,
          0.5191836734693878,
          0.6210204081632653,
          0.7228571428571429,
          0.8246938775510204,
          0.926530612244898,
          1.0283673469387755,
          1.130204081632653,
          1.2320408163265306,
          1.3338775510204082,
          1.4357142857142857,
          1.5375510204081633,
          1.6393877551020408,
          1.7412244897959184,
          1.843061224489796,
          1.9448979591836735,
          2.046734693877551,
          2.1485714285714286,
          2.250408163265306,
          2.3522448979591832,
          2.454081632653061,
          2.555918367346939,
          2.657755102040816,
          2.7595918367346934,
          2.861428571428571,
          2.963265306122449,
          3.0651020408163263,
          3.1669387755102036,
          3.2687755102040814,
          3.370612244897959,
          3.4724489795918365,
          3.574285714285714,
          3.6761224489795916,
          3.7779591836734694,
          3.8797959183673467,
          3.981632653061224,
          4.083469387755102,
          4.18530612244898,
          4.287142857142857,
          4.388979591836734,
          4.490816326530612,
          4.59265306122449,
          4.694489795918367,
          4.7963265306122445,
          4.898163265306122,
          5
         ],
         "y": [
          5.478590736629485e-08,
          0.00023756225709803402,
          0.002157853916287422,
          0.007170777302235365,
          0.015912413597106934,
          0.028591202571988106,
          0.04518626630306244,
          0.06548535823822021,
          0.08909264206886292,
          0.1154559925198555,
          0.14391835033893585,
          0.1737750768661499,
          0.20433388650417328,
          0.2349570393562317,
          0.2650942802429199,
          0.29429560899734497,
          0.32221680879592896,
          0.3486143946647644,
          0.3733304440975189,
          0.3962832987308502,
          0.40757322311401367,
          0.4146369993686676,
          0.4209951162338257,
          0.42672619223594666,
          0.43190330266952515,
          0.43658825755119324,
          0.4408360421657562,
          0.4446958005428314,
          0.44820982217788696,
          0.45141541957855225,
          0.4543439745903015,
          0.4570292532444,
          0.4594920575618744,
          0.4617570638656616,
          0.46384188532829285,
          0.4657672643661499,
          0.46754732728004456,
          0.4691947102546692,
          0.4707239866256714,
          0.4721437692642212,
          0.4734642803668976,
          0.4746962785720825,
          0.4758458137512207,
          0.4769194424152374,
          0.4779246747493744,
          0.47886571288108826,
          0.4797498881816864,
          0.48057982325553894,
          0.48136037588119507,
          0.48209500312805176
         ]
        },
        {
         "type": "scatter",
         "x": [
          0.01,
          0.11183673469387755,
          0.2136734693877551,
          0.31551020408163266,
          0.4173469387755102,
          0.5191836734693878,
          0.6210204081632653,
          0.7228571428571429,
          0.8246938775510204,
          0.926530612244898,
          1.0283673469387755,
          1.130204081632653,
          1.2320408163265306,
          1.3338775510204082,
          1.4357142857142857,
          1.5375510204081633,
          1.6393877551020408,
          1.7412244897959184,
          1.843061224489796,
          1.9448979591836735,
          2.046734693877551,
          2.1485714285714286,
          2.250408163265306,
          2.3522448979591832,
          2.454081632653061,
          2.555918367346939,
          2.657755102040816,
          2.7595918367346934,
          2.861428571428571,
          2.963265306122449,
          3.0651020408163263,
          3.1669387755102036,
          3.2687755102040814,
          3.370612244897959,
          3.4724489795918365,
          3.574285714285714,
          3.6761224489795916,
          3.7779591836734694,
          3.8797959183673467,
          3.981632653061224,
          4.083469387755102,
          4.18530612244898,
          4.287142857142857,
          4.388979591836734,
          4.490816326530612,
          4.59265306122449,
          4.694489795918367,
          4.7963265306122445,
          4.898163265306122,
          5
         ],
         "y": [
          0.00011132677173009142,
          0.01210817787796259,
          0.03741322457790375,
          0.06885700672864914,
          0.10226424038410187,
          0.13541468977928162,
          0.16716277599334717,
          0.19694258272647858,
          0.22450177371501923,
          0.24976836144924164,
          0.2727736532688141,
          0.29360949993133545,
          0.31240737438201904,
          0.3293133080005646,
          0.3444877862930298,
          0.35808971524238586,
          0.3702711760997772,
          0.3811800181865692,
          0.39095187187194824,
          0.39971160888671875,
          0.40757349133491516,
          0.4146372675895691,
          0.42099529504776,
          0.426726371049881,
          0.4319033622741699,
          0.4365883469581604,
          0.4408360719680786,
          0.4446961283683777,
          0.44821009039878845,
          0.4514155089855194,
          0.4543440341949463,
          0.4570294916629791,
          0.45949238538742065,
          0.46175748109817505,
          0.46384236216545105,
          0.46576762199401855,
          0.4675476551055908,
          0.46919503808021545,
          0.4707240164279938,
          0.47214391827583313,
          0.4734650254249573,
          0.47469645738601685,
          0.4758458435535431,
          0.4769195318222046,
          0.47792473435401917,
          0.4788660705089569,
          0.47974997758865356,
          0.4805801510810852,
          0.4813607633113861,
          0.4820950925350189
         ]
        },
        {
         "type": "scatter",
         "x": [
          0.01,
          0.11183673469387755,
          0.2136734693877551,
          0.31551020408163266,
          0.4173469387755102,
          0.5191836734693878,
          0.6210204081632653,
          0.7228571428571429,
          0.8246938775510204,
          0.926530612244898,
          1.0283673469387755,
          1.130204081632653,
          1.2320408163265306,
          1.3338775510204082,
          1.4357142857142857,
          1.5375510204081633,
          1.6393877551020408,
          1.7412244897959184,
          1.843061224489796,
          1.9448979591836735,
          2.046734693877551,
          2.1485714285714286,
          2.250408163265306,
          2.3522448979591832,
          2.454081632653061,
          2.555918367346939,
          2.657755102040816,
          2.7595918367346934,
          2.861428571428571,
          2.963265306122449,
          3.0651020408163263,
          3.1669387755102036,
          3.2687755102040814,
          3.370612244897959,
          3.4724489795918365,
          3.574285714285714,
          3.6761224489795916,
          3.7779591836734694,
          3.8797959183673467,
          3.981632653061224,
          4.083469387755102,
          4.18530612244898,
          4.287142857142857,
          4.388979591836734,
          4.490816326530612,
          4.59265306122449,
          4.694489795918367,
          4.7963265306122445,
          4.898163265306122,
          5
         ],
         "y": [
          0.00011132982763228938,
          0.012108181603252888,
          0.03741329908370972,
          0.06885700672864914,
          0.10226435214281082,
          0.13541476428508759,
          0.16716299951076508,
          0.19694259762763977,
          0.22450189292430878,
          0.24976836144924164,
          0.272773802280426,
          0.29360973834991455,
          0.3124074339866638,
          0.32931339740753174,
          0.3444880247116089,
          0.35808974504470825,
          0.3702712953090668,
          0.38118013739585876,
          0.3909522294998169,
          0.39971205592155457,
          0.4075735807418823,
          0.4146381914615631,
          0.4209953844547272,
          0.4267270267009735,
          0.4319043755531311,
          0.4365885555744171,
          0.4408372938632965,
          0.44469624757766724,
          0.4482101798057556,
          0.45141565799713135,
          0.45434704422950745,
          0.45702990889549255,
          0.45949286222457886,
          0.4617576599121094,
          0.46384376287460327,
          0.4657681882381439,
          0.4675477147102356,
          0.46919581294059753,
          0.4707244634628296,
          0.47214391827583313,
          0.4734651446342468,
          0.47469669580459595,
          0.47584617137908936,
          0.4769200384616852,
          0.4779248535633087,
          0.4788668155670166,
          0.4797501564025879,
          0.4805804193019867,
          0.48136094212532043,
          0.48209670186042786
         ]
        },
        {
         "type": "scatter",
         "x": [
          0.01,
          0.11183673469387755,
          0.2136734693877551,
          0.31551020408163266,
          0.4173469387755102,
          0.5191836734693878,
          0.6210204081632653,
          0.7228571428571429,
          0.8246938775510204,
          0.926530612244898,
          1.0283673469387755,
          1.130204081632653,
          1.2320408163265306,
          1.3338775510204082,
          1.4357142857142857,
          1.5375510204081633,
          1.6393877551020408,
          1.7412244897959184,
          1.843061224489796,
          1.9448979591836735,
          2.046734693877551,
          2.1485714285714286,
          2.250408163265306,
          2.3522448979591832,
          2.454081632653061,
          2.555918367346939,
          2.657755102040816,
          2.7595918367346934,
          2.861428571428571,
          2.963265306122449,
          3.0651020408163263,
          3.1669387755102036,
          3.2687755102040814,
          3.370612244897959,
          3.4724489795918365,
          3.574285714285714,
          3.6761224489795916,
          3.7779591836734694,
          3.8797959183673467,
          3.981632653061224,
          4.083469387755102,
          4.18530612244898,
          4.287142857142857,
          4.388979591836734,
          4.490816326530612,
          4.59265306122449,
          4.694489795918367,
          4.7963265306122445,
          4.898163265306122,
          5
         ],
         "y": [
          0.00011133685620734468,
          0.012108192779123783,
          0.037413373589515686,
          0.06885701417922974,
          0.10226438194513321,
          0.1354149430990219,
          0.16716368496418,
          0.19694271683692932,
          0.22450196743011475,
          0.24976912140846252,
          0.2727738618850708,
          0.2936111092567444,
          0.3124077320098877,
          0.32931530475616455,
          0.34448933601379395,
          0.3580903708934784,
          0.37027233839035034,
          0.38118043541908264,
          0.3909522593021393,
          0.3997122049331665,
          0.4075736999511719,
          0.41463831067085266,
          0.42099568247795105,
          0.4267270565032959,
          0.43190446496009827,
          0.4365886449813843,
          0.4408373534679413,
          0.44469645619392395,
          0.4482102692127228,
          0.4514158070087433,
          0.4543471038341522,
          0.45702996850013733,
          0.459492951631546,
          0.4617578387260437,
          0.46384429931640625,
          0.46576857566833496,
          0.4675479829311371,
          0.4691961407661438,
          0.4707246720790863,
          0.47214409708976746,
          0.47346603870391846,
          0.4746972918510437,
          0.47584640979766846,
          0.4769202172756195,
          0.4779254198074341,
          0.4788670241832733,
          0.47975051403045654,
          0.480580598115921,
          0.4813613295555115,
          0.48209673166275024
         ]
        },
        {
         "type": "scatter",
         "x": [
          0.01,
          0.11183673469387755,
          0.2136734693877551,
          0.31551020408163266,
          0.4173469387755102,
          0.5191836734693878,
          0.6210204081632653,
          0.7228571428571429,
          0.8246938775510204,
          0.926530612244898,
          1.0283673469387755,
          1.130204081632653,
          1.2320408163265306,
          1.3338775510204082,
          1.4357142857142857,
          1.5375510204081633,
          1.6393877551020408,
          1.7412244897959184,
          1.843061224489796,
          1.9448979591836735,
          2.046734693877551,
          2.1485714285714286,
          2.250408163265306,
          2.3522448979591832,
          2.454081632653061,
          2.555918367346939,
          2.657755102040816,
          2.7595918367346934,
          2.861428571428571,
          2.963265306122449,
          3.0651020408163263,
          3.1669387755102036,
          3.2687755102040814,
          3.370612244897959,
          3.4724489795918365,
          3.574285714285714,
          3.6761224489795916,
          3.7779591836734694,
          3.8797959183673467,
          3.981632653061224,
          4.083469387755102,
          4.18530612244898,
          4.287142857142857,
          4.388979591836734,
          4.490816326530612,
          4.59265306122449,
          4.694489795918367,
          4.7963265306122445,
          4.898163265306122,
          5
         ],
         "y": [
          0.00011135028034914285,
          0.01210820209234953,
          0.037413448095321655,
          0.06885705143213272,
          0.1022643893957138,
          0.1354150027036667,
          0.16716375946998596,
          0.19694286584854126,
          0.22450204193592072,
          0.24976931512355804,
          0.27277395129203796,
          0.2936111390590668,
          0.3124080300331116,
          0.3293156027793884,
          0.34448933601379395,
          0.35809046030044556,
          0.3702724874019623,
          0.38118046522140503,
          0.3909526765346527,
          0.3997124433517456,
          0.4174511432647705,
          0.4368559420108795,
          0.4545556604862213,
          0.4706318974494934,
          0.4851764440536499,
          0.49829646944999695,
          0.5100967288017273,
          0.5206841230392456,
          0.5301618576049805,
          0.5386290550231934,
          0.5461791753768921,
          0.5528977513313293,
          0.5588666796684265,
          0.5641581416130066,
          0.5688386559486389,
          0.5729712843894958,
          0.576608419418335,
          0.5798020362854004,
          0.5825958251953125,
          0.5850335955619812,
          0.587148904800415,
          0.5889747738838196,
          0.5905413031578064,
          0.5918768048286438,
          0.593000590801239,
          0.5939399003982544,
          0.5947088599205017,
          0.5953271985054016,
          0.5958105325698853,
          0.596171498298645
         ]
        },
        {
         "type": "scatter",
         "x": [
          0.01,
          0.11183673469387755,
          0.2136734693877551,
          0.31551020408163266,
          0.4173469387755102,
          0.5191836734693878,
          0.6210204081632653,
          0.7228571428571429,
          0.8246938775510204,
          0.926530612244898,
          1.0283673469387755,
          1.130204081632653,
          1.2320408163265306,
          1.3338775510204082,
          1.4357142857142857,
          1.5375510204081633,
          1.6393877551020408,
          1.7412244897959184,
          1.843061224489796,
          1.9448979591836735,
          2.046734693877551,
          2.1485714285714286,
          2.250408163265306,
          2.3522448979591832,
          2.454081632653061,
          2.555918367346939,
          2.657755102040816,
          2.7595918367346934,
          2.861428571428571,
          2.963265306122449,
          3.0651020408163263,
          3.1669387755102036,
          3.2687755102040814,
          3.370612244897959,
          3.4724489795918365,
          3.574285714285714,
          3.6761224489795916,
          3.7779591836734694,
          3.8797959183673467,
          3.981632653061224,
          4.083469387755102,
          4.18530612244898,
          4.287142857142857,
          4.388979591836734,
          4.490816326530612,
          4.59265306122449,
          4.694489795918367,
          4.7963265306122445,
          4.898163265306122,
          5
         ],
         "y": [
          0.00043449137592688203,
          0.03857356309890747,
          0.10368230938911438,
          0.17274539172649384,
          0.2381623387336731,
          0.2976212203502655,
          0.3506702184677124,
          0.3975231647491455,
          0.4386131167411804,
          0.4744336009025574,
          0.5054795145988464,
          0.5322248339653015,
          0.5551221370697021,
          0.5745922923088074,
          0.5910382270812988,
          0.6048223972320557,
          0.6162813305854797,
          0.6257226467132568,
          0.6334184408187866,
          0.6396116614341736,
          0.6445193886756897,
          0.6483278274536133,
          0.6512027382850647,
          0.6532829999923706,
          0.6546928286552429,
          0.6555383801460266,
          0.6559060215950012,
          0.6558747291564941,
          0.6555101871490479,
          0.654867947101593,
          0.6539924144744873,
          0.6529312133789062,
          0.6517124772071838,
          0.6503680348396301,
          0.6489209532737732,
          0.6473954916000366,
          0.6458059549331665,
          0.6441690921783447,
          0.6424968242645264,
          0.6408013105392456,
          0.6390901207923889,
          0.6373726725578308,
          0.6356539130210876,
          0.6339393258094788,
          0.6322338581085205,
          0.6305413842201233,
          0.6288649439811707,
          0.627207338809967,
          0.6255694031715393,
          0.6239541172981262
         ]
        },
        {
         "type": "scatter",
         "x": [
          0.01,
          0.11183673469387755,
          0.2136734693877551,
          0.31551020408163266,
          0.4173469387755102,
          0.5191836734693878,
          0.6210204081632653,
          0.7228571428571429,
          0.8246938775510204,
          0.926530612244898,
          1.0283673469387755,
          1.130204081632653,
          1.2320408163265306,
          1.3338775510204082,
          1.4357142857142857,
          1.5375510204081633,
          1.6393877551020408,
          1.7412244897959184,
          1.843061224489796,
          1.9448979591836735,
          2.046734693877551,
          2.1485714285714286,
          2.250408163265306,
          2.3522448979591832,
          2.454081632653061,
          2.555918367346939,
          2.657755102040816,
          2.7595918367346934,
          2.861428571428571,
          2.963265306122449,
          3.0651020408163263,
          3.1669387755102036,
          3.2687755102040814,
          3.370612244897959,
          3.4724489795918365,
          3.574285714285714,
          3.6761224489795916,
          3.7779591836734694,
          3.8797959183673467,
          3.981632653061224,
          4.083469387755102,
          4.18530612244898,
          4.287142857142857,
          4.388979591836734,
          4.490816326530612,
          4.59265306122449,
          4.694489795918367,
          4.7963265306122445,
          4.898163265306122,
          5
         ],
         "y": [
          0.0004345423658378422,
          0.03857358545064926,
          0.10368253290653229,
          0.17274539172649384,
          0.23816248774528503,
          0.2976214587688446,
          0.35067033767700195,
          0.3975234925746918,
          0.43861326575279236,
          0.4744340777397156,
          0.5054800510406494,
          0.5322251319885254,
          0.5551221966743469,
          0.5745924711227417,
          0.5910382866859436,
          0.6048229336738586,
          0.6162816882133484,
          0.6257227659225464,
          0.6334184408187866,
          0.6396119594573975,
          0.6445197463035583,
          0.6483280062675476,
          0.6512032151222229,
          0.6532831788063049,
          0.6546931266784668,
          0.65553879737854,
          0.6559064984321594,
          0.6558747291564941,
          0.6555105447769165,
          0.6548680067062378,
          0.6539930105209351,
          0.6529316902160645,
          0.6517125964164734,
          0.6503681540489197,
          0.648921012878418,
          0.6473957300186157,
          0.6458060145378113,
          0.6441695690155029,
          0.642497181892395,
          0.6408015489578247,
          0.6390905380249023,
          0.6373726725578308,
          0.6356539726257324,
          0.6339395046234131,
          0.6322339773178101,
          0.6305420994758606,
          0.628865122795105,
          0.6272076368331909,
          0.6255694627761841,
          0.6239542365074158
         ]
        },
        {
         "type": "scatter",
         "x": [
          0.01,
          0.11183673469387755,
          0.2136734693877551,
          0.31551020408163266,
          0.4173469387755102,
          0.5191836734693878,
          0.6210204081632653,
          0.7228571428571429,
          0.8246938775510204,
          0.926530612244898,
          1.0283673469387755,
          1.130204081632653,
          1.2320408163265306,
          1.3338775510204082,
          1.4357142857142857,
          1.5375510204081633,
          1.6393877551020408,
          1.7412244897959184,
          1.843061224489796,
          1.9448979591836735,
          2.046734693877551,
          2.1485714285714286,
          2.250408163265306,
          2.3522448979591832,
          2.454081632653061,
          2.555918367346939,
          2.657755102040816,
          2.7595918367346934,
          2.861428571428571,
          2.963265306122449,
          3.0651020408163263,
          3.1669387755102036,
          3.2687755102040814,
          3.370612244897959,
          3.4724489795918365,
          3.574285714285714,
          3.6761224489795916,
          3.7779591836734694,
          3.8797959183673467,
          3.981632653061224,
          4.083469387755102,
          4.18530612244898,
          4.287142857142857,
          4.388979591836734,
          4.490816326530612,
          4.59265306122449,
          4.694489795918367,
          4.7963265306122445,
          4.898163265306122,
          5
         ],
         "y": [
          0.00043457417632453144,
          0.03857364505529404,
          0.10368272662162781,
          0.17274554073810577,
          0.2381625473499298,
          0.2976215183734894,
          0.35067155957221985,
          0.39752358198165894,
          0.43861350417137146,
          0.474435031414032,
          0.5054802894592285,
          0.532227098941803,
          0.5551229119300842,
          0.5745963454246521,
          0.5910400748252869,
          0.6048237085342407,
          0.6162831783294678,
          0.6257232427597046,
          0.6334189176559448,
          0.6396121382713318,
          0.6445202231407166,
          0.6483296751976013,
          0.6512035727500916,
          0.6532842516899109,
          0.6546950936317444,
          0.6555388569831848,
          0.6559076905250549,
          0.6558754444122314,
          0.6555109024047852,
          0.6548681259155273,
          0.6539966464042664,
          0.6529320478439331,
          0.6517135500907898,
          0.6503685712814331,
          0.6489232778549194,
          0.6473966240882874,
          0.6458065509796143,
          0.6441698670387268,
          0.6424975991249084,
          0.6408019661903381,
          0.6390911936759949,
          0.6373729705810547,
          0.6356540322303772,
          0.6339401006698608,
          0.6322347521781921,
          0.630543053150177,
          0.6288655996322632,
          0.6272079348564148,
          0.6255699396133423,
          0.6239557266235352
         ]
        },
        {
         "type": "scatter",
         "x": [
          0.01,
          0.11183673469387755,
          0.2136734693877551,
          0.31551020408163266,
          0.4173469387755102,
          0.5191836734693878,
          0.6210204081632653,
          0.7228571428571429,
          0.8246938775510204,
          0.926530612244898,
          1.0283673469387755,
          1.130204081632653,
          1.2320408163265306,
          1.3338775510204082,
          1.4357142857142857,
          1.5375510204081633,
          1.6393877551020408,
          1.7412244897959184,
          1.843061224489796,
          1.9448979591836735,
          2.046734693877551,
          2.1485714285714286,
          2.250408163265306,
          2.3522448979591832,
          2.454081632653061,
          2.555918367346939,
          2.657755102040816,
          2.7595918367346934,
          2.861428571428571,
          2.963265306122449,
          3.0651020408163263,
          3.1669387755102036,
          3.2687755102040814,
          3.370612244897959,
          3.4724489795918365,
          3.574285714285714,
          3.6761224489795916,
          3.7779591836734694,
          3.8797959183673467,
          3.981632653061224,
          4.083469387755102,
          4.18530612244898,
          4.287142857142857,
          4.388979591836734,
          4.490816326530612,
          4.59265306122449,
          4.694489795918367,
          4.7963265306122445,
          4.898163265306122,
          5
         ],
         "y": [
          0.00043458398431539536,
          0.038573697209358215,
          0.10368289798498154,
          0.17274560034275055,
          0.23816275596618652,
          0.2976219654083252,
          0.3506716191768646,
          0.3975236117839813,
          0.4386137127876282,
          0.47443515062332153,
          0.5054807066917419,
          0.5322275161743164,
          0.5551231503486633,
          0.5745964050292969,
          0.591040313243866,
          0.6048241853713989,
          0.6162835359573364,
          0.6257233619689941,
          0.6334195733070374,
          0.6396124362945557,
          0.6445203423500061,
          0.6483296751976013,
          0.6512035727500916,
          0.6532845497131348,
          0.6546953320503235,
          0.6555399298667908,
          0.6559077501296997,
          0.6558758020401001,
          0.6555109024047852,
          0.6548683047294617,
          0.6539970636367798,
          0.6529324650764465,
          0.6517136693000793,
          0.6503689885139465,
          0.6489239931106567,
          0.6473973989486694,
          0.6458067893981934,
          0.6441701650619507,
          0.642498254776001,
          0.640802264213562,
          0.6390924453735352,
          0.6373733878135681,
          0.635654866695404,
          0.6339402198791504,
          0.632235050201416,
          0.6305435299873352,
          0.6288657784461975,
          0.6272082328796387,
          0.6255702376365662,
          0.6239563226699829
         ]
        },
        {
         "type": "scatter",
         "x": [
          0.01,
          0.11183673469387755,
          0.2136734693877551,
          0.31551020408163266,
          0.4173469387755102,
          0.5191836734693878,
          0.6210204081632653,
          0.7228571428571429,
          0.8246938775510204,
          0.926530612244898,
          1.0283673469387755,
          1.130204081632653,
          1.2320408163265306,
          1.3338775510204082,
          1.4357142857142857,
          1.5375510204081633,
          1.6393877551020408,
          1.7412244897959184,
          1.843061224489796,
          1.9448979591836735,
          2.046734693877551,
          2.1485714285714286,
          2.250408163265306,
          2.3522448979591832,
          2.454081632653061,
          2.555918367346939,
          2.657755102040816,
          2.7595918367346934,
          2.861428571428571,
          2.963265306122449,
          3.0651020408163263,
          3.1669387755102036,
          3.2687755102040814,
          3.370612244897959,
          3.4724489795918365,
          3.574285714285714,
          3.6761224489795916,
          3.7779591836734694,
          3.8797959183673467,
          3.981632653061224,
          4.083469387755102,
          4.18530612244898,
          4.287142857142857,
          4.388979591836734,
          4.490816326530612,
          4.59265306122449,
          4.694489795918367,
          4.7963265306122445,
          4.898163265306122,
          5
         ],
         "y": [
          2.9994547367095947,
          2.9490368366241455,
          2.8564541339874268,
          2.7504312992095947,
          2.6421658992767334,
          2.536076545715332,
          2.4338762760162354,
          2.336139678955078,
          2.2430107593536377,
          2.154470920562744,
          2.070467948913574,
          1.990929365158081,
          1.9157886505126953,
          1.8449530601501465,
          1.7783172130584717,
          1.7157552242279053,
          1.6571100950241089,
          1.6022143363952637,
          1.5508784055709839,
          1.5029048919677734,
          1.45809006690979,
          1.416232705116272,
          1.3771319389343262,
          1.3405940532684326,
          1.3064343929290771,
          1.2744781970977783,
          1.2445600032806396,
          1.216524362564087,
          1.190230131149292,
          1.1655430793762207,
          1.1423417329788208,
          1.1205143928527832,
          1.0999550819396973,
          1.0805716514587402,
          1.0622748136520386,
          1.0449872016906738,
          1.0286341905593872,
          1.0131487846374512,
          0.9984699487686157,
          0.9845389723777771,
          0.971308708190918,
          0.9587307572364807,
          0.9467593431472778,
          0.935355007648468,
          0.9244804382324219,
          0.9141018390655518,
          0.9041913151741028,
          0.8947165608406067,
          0.8856508731842041,
          0.876970648765564
         ]
        },
        {
         "type": "scatter",
         "x": [
          0.01,
          0.11183673469387755,
          0.2136734693877551,
          0.31551020408163266,
          0.4173469387755102,
          0.5191836734693878,
          0.6210204081632653,
          0.7228571428571429,
          0.8246938775510204,
          0.926530612244898,
          1.0283673469387755,
          1.130204081632653,
          1.2320408163265306,
          1.3338775510204082,
          1.4357142857142857,
          1.5375510204081633,
          1.6393877551020408,
          1.7412244897959184,
          1.843061224489796,
          1.9448979591836735,
          2.046734693877551,
          2.1485714285714286,
          2.250408163265306,
          2.3522448979591832,
          2.454081632653061,
          2.555918367346939,
          2.657755102040816,
          2.7595918367346934,
          2.861428571428571,
          2.963265306122449,
          3.0651020408163263,
          3.1669387755102036,
          3.2687755102040814,
          3.370612244897959,
          3.4724489795918365,
          3.574285714285714,
          3.6761224489795916,
          3.7779591836734694,
          3.8797959183673467,
          3.981632653061224,
          4.083469387755102,
          4.18530612244898,
          4.287142857142857,
          4.388979591836734,
          4.490816326530612,
          4.59265306122449,
          4.694489795918367,
          4.7963265306122445,
          4.898163265306122,
          5
         ],
         "y": [
          2.9994547367095947,
          2.9490389823913574,
          2.856454849243164,
          2.750432252883911,
          2.6421661376953125,
          2.5360803604125977,
          2.4338769912719727,
          2.3361403942108154,
          2.2430121898651123,
          2.1544723510742188,
          2.0704691410064697,
          1.9909318685531616,
          1.9157906770706177,
          1.844954252243042,
          1.7783187627792358,
          1.7157557010650635,
          1.657110571861267,
          1.602215051651001,
          1.5508790016174316,
          1.5029048919677734,
          1.4580906629562378,
          1.416232943534851,
          1.3771324157714844,
          1.3405940532684326,
          1.3064361810684204,
          1.2744804620742798,
          1.2445605993270874,
          1.2165255546569824,
          1.1902307271957397,
          1.165544033050537,
          1.1423429250717163,
          1.1205146312713623,
          1.0999562740325928,
          1.0805716514587402,
          1.0622771978378296,
          1.0449888706207275,
          1.0286352634429932,
          1.0131492614746094,
          0.9984710216522217,
          0.9845402836799622,
          0.9713091850280762,
          0.9587311744689941,
          0.9467594623565674,
          0.9353560209274292,
          0.9244815111160278,
          0.9141035079956055,
          0.9041922688484192,
          0.8947166204452515,
          0.885651707649231,
          0.8769711256027222
         ]
        },
        {
         "type": "scatter",
         "x": [
          0.01,
          0.11183673469387755,
          0.2136734693877551,
          0.31551020408163266,
          0.4173469387755102,
          0.5191836734693878,
          0.6210204081632653,
          0.7228571428571429,
          0.8246938775510204,
          0.926530612244898,
          1.0283673469387755,
          1.130204081632653,
          1.2320408163265306,
          1.3338775510204082,
          1.4357142857142857,
          1.5375510204081633,
          1.6393877551020408,
          1.7412244897959184,
          1.843061224489796,
          1.9448979591836735,
          2.046734693877551,
          2.1485714285714286,
          2.250408163265306,
          2.3522448979591832,
          2.454081632653061,
          2.555918367346939,
          2.657755102040816,
          2.7595918367346934,
          2.861428571428571,
          2.963265306122449,
          3.0651020408163263,
          3.1669387755102036,
          3.2687755102040814,
          3.370612244897959,
          3.4724489795918365,
          3.574285714285714,
          3.6761224489795916,
          3.7779591836734694,
          3.8797959183673467,
          3.981632653061224,
          4.083469387755102,
          4.18530612244898,
          4.287142857142857,
          4.388979591836734,
          4.490816326530612,
          4.59265306122449,
          4.694489795918367,
          4.7963265306122445,
          4.898163265306122,
          5
         ],
         "y": [
          8.998910903930664,
          8.89825439453125,
          8.714271545410156,
          8.504782676696777,
          8.292049407958984,
          8.084653854370117,
          7.885741710662842,
          7.696292877197266,
          7.516484260559082,
          7.346264839172363,
          7.185537815093994,
          7.034209251403809,
          6.8921942710876465,
          6.759361743927002,
          6.635531425476074,
          6.52044677734375,
          6.413796424865723,
          6.31519889831543,
          6.224211692810059,
          6.140406608581543,
          6.063284873962402,
          5.992372989654541,
          5.927206516265869,
          5.86731481552124,
          5.812279224395752,
          5.761678695678711,
          5.715131759643555,
          5.6722822189331055,
          5.632804870605469,
          5.596400737762451,
          5.562793254852295,
          5.53173303604126,
          5.502998352050781,
          5.476377010345459,
          5.451691150665283,
          5.428762435913086,
          5.407449722290039,
          5.387608528137207,
          5.369119167327881,
          5.3518595695495605,
          5.335740089416504,
          5.320661544799805,
          5.3065361976623535,
          5.293298244476318,
          5.280869960784912,
          5.269193649291992,
          5.2582106590271,
          5.247870445251465,
          5.238122940063477,
          5.228926181793213
         ]
        }
       ],
       "layout": {
        "font": {
         "size": 18
        },
        "showlegend": false,
        "template": {
         "data": {
          "bar": [
           {
            "error_x": {
             "color": "#2a3f5f"
            },
            "error_y": {
             "color": "#2a3f5f"
            },
            "marker": {
             "line": {
              "color": "#E5ECF6",
              "width": 0.5
             },
             "pattern": {
              "fillmode": "overlay",
              "size": 10,
              "solidity": 0.2
             }
            },
            "type": "bar"
           }
          ],
          "barpolar": [
           {
            "marker": {
             "line": {
              "color": "#E5ECF6",
              "width": 0.5
             },
             "pattern": {
              "fillmode": "overlay",
              "size": 10,
              "solidity": 0.2
             }
            },
            "type": "barpolar"
           }
          ],
          "carpet": [
           {
            "aaxis": {
             "endlinecolor": "#2a3f5f",
             "gridcolor": "white",
             "linecolor": "white",
             "minorgridcolor": "white",
             "startlinecolor": "#2a3f5f"
            },
            "baxis": {
             "endlinecolor": "#2a3f5f",
             "gridcolor": "white",
             "linecolor": "white",
             "minorgridcolor": "white",
             "startlinecolor": "#2a3f5f"
            },
            "type": "carpet"
           }
          ],
          "choropleth": [
           {
            "colorbar": {
             "outlinewidth": 0,
             "ticks": ""
            },
            "type": "choropleth"
           }
          ],
          "contour": [
           {
            "colorbar": {
             "outlinewidth": 0,
             "ticks": ""
            },
            "colorscale": [
             [
              0,
              "#0d0887"
             ],
             [
              0.1111111111111111,
              "#46039f"
             ],
             [
              0.2222222222222222,
              "#7201a8"
             ],
             [
              0.3333333333333333,
              "#9c179e"
             ],
             [
              0.4444444444444444,
              "#bd3786"
             ],
             [
              0.5555555555555556,
              "#d8576b"
             ],
             [
              0.6666666666666666,
              "#ed7953"
             ],
             [
              0.7777777777777778,
              "#fb9f3a"
             ],
             [
              0.8888888888888888,
              "#fdca26"
             ],
             [
              1,
              "#f0f921"
             ]
            ],
            "type": "contour"
           }
          ],
          "contourcarpet": [
           {
            "colorbar": {
             "outlinewidth": 0,
             "ticks": ""
            },
            "type": "contourcarpet"
           }
          ],
          "heatmap": [
           {
            "colorbar": {
             "outlinewidth": 0,
             "ticks": ""
            },
            "colorscale": [
             [
              0,
              "#0d0887"
             ],
             [
              0.1111111111111111,
              "#46039f"
             ],
             [
              0.2222222222222222,
              "#7201a8"
             ],
             [
              0.3333333333333333,
              "#9c179e"
             ],
             [
              0.4444444444444444,
              "#bd3786"
             ],
             [
              0.5555555555555556,
              "#d8576b"
             ],
             [
              0.6666666666666666,
              "#ed7953"
             ],
             [
              0.7777777777777778,
              "#fb9f3a"
             ],
             [
              0.8888888888888888,
              "#fdca26"
             ],
             [
              1,
              "#f0f921"
             ]
            ],
            "type": "heatmap"
           }
          ],
          "heatmapgl": [
           {
            "colorbar": {
             "outlinewidth": 0,
             "ticks": ""
            },
            "colorscale": [
             [
              0,
              "#0d0887"
             ],
             [
              0.1111111111111111,
              "#46039f"
             ],
             [
              0.2222222222222222,
              "#7201a8"
             ],
             [
              0.3333333333333333,
              "#9c179e"
             ],
             [
              0.4444444444444444,
              "#bd3786"
             ],
             [
              0.5555555555555556,
              "#d8576b"
             ],
             [
              0.6666666666666666,
              "#ed7953"
             ],
             [
              0.7777777777777778,
              "#fb9f3a"
             ],
             [
              0.8888888888888888,
              "#fdca26"
             ],
             [
              1,
              "#f0f921"
             ]
            ],
            "type": "heatmapgl"
           }
          ],
          "histogram": [
           {
            "marker": {
             "pattern": {
              "fillmode": "overlay",
              "size": 10,
              "solidity": 0.2
             }
            },
            "type": "histogram"
           }
          ],
          "histogram2d": [
           {
            "colorbar": {
             "outlinewidth": 0,
             "ticks": ""
            },
            "colorscale": [
             [
              0,
              "#0d0887"
             ],
             [
              0.1111111111111111,
              "#46039f"
             ],
             [
              0.2222222222222222,
              "#7201a8"
             ],
             [
              0.3333333333333333,
              "#9c179e"
             ],
             [
              0.4444444444444444,
              "#bd3786"
             ],
             [
              0.5555555555555556,
              "#d8576b"
             ],
             [
              0.6666666666666666,
              "#ed7953"
             ],
             [
              0.7777777777777778,
              "#fb9f3a"
             ],
             [
              0.8888888888888888,
              "#fdca26"
             ],
             [
              1,
              "#f0f921"
             ]
            ],
            "type": "histogram2d"
           }
          ],
          "histogram2dcontour": [
           {
            "colorbar": {
             "outlinewidth": 0,
             "ticks": ""
            },
            "colorscale": [
             [
              0,
              "#0d0887"
             ],
             [
              0.1111111111111111,
              "#46039f"
             ],
             [
              0.2222222222222222,
              "#7201a8"
             ],
             [
              0.3333333333333333,
              "#9c179e"
             ],
             [
              0.4444444444444444,
              "#bd3786"
             ],
             [
              0.5555555555555556,
              "#d8576b"
             ],
             [
              0.6666666666666666,
              "#ed7953"
             ],
             [
              0.7777777777777778,
              "#fb9f3a"
             ],
             [
              0.8888888888888888,
              "#fdca26"
             ],
             [
              1,
              "#f0f921"
             ]
            ],
            "type": "histogram2dcontour"
           }
          ],
          "mesh3d": [
           {
            "colorbar": {
             "outlinewidth": 0,
             "ticks": ""
            },
            "type": "mesh3d"
           }
          ],
          "parcoords": [
           {
            "line": {
             "colorbar": {
              "outlinewidth": 0,
              "ticks": ""
             }
            },
            "type": "parcoords"
           }
          ],
          "pie": [
           {
            "automargin": true,
            "type": "pie"
           }
          ],
          "scatter": [
           {
            "fillpattern": {
             "fillmode": "overlay",
             "size": 10,
             "solidity": 0.2
            },
            "type": "scatter"
           }
          ],
          "scatter3d": [
           {
            "line": {
             "colorbar": {
              "outlinewidth": 0,
              "ticks": ""
             }
            },
            "marker": {
             "colorbar": {
              "outlinewidth": 0,
              "ticks": ""
             }
            },
            "type": "scatter3d"
           }
          ],
          "scattercarpet": [
           {
            "marker": {
             "colorbar": {
              "outlinewidth": 0,
              "ticks": ""
             }
            },
            "type": "scattercarpet"
           }
          ],
          "scattergeo": [
           {
            "marker": {
             "colorbar": {
              "outlinewidth": 0,
              "ticks": ""
             }
            },
            "type": "scattergeo"
           }
          ],
          "scattergl": [
           {
            "marker": {
             "colorbar": {
              "outlinewidth": 0,
              "ticks": ""
             }
            },
            "type": "scattergl"
           }
          ],
          "scattermapbox": [
           {
            "marker": {
             "colorbar": {
              "outlinewidth": 0,
              "ticks": ""
             }
            },
            "type": "scattermapbox"
           }
          ],
          "scatterpolar": [
           {
            "marker": {
             "colorbar": {
              "outlinewidth": 0,
              "ticks": ""
             }
            },
            "type": "scatterpolar"
           }
          ],
          "scatterpolargl": [
           {
            "marker": {
             "colorbar": {
              "outlinewidth": 0,
              "ticks": ""
             }
            },
            "type": "scatterpolargl"
           }
          ],
          "scatterternary": [
           {
            "marker": {
             "colorbar": {
              "outlinewidth": 0,
              "ticks": ""
             }
            },
            "type": "scatterternary"
           }
          ],
          "surface": [
           {
            "colorbar": {
             "outlinewidth": 0,
             "ticks": ""
            },
            "colorscale": [
             [
              0,
              "#0d0887"
             ],
             [
              0.1111111111111111,
              "#46039f"
             ],
             [
              0.2222222222222222,
              "#7201a8"
             ],
             [
              0.3333333333333333,
              "#9c179e"
             ],
             [
              0.4444444444444444,
              "#bd3786"
             ],
             [
              0.5555555555555556,
              "#d8576b"
             ],
             [
              0.6666666666666666,
              "#ed7953"
             ],
             [
              0.7777777777777778,
              "#fb9f3a"
             ],
             [
              0.8888888888888888,
              "#fdca26"
             ],
             [
              1,
              "#f0f921"
             ]
            ],
            "type": "surface"
           }
          ],
          "table": [
           {
            "cells": {
             "fill": {
              "color": "#EBF0F8"
             },
             "line": {
              "color": "white"
             }
            },
            "header": {
             "fill": {
              "color": "#C8D4E3"
             },
             "line": {
              "color": "white"
             }
            },
            "type": "table"
           }
          ]
         },
         "layout": {
          "annotationdefaults": {
           "arrowcolor": "#2a3f5f",
           "arrowhead": 0,
           "arrowwidth": 1
          },
          "autotypenumbers": "strict",
          "coloraxis": {
           "colorbar": {
            "outlinewidth": 0,
            "ticks": ""
           }
          },
          "colorscale": {
           "diverging": [
            [
             0,
             "#8e0152"
            ],
            [
             0.1,
             "#c51b7d"
            ],
            [
             0.2,
             "#de77ae"
            ],
            [
             0.3,
             "#f1b6da"
            ],
            [
             0.4,
             "#fde0ef"
            ],
            [
             0.5,
             "#f7f7f7"
            ],
            [
             0.6,
             "#e6f5d0"
            ],
            [
             0.7,
             "#b8e186"
            ],
            [
             0.8,
             "#7fbc41"
            ],
            [
             0.9,
             "#4d9221"
            ],
            [
             1,
             "#276419"
            ]
           ],
           "sequential": [
            [
             0,
             "#0d0887"
            ],
            [
             0.1111111111111111,
             "#46039f"
            ],
            [
             0.2222222222222222,
             "#7201a8"
            ],
            [
             0.3333333333333333,
             "#9c179e"
            ],
            [
             0.4444444444444444,
             "#bd3786"
            ],
            [
             0.5555555555555556,
             "#d8576b"
            ],
            [
             0.6666666666666666,
             "#ed7953"
            ],
            [
             0.7777777777777778,
             "#fb9f3a"
            ],
            [
             0.8888888888888888,
             "#fdca26"
            ],
            [
             1,
             "#f0f921"
            ]
           ],
           "sequentialminus": [
            [
             0,
             "#0d0887"
            ],
            [
             0.1111111111111111,
             "#46039f"
            ],
            [
             0.2222222222222222,
             "#7201a8"
            ],
            [
             0.3333333333333333,
             "#9c179e"
            ],
            [
             0.4444444444444444,
             "#bd3786"
            ],
            [
             0.5555555555555556,
             "#d8576b"
            ],
            [
             0.6666666666666666,
             "#ed7953"
            ],
            [
             0.7777777777777778,
             "#fb9f3a"
            ],
            [
             0.8888888888888888,
             "#fdca26"
            ],
            [
             1,
             "#f0f921"
            ]
           ]
          },
          "colorway": [
           "#636efa",
           "#EF553B",
           "#00cc96",
           "#ab63fa",
           "#FFA15A",
           "#19d3f3",
           "#FF6692",
           "#B6E880",
           "#FF97FF",
           "#FECB52"
          ],
          "font": {
           "color": "#2a3f5f"
          },
          "geo": {
           "bgcolor": "white",
           "lakecolor": "white",
           "landcolor": "#E5ECF6",
           "showlakes": true,
           "showland": true,
           "subunitcolor": "white"
          },
          "hoverlabel": {
           "align": "left"
          },
          "hovermode": "closest",
          "mapbox": {
           "style": "light"
          },
          "paper_bgcolor": "white",
          "plot_bgcolor": "#E5ECF6",
          "polar": {
           "angularaxis": {
            "gridcolor": "white",
            "linecolor": "white",
            "ticks": ""
           },
           "bgcolor": "#E5ECF6",
           "radialaxis": {
            "gridcolor": "white",
            "linecolor": "white",
            "ticks": ""
           }
          },
          "scene": {
           "xaxis": {
            "backgroundcolor": "#E5ECF6",
            "gridcolor": "white",
            "gridwidth": 2,
            "linecolor": "white",
            "showbackground": true,
            "ticks": "",
            "zerolinecolor": "white"
           },
           "yaxis": {
            "backgroundcolor": "#E5ECF6",
            "gridcolor": "white",
            "gridwidth": 2,
            "linecolor": "white",
            "showbackground": true,
            "ticks": "",
            "zerolinecolor": "white"
           },
           "zaxis": {
            "backgroundcolor": "#E5ECF6",
            "gridcolor": "white",
            "gridwidth": 2,
            "linecolor": "white",
            "showbackground": true,
            "ticks": "",
            "zerolinecolor": "white"
           }
          },
          "shapedefaults": {
           "line": {
            "color": "#2a3f5f"
           }
          },
          "ternary": {
           "aaxis": {
            "gridcolor": "white",
            "linecolor": "white",
            "ticks": ""
           },
           "baxis": {
            "gridcolor": "white",
            "linecolor": "white",
            "ticks": ""
           },
           "bgcolor": "#E5ECF6",
           "caxis": {
            "gridcolor": "white",
            "linecolor": "white",
            "ticks": ""
           }
          },
          "title": {
           "x": 0.05
          },
          "xaxis": {
           "automargin": true,
           "gridcolor": "white",
           "linecolor": "white",
           "ticks": "",
           "title": {
            "standoff": 15
           },
           "zerolinecolor": "white",
           "zerolinewidth": 2
          },
          "yaxis": {
           "automargin": true,
           "gridcolor": "white",
           "linecolor": "white",
           "ticks": "",
           "title": {
            "standoff": 15
           },
           "zerolinecolor": "white",
           "zerolinewidth": 2
          }
         }
        },
        "xaxis": {
         "title": {
          "text": "$G/\\epsilon$"
         }
        },
        "yaxis": {
         "title": {
          "text": "$\\lambda^{(1)}$"
         }
        }
       }
      },
      "text/html": [
       "<div>                            <div id=\"338ffeec-763f-4f89-a0ef-fd7b1f069a42\" class=\"plotly-graph-div\" style=\"height:525px; width:100%;\"></div>            <script type=\"text/javascript\">                require([\"plotly\"], function(Plotly) {                    window.PLOTLYENV=window.PLOTLYENV || {};                                    if (document.getElementById(\"338ffeec-763f-4f89-a0ef-fd7b1f069a42\")) {                    Plotly.newPlot(                        \"338ffeec-763f-4f89-a0ef-fd7b1f069a42\",                        [{\"x\":[0.01,0.11183673469387755,0.2136734693877551,0.31551020408163266,0.4173469387755102,0.5191836734693878,0.6210204081632653,0.7228571428571429,0.8246938775510204,0.926530612244898,1.0283673469387755,1.130204081632653,1.2320408163265306,1.3338775510204082,1.4357142857142857,1.5375510204081633,1.6393877551020408,1.7412244897959184,1.843061224489796,1.9448979591836735,2.046734693877551,2.1485714285714286,2.250408163265306,2.3522448979591832,2.454081632653061,2.555918367346939,2.657755102040816,2.7595918367346934,2.861428571428571,2.963265306122449,3.0651020408163263,3.1669387755102036,3.2687755102040814,3.370612244897959,3.4724489795918365,3.574285714285714,3.6761224489795916,3.7779591836734694,3.8797959183673467,3.981632653061224,4.083469387755102,4.18530612244898,4.287142857142857,4.388979591836734,4.490816326530612,4.59265306122449,4.694489795918367,4.7963265306122445,4.898163265306122,5.0],\"y\":[-1.3028683909510619e-08,1.8427581380819902e-05,0.0001969904697034508,0.000740969437174499,0.0018015367677435279,0.003463026136159897,0.0057638357393443584,0.008714205585420132,0.012305143289268017,0.016512617468833923,0.02129974775016308,0.026618361473083496,0.0324118509888649,0.03861793503165245,0.045171551406383514,0.052007824182510376,0.059063591063022614,0.0662800744175911,0.07360337674617767,0.08098526298999786,0.08838386833667755,0.09576217830181122,0.10309011489152908,0.11034148186445236,0.11749546229839325,0.12453494966030121,0.13144710659980774,0.13822098076343536,0.14484944939613342,0.1513267159461975,0.1576496660709381,0.16381694376468658,0.16982685029506683,0.1756802648305893,0.18137788772583008,0.1869232952594757,0.19231782853603363,0.1975645124912262,0.20266659557819366,0.2076278179883957,0.21245190501213074,0.2171420305967331,0.2217026948928833,0.22613756358623505,0.23045028746128082,0.23464512825012207,0.2387254536151886,0.2426951378583908,0.2465577870607376,0.2503167688846588],\"type\":\"scatter\"},{\"x\":[0.01,0.11183673469387755,0.2136734693877551,0.31551020408163266,0.4173469387755102,0.5191836734693878,0.6210204081632653,0.7228571428571429,0.8246938775510204,0.926530612244898,1.0283673469387755,1.130204081632653,1.2320408163265306,1.3338775510204082,1.4357142857142857,1.5375510204081633,1.6393877551020408,1.7412244897959184,1.843061224489796,1.9448979591836735,2.046734693877551,2.1485714285714286,2.250408163265306,2.3522448979591832,2.454081632653061,2.555918367346939,2.657755102040816,2.7595918367346934,2.861428571428571,2.963265306122449,3.0651020408163263,3.1669387755102036,3.2687755102040814,3.370612244897959,3.4724489795918365,3.574285714285714,3.6761224489795916,3.7779591836734694,3.8797959183673467,3.981632653061224,4.083469387755102,4.18530612244898,4.287142857142857,4.388979591836734,4.490816326530612,4.59265306122449,4.694489795918367,4.7963265306122445,4.898163265306122,5.0],\"y\":[1.3898673323353705e-09,1.8475906472303905e-05,0.00019701609562616795,0.0007410244434140623,0.001801581121981144,0.0034630291629582644,0.005763852037489414,0.008714214898645878,0.012305166572332382,0.016512684524059296,0.021299999207258224,0.026618391275405884,0.032411929219961166,0.038617972284555435,0.04517156258225441,0.05200789496302605,0.05906360596418381,0.06628008186817169,0.07360360026359558,0.08098530769348145,0.08838388323783875,0.09576228260993958,0.10309017449617386,0.11034148931503296,0.11749566346406937,0.12453509122133255,0.13144733011722565,0.13822099566459656,0.14484967291355133,0.15132679045200348,0.1576499044895172,0.16381697356700897,0.16982686519622803,0.17568041384220123,0.18137839436531067,0.18692338466644287,0.19231797754764557,0.19756482541561127,0.2026667594909668,0.20762795209884644,0.21245193481445312,0.21714207530021667,0.22170308232307434,0.2261376976966858,0.23045048117637634,0.23464524745941162,0.23872585594654083,0.24269534647464752,0.24655818939208984,0.2503170967102051],\"type\":\"scatter\"},{\"x\":[0.01,0.11183673469387755,0.2136734693877551,0.31551020408163266,0.4173469387755102,0.5191836734693878,0.6210204081632653,0.7228571428571429,0.8246938775510204,0.926530612244898,1.0283673469387755,1.130204081632653,1.2320408163265306,1.3338775510204082,1.4357142857142857,1.5375510204081633,1.6393877551020408,1.7412244897959184,1.843061224489796,1.9448979591836735,2.046734693877551,2.1485714285714286,2.250408163265306,2.3522448979591832,2.454081632653061,2.555918367346939,2.657755102040816,2.7595918367346934,2.861428571428571,2.963265306122449,3.0651020408163263,3.1669387755102036,3.2687755102040814,3.370612244897959,3.4724489795918365,3.574285714285714,3.6761224489795916,3.7779591836734694,3.8797959183673467,3.981632653061224,4.083469387755102,4.18530612244898,4.287142857142857,4.388979591836734,4.490816326530612,4.59265306122449,4.694489795918367,4.7963265306122445,4.898163265306122,5.0],\"y\":[5.45172351706924e-09,2.02037062990712e-05,0.0002261232293676585,0.0008793139713816345,0.0021868518088012934,0.004273862577974796,0.0072026303969323635,0.010994784533977509,0.015644188970327377,0.02111927978694439,0.027368826791644096,0.034323275089263916,0.041899606585502625,0.05000627785921097,0.05854649841785431,0.06742579489946365,0.07655148208141327,0.08583945780992508,0.09521332383155823,0.10460430383682251,0.11395563930273056,0.12321787327528,0.13235102593898773,0.141323059797287,0.1501072496175766,0.15868541598320007,0.16704297065734863,0.17516875267028809,0.18305882811546326,0.19070716202259064,0.19811637699604034,0.20528553426265717,0.21221797168254852,0.2189178615808487,0.22538971900939941,0.23164086043834686,0.2376764416694641,0.24350297451019287,0.24912844598293304,0.2545589506626129,0.259801983833313,0.2648637294769287,0.2697513699531555,0.27447301149368286,0.2790330946445465,0.2834404408931732,0.28769898414611816,0.29181602597236633,0.2957971692085266,0.2996479868888855],\"type\":\"scatter\"},{\"x\":[0.01,0.11183673469387755,0.2136734693877551,0.31551020408163266,0.4173469387755102,0.5191836734693878,0.6210204081632653,0.7228571428571429,0.8246938775510204,0.926530612244898,1.0283673469387755,1.130204081632653,1.2320408163265306,1.3338775510204082,1.4357142857142857,1.5375510204081633,1.6393877551020408,1.7412244897959184,1.843061224489796,1.9448979591836735,2.046734693877551,2.1485714285714286,2.250408163265306,2.3522448979591832,2.454081632653061,2.555918367346939,2.657755102040816,2.7595918367346934,2.861428571428571,2.963265306122449,3.0651020408163263,3.1669387755102036,3.2687755102040814,3.370612244897959,3.4724489795918365,3.574285714285714,3.6761224489795916,3.7779591836734694,3.8797959183673467,3.981632653061224,4.083469387755102,4.18530612244898,4.287142857142857,4.388979591836734,4.490816326530612,4.59265306122449,4.694489795918367,4.7963265306122445,4.898163265306122,5.0],\"y\":[5.5109001806386004e-09,6.102265615481883e-05,0.0005766177782788873,0.001980308210477233,0.004496792331337929,0.008203002624213696,0.013100353069603443,0.019147928804159164,0.026273174211382866,0.03437614440917969,0.04333437979221344,0.05301006883382797,0.06325692683458328,0.0739288479089737,0.08488664031028748,0.0960024744272232,0.10716309398412704,0.11827193200588226,0.12924884259700775,0.14002838730812073,0.1505618393421173,0.16080963611602783,0.17074640095233917,0.18035311996936798,0.1896202564239502,0.19854320585727692,0.2071220874786377,0.21536105871200562,0.22326715290546417,0.23084841668605804,0.23811562359333038,0.24508023262023926,0.2517535984516144,0.2581481337547302,0.26427528262138367,0.27014827728271484,0.27577847242355347,0.2811782658100128,0.28635716438293457,0.2913277745246887,0.29609930515289307,0.3006818890571594,0.305084764957428,0.30931752920150757,0.3133878707885742,0.3173048794269562,0.3210747241973877,0.32470598816871643,0.32820454239845276,0.33157724142074585],\"type\":\"scatter\"},{\"x\":[0.01,0.11183673469387755,0.2136734693877551,0.31551020408163266,0.4173469387755102,0.5191836734693878,0.6210204081632653,0.7228571428571429,0.8246938775510204,0.926530612244898,1.0283673469387755,1.130204081632653,1.2320408163265306,1.3338775510204082,1.4357142857142857,1.5375510204081633,1.6393877551020408,1.7412244897959184,1.843061224489796,1.9448979591836735,2.046734693877551,2.1485714285714286,2.250408163265306,2.3522448979591832,2.454081632653061,2.555918367346939,2.657755102040816,2.7595918367346934,2.861428571428571,2.963265306122449,3.0651020408163263,3.1669387755102036,3.2687755102040814,3.370612244897959,3.4724489795918365,3.574285714285714,3.6761224489795916,3.7779591836734694,3.8797959183673467,3.981632653061224,4.083469387755102,4.18530612244898,4.287142857142857,4.388979591836734,4.490816326530612,4.59265306122449,4.694489795918367,4.7963265306122445,4.898163265306122,5.0],\"y\":[5.5109001806386004e-09,6.102265615481883e-05,0.0005766187096014619,0.0019803119357675314,0.004496801644563675,0.008203013800084591,0.013100385665893555,0.019147973507642746,0.026273176074028015,0.03437615931034088,0.04333437979221344,0.05301009863615036,0.06325697898864746,0.07392889261245728,0.08488667756319046,0.0960024744272232,0.10716313868761063,0.11827202141284943,0.12924884259700775,0.14002853631973267,0.15056194365024567,0.16080980002880096,0.17074644565582275,0.18035325407981873,0.18962036073207855,0.19854329526424408,0.20712235569953918,0.21536114811897278,0.22326725721359253,0.23084843158721924,0.23811574280261993,0.24508030712604523,0.2517537474632263,0.2581481635570526,0.2642756998538971,0.27014878392219543,0.2757790982723236,0.2811782956123352,0.28635722398757935,0.29132798314094543,0.29609963297843933,0.30068203806877136,0.30508482456207275,0.30931758880615234,0.313387930393219,0.31730514764785767,0.32107478380203247,0.32470613718032837,0.32820481061935425,0.33157724142074585],\"type\":\"scatter\"},{\"x\":[0.01,0.11183673469387755,0.2136734693877551,0.31551020408163266,0.4173469387755102,0.5191836734693878,0.6210204081632653,0.7228571428571429,0.8246938775510204,0.926530612244898,1.0283673469387755,1.130204081632653,1.2320408163265306,1.3338775510204082,1.4357142857142857,1.5375510204081633,1.6393877551020408,1.7412244897959184,1.843061224489796,1.9448979591836735,2.046734693877551,2.1485714285714286,2.250408163265306,2.3522448979591832,2.454081632653061,2.555918367346939,2.657755102040816,2.7595918367346934,2.861428571428571,2.963265306122449,3.0651020408163263,3.1669387755102036,3.2687755102040814,3.370612244897959,3.4724489795918365,3.574285714285714,3.6761224489795916,3.7779591836734694,3.8797959183673467,3.981632653061224,4.083469387755102,4.18530612244898,4.287142857142857,4.388979591836734,4.490816326530612,4.59265306122449,4.694489795918367,4.7963265306122445,4.898163265306122,5.0],\"y\":[6.218016768144707e-09,6.1026094044791535e-05,0.0005766187096014619,0.001980323577299714,0.0044968039728701115,0.008203018456697464,0.013100388459861279,0.019147977232933044,0.026273176074028015,0.034376174211502075,0.04333452135324478,0.05301009863615036,0.06325697898864746,0.07392890751361847,0.08488672971725464,0.0960025042295456,0.10716328769922256,0.11827214807271957,0.1292489469051361,0.14002874493598938,0.1505620777606964,0.16080981492996216,0.1707465946674347,0.18035335838794708,0.18962040543556213,0.19854341447353363,0.20712250471115112,0.21536126732826233,0.22326737642288208,0.2308485358953476,0.23811575770378113,0.24508051574230194,0.2517537474632263,0.25814834237098694,0.2642759084701538,0.2701488435268402,0.275779128074646,0.28117868304252625,0.2863575220108032,0.2913280129432678,0.2961001396179199,0.30068203806877136,0.30508488416671753,0.3093176782131195,0.31338807940483093,0.3173052668571472,0.32107511162757874,0.32470616698265076,0.3282051086425781,0.33157727122306824],\"type\":\"scatter\"},{\"x\":[0.01,0.11183673469387755,0.2136734693877551,0.31551020408163266,0.4173469387755102,0.5191836734693878,0.6210204081632653,0.7228571428571429,0.8246938775510204,0.926530612244898,1.0283673469387755,1.130204081632653,1.2320408163265306,1.3338775510204082,1.4357142857142857,1.5375510204081633,1.6393877551020408,1.7412244897959184,1.843061224489796,1.9448979591836735,2.046734693877551,2.1485714285714286,2.250408163265306,2.3522448979591832,2.454081632653061,2.555918367346939,2.657755102040816,2.7595918367346934,2.861428571428571,2.963265306122449,3.0651020408163263,3.1669387755102036,3.2687755102040814,3.370612244897959,3.4724489795918365,3.574285714285714,3.6761224489795916,3.7779591836734694,3.8797959183673467,3.981632653061224,4.083469387755102,4.18530612244898,4.287142857142857,4.388979591836734,4.490816326530612,4.59265306122449,4.694489795918367,4.7963265306122445,4.898163265306122,5.0],\"y\":[2.140536281558525e-08,6.107644003350288e-05,0.0005766717367805541,0.001980374101549387,0.00449681282043457,0.008203030563890934,0.013100392185151577,0.019147999584674835,0.02627321518957615,0.03437621891498566,0.04333455115556717,0.05301018804311752,0.06325706094503403,0.07392894476652145,0.08488680422306061,0.09600259363651276,0.1071634367108345,0.11827225238084793,0.1292489916086197,0.14002880454063416,0.15056215226650238,0.16080991923809052,0.17074662446975708,0.1803535521030426,0.18962055444717407,0.19854356348514557,0.20712251961231232,0.21536141633987427,0.22326752543449402,0.2308485507965088,0.23811595141887665,0.24508051574230194,0.25175395607948303,0.2581484019756317,0.2642761170864105,0.2701491117477417,0.27577918767929077,0.2811788320541382,0.2863576412200928,0.29132819175720215,0.29610058665275574,0.30068209767341614,0.3050851821899414,0.3093178868293762,0.3133883476257324,0.3173055350780487,0.3210752308368683,0.3247063159942627,0.3282051384449005,0.33157727122306824],\"type\":\"scatter\"},{\"x\":[0.01,0.11183673469387755,0.2136734693877551,0.31551020408163266,0.4173469387755102,0.5191836734693878,0.6210204081632653,0.7228571428571429,0.8246938775510204,0.926530612244898,1.0283673469387755,1.130204081632653,1.2320408163265306,1.3338775510204082,1.4357142857142857,1.5375510204081633,1.6393877551020408,1.7412244897959184,1.843061224489796,1.9448979591836735,2.046734693877551,2.1485714285714286,2.250408163265306,2.3522448979591832,2.454081632653061,2.555918367346939,2.657755102040816,2.7595918367346934,2.861428571428571,2.963265306122449,3.0651020408163263,3.1669387755102036,3.2687755102040814,3.370612244897959,3.4724489795918365,3.574285714285714,3.6761224489795916,3.7779591836734694,3.8797959183673467,3.981632653061224,4.083469387755102,4.18530612244898,4.287142857142857,4.388979591836734,4.490816326530612,4.59265306122449,4.694489795918367,4.7963265306122445,4.898163265306122,5.0],\"y\":[2.1964211782687926e-08,0.00020140802371315658,0.0016757735284045339,0.005243110936135054,0.011108674108982086,0.019217850640416145,0.029424799606204033,0.041532158851623535,0.05529678240418434,0.07043622434139252,0.08664315938949585,0.10360308736562729,0.12101190537214279,0.13859063386917114,0.15609532594680786,0.17332234978675842,0.19010816514492035,0.20633012056350708,0.22189880907535553,0.23675674200057983,0.25087136030197144,0.26422935724258423,0.27683377265930176,0.28869983553886414,0.2998511791229248,0.3103163540363312,0.32012808322906494,0.3293219804763794,0.33793365955352783,0.3459981083869934,0.3535517156124115,0.3606279492378235,0.3672581911087036,0.3734745979309082,0.3793044090270996,0.3847770690917969,0.3899148404598236,0.3947438895702362,0.3992842733860016,0.4035579264163971,0.40758320689201355,0.41137585043907166,0.4149528741836548,0.41833075881004333,0.4215213358402252,0.42453891038894653,0.4273918867111206,0.4300946295261383,0.4326552152633667,0.43508389592170715],\"type\":\"scatter\"},{\"x\":[0.01,0.11183673469387755,0.2136734693877551,0.31551020408163266,0.4173469387755102,0.5191836734693878,0.6210204081632653,0.7228571428571429,0.8246938775510204,0.926530612244898,1.0283673469387755,1.130204081632653,1.2320408163265306,1.3338775510204082,1.4357142857142857,1.5375510204081633,1.6393877551020408,1.7412244897959184,1.843061224489796,1.9448979591836735,2.046734693877551,2.1485714285714286,2.250408163265306,2.3522448979591832,2.454081632653061,2.555918367346939,2.657755102040816,2.7595918367346934,2.861428571428571,2.963265306122449,3.0651020408163263,3.1669387755102036,3.2687755102040814,3.370612244897959,3.4724489795918365,3.574285714285714,3.6761224489795916,3.7779591836734694,3.8797959183673467,3.981632653061224,4.083469387755102,4.18530612244898,4.287142857142857,4.388979591836734,4.490816326530612,4.59265306122449,4.694489795918367,4.7963265306122445,4.898163265306122,5.0],\"y\":[2.4584753788303715e-08,0.00020140802371315658,0.0016757879639044404,0.005243122112005949,0.011108684353530407,0.019217921420931816,0.029424885287880898,0.04153226315975189,0.05529691278934479,0.07043640315532684,0.08664318919181824,0.10360314697027206,0.12101201713085175,0.13859064877033234,0.15609565377235413,0.17332255840301514,0.19010840356349945,0.20633026957511902,0.22189894318580627,0.23675699532032013,0.2508713901042938,0.264229416847229,0.27683398127555847,0.28870004415512085,0.2998514175415039,0.31031671166419983,0.3201281726360321,0.3293222188949585,0.3379336893558502,0.34599828720092773,0.3535518944263458,0.3606281876564026,0.36725836992263794,0.3734746277332306,0.3793051540851593,0.3847772181034088,0.38991495966911316,0.3947439193725586,0.3992844521999359,0.40355807542800903,0.4075832962989807,0.41137629747390747,0.41495341062545776,0.4183312952518463,0.4215215742588043,0.42453905940055847,0.4273921847343445,0.4300950765609741,0.43265560269355774,0.4350840151309967],\"type\":\"scatter\"},{\"x\":[0.01,0.11183673469387755,0.2136734693877551,0.31551020408163266,0.4173469387755102,0.5191836734693878,0.6210204081632653,0.7228571428571429,0.8246938775510204,0.926530612244898,1.0283673469387755,1.130204081632653,1.2320408163265306,1.3338775510204082,1.4357142857142857,1.5375510204081633,1.6393877551020408,1.7412244897959184,1.843061224489796,1.9448979591836735,2.046734693877551,2.1485714285714286,2.250408163265306,2.3522448979591832,2.454081632653061,2.555918367346939,2.657755102040816,2.7595918367346934,2.861428571428571,2.963265306122449,3.0651020408163263,3.1669387755102036,3.2687755102040814,3.370612244897959,3.4724489795918365,3.574285714285714,3.6761224489795916,3.7779591836734694,3.8797959183673467,3.981632653061224,4.083469387755102,4.18530612244898,4.287142857142857,4.388979591836734,4.490816326530612,4.59265306122449,4.694489795918367,4.7963265306122445,4.898163265306122,5.0],\"y\":[5.478590736629485e-08,0.00023756225709803402,0.002157853916287422,0.007170777302235365,0.015912413597106934,0.028591202571988106,0.04518626630306244,0.06548535823822021,0.08909264206886292,0.1154559925198555,0.14391835033893585,0.1737750768661499,0.20433388650417328,0.2349570393562317,0.2650942802429199,0.29429560899734497,0.32221680879592896,0.3486143946647644,0.3733304440975189,0.3962832987308502,0.40757322311401367,0.4146369993686676,0.4209951162338257,0.42672619223594666,0.43190330266952515,0.43658825755119324,0.4408360421657562,0.4446958005428314,0.44820982217788696,0.45141541957855225,0.4543439745903015,0.4570292532444,0.4594920575618744,0.4617570638656616,0.46384188532829285,0.4657672643661499,0.46754732728004456,0.4691947102546692,0.4707239866256714,0.4721437692642212,0.4734642803668976,0.4746962785720825,0.4758458137512207,0.4769194424152374,0.4779246747493744,0.47886571288108826,0.4797498881816864,0.48057982325553894,0.48136037588119507,0.48209500312805176],\"type\":\"scatter\"},{\"x\":[0.01,0.11183673469387755,0.2136734693877551,0.31551020408163266,0.4173469387755102,0.5191836734693878,0.6210204081632653,0.7228571428571429,0.8246938775510204,0.926530612244898,1.0283673469387755,1.130204081632653,1.2320408163265306,1.3338775510204082,1.4357142857142857,1.5375510204081633,1.6393877551020408,1.7412244897959184,1.843061224489796,1.9448979591836735,2.046734693877551,2.1485714285714286,2.250408163265306,2.3522448979591832,2.454081632653061,2.555918367346939,2.657755102040816,2.7595918367346934,2.861428571428571,2.963265306122449,3.0651020408163263,3.1669387755102036,3.2687755102040814,3.370612244897959,3.4724489795918365,3.574285714285714,3.6761224489795916,3.7779591836734694,3.8797959183673467,3.981632653061224,4.083469387755102,4.18530612244898,4.287142857142857,4.388979591836734,4.490816326530612,4.59265306122449,4.694489795918367,4.7963265306122445,4.898163265306122,5.0],\"y\":[0.00011132677173009142,0.01210817787796259,0.03741322457790375,0.06885700672864914,0.10226424038410187,0.13541468977928162,0.16716277599334717,0.19694258272647858,0.22450177371501923,0.24976836144924164,0.2727736532688141,0.29360949993133545,0.31240737438201904,0.3293133080005646,0.3444877862930298,0.35808971524238586,0.3702711760997772,0.3811800181865692,0.39095187187194824,0.39971160888671875,0.40757349133491516,0.4146372675895691,0.42099529504776,0.426726371049881,0.4319033622741699,0.4365883469581604,0.4408360719680786,0.4446961283683777,0.44821009039878845,0.4514155089855194,0.4543440341949463,0.4570294916629791,0.45949238538742065,0.46175748109817505,0.46384236216545105,0.46576762199401855,0.4675476551055908,0.46919503808021545,0.4707240164279938,0.47214391827583313,0.4734650254249573,0.47469645738601685,0.4758458435535431,0.4769195318222046,0.47792473435401917,0.4788660705089569,0.47974997758865356,0.4805801510810852,0.4813607633113861,0.4820950925350189],\"type\":\"scatter\"},{\"x\":[0.01,0.11183673469387755,0.2136734693877551,0.31551020408163266,0.4173469387755102,0.5191836734693878,0.6210204081632653,0.7228571428571429,0.8246938775510204,0.926530612244898,1.0283673469387755,1.130204081632653,1.2320408163265306,1.3338775510204082,1.4357142857142857,1.5375510204081633,1.6393877551020408,1.7412244897959184,1.843061224489796,1.9448979591836735,2.046734693877551,2.1485714285714286,2.250408163265306,2.3522448979591832,2.454081632653061,2.555918367346939,2.657755102040816,2.7595918367346934,2.861428571428571,2.963265306122449,3.0651020408163263,3.1669387755102036,3.2687755102040814,3.370612244897959,3.4724489795918365,3.574285714285714,3.6761224489795916,3.7779591836734694,3.8797959183673467,3.981632653061224,4.083469387755102,4.18530612244898,4.287142857142857,4.388979591836734,4.490816326530612,4.59265306122449,4.694489795918367,4.7963265306122445,4.898163265306122,5.0],\"y\":[0.00011132982763228938,0.012108181603252888,0.03741329908370972,0.06885700672864914,0.10226435214281082,0.13541476428508759,0.16716299951076508,0.19694259762763977,0.22450189292430878,0.24976836144924164,0.272773802280426,0.29360973834991455,0.3124074339866638,0.32931339740753174,0.3444880247116089,0.35808974504470825,0.3702712953090668,0.38118013739585876,0.3909522294998169,0.39971205592155457,0.4075735807418823,0.4146381914615631,0.4209953844547272,0.4267270267009735,0.4319043755531311,0.4365885555744171,0.4408372938632965,0.44469624757766724,0.4482101798057556,0.45141565799713135,0.45434704422950745,0.45702990889549255,0.45949286222457886,0.4617576599121094,0.46384376287460327,0.4657681882381439,0.4675477147102356,0.46919581294059753,0.4707244634628296,0.47214391827583313,0.4734651446342468,0.47469669580459595,0.47584617137908936,0.4769200384616852,0.4779248535633087,0.4788668155670166,0.4797501564025879,0.4805804193019867,0.48136094212532043,0.48209670186042786],\"type\":\"scatter\"},{\"x\":[0.01,0.11183673469387755,0.2136734693877551,0.31551020408163266,0.4173469387755102,0.5191836734693878,0.6210204081632653,0.7228571428571429,0.8246938775510204,0.926530612244898,1.0283673469387755,1.130204081632653,1.2320408163265306,1.3338775510204082,1.4357142857142857,1.5375510204081633,1.6393877551020408,1.7412244897959184,1.843061224489796,1.9448979591836735,2.046734693877551,2.1485714285714286,2.250408163265306,2.3522448979591832,2.454081632653061,2.555918367346939,2.657755102040816,2.7595918367346934,2.861428571428571,2.963265306122449,3.0651020408163263,3.1669387755102036,3.2687755102040814,3.370612244897959,3.4724489795918365,3.574285714285714,3.6761224489795916,3.7779591836734694,3.8797959183673467,3.981632653061224,4.083469387755102,4.18530612244898,4.287142857142857,4.388979591836734,4.490816326530612,4.59265306122449,4.694489795918367,4.7963265306122445,4.898163265306122,5.0],\"y\":[0.00011133685620734468,0.012108192779123783,0.037413373589515686,0.06885701417922974,0.10226438194513321,0.1354149430990219,0.16716368496418,0.19694271683692932,0.22450196743011475,0.24976912140846252,0.2727738618850708,0.2936111092567444,0.3124077320098877,0.32931530475616455,0.34448933601379395,0.3580903708934784,0.37027233839035034,0.38118043541908264,0.3909522593021393,0.3997122049331665,0.4075736999511719,0.41463831067085266,0.42099568247795105,0.4267270565032959,0.43190446496009827,0.4365886449813843,0.4408373534679413,0.44469645619392395,0.4482102692127228,0.4514158070087433,0.4543471038341522,0.45702996850013733,0.459492951631546,0.4617578387260437,0.46384429931640625,0.46576857566833496,0.4675479829311371,0.4691961407661438,0.4707246720790863,0.47214409708976746,0.47346603870391846,0.4746972918510437,0.47584640979766846,0.4769202172756195,0.4779254198074341,0.4788670241832733,0.47975051403045654,0.480580598115921,0.4813613295555115,0.48209673166275024],\"type\":\"scatter\"},{\"x\":[0.01,0.11183673469387755,0.2136734693877551,0.31551020408163266,0.4173469387755102,0.5191836734693878,0.6210204081632653,0.7228571428571429,0.8246938775510204,0.926530612244898,1.0283673469387755,1.130204081632653,1.2320408163265306,1.3338775510204082,1.4357142857142857,1.5375510204081633,1.6393877551020408,1.7412244897959184,1.843061224489796,1.9448979591836735,2.046734693877551,2.1485714285714286,2.250408163265306,2.3522448979591832,2.454081632653061,2.555918367346939,2.657755102040816,2.7595918367346934,2.861428571428571,2.963265306122449,3.0651020408163263,3.1669387755102036,3.2687755102040814,3.370612244897959,3.4724489795918365,3.574285714285714,3.6761224489795916,3.7779591836734694,3.8797959183673467,3.981632653061224,4.083469387755102,4.18530612244898,4.287142857142857,4.388979591836734,4.490816326530612,4.59265306122449,4.694489795918367,4.7963265306122445,4.898163265306122,5.0],\"y\":[0.00011135028034914285,0.01210820209234953,0.037413448095321655,0.06885705143213272,0.1022643893957138,0.1354150027036667,0.16716375946998596,0.19694286584854126,0.22450204193592072,0.24976931512355804,0.27277395129203796,0.2936111390590668,0.3124080300331116,0.3293156027793884,0.34448933601379395,0.35809046030044556,0.3702724874019623,0.38118046522140503,0.3909526765346527,0.3997124433517456,0.4174511432647705,0.4368559420108795,0.4545556604862213,0.4706318974494934,0.4851764440536499,0.49829646944999695,0.5100967288017273,0.5206841230392456,0.5301618576049805,0.5386290550231934,0.5461791753768921,0.5528977513313293,0.5588666796684265,0.5641581416130066,0.5688386559486389,0.5729712843894958,0.576608419418335,0.5798020362854004,0.5825958251953125,0.5850335955619812,0.587148904800415,0.5889747738838196,0.5905413031578064,0.5918768048286438,0.593000590801239,0.5939399003982544,0.5947088599205017,0.5953271985054016,0.5958105325698853,0.596171498298645],\"type\":\"scatter\"},{\"x\":[0.01,0.11183673469387755,0.2136734693877551,0.31551020408163266,0.4173469387755102,0.5191836734693878,0.6210204081632653,0.7228571428571429,0.8246938775510204,0.926530612244898,1.0283673469387755,1.130204081632653,1.2320408163265306,1.3338775510204082,1.4357142857142857,1.5375510204081633,1.6393877551020408,1.7412244897959184,1.843061224489796,1.9448979591836735,2.046734693877551,2.1485714285714286,2.250408163265306,2.3522448979591832,2.454081632653061,2.555918367346939,2.657755102040816,2.7595918367346934,2.861428571428571,2.963265306122449,3.0651020408163263,3.1669387755102036,3.2687755102040814,3.370612244897959,3.4724489795918365,3.574285714285714,3.6761224489795916,3.7779591836734694,3.8797959183673467,3.981632653061224,4.083469387755102,4.18530612244898,4.287142857142857,4.388979591836734,4.490816326530612,4.59265306122449,4.694489795918367,4.7963265306122445,4.898163265306122,5.0],\"y\":[0.00043449137592688203,0.03857356309890747,0.10368230938911438,0.17274539172649384,0.2381623387336731,0.2976212203502655,0.3506702184677124,0.3975231647491455,0.4386131167411804,0.4744336009025574,0.5054795145988464,0.5322248339653015,0.5551221370697021,0.5745922923088074,0.5910382270812988,0.6048223972320557,0.6162813305854797,0.6257226467132568,0.6334184408187866,0.6396116614341736,0.6445193886756897,0.6483278274536133,0.6512027382850647,0.6532829999923706,0.6546928286552429,0.6555383801460266,0.6559060215950012,0.6558747291564941,0.6555101871490479,0.654867947101593,0.6539924144744873,0.6529312133789062,0.6517124772071838,0.6503680348396301,0.6489209532737732,0.6473954916000366,0.6458059549331665,0.6441690921783447,0.6424968242645264,0.6408013105392456,0.6390901207923889,0.6373726725578308,0.6356539130210876,0.6339393258094788,0.6322338581085205,0.6305413842201233,0.6288649439811707,0.627207338809967,0.6255694031715393,0.6239541172981262],\"type\":\"scatter\"},{\"x\":[0.01,0.11183673469387755,0.2136734693877551,0.31551020408163266,0.4173469387755102,0.5191836734693878,0.6210204081632653,0.7228571428571429,0.8246938775510204,0.926530612244898,1.0283673469387755,1.130204081632653,1.2320408163265306,1.3338775510204082,1.4357142857142857,1.5375510204081633,1.6393877551020408,1.7412244897959184,1.843061224489796,1.9448979591836735,2.046734693877551,2.1485714285714286,2.250408163265306,2.3522448979591832,2.454081632653061,2.555918367346939,2.657755102040816,2.7595918367346934,2.861428571428571,2.963265306122449,3.0651020408163263,3.1669387755102036,3.2687755102040814,3.370612244897959,3.4724489795918365,3.574285714285714,3.6761224489795916,3.7779591836734694,3.8797959183673467,3.981632653061224,4.083469387755102,4.18530612244898,4.287142857142857,4.388979591836734,4.490816326530612,4.59265306122449,4.694489795918367,4.7963265306122445,4.898163265306122,5.0],\"y\":[0.0004345423658378422,0.03857358545064926,0.10368253290653229,0.17274539172649384,0.23816248774528503,0.2976214587688446,0.35067033767700195,0.3975234925746918,0.43861326575279236,0.4744340777397156,0.5054800510406494,0.5322251319885254,0.5551221966743469,0.5745924711227417,0.5910382866859436,0.6048229336738586,0.6162816882133484,0.6257227659225464,0.6334184408187866,0.6396119594573975,0.6445197463035583,0.6483280062675476,0.6512032151222229,0.6532831788063049,0.6546931266784668,0.65553879737854,0.6559064984321594,0.6558747291564941,0.6555105447769165,0.6548680067062378,0.6539930105209351,0.6529316902160645,0.6517125964164734,0.6503681540489197,0.648921012878418,0.6473957300186157,0.6458060145378113,0.6441695690155029,0.642497181892395,0.6408015489578247,0.6390905380249023,0.6373726725578308,0.6356539726257324,0.6339395046234131,0.6322339773178101,0.6305420994758606,0.628865122795105,0.6272076368331909,0.6255694627761841,0.6239542365074158],\"type\":\"scatter\"},{\"x\":[0.01,0.11183673469387755,0.2136734693877551,0.31551020408163266,0.4173469387755102,0.5191836734693878,0.6210204081632653,0.7228571428571429,0.8246938775510204,0.926530612244898,1.0283673469387755,1.130204081632653,1.2320408163265306,1.3338775510204082,1.4357142857142857,1.5375510204081633,1.6393877551020408,1.7412244897959184,1.843061224489796,1.9448979591836735,2.046734693877551,2.1485714285714286,2.250408163265306,2.3522448979591832,2.454081632653061,2.555918367346939,2.657755102040816,2.7595918367346934,2.861428571428571,2.963265306122449,3.0651020408163263,3.1669387755102036,3.2687755102040814,3.370612244897959,3.4724489795918365,3.574285714285714,3.6761224489795916,3.7779591836734694,3.8797959183673467,3.981632653061224,4.083469387755102,4.18530612244898,4.287142857142857,4.388979591836734,4.490816326530612,4.59265306122449,4.694489795918367,4.7963265306122445,4.898163265306122,5.0],\"y\":[0.00043457417632453144,0.03857364505529404,0.10368272662162781,0.17274554073810577,0.2381625473499298,0.2976215183734894,0.35067155957221985,0.39752358198165894,0.43861350417137146,0.474435031414032,0.5054802894592285,0.532227098941803,0.5551229119300842,0.5745963454246521,0.5910400748252869,0.6048237085342407,0.6162831783294678,0.6257232427597046,0.6334189176559448,0.6396121382713318,0.6445202231407166,0.6483296751976013,0.6512035727500916,0.6532842516899109,0.6546950936317444,0.6555388569831848,0.6559076905250549,0.6558754444122314,0.6555109024047852,0.6548681259155273,0.6539966464042664,0.6529320478439331,0.6517135500907898,0.6503685712814331,0.6489232778549194,0.6473966240882874,0.6458065509796143,0.6441698670387268,0.6424975991249084,0.6408019661903381,0.6390911936759949,0.6373729705810547,0.6356540322303772,0.6339401006698608,0.6322347521781921,0.630543053150177,0.6288655996322632,0.6272079348564148,0.6255699396133423,0.6239557266235352],\"type\":\"scatter\"},{\"x\":[0.01,0.11183673469387755,0.2136734693877551,0.31551020408163266,0.4173469387755102,0.5191836734693878,0.6210204081632653,0.7228571428571429,0.8246938775510204,0.926530612244898,1.0283673469387755,1.130204081632653,1.2320408163265306,1.3338775510204082,1.4357142857142857,1.5375510204081633,1.6393877551020408,1.7412244897959184,1.843061224489796,1.9448979591836735,2.046734693877551,2.1485714285714286,2.250408163265306,2.3522448979591832,2.454081632653061,2.555918367346939,2.657755102040816,2.7595918367346934,2.861428571428571,2.963265306122449,3.0651020408163263,3.1669387755102036,3.2687755102040814,3.370612244897959,3.4724489795918365,3.574285714285714,3.6761224489795916,3.7779591836734694,3.8797959183673467,3.981632653061224,4.083469387755102,4.18530612244898,4.287142857142857,4.388979591836734,4.490816326530612,4.59265306122449,4.694489795918367,4.7963265306122445,4.898163265306122,5.0],\"y\":[0.00043458398431539536,0.038573697209358215,0.10368289798498154,0.17274560034275055,0.23816275596618652,0.2976219654083252,0.3506716191768646,0.3975236117839813,0.4386137127876282,0.47443515062332153,0.5054807066917419,0.5322275161743164,0.5551231503486633,0.5745964050292969,0.591040313243866,0.6048241853713989,0.6162835359573364,0.6257233619689941,0.6334195733070374,0.6396124362945557,0.6445203423500061,0.6483296751976013,0.6512035727500916,0.6532845497131348,0.6546953320503235,0.6555399298667908,0.6559077501296997,0.6558758020401001,0.6555109024047852,0.6548683047294617,0.6539970636367798,0.6529324650764465,0.6517136693000793,0.6503689885139465,0.6489239931106567,0.6473973989486694,0.6458067893981934,0.6441701650619507,0.642498254776001,0.640802264213562,0.6390924453735352,0.6373733878135681,0.635654866695404,0.6339402198791504,0.632235050201416,0.6305435299873352,0.6288657784461975,0.6272082328796387,0.6255702376365662,0.6239563226699829],\"type\":\"scatter\"},{\"x\":[0.01,0.11183673469387755,0.2136734693877551,0.31551020408163266,0.4173469387755102,0.5191836734693878,0.6210204081632653,0.7228571428571429,0.8246938775510204,0.926530612244898,1.0283673469387755,1.130204081632653,1.2320408163265306,1.3338775510204082,1.4357142857142857,1.5375510204081633,1.6393877551020408,1.7412244897959184,1.843061224489796,1.9448979591836735,2.046734693877551,2.1485714285714286,2.250408163265306,2.3522448979591832,2.454081632653061,2.555918367346939,2.657755102040816,2.7595918367346934,2.861428571428571,2.963265306122449,3.0651020408163263,3.1669387755102036,3.2687755102040814,3.370612244897959,3.4724489795918365,3.574285714285714,3.6761224489795916,3.7779591836734694,3.8797959183673467,3.981632653061224,4.083469387755102,4.18530612244898,4.287142857142857,4.388979591836734,4.490816326530612,4.59265306122449,4.694489795918367,4.7963265306122445,4.898163265306122,5.0],\"y\":[2.9994547367095947,2.9490368366241455,2.8564541339874268,2.7504312992095947,2.6421658992767334,2.536076545715332,2.4338762760162354,2.336139678955078,2.2430107593536377,2.154470920562744,2.070467948913574,1.990929365158081,1.9157886505126953,1.8449530601501465,1.7783172130584717,1.7157552242279053,1.6571100950241089,1.6022143363952637,1.5508784055709839,1.5029048919677734,1.45809006690979,1.416232705116272,1.3771319389343262,1.3405940532684326,1.3064343929290771,1.2744781970977783,1.2445600032806396,1.216524362564087,1.190230131149292,1.1655430793762207,1.1423417329788208,1.1205143928527832,1.0999550819396973,1.0805716514587402,1.0622748136520386,1.0449872016906738,1.0286341905593872,1.0131487846374512,0.9984699487686157,0.9845389723777771,0.971308708190918,0.9587307572364807,0.9467593431472778,0.935355007648468,0.9244804382324219,0.9141018390655518,0.9041913151741028,0.8947165608406067,0.8856508731842041,0.876970648765564],\"type\":\"scatter\"},{\"x\":[0.01,0.11183673469387755,0.2136734693877551,0.31551020408163266,0.4173469387755102,0.5191836734693878,0.6210204081632653,0.7228571428571429,0.8246938775510204,0.926530612244898,1.0283673469387755,1.130204081632653,1.2320408163265306,1.3338775510204082,1.4357142857142857,1.5375510204081633,1.6393877551020408,1.7412244897959184,1.843061224489796,1.9448979591836735,2.046734693877551,2.1485714285714286,2.250408163265306,2.3522448979591832,2.454081632653061,2.555918367346939,2.657755102040816,2.7595918367346934,2.861428571428571,2.963265306122449,3.0651020408163263,3.1669387755102036,3.2687755102040814,3.370612244897959,3.4724489795918365,3.574285714285714,3.6761224489795916,3.7779591836734694,3.8797959183673467,3.981632653061224,4.083469387755102,4.18530612244898,4.287142857142857,4.388979591836734,4.490816326530612,4.59265306122449,4.694489795918367,4.7963265306122445,4.898163265306122,5.0],\"y\":[2.9994547367095947,2.9490389823913574,2.856454849243164,2.750432252883911,2.6421661376953125,2.5360803604125977,2.4338769912719727,2.3361403942108154,2.2430121898651123,2.1544723510742188,2.0704691410064697,1.9909318685531616,1.9157906770706177,1.844954252243042,1.7783187627792358,1.7157557010650635,1.657110571861267,1.602215051651001,1.5508790016174316,1.5029048919677734,1.4580906629562378,1.416232943534851,1.3771324157714844,1.3405940532684326,1.3064361810684204,1.2744804620742798,1.2445605993270874,1.2165255546569824,1.1902307271957397,1.165544033050537,1.1423429250717163,1.1205146312713623,1.0999562740325928,1.0805716514587402,1.0622771978378296,1.0449888706207275,1.0286352634429932,1.0131492614746094,0.9984710216522217,0.9845402836799622,0.9713091850280762,0.9587311744689941,0.9467594623565674,0.9353560209274292,0.9244815111160278,0.9141035079956055,0.9041922688484192,0.8947166204452515,0.885651707649231,0.8769711256027222],\"type\":\"scatter\"},{\"x\":[0.01,0.11183673469387755,0.2136734693877551,0.31551020408163266,0.4173469387755102,0.5191836734693878,0.6210204081632653,0.7228571428571429,0.8246938775510204,0.926530612244898,1.0283673469387755,1.130204081632653,1.2320408163265306,1.3338775510204082,1.4357142857142857,1.5375510204081633,1.6393877551020408,1.7412244897959184,1.843061224489796,1.9448979591836735,2.046734693877551,2.1485714285714286,2.250408163265306,2.3522448979591832,2.454081632653061,2.555918367346939,2.657755102040816,2.7595918367346934,2.861428571428571,2.963265306122449,3.0651020408163263,3.1669387755102036,3.2687755102040814,3.370612244897959,3.4724489795918365,3.574285714285714,3.6761224489795916,3.7779591836734694,3.8797959183673467,3.981632653061224,4.083469387755102,4.18530612244898,4.287142857142857,4.388979591836734,4.490816326530612,4.59265306122449,4.694489795918367,4.7963265306122445,4.898163265306122,5.0],\"y\":[8.998910903930664,8.89825439453125,8.714271545410156,8.504782676696777,8.292049407958984,8.084653854370117,7.885741710662842,7.696292877197266,7.516484260559082,7.346264839172363,7.185537815093994,7.034209251403809,6.8921942710876465,6.759361743927002,6.635531425476074,6.52044677734375,6.413796424865723,6.31519889831543,6.224211692810059,6.140406608581543,6.063284873962402,5.992372989654541,5.927206516265869,5.86731481552124,5.812279224395752,5.761678695678711,5.715131759643555,5.6722822189331055,5.632804870605469,5.596400737762451,5.562793254852295,5.53173303604126,5.502998352050781,5.476377010345459,5.451691150665283,5.428762435913086,5.407449722290039,5.387608528137207,5.369119167327881,5.3518595695495605,5.335740089416504,5.320661544799805,5.3065361976623535,5.293298244476318,5.280869960784912,5.269193649291992,5.2582106590271,5.247870445251465,5.238122940063477,5.228926181793213],\"type\":\"scatter\"}],                        {\"template\":{\"data\":{\"histogram2dcontour\":[{\"type\":\"histogram2dcontour\",\"colorbar\":{\"outlinewidth\":0,\"ticks\":\"\"},\"colorscale\":[[0.0,\"#0d0887\"],[0.1111111111111111,\"#46039f\"],[0.2222222222222222,\"#7201a8\"],[0.3333333333333333,\"#9c179e\"],[0.4444444444444444,\"#bd3786\"],[0.5555555555555556,\"#d8576b\"],[0.6666666666666666,\"#ed7953\"],[0.7777777777777778,\"#fb9f3a\"],[0.8888888888888888,\"#fdca26\"],[1.0,\"#f0f921\"]]}],\"choropleth\":[{\"type\":\"choropleth\",\"colorbar\":{\"outlinewidth\":0,\"ticks\":\"\"}}],\"histogram2d\":[{\"type\":\"histogram2d\",\"colorbar\":{\"outlinewidth\":0,\"ticks\":\"\"},\"colorscale\":[[0.0,\"#0d0887\"],[0.1111111111111111,\"#46039f\"],[0.2222222222222222,\"#7201a8\"],[0.3333333333333333,\"#9c179e\"],[0.4444444444444444,\"#bd3786\"],[0.5555555555555556,\"#d8576b\"],[0.6666666666666666,\"#ed7953\"],[0.7777777777777778,\"#fb9f3a\"],[0.8888888888888888,\"#fdca26\"],[1.0,\"#f0f921\"]]}],\"heatmap\":[{\"type\":\"heatmap\",\"colorbar\":{\"outlinewidth\":0,\"ticks\":\"\"},\"colorscale\":[[0.0,\"#0d0887\"],[0.1111111111111111,\"#46039f\"],[0.2222222222222222,\"#7201a8\"],[0.3333333333333333,\"#9c179e\"],[0.4444444444444444,\"#bd3786\"],[0.5555555555555556,\"#d8576b\"],[0.6666666666666666,\"#ed7953\"],[0.7777777777777778,\"#fb9f3a\"],[0.8888888888888888,\"#fdca26\"],[1.0,\"#f0f921\"]]}],\"heatmapgl\":[{\"type\":\"heatmapgl\",\"colorbar\":{\"outlinewidth\":0,\"ticks\":\"\"},\"colorscale\":[[0.0,\"#0d0887\"],[0.1111111111111111,\"#46039f\"],[0.2222222222222222,\"#7201a8\"],[0.3333333333333333,\"#9c179e\"],[0.4444444444444444,\"#bd3786\"],[0.5555555555555556,\"#d8576b\"],[0.6666666666666666,\"#ed7953\"],[0.7777777777777778,\"#fb9f3a\"],[0.8888888888888888,\"#fdca26\"],[1.0,\"#f0f921\"]]}],\"contourcarpet\":[{\"type\":\"contourcarpet\",\"colorbar\":{\"outlinewidth\":0,\"ticks\":\"\"}}],\"contour\":[{\"type\":\"contour\",\"colorbar\":{\"outlinewidth\":0,\"ticks\":\"\"},\"colorscale\":[[0.0,\"#0d0887\"],[0.1111111111111111,\"#46039f\"],[0.2222222222222222,\"#7201a8\"],[0.3333333333333333,\"#9c179e\"],[0.4444444444444444,\"#bd3786\"],[0.5555555555555556,\"#d8576b\"],[0.6666666666666666,\"#ed7953\"],[0.7777777777777778,\"#fb9f3a\"],[0.8888888888888888,\"#fdca26\"],[1.0,\"#f0f921\"]]}],\"surface\":[{\"type\":\"surface\",\"colorbar\":{\"outlinewidth\":0,\"ticks\":\"\"},\"colorscale\":[[0.0,\"#0d0887\"],[0.1111111111111111,\"#46039f\"],[0.2222222222222222,\"#7201a8\"],[0.3333333333333333,\"#9c179e\"],[0.4444444444444444,\"#bd3786\"],[0.5555555555555556,\"#d8576b\"],[0.6666666666666666,\"#ed7953\"],[0.7777777777777778,\"#fb9f3a\"],[0.8888888888888888,\"#fdca26\"],[1.0,\"#f0f921\"]]}],\"mesh3d\":[{\"type\":\"mesh3d\",\"colorbar\":{\"outlinewidth\":0,\"ticks\":\"\"}}],\"scatter\":[{\"fillpattern\":{\"fillmode\":\"overlay\",\"size\":10,\"solidity\":0.2},\"type\":\"scatter\"}],\"parcoords\":[{\"type\":\"parcoords\",\"line\":{\"colorbar\":{\"outlinewidth\":0,\"ticks\":\"\"}}}],\"scatterpolargl\":[{\"type\":\"scatterpolargl\",\"marker\":{\"colorbar\":{\"outlinewidth\":0,\"ticks\":\"\"}}}],\"bar\":[{\"error_x\":{\"color\":\"#2a3f5f\"},\"error_y\":{\"color\":\"#2a3f5f\"},\"marker\":{\"line\":{\"color\":\"#E5ECF6\",\"width\":0.5},\"pattern\":{\"fillmode\":\"overlay\",\"size\":10,\"solidity\":0.2}},\"type\":\"bar\"}],\"scattergeo\":[{\"type\":\"scattergeo\",\"marker\":{\"colorbar\":{\"outlinewidth\":0,\"ticks\":\"\"}}}],\"scatterpolar\":[{\"type\":\"scatterpolar\",\"marker\":{\"colorbar\":{\"outlinewidth\":0,\"ticks\":\"\"}}}],\"histogram\":[{\"marker\":{\"pattern\":{\"fillmode\":\"overlay\",\"size\":10,\"solidity\":0.2}},\"type\":\"histogram\"}],\"scattergl\":[{\"type\":\"scattergl\",\"marker\":{\"colorbar\":{\"outlinewidth\":0,\"ticks\":\"\"}}}],\"scatter3d\":[{\"type\":\"scatter3d\",\"line\":{\"colorbar\":{\"outlinewidth\":0,\"ticks\":\"\"}},\"marker\":{\"colorbar\":{\"outlinewidth\":0,\"ticks\":\"\"}}}],\"scattermapbox\":[{\"type\":\"scattermapbox\",\"marker\":{\"colorbar\":{\"outlinewidth\":0,\"ticks\":\"\"}}}],\"scatterternary\":[{\"type\":\"scatterternary\",\"marker\":{\"colorbar\":{\"outlinewidth\":0,\"ticks\":\"\"}}}],\"scattercarpet\":[{\"type\":\"scattercarpet\",\"marker\":{\"colorbar\":{\"outlinewidth\":0,\"ticks\":\"\"}}}],\"carpet\":[{\"aaxis\":{\"endlinecolor\":\"#2a3f5f\",\"gridcolor\":\"white\",\"linecolor\":\"white\",\"minorgridcolor\":\"white\",\"startlinecolor\":\"#2a3f5f\"},\"baxis\":{\"endlinecolor\":\"#2a3f5f\",\"gridcolor\":\"white\",\"linecolor\":\"white\",\"minorgridcolor\":\"white\",\"startlinecolor\":\"#2a3f5f\"},\"type\":\"carpet\"}],\"table\":[{\"cells\":{\"fill\":{\"color\":\"#EBF0F8\"},\"line\":{\"color\":\"white\"}},\"header\":{\"fill\":{\"color\":\"#C8D4E3\"},\"line\":{\"color\":\"white\"}},\"type\":\"table\"}],\"barpolar\":[{\"marker\":{\"line\":{\"color\":\"#E5ECF6\",\"width\":0.5},\"pattern\":{\"fillmode\":\"overlay\",\"size\":10,\"solidity\":0.2}},\"type\":\"barpolar\"}],\"pie\":[{\"automargin\":true,\"type\":\"pie\"}]},\"layout\":{\"autotypenumbers\":\"strict\",\"colorway\":[\"#636efa\",\"#EF553B\",\"#00cc96\",\"#ab63fa\",\"#FFA15A\",\"#19d3f3\",\"#FF6692\",\"#B6E880\",\"#FF97FF\",\"#FECB52\"],\"font\":{\"color\":\"#2a3f5f\"},\"hovermode\":\"closest\",\"hoverlabel\":{\"align\":\"left\"},\"paper_bgcolor\":\"white\",\"plot_bgcolor\":\"#E5ECF6\",\"polar\":{\"bgcolor\":\"#E5ECF6\",\"angularaxis\":{\"gridcolor\":\"white\",\"linecolor\":\"white\",\"ticks\":\"\"},\"radialaxis\":{\"gridcolor\":\"white\",\"linecolor\":\"white\",\"ticks\":\"\"}},\"ternary\":{\"bgcolor\":\"#E5ECF6\",\"aaxis\":{\"gridcolor\":\"white\",\"linecolor\":\"white\",\"ticks\":\"\"},\"baxis\":{\"gridcolor\":\"white\",\"linecolor\":\"white\",\"ticks\":\"\"},\"caxis\":{\"gridcolor\":\"white\",\"linecolor\":\"white\",\"ticks\":\"\"}},\"coloraxis\":{\"colorbar\":{\"outlinewidth\":0,\"ticks\":\"\"}},\"colorscale\":{\"sequential\":[[0.0,\"#0d0887\"],[0.1111111111111111,\"#46039f\"],[0.2222222222222222,\"#7201a8\"],[0.3333333333333333,\"#9c179e\"],[0.4444444444444444,\"#bd3786\"],[0.5555555555555556,\"#d8576b\"],[0.6666666666666666,\"#ed7953\"],[0.7777777777777778,\"#fb9f3a\"],[0.8888888888888888,\"#fdca26\"],[1.0,\"#f0f921\"]],\"sequentialminus\":[[0.0,\"#0d0887\"],[0.1111111111111111,\"#46039f\"],[0.2222222222222222,\"#7201a8\"],[0.3333333333333333,\"#9c179e\"],[0.4444444444444444,\"#bd3786\"],[0.5555555555555556,\"#d8576b\"],[0.6666666666666666,\"#ed7953\"],[0.7777777777777778,\"#fb9f3a\"],[0.8888888888888888,\"#fdca26\"],[1.0,\"#f0f921\"]],\"diverging\":[[0,\"#8e0152\"],[0.1,\"#c51b7d\"],[0.2,\"#de77ae\"],[0.3,\"#f1b6da\"],[0.4,\"#fde0ef\"],[0.5,\"#f7f7f7\"],[0.6,\"#e6f5d0\"],[0.7,\"#b8e186\"],[0.8,\"#7fbc41\"],[0.9,\"#4d9221\"],[1,\"#276419\"]]},\"xaxis\":{\"gridcolor\":\"white\",\"linecolor\":\"white\",\"ticks\":\"\",\"title\":{\"standoff\":15},\"zerolinecolor\":\"white\",\"automargin\":true,\"zerolinewidth\":2},\"yaxis\":{\"gridcolor\":\"white\",\"linecolor\":\"white\",\"ticks\":\"\",\"title\":{\"standoff\":15},\"zerolinecolor\":\"white\",\"automargin\":true,\"zerolinewidth\":2},\"scene\":{\"xaxis\":{\"backgroundcolor\":\"#E5ECF6\",\"gridcolor\":\"white\",\"linecolor\":\"white\",\"showbackground\":true,\"ticks\":\"\",\"zerolinecolor\":\"white\",\"gridwidth\":2},\"yaxis\":{\"backgroundcolor\":\"#E5ECF6\",\"gridcolor\":\"white\",\"linecolor\":\"white\",\"showbackground\":true,\"ticks\":\"\",\"zerolinecolor\":\"white\",\"gridwidth\":2},\"zaxis\":{\"backgroundcolor\":\"#E5ECF6\",\"gridcolor\":\"white\",\"linecolor\":\"white\",\"showbackground\":true,\"ticks\":\"\",\"zerolinecolor\":\"white\",\"gridwidth\":2}},\"shapedefaults\":{\"line\":{\"color\":\"#2a3f5f\"}},\"annotationdefaults\":{\"arrowcolor\":\"#2a3f5f\",\"arrowhead\":0,\"arrowwidth\":1},\"geo\":{\"bgcolor\":\"white\",\"landcolor\":\"#E5ECF6\",\"subunitcolor\":\"white\",\"showland\":true,\"showlakes\":true,\"lakecolor\":\"white\"},\"title\":{\"x\":0.05},\"mapbox\":{\"style\":\"light\"}}},\"font\":{\"size\":18},\"xaxis\":{\"title\":{\"text\":\"$G/\\\\epsilon$\"}},\"yaxis\":{\"title\":{\"text\":\"$\\\\lambda^{(1)}$\"}},\"showlegend\":false},                        {\"responsive\": true}                    ).then(function(){\n",
       "                            \n",
       "var gd = document.getElementById('338ffeec-763f-4f89-a0ef-fd7b1f069a42');\n",
       "var x = new MutationObserver(function (mutations, observer) {{\n",
       "        var display = window.getComputedStyle(gd).display;\n",
       "        if (!display || display === 'none') {{\n",
       "            console.log([gd, 'removed!']);\n",
       "            Plotly.purge(gd);\n",
       "            observer.disconnect();\n",
       "        }}\n",
       "}});\n",
       "\n",
       "// Listen for the removal of the full notebook cells\n",
       "var notebookContainer = gd.closest('#notebook-container');\n",
       "if (notebookContainer) {{\n",
       "    x.observe(notebookContainer, {childList: true});\n",
       "}}\n",
       "\n",
       "// Listen for the clearing of the current output cell\n",
       "var outputEl = gd.closest('.output');\n",
       "if (outputEl) {{\n",
       "    x.observe(outputEl, {childList: true});\n",
       "}}\n",
       "\n",
       "                        })                };                });            </script>        </div>"
      ]
     },
     "metadata": {},
     "output_type": "display_data"
    }
   ],
   "source": [
    "# Ploteamos\n",
    "rho_range = dict(sorted(rho_range.items()))\n",
    "x_axis = list(rho_range.keys())\n",
    "values = list(rho_range.items())\n",
    "size = len(values[0][1])\n",
    "num = 50\n",
    "\n",
    "fig = go.Figure()\n",
    "for k in range(0,size):\n",
    "    fig.add_trace(go.Scatter(\n",
    "        x=x_axis,\n",
    "        y=[values[j][1][k] for j in range(0,num)]\n",
    "    ))\n",
    "fig.update_layout(xaxis_title=r'$G/\\epsilon$',\n",
    "                   yaxis_title=r'$\\lambda^{(1)}$',           \n",
    "                  showlegend = False,\n",
    "                     font=dict(\n",
    "                      size=18,\n",
    "                   ))\n",
    "fig.show()"
   ]
  },
  {
   "cell_type": "code",
   "execution_count": 14,
   "metadata": {},
   "outputs": [],
   "source": [
    "import pickle\n",
    "with open('rho1p.npy', 'rb') as f:\n",
    "    rho_range = pickle.load(f)"
   ]
  },
  {
   "cell_type": "code",
   "execution_count": 12,
   "metadata": {
    "id": "AWjeIo1BiLv9",
    "outputId": "8ab0aee4-17b2-4d0f-8449-477c9b9d9b35"
   },
   "outputs": [
    {
     "name": "stdout",
     "output_type": "stream",
     "text": [
      "[[0 0 0 0 0 6]\n",
      " [0 0 0 0 1 5]\n",
      " [0 0 0 0 2 4]\n",
      " ...\n",
      " [5 0 1 0 0 0]\n",
      " [5 1 0 0 0 0]\n",
      " [6 0 0 0 0 0]]\n"
     ]
    },
    {
     "data": {
      "text/plain": [
       "462"
      ]
     },
     "execution_count": 12,
     "metadata": {},
     "output_type": "execute_result"
    }
   ],
   "source": [
    "m = 6\n",
    "d = 3\n",
    "# Creo las bases para no tener que recrearlas luego\n",
    "basis = fixed_basis(m, 2*d)\n",
    "basis_m1 = fixed_basis(m-1, 2*d)\n",
    "basis_m2 = fixed_basis(m-2, 2*d)\n",
    "print(basis.base)\n",
    "e = 1\n",
    "eps = 0\n",
    "e0 = np.zeros(2*d)\n",
    "for k in range(0, d):\n",
    "    r = random.random() * eps\n",
    "    e0[2*k] = k*e+r\n",
    "    e0[2*k+1] = k*e+r\n",
    "\n",
    "h = hamiltonian(2, basis, basis_m1, basis_m2)\n",
    "ha = np.array(h.todense())\n",
    "ha.astype(np.float32).tofile(\"myData.dat\")\n",
    "basis.size"
   ]
  },
  {
   "cell_type": "code",
   "execution_count": 23,
   "metadata": {
    "id": "KJnULGghiLv_",
    "outputId": "eb50f4eb-2c77-49b8-8057-093b8b6faa93"
   },
   "outputs": [
    {
     "name": "stdout",
     "output_type": "stream",
     "text": [
      "[0.08498999 0.08499001 0.10967447 0.14576727 0.14576738 0.14576739\n",
      " 0.1457674  0.24450395 0.24450402 0.40406728 0.40406743 0.40406767\n",
      " 0.40406787 0.4079797  0.64242506 0.6424253  0.64242554 0.6424258\n",
      " 1.4782455  1.4782462  6.0978236 ]\n"
     ]
    }
   ],
   "source": [
    "h = hamiltonian(2, basis, basis_m1, basis_m2)\n",
    "sol = linalg.eigsh(h,which='SA',k=19,return_eigenvectors=True)\n",
    "eig = sol[0].real\n",
    "eigv = sol[1]\n",
    "argmin = np.argmin(sol[0].real)\n",
    "fund = sol[1][:,argmin]\n",
    "fund = fund.real / np.linalg.norm(fund)\n",
    "rho = rho_m(basis, 2, fund).todense()\n",
    "print(np.sort(linalg_d.eigvals(rho).real))"
   ]
  },
  {
   "cell_type": "code",
   "execution_count": 18,
   "metadata": {},
   "outputs": [
    {
     "name": "stdout",
     "output_type": "stream",
     "text": [
      "3.9999998\n",
      "[1.8763163  1.876315   0.12368434 0.12368418]\n"
     ]
    }
   ],
   "source": [
    "rho1 = rho_1(basis, fund).todense()\n",
    "print(np.trace(rho1))\n",
    "print(linalg_d.eigvals(rho1).real)"
   ]
  },
  {
   "cell_type": "code",
   "execution_count": 13,
   "metadata": {},
   "outputs": [
    {
     "name": "stdout",
     "output_type": "stream",
     "text": [
      "6.0\n",
      "[0.00731809 3.7699203  0.00731803 0.01199096 0.88363785 0.10904462\n",
      " 0.88363725 0.10904456 0.10904457 0.10904454]\n"
     ]
    }
   ],
   "source": [
    "rho2 = rho_2(basis, fund).todense()\n",
    "print(np.trace(rho2))\n",
    "print(linalg_d.eigvals(rho2).real)\n",
    "np.set_printoptions(suppress=True)\n"
   ]
  },
  {
   "cell_type": "code",
   "execution_count": 28,
   "metadata": {},
   "outputs": [
    {
     "name": "stdout",
     "output_type": "stream",
     "text": [
      "0 2\n",
      "[0 0 0 2] [0 0 2 0] 0.08554583787918091\n",
      "1 1\n",
      "[0 0 1 1] [0 0 1 1] 0.17109167575836184\n",
      "1 8\n",
      "[0 0 1 1] [1 1 0 0] 0.3302189111709595\n",
      "2 0\n",
      "[0 0 2 0] [0 0 0 2] 0.08554583787918091\n",
      "3 7\n",
      "[0 1 0 1] [1 0 1 0] 0.3302189111709595\n",
      "4 6\n",
      "[0 1 1 0] [1 0 0 1] 0.3302189111709595\n",
      "5 9\n",
      "[0 2 0 0] [2 0 0 0] 0.9400199055671692\n",
      "6 4\n",
      "[1 0 0 1] [0 1 1 0] 0.3302189111709595\n",
      "7 3\n",
      "[1 0 1 0] [0 1 0 1] 0.3302189111709595\n",
      "8 1\n",
      "[1 1 0 0] [0 0 1 1] 0.3302189111709595\n",
      "8 8\n",
      "[1 1 0 0] [1 1 0 0] 1.8800398111343388\n",
      "9 5\n",
      "[2 0 0 0] [0 2 0 0] 0.9400199055671692\n",
      "6.0000005\n"
     ]
    },
    {
     "data": {
      "text/plain": [
       "array([ 0.00000019, -0.00000003,  0.08554584, -0.00000006,  0.00000006,\n",
       "        0.00000007, -0.00000002, -0.00000005,  0.00000001, -0.        ,\n",
       "       -0.00000008,  0.00000001,  0.00000005,  0.00000005, -0.        ,\n",
       "        0.00000008,  0.00000007, -0.00000007,  0.00000002, -0.00000004,\n",
       "        0.3302189 ,  0.00000004, -0.00000001, -0.00000015, -0.00000048,\n",
       "        0.00000002,  0.00000011, -0.00000001,  0.00000016, -0.00000014,\n",
       "        0.9400199 , -0.00000003,  0.00000011,  0.0000002 , -0.00000003],\n",
       "      dtype=float32)"
      ]
     },
     "execution_count": 28,
     "metadata": {},
     "output_type": "execute_result"
    }
   ],
   "source": [
    "g = gamma(basis, 2, fund).todense()\n",
    "rho = np.dot(g,np.transpose(g))\n",
    "print(np.trace(rho))\n",
    "fund"
   ]
  },
  {
   "cell_type": "code",
   "execution_count": 6,
   "metadata": {},
   "outputs": [],
   "source": [
    "m = 6\n",
    "d = 3\n",
    "basis = fixed_basis(m, 2*d)\n",
    "m = 2\n",
    "m_basis = fixed_basis(m, basis.d)\n",
    "nm_basis = fixed_basis(basis.m-m, basis.d)\n",
    "\n",
    "h = hamiltonian(0.01, basis, basis_m1, basis_m2)\n",
    "sol = linalg.eigsh(h,which='SA',k=19,return_eigenvectors=True)\n",
    "eig = sol[0].real\n",
    "eigv = sol[1]\n",
    "argmin = np.argmin(sol[0].real)\n",
    "fund = sol[1][:,argmin]\n",
    "fund = fund.real / np.linalg.norm(fund)\n",
    "g = gamma(basis, 2, fund).todense()\n",
    "\n",
    "U, s, Vh = np.linalg.svd(g, full_matrices=False)\n",
    "\n",
    "parsum = []\n",
    "for nu in range(0,s.size):\n",
    "    if nu == 0:\n",
    "        v = np.zeros(basis.size)\n",
    "    else:\n",
    "        v = parsum[nu-1]\n",
    "    for i, vi in enumerate(m_basis.base):\n",
    "        for j, wi in enumerate(nm_basis.base):\n",
    "            targ = vi+wi\n",
    "            index = basis.rep_to_index(targ)\n",
    "            aux = lambda x: np.prod(np.reciprocal(np.sqrt([np.math.factorial(o) for o in x])))\n",
    "            aux_inv = lambda x: np.prod(np.sqrt([np.math.factorial(o) for o in x]))\n",
    "            v += 1/binom(basis.m,m) * np.sqrt(s[nu]) * U[i,nu] * Vh[nu,j] * basis.canonicals[index] * aux(wi) * aux(vi) * aux_inv(targ)\n",
    "    parsum.append(v/np.linalg.norm(v))\n",
    "    \n",
    "for x in range(0,len(parsum)):\n",
    "    parsum[x] = parsum[x] / np.linalg.norm(parsum[x])"
   ]
  },
  {
   "cell_type": "code",
   "execution_count": 7,
   "metadata": {},
   "outputs": [
    {
     "data": {
      "text/plain": [
       "2.674396e-07"
      ]
     },
     "execution_count": 7,
     "metadata": {},
     "output_type": "execute_result"
    }
   ],
   "source": [
    "np.linalg.norm(np.dot(np.dot(U,np.diag(s)),Vh)-g)"
   ]
  },
  {
   "cell_type": "code",
   "execution_count": 23,
   "metadata": {},
   "outputs": [
    {
     "data": {
      "text/plain": [
       "3.8729837"
      ]
     },
     "execution_count": 23,
     "metadata": {},
     "output_type": "execute_result"
    }
   ],
   "source": [
    "np.linalg.norm(g)"
   ]
  },
  {
   "cell_type": "code",
   "execution_count": 11,
   "metadata": {},
   "outputs": [
    {
     "data": {
      "text/plain": [
       "0.9996569142096183"
      ]
     },
     "execution_count": 11,
     "metadata": {},
     "output_type": "execute_result"
    }
   ],
   "source": [
    "np.dot(fund,parsum[1])"
   ]
  },
  {
   "cell_type": "code",
   "execution_count": 11,
   "metadata": {},
   "outputs": [],
   "source": [
    "v = np.zeros(basis.size)\n",
    "for i, vi in enumerate(m_basis.base):\n",
    "    for j, wi in enumerate(nm_basis.base):\n",
    "        targ = vi+wi\n",
    "        index = basis.rep_to_index(targ)\n",
    "        aux = lambda x: np.prod(np.reciprocal(np.sqrt([np.math.factorial(o) for o in x])))\n",
    "        aux_inv = lambda x: np.prod(np.sqrt([np.math.factorial(o) for o in x]))\n",
    "        v += 1/binom(basis.m,m) * g[i,j] * basis.canonicals[index] * aux(wi) * aux(vi) * aux_inv(targ)"
   ]
  },
  {
   "cell_type": "code",
   "execution_count": 12,
   "metadata": {},
   "outputs": [
    {
     "data": {
      "text/plain": [
       "2.9600115436576405e-08"
      ]
     },
     "execution_count": 12,
     "metadata": {},
     "output_type": "execute_result"
    }
   ],
   "source": [
    "np.linalg.norm(v/np.linalg.norm(v)-fund)"
   ]
  },
  {
   "cell_type": "code",
   "execution_count": 15,
   "metadata": {},
   "outputs": [
    {
     "name": "stdout",
     "output_type": "stream",
     "text": [
      "[0. 0. 0. 0. 0. 0. 1. 0. 0. 0. 0. 0. 0. 0. 0. 0. 0. 0. 0. 0. 0. 1. 0. 0.\n",
      " 0. 0. 0. 0. 0. 0. 0. 0. 0. 0. 1.]\n",
      "[0 0 0 2] [0 1 1 0] 1.0\n",
      "[0 0 1 1] [0 1 0 1] 1.4142135623730951\n",
      "[0 0 2 0] [1 1 0 0] 1.0\n",
      "[0 1 0 1] [0 0 1 1] 1.4142135623730951\n",
      "[0 1 1 0] [0 0 0 2] 1.0\n",
      "[0 1 1 0] [1 0 1 0] 1.4142135623730951\n",
      "[1 0 1 0] [0 1 1 0] 1.4142135623730951\n",
      "[1 1 0 0] [0 0 2 0] 1.0\n",
      "[2 0 0 0] [2 0 0 0] 2.4494897427831774\n",
      "[0.         0.         0.         0.         0.         0.\n",
      " 0.99999999 0.         0.         0.         0.         0.\n",
      " 0.         0.         0.         0.         0.         0.\n",
      " 0.         0.         0.         0.99999999 0.         0.\n",
      " 0.         0.         0.         0.         0.         0.\n",
      " 0.         0.         0.         0.         1.00000004]\n"
     ]
    }
   ],
   "source": [
    "basis = fixed_basis(4, 4)\n",
    "m = 2\n",
    "m_basis = fixed_basis(m, basis.d)\n",
    "nm_basis = fixed_basis(basis.m-m, basis.d)\n",
    "\n",
    "v = basis.rep_to_vect([0, 1, 1, 2])+basis.rep_to_vect([1, 1, 2, 0])+basis.rep_to_vect([4,0,0,0])\n",
    "print(v)\n",
    "g = gamma(basis, 2, v)\n",
    "v = np.zeros(basis.size)\n",
    "for i, vi in enumerate(m_basis.base):\n",
    "    for j, wi in enumerate(nm_basis.base):\n",
    "        targ = vi+wi\n",
    "        index = basis.rep_to_index(targ)\n",
    "        aux = lambda x: np.prod(np.reciprocal(np.sqrt([np.math.factorial(o) for o in x])))\n",
    "        aux_inv = lambda x: np.prod(np.sqrt([np.math.factorial(o) for o in x]))\n",
    "        v += 1/binom(basis.m,m) * g[i,j] * basis.canonicals[index] * aux(wi) * aux(vi) * aux_inv(targ)\n",
    "\n",
    "print(v)"
   ]
  },
  {
   "cell_type": "code",
   "execution_count": 54,
   "metadata": {},
   "outputs": [],
   "source": [
    "nu=0\n",
    "w = np.zeros(basis.size)\n",
    "for i, vi in enumerate(m_basis.base):\n",
    "    for j, wi in enumerate(nm_basis.base):\n",
    "        targ = vi+wi\n",
    "        index = basis.rep_to_index(targ)\n",
    "        aux = lambda x: np.prod(np.reciprocal(np.sqrt([np.math.factorial(o) for o in x])))\n",
    "        aux_inv = lambda x: np.prod(np.sqrt([np.math.factorial(o) for o in x]))\n",
    "        w += 1/binom(basis.m,m) * np.sqrt(s[nu]) * U[i,nu] * Vh[nu,j] * basis.canonicals[index] * aux(wi) * aux(vi) * aux_inv(targ)\n",
    "w = w/np.linalg.norm(w)"
   ]
  },
  {
   "cell_type": "code",
   "execution_count": 55,
   "metadata": {},
   "outputs": [
    {
     "data": {
      "text/plain": [
       "0.9999472732751074"
      ]
     },
     "execution_count": 55,
     "metadata": {},
     "output_type": "execute_result"
    }
   ],
   "source": [
    "np.dot(fund,w)"
   ]
  },
  {
   "cell_type": "code",
   "execution_count": 66,
   "metadata": {},
   "outputs": [
    {
     "data": {
      "text/plain": [
       "15.0"
      ]
     },
     "execution_count": 66,
     "metadata": {},
     "output_type": "execute_result"
    }
   ],
   "source": [
    "binom(basis.m,m)"
   ]
  },
  {
   "cell_type": "code",
   "execution_count": 13,
   "metadata": {},
   "outputs": [],
   "source": [
    "m = 6\n",
    "d = 3\n",
    "basis = fixed_basis(m, 2*d)\n",
    "m = 2\n",
    "m_basis = fixed_basis(m, basis.d)\n",
    "nm_basis = fixed_basis(basis.m-m, basis.d)\n",
    "\n",
    "num = 20\n",
    "g_range = np.linspace(0.01,5,num)\n",
    "par_range= {}\n",
    "overlap_range = {}\n",
    "\n",
    "for g in g_range:\n",
    "    h = hamiltonian(g, basis, basis_m1, basis_m2)\n",
    "    sol = linalg.eigsh(h,which='SA',k=19,return_eigenvectors=True)\n",
    "    eig = sol[0].real\n",
    "    eigv = sol[1]\n",
    "    argmin = np.argmin(sol[0].real)\n",
    "    fund = sol[1][:,argmin]\n",
    "    fund = fund.real / np.linalg.norm(fund)\n",
    "    ga = gamma(basis, 2, fund).todense()\n",
    "\n",
    "    U, s, Vh = np.linalg.svd(ga, full_matrices=False)\n",
    "\n",
    "    parsum = []\n",
    "    for nu in range(0,s.size):\n",
    "        if nu == 0:\n",
    "            v = np.zeros(basis.size)\n",
    "        else:\n",
    "            v = parsum[nu-1]\n",
    "        for i, vi in enumerate(m_basis.base):\n",
    "            for j, wi in enumerate(nm_basis.base):\n",
    "                targ = vi+wi\n",
    "                index = basis.rep_to_index(targ)\n",
    "                aux = lambda x: np.prod(np.reciprocal(np.sqrt([np.math.factorial(o) for o in x])))\n",
    "                aux_inv = lambda x: np.prod(np.sqrt([np.math.factorial(o) for o in x]))\n",
    "                v += 1/binom(basis.m,m) * np.sqrt(s[nu]) * U[i,nu] * Vh[nu,j] * basis.canonicals[index] * aux(wi) * aux(vi) * aux_inv(targ)\n",
    "        parsum.append(v / np.linalg.norm(v))\n",
    "\n",
    "    for x in range(0,len(parsum)):\n",
    "        parsum[x] = parsum[x] / np.linalg.norm(parsum[x])\n",
    "        \n",
    "    par_range[g] = parsum\n",
    "    overlap_range[g] = [np.abs(np.dot(fund,v)) for v in parsum]"
   ]
  },
  {
   "cell_type": "code",
   "execution_count": 20,
   "metadata": {},
   "outputs": [
    {
     "data": {
      "application/vnd.plotly.v1+json": {
       "config": {
        "plotlyServerURL": "https://plot.ly"
       },
       "data": [
        {
         "type": "scatter",
         "x": [
          0.01,
          0.27263157894736845,
          0.5352631578947369,
          0.7978947368421053,
          1.0605263157894738,
          1.3231578947368423,
          1.5857894736842106,
          1.848421052631579,
          2.1110526315789473,
          2.373684210526316,
          2.6363157894736844,
          2.8989473684210525,
          3.161578947368421,
          3.4242105263157896,
          3.6868421052631577,
          3.9494736842105262,
          4.212105263157895,
          4.474736842105263,
          4.737368421052632,
          5
         ],
         "y": [
          0.9857773668041467,
          0.9752076476805355,
          0.9612882867752052,
          0.949242513835604,
          0.9397923109597108,
          0.9332393293646533,
          0.9295922942008016,
          0.9285047081988298,
          0.9293992255441643,
          0.9316508179746241,
          0.9347135204343331,
          0.9381714228975278,
          0.9417379039542163,
          0.9452322723011526,
          0.9485499163560267,
          0.9516387534006818,
          0.954478976446131,
          0.9570708234075864,
          0.9594260380190621,
          0.9615609737074238
         ]
        },
        {
         "type": "scatter",
         "x": [
          0.01,
          0.27263157894736845,
          0.5352631578947369,
          0.7978947368421053,
          1.0605263157894738,
          1.3231578947368423,
          1.5857894736842106,
          1.848421052631579,
          2.1110526315789473,
          2.373684210526316,
          2.6363157894736844,
          2.8989473684210525,
          3.161578947368421,
          3.4242105263157896,
          3.6868421052631577,
          3.9494736842105262,
          4.212105263157895,
          4.474736842105263,
          4.737368421052632,
          5
         ],
         "y": [
          0.9996568729049564,
          0.9870731062420048,
          0.9702144068713074,
          0.9552638569861556,
          0.9430985472233532,
          0.9340922127013185,
          0.9283094859451022,
          0.9254353380012426,
          0.924893745088363,
          0.9260353763713088,
          0.9282738933669218,
          0.9311463318107864,
          0.9343195817887042,
          0.9375710720926875,
          0.9407607524097488,
          0.9438077292905178,
          0.9466694493229508,
          0.9493285696662168,
          0.9517834026504239,
          0.9540401832373537
         ]
        },
        {
         "type": "scatter",
         "x": [
          0.01,
          0.27263157894736845,
          0.5352631578947369,
          0.7978947368421053,
          1.0605263157894738,
          1.3231578947368423,
          1.5857894736842106,
          1.848421052631579,
          2.1110526315789473,
          2.373684210526316,
          2.6363157894736844,
          2.8989473684210525,
          3.161578947368421,
          3.4242105263157896,
          3.6868421052631577,
          3.9494736842105262,
          4.212105263157895,
          4.474736842105263,
          4.737368421052632,
          5
         ],
         "y": [
          0.9994344278838191,
          0.9890108829331506,
          0.9752770257668284,
          0.9622530251002989,
          0.9509419598665416,
          0.9419275883769505,
          0.9355312151839078,
          0.9316535638540576,
          0.9299116524056608,
          0.9297927797598818,
          0.9307985739246569,
          0.9325288025557273,
          0.9348961222032761,
          0.9372021969236697,
          0.9393169716441138,
          0.9416392889855711,
          0.9453638549534176,
          0.9459793285158343,
          0.9479717563966273,
          0.9498320025617539
         ]
        },
        {
         "type": "scatter",
         "x": [
          0.01,
          0.27263157894736845,
          0.5352631578947369,
          0.7978947368421053,
          1.0605263157894738,
          1.3231578947368423,
          1.5857894736842106,
          1.848421052631579,
          2.1110526315789473,
          2.373684210526316,
          2.6363157894736844,
          2.8989473684210525,
          3.161578947368421,
          3.4242105263157896,
          3.6868421052631577,
          3.9494736842105262,
          4.212105263157895,
          4.474736842105263,
          4.737368421052632,
          5
         ],
         "y": [
          0.9992096269995717,
          0.9909389716746824,
          0.9802731848021656,
          0.9691390139319458,
          0.9586659002710798,
          0.9496874704308592,
          0.9427542919690719,
          0.9379887190004514,
          0.935172236783693,
          0.9339194676452286,
          0.9338149920517853,
          0.9344935217258261,
          0.935852534045051,
          0.938030154401009,
          0.938732883254379,
          0.9403910815157326,
          0.9425781436283966,
          0.9438039943010971,
          0.9453300738426011,
          0.9466540354908715
         ]
        },
        {
         "type": "scatter",
         "x": [
          0.01,
          0.27263157894736845,
          0.5352631578947369,
          0.7978947368421053,
          1.0605263157894738,
          1.3231578947368423,
          1.5857894736842106,
          1.848421052631579,
          2.1110526315789473,
          2.373684210526316,
          2.6363157894736844,
          2.8989473684210525,
          3.161578947368421,
          3.4242105263157896,
          3.6868421052631577,
          3.9494736842105262,
          4.212105263157895,
          4.474736842105263,
          4.737368421052632,
          5
         ],
         "y": [
          0.9988949006899079,
          0.9915334807212044,
          0.9838057945047951,
          0.9747497425223636,
          0.9654185355485224,
          0.9567226930425625,
          0.9496480032907426,
          0.944287422939792,
          0.9406688268300756,
          0.9385259755723525,
          0.9375223631222072,
          0.9373517063670477,
          0.9379643371545876,
          0.9387351134122435,
          0.9394395454355289,
          0.9404598128151023,
          0.9431048632620904,
          0.9428536942586865,
          0.9440182178894652,
          0.9451453131931575
         ]
        },
        {
         "type": "scatter",
         "x": [
          0.01,
          0.27263157894736845,
          0.5352631578947369,
          0.7978947368421053,
          1.0605263157894738,
          1.3231578947368423,
          1.5857894736842106,
          1.848421052631579,
          2.1110526315789473,
          2.373684210526316,
          2.6363157894736844,
          2.8989473684210525,
          3.161578947368421,
          3.4242105263157896,
          3.6868421052631577,
          3.9494736842105262,
          4.212105263157895,
          4.474736842105263,
          4.737368421052632,
          5
         ],
         "y": [
          0.9985782782742252,
          0.9921448152069778,
          0.9873085001834287,
          0.9802820844715003,
          0.9720523191309944,
          0.963799888474951,
          0.9564721948575761,
          0.9505898814788512,
          0.9462523543432781,
          0.9433049029266242,
          0.9414862504592837,
          0.9405246454336589,
          0.9401893323427665,
          0.9402853099080503,
          0.9406572639834269,
          0.9412326508779125,
          0.9419558065220922,
          0.9426765502653545,
          0.9434640371533436,
          0.9442583193388127
         ]
        },
        {
         "type": "scatter",
         "x": [
          0.01,
          0.27263157894736845,
          0.5352631578947369,
          0.7978947368421053,
          1.0605263157894738,
          1.3231578947368423,
          1.5857894736842106,
          1.848421052631579,
          2.1110526315789473,
          2.373684210526316,
          2.6363157894736844,
          2.8989473684210525,
          3.161578947368421,
          3.4242105263157896,
          3.6868421052631577,
          3.9494736842105262,
          4.212105263157895,
          4.474736842105263,
          4.737368421052632,
          5
         ],
         "y": [
          0.9984508762777325,
          0.9925068659528632,
          0.9894212611520905,
          0.9839325772882923,
          0.9767712594418501,
          0.9691901327084809,
          0.9621305712655167,
          0.9562860038372882,
          0.9609167442082601,
          0.9583620887809464,
          0.9565324443640939,
          0.9552967658510725,
          0.9545280580352488,
          0.9541076875008307,
          0.9539387479562345,
          0.953964545584902,
          0.9541372737231448,
          0.9543646869409761,
          0.9546741473222585,
          0.9550234960037779
         ]
        },
        {
         "type": "scatter",
         "x": [
          0.01,
          0.27263157894736845,
          0.5352631578947369,
          0.7978947368421053,
          1.0605263157894738,
          1.3231578947368423,
          1.5857894736842106,
          1.848421052631579,
          2.1110526315789473,
          2.373684210526316,
          2.6363157894736844,
          2.8989473684210525,
          3.161578947368421,
          3.4242105263157896,
          3.6868421052631577,
          3.9494736842105262,
          4.212105263157895,
          4.474736842105263,
          4.737368421052632,
          5
         ],
         "y": [
          0.9983230497907499,
          0.9927535384086077,
          0.9915270171963206,
          0.9875363591730523,
          0.9814166940916879,
          0.9746354814690533,
          0.9676767070780812,
          0.9618696329635092,
          0.9670341451803414,
          0.9643250699958643,
          0.9622749289511815,
          0.96078320779871,
          0.9597416397357994,
          0.9599771496592638,
          0.9586154165310102,
          0.9583844184956405,
          0.9582859331456725,
          0.9583136105521235,
          0.9584305884652429,
          0.9586324153953538
         ]
        }
       ],
       "layout": {
        "font": {
         "size": 18
        },
        "showlegend": false,
        "template": {
         "data": {
          "bar": [
           {
            "error_x": {
             "color": "#2a3f5f"
            },
            "error_y": {
             "color": "#2a3f5f"
            },
            "marker": {
             "line": {
              "color": "#E5ECF6",
              "width": 0.5
             },
             "pattern": {
              "fillmode": "overlay",
              "size": 10,
              "solidity": 0.2
             }
            },
            "type": "bar"
           }
          ],
          "barpolar": [
           {
            "marker": {
             "line": {
              "color": "#E5ECF6",
              "width": 0.5
             },
             "pattern": {
              "fillmode": "overlay",
              "size": 10,
              "solidity": 0.2
             }
            },
            "type": "barpolar"
           }
          ],
          "carpet": [
           {
            "aaxis": {
             "endlinecolor": "#2a3f5f",
             "gridcolor": "white",
             "linecolor": "white",
             "minorgridcolor": "white",
             "startlinecolor": "#2a3f5f"
            },
            "baxis": {
             "endlinecolor": "#2a3f5f",
             "gridcolor": "white",
             "linecolor": "white",
             "minorgridcolor": "white",
             "startlinecolor": "#2a3f5f"
            },
            "type": "carpet"
           }
          ],
          "choropleth": [
           {
            "colorbar": {
             "outlinewidth": 0,
             "ticks": ""
            },
            "type": "choropleth"
           }
          ],
          "contour": [
           {
            "colorbar": {
             "outlinewidth": 0,
             "ticks": ""
            },
            "colorscale": [
             [
              0,
              "#0d0887"
             ],
             [
              0.1111111111111111,
              "#46039f"
             ],
             [
              0.2222222222222222,
              "#7201a8"
             ],
             [
              0.3333333333333333,
              "#9c179e"
             ],
             [
              0.4444444444444444,
              "#bd3786"
             ],
             [
              0.5555555555555556,
              "#d8576b"
             ],
             [
              0.6666666666666666,
              "#ed7953"
             ],
             [
              0.7777777777777778,
              "#fb9f3a"
             ],
             [
              0.8888888888888888,
              "#fdca26"
             ],
             [
              1,
              "#f0f921"
             ]
            ],
            "type": "contour"
           }
          ],
          "contourcarpet": [
           {
            "colorbar": {
             "outlinewidth": 0,
             "ticks": ""
            },
            "type": "contourcarpet"
           }
          ],
          "heatmap": [
           {
            "colorbar": {
             "outlinewidth": 0,
             "ticks": ""
            },
            "colorscale": [
             [
              0,
              "#0d0887"
             ],
             [
              0.1111111111111111,
              "#46039f"
             ],
             [
              0.2222222222222222,
              "#7201a8"
             ],
             [
              0.3333333333333333,
              "#9c179e"
             ],
             [
              0.4444444444444444,
              "#bd3786"
             ],
             [
              0.5555555555555556,
              "#d8576b"
             ],
             [
              0.6666666666666666,
              "#ed7953"
             ],
             [
              0.7777777777777778,
              "#fb9f3a"
             ],
             [
              0.8888888888888888,
              "#fdca26"
             ],
             [
              1,
              "#f0f921"
             ]
            ],
            "type": "heatmap"
           }
          ],
          "heatmapgl": [
           {
            "colorbar": {
             "outlinewidth": 0,
             "ticks": ""
            },
            "colorscale": [
             [
              0,
              "#0d0887"
             ],
             [
              0.1111111111111111,
              "#46039f"
             ],
             [
              0.2222222222222222,
              "#7201a8"
             ],
             [
              0.3333333333333333,
              "#9c179e"
             ],
             [
              0.4444444444444444,
              "#bd3786"
             ],
             [
              0.5555555555555556,
              "#d8576b"
             ],
             [
              0.6666666666666666,
              "#ed7953"
             ],
             [
              0.7777777777777778,
              "#fb9f3a"
             ],
             [
              0.8888888888888888,
              "#fdca26"
             ],
             [
              1,
              "#f0f921"
             ]
            ],
            "type": "heatmapgl"
           }
          ],
          "histogram": [
           {
            "marker": {
             "pattern": {
              "fillmode": "overlay",
              "size": 10,
              "solidity": 0.2
             }
            },
            "type": "histogram"
           }
          ],
          "histogram2d": [
           {
            "colorbar": {
             "outlinewidth": 0,
             "ticks": ""
            },
            "colorscale": [
             [
              0,
              "#0d0887"
             ],
             [
              0.1111111111111111,
              "#46039f"
             ],
             [
              0.2222222222222222,
              "#7201a8"
             ],
             [
              0.3333333333333333,
              "#9c179e"
             ],
             [
              0.4444444444444444,
              "#bd3786"
             ],
             [
              0.5555555555555556,
              "#d8576b"
             ],
             [
              0.6666666666666666,
              "#ed7953"
             ],
             [
              0.7777777777777778,
              "#fb9f3a"
             ],
             [
              0.8888888888888888,
              "#fdca26"
             ],
             [
              1,
              "#f0f921"
             ]
            ],
            "type": "histogram2d"
           }
          ],
          "histogram2dcontour": [
           {
            "colorbar": {
             "outlinewidth": 0,
             "ticks": ""
            },
            "colorscale": [
             [
              0,
              "#0d0887"
             ],
             [
              0.1111111111111111,
              "#46039f"
             ],
             [
              0.2222222222222222,
              "#7201a8"
             ],
             [
              0.3333333333333333,
              "#9c179e"
             ],
             [
              0.4444444444444444,
              "#bd3786"
             ],
             [
              0.5555555555555556,
              "#d8576b"
             ],
             [
              0.6666666666666666,
              "#ed7953"
             ],
             [
              0.7777777777777778,
              "#fb9f3a"
             ],
             [
              0.8888888888888888,
              "#fdca26"
             ],
             [
              1,
              "#f0f921"
             ]
            ],
            "type": "histogram2dcontour"
           }
          ],
          "mesh3d": [
           {
            "colorbar": {
             "outlinewidth": 0,
             "ticks": ""
            },
            "type": "mesh3d"
           }
          ],
          "parcoords": [
           {
            "line": {
             "colorbar": {
              "outlinewidth": 0,
              "ticks": ""
             }
            },
            "type": "parcoords"
           }
          ],
          "pie": [
           {
            "automargin": true,
            "type": "pie"
           }
          ],
          "scatter": [
           {
            "fillpattern": {
             "fillmode": "overlay",
             "size": 10,
             "solidity": 0.2
            },
            "type": "scatter"
           }
          ],
          "scatter3d": [
           {
            "line": {
             "colorbar": {
              "outlinewidth": 0,
              "ticks": ""
             }
            },
            "marker": {
             "colorbar": {
              "outlinewidth": 0,
              "ticks": ""
             }
            },
            "type": "scatter3d"
           }
          ],
          "scattercarpet": [
           {
            "marker": {
             "colorbar": {
              "outlinewidth": 0,
              "ticks": ""
             }
            },
            "type": "scattercarpet"
           }
          ],
          "scattergeo": [
           {
            "marker": {
             "colorbar": {
              "outlinewidth": 0,
              "ticks": ""
             }
            },
            "type": "scattergeo"
           }
          ],
          "scattergl": [
           {
            "marker": {
             "colorbar": {
              "outlinewidth": 0,
              "ticks": ""
             }
            },
            "type": "scattergl"
           }
          ],
          "scattermapbox": [
           {
            "marker": {
             "colorbar": {
              "outlinewidth": 0,
              "ticks": ""
             }
            },
            "type": "scattermapbox"
           }
          ],
          "scatterpolar": [
           {
            "marker": {
             "colorbar": {
              "outlinewidth": 0,
              "ticks": ""
             }
            },
            "type": "scatterpolar"
           }
          ],
          "scatterpolargl": [
           {
            "marker": {
             "colorbar": {
              "outlinewidth": 0,
              "ticks": ""
             }
            },
            "type": "scatterpolargl"
           }
          ],
          "scatterternary": [
           {
            "marker": {
             "colorbar": {
              "outlinewidth": 0,
              "ticks": ""
             }
            },
            "type": "scatterternary"
           }
          ],
          "surface": [
           {
            "colorbar": {
             "outlinewidth": 0,
             "ticks": ""
            },
            "colorscale": [
             [
              0,
              "#0d0887"
             ],
             [
              0.1111111111111111,
              "#46039f"
             ],
             [
              0.2222222222222222,
              "#7201a8"
             ],
             [
              0.3333333333333333,
              "#9c179e"
             ],
             [
              0.4444444444444444,
              "#bd3786"
             ],
             [
              0.5555555555555556,
              "#d8576b"
             ],
             [
              0.6666666666666666,
              "#ed7953"
             ],
             [
              0.7777777777777778,
              "#fb9f3a"
             ],
             [
              0.8888888888888888,
              "#fdca26"
             ],
             [
              1,
              "#f0f921"
             ]
            ],
            "type": "surface"
           }
          ],
          "table": [
           {
            "cells": {
             "fill": {
              "color": "#EBF0F8"
             },
             "line": {
              "color": "white"
             }
            },
            "header": {
             "fill": {
              "color": "#C8D4E3"
             },
             "line": {
              "color": "white"
             }
            },
            "type": "table"
           }
          ]
         },
         "layout": {
          "annotationdefaults": {
           "arrowcolor": "#2a3f5f",
           "arrowhead": 0,
           "arrowwidth": 1
          },
          "autotypenumbers": "strict",
          "coloraxis": {
           "colorbar": {
            "outlinewidth": 0,
            "ticks": ""
           }
          },
          "colorscale": {
           "diverging": [
            [
             0,
             "#8e0152"
            ],
            [
             0.1,
             "#c51b7d"
            ],
            [
             0.2,
             "#de77ae"
            ],
            [
             0.3,
             "#f1b6da"
            ],
            [
             0.4,
             "#fde0ef"
            ],
            [
             0.5,
             "#f7f7f7"
            ],
            [
             0.6,
             "#e6f5d0"
            ],
            [
             0.7,
             "#b8e186"
            ],
            [
             0.8,
             "#7fbc41"
            ],
            [
             0.9,
             "#4d9221"
            ],
            [
             1,
             "#276419"
            ]
           ],
           "sequential": [
            [
             0,
             "#0d0887"
            ],
            [
             0.1111111111111111,
             "#46039f"
            ],
            [
             0.2222222222222222,
             "#7201a8"
            ],
            [
             0.3333333333333333,
             "#9c179e"
            ],
            [
             0.4444444444444444,
             "#bd3786"
            ],
            [
             0.5555555555555556,
             "#d8576b"
            ],
            [
             0.6666666666666666,
             "#ed7953"
            ],
            [
             0.7777777777777778,
             "#fb9f3a"
            ],
            [
             0.8888888888888888,
             "#fdca26"
            ],
            [
             1,
             "#f0f921"
            ]
           ],
           "sequentialminus": [
            [
             0,
             "#0d0887"
            ],
            [
             0.1111111111111111,
             "#46039f"
            ],
            [
             0.2222222222222222,
             "#7201a8"
            ],
            [
             0.3333333333333333,
             "#9c179e"
            ],
            [
             0.4444444444444444,
             "#bd3786"
            ],
            [
             0.5555555555555556,
             "#d8576b"
            ],
            [
             0.6666666666666666,
             "#ed7953"
            ],
            [
             0.7777777777777778,
             "#fb9f3a"
            ],
            [
             0.8888888888888888,
             "#fdca26"
            ],
            [
             1,
             "#f0f921"
            ]
           ]
          },
          "colorway": [
           "#636efa",
           "#EF553B",
           "#00cc96",
           "#ab63fa",
           "#FFA15A",
           "#19d3f3",
           "#FF6692",
           "#B6E880",
           "#FF97FF",
           "#FECB52"
          ],
          "font": {
           "color": "#2a3f5f"
          },
          "geo": {
           "bgcolor": "white",
           "lakecolor": "white",
           "landcolor": "#E5ECF6",
           "showlakes": true,
           "showland": true,
           "subunitcolor": "white"
          },
          "hoverlabel": {
           "align": "left"
          },
          "hovermode": "closest",
          "mapbox": {
           "style": "light"
          },
          "paper_bgcolor": "white",
          "plot_bgcolor": "#E5ECF6",
          "polar": {
           "angularaxis": {
            "gridcolor": "white",
            "linecolor": "white",
            "ticks": ""
           },
           "bgcolor": "#E5ECF6",
           "radialaxis": {
            "gridcolor": "white",
            "linecolor": "white",
            "ticks": ""
           }
          },
          "scene": {
           "xaxis": {
            "backgroundcolor": "#E5ECF6",
            "gridcolor": "white",
            "gridwidth": 2,
            "linecolor": "white",
            "showbackground": true,
            "ticks": "",
            "zerolinecolor": "white"
           },
           "yaxis": {
            "backgroundcolor": "#E5ECF6",
            "gridcolor": "white",
            "gridwidth": 2,
            "linecolor": "white",
            "showbackground": true,
            "ticks": "",
            "zerolinecolor": "white"
           },
           "zaxis": {
            "backgroundcolor": "#E5ECF6",
            "gridcolor": "white",
            "gridwidth": 2,
            "linecolor": "white",
            "showbackground": true,
            "ticks": "",
            "zerolinecolor": "white"
           }
          },
          "shapedefaults": {
           "line": {
            "color": "#2a3f5f"
           }
          },
          "ternary": {
           "aaxis": {
            "gridcolor": "white",
            "linecolor": "white",
            "ticks": ""
           },
           "baxis": {
            "gridcolor": "white",
            "linecolor": "white",
            "ticks": ""
           },
           "bgcolor": "#E5ECF6",
           "caxis": {
            "gridcolor": "white",
            "linecolor": "white",
            "ticks": ""
           }
          },
          "title": {
           "x": 0.05
          },
          "xaxis": {
           "automargin": true,
           "gridcolor": "white",
           "linecolor": "white",
           "ticks": "",
           "title": {
            "standoff": 15
           },
           "zerolinecolor": "white",
           "zerolinewidth": 2
          },
          "yaxis": {
           "automargin": true,
           "gridcolor": "white",
           "linecolor": "white",
           "ticks": "",
           "title": {
            "standoff": 15
           },
           "zerolinecolor": "white",
           "zerolinewidth": 2
          }
         }
        },
        "xaxis": {
         "title": {
          "text": "$G/\\epsilon$"
         }
        },
        "yaxis": {
         "title": {
          "text": "Overlap"
         }
        }
       }
      },
      "text/html": [
       "<div>                            <div id=\"0e363ba9-8116-4735-9f6e-624bc26e845e\" class=\"plotly-graph-div\" style=\"height:525px; width:100%;\"></div>            <script type=\"text/javascript\">                require([\"plotly\"], function(Plotly) {                    window.PLOTLYENV=window.PLOTLYENV || {};                                    if (document.getElementById(\"0e363ba9-8116-4735-9f6e-624bc26e845e\")) {                    Plotly.newPlot(                        \"0e363ba9-8116-4735-9f6e-624bc26e845e\",                        [{\"x\":[0.01,0.27263157894736845,0.5352631578947369,0.7978947368421053,1.0605263157894738,1.3231578947368423,1.5857894736842106,1.848421052631579,2.1110526315789473,2.373684210526316,2.6363157894736844,2.8989473684210525,3.161578947368421,3.4242105263157896,3.6868421052631577,3.9494736842105262,4.212105263157895,4.474736842105263,4.737368421052632,5.0],\"y\":[0.9857773668041467,0.9752076476805355,0.9612882867752052,0.949242513835604,0.9397923109597108,0.9332393293646533,0.9295922942008016,0.9285047081988298,0.9293992255441643,0.9316508179746241,0.9347135204343331,0.9381714228975278,0.9417379039542163,0.9452322723011526,0.9485499163560267,0.9516387534006818,0.954478976446131,0.9570708234075864,0.9594260380190621,0.9615609737074238],\"type\":\"scatter\"},{\"x\":[0.01,0.27263157894736845,0.5352631578947369,0.7978947368421053,1.0605263157894738,1.3231578947368423,1.5857894736842106,1.848421052631579,2.1110526315789473,2.373684210526316,2.6363157894736844,2.8989473684210525,3.161578947368421,3.4242105263157896,3.6868421052631577,3.9494736842105262,4.212105263157895,4.474736842105263,4.737368421052632,5.0],\"y\":[0.9996568729049564,0.9870731062420048,0.9702144068713074,0.9552638569861556,0.9430985472233532,0.9340922127013185,0.9283094859451022,0.9254353380012426,0.924893745088363,0.9260353763713088,0.9282738933669218,0.9311463318107864,0.9343195817887042,0.9375710720926875,0.9407607524097488,0.9438077292905178,0.9466694493229508,0.9493285696662168,0.9517834026504239,0.9540401832373537],\"type\":\"scatter\"},{\"x\":[0.01,0.27263157894736845,0.5352631578947369,0.7978947368421053,1.0605263157894738,1.3231578947368423,1.5857894736842106,1.848421052631579,2.1110526315789473,2.373684210526316,2.6363157894736844,2.8989473684210525,3.161578947368421,3.4242105263157896,3.6868421052631577,3.9494736842105262,4.212105263157895,4.474736842105263,4.737368421052632,5.0],\"y\":[0.9994344278838191,0.9890108829331506,0.9752770257668284,0.9622530251002989,0.9509419598665416,0.9419275883769505,0.9355312151839078,0.9316535638540576,0.9299116524056608,0.9297927797598818,0.9307985739246569,0.9325288025557273,0.9348961222032761,0.9372021969236697,0.9393169716441138,0.9416392889855711,0.9453638549534176,0.9459793285158343,0.9479717563966273,0.9498320025617539],\"type\":\"scatter\"},{\"x\":[0.01,0.27263157894736845,0.5352631578947369,0.7978947368421053,1.0605263157894738,1.3231578947368423,1.5857894736842106,1.848421052631579,2.1110526315789473,2.373684210526316,2.6363157894736844,2.8989473684210525,3.161578947368421,3.4242105263157896,3.6868421052631577,3.9494736842105262,4.212105263157895,4.474736842105263,4.737368421052632,5.0],\"y\":[0.9992096269995717,0.9909389716746824,0.9802731848021656,0.9691390139319458,0.9586659002710798,0.9496874704308592,0.9427542919690719,0.9379887190004514,0.935172236783693,0.9339194676452286,0.9338149920517853,0.9344935217258261,0.935852534045051,0.938030154401009,0.938732883254379,0.9403910815157326,0.9425781436283966,0.9438039943010971,0.9453300738426011,0.9466540354908715],\"type\":\"scatter\"},{\"x\":[0.01,0.27263157894736845,0.5352631578947369,0.7978947368421053,1.0605263157894738,1.3231578947368423,1.5857894736842106,1.848421052631579,2.1110526315789473,2.373684210526316,2.6363157894736844,2.8989473684210525,3.161578947368421,3.4242105263157896,3.6868421052631577,3.9494736842105262,4.212105263157895,4.474736842105263,4.737368421052632,5.0],\"y\":[0.9988949006899079,0.9915334807212044,0.9838057945047951,0.9747497425223636,0.9654185355485224,0.9567226930425625,0.9496480032907426,0.944287422939792,0.9406688268300756,0.9385259755723525,0.9375223631222072,0.9373517063670477,0.9379643371545876,0.9387351134122435,0.9394395454355289,0.9404598128151023,0.9431048632620904,0.9428536942586865,0.9440182178894652,0.9451453131931575],\"type\":\"scatter\"},{\"x\":[0.01,0.27263157894736845,0.5352631578947369,0.7978947368421053,1.0605263157894738,1.3231578947368423,1.5857894736842106,1.848421052631579,2.1110526315789473,2.373684210526316,2.6363157894736844,2.8989473684210525,3.161578947368421,3.4242105263157896,3.6868421052631577,3.9494736842105262,4.212105263157895,4.474736842105263,4.737368421052632,5.0],\"y\":[0.9985782782742252,0.9921448152069778,0.9873085001834287,0.9802820844715003,0.9720523191309944,0.963799888474951,0.9564721948575761,0.9505898814788512,0.9462523543432781,0.9433049029266242,0.9414862504592837,0.9405246454336589,0.9401893323427665,0.9402853099080503,0.9406572639834269,0.9412326508779125,0.9419558065220922,0.9426765502653545,0.9434640371533436,0.9442583193388127],\"type\":\"scatter\"},{\"x\":[0.01,0.27263157894736845,0.5352631578947369,0.7978947368421053,1.0605263157894738,1.3231578947368423,1.5857894736842106,1.848421052631579,2.1110526315789473,2.373684210526316,2.6363157894736844,2.8989473684210525,3.161578947368421,3.4242105263157896,3.6868421052631577,3.9494736842105262,4.212105263157895,4.474736842105263,4.737368421052632,5.0],\"y\":[0.9984508762777325,0.9925068659528632,0.9894212611520905,0.9839325772882923,0.9767712594418501,0.9691901327084809,0.9621305712655167,0.9562860038372882,0.9609167442082601,0.9583620887809464,0.9565324443640939,0.9552967658510725,0.9545280580352488,0.9541076875008307,0.9539387479562345,0.953964545584902,0.9541372737231448,0.9543646869409761,0.9546741473222585,0.9550234960037779],\"type\":\"scatter\"},{\"x\":[0.01,0.27263157894736845,0.5352631578947369,0.7978947368421053,1.0605263157894738,1.3231578947368423,1.5857894736842106,1.848421052631579,2.1110526315789473,2.373684210526316,2.6363157894736844,2.8989473684210525,3.161578947368421,3.4242105263157896,3.6868421052631577,3.9494736842105262,4.212105263157895,4.474736842105263,4.737368421052632,5.0],\"y\":[0.9983230497907499,0.9927535384086077,0.9915270171963206,0.9875363591730523,0.9814166940916879,0.9746354814690533,0.9676767070780812,0.9618696329635092,0.9670341451803414,0.9643250699958643,0.9622749289511815,0.96078320779871,0.9597416397357994,0.9599771496592638,0.9586154165310102,0.9583844184956405,0.9582859331456725,0.9583136105521235,0.9584305884652429,0.9586324153953538],\"type\":\"scatter\"}],                        {\"template\":{\"data\":{\"histogram2dcontour\":[{\"type\":\"histogram2dcontour\",\"colorbar\":{\"outlinewidth\":0,\"ticks\":\"\"},\"colorscale\":[[0.0,\"#0d0887\"],[0.1111111111111111,\"#46039f\"],[0.2222222222222222,\"#7201a8\"],[0.3333333333333333,\"#9c179e\"],[0.4444444444444444,\"#bd3786\"],[0.5555555555555556,\"#d8576b\"],[0.6666666666666666,\"#ed7953\"],[0.7777777777777778,\"#fb9f3a\"],[0.8888888888888888,\"#fdca26\"],[1.0,\"#f0f921\"]]}],\"choropleth\":[{\"type\":\"choropleth\",\"colorbar\":{\"outlinewidth\":0,\"ticks\":\"\"}}],\"histogram2d\":[{\"type\":\"histogram2d\",\"colorbar\":{\"outlinewidth\":0,\"ticks\":\"\"},\"colorscale\":[[0.0,\"#0d0887\"],[0.1111111111111111,\"#46039f\"],[0.2222222222222222,\"#7201a8\"],[0.3333333333333333,\"#9c179e\"],[0.4444444444444444,\"#bd3786\"],[0.5555555555555556,\"#d8576b\"],[0.6666666666666666,\"#ed7953\"],[0.7777777777777778,\"#fb9f3a\"],[0.8888888888888888,\"#fdca26\"],[1.0,\"#f0f921\"]]}],\"heatmap\":[{\"type\":\"heatmap\",\"colorbar\":{\"outlinewidth\":0,\"ticks\":\"\"},\"colorscale\":[[0.0,\"#0d0887\"],[0.1111111111111111,\"#46039f\"],[0.2222222222222222,\"#7201a8\"],[0.3333333333333333,\"#9c179e\"],[0.4444444444444444,\"#bd3786\"],[0.5555555555555556,\"#d8576b\"],[0.6666666666666666,\"#ed7953\"],[0.7777777777777778,\"#fb9f3a\"],[0.8888888888888888,\"#fdca26\"],[1.0,\"#f0f921\"]]}],\"heatmapgl\":[{\"type\":\"heatmapgl\",\"colorbar\":{\"outlinewidth\":0,\"ticks\":\"\"},\"colorscale\":[[0.0,\"#0d0887\"],[0.1111111111111111,\"#46039f\"],[0.2222222222222222,\"#7201a8\"],[0.3333333333333333,\"#9c179e\"],[0.4444444444444444,\"#bd3786\"],[0.5555555555555556,\"#d8576b\"],[0.6666666666666666,\"#ed7953\"],[0.7777777777777778,\"#fb9f3a\"],[0.8888888888888888,\"#fdca26\"],[1.0,\"#f0f921\"]]}],\"contourcarpet\":[{\"type\":\"contourcarpet\",\"colorbar\":{\"outlinewidth\":0,\"ticks\":\"\"}}],\"contour\":[{\"type\":\"contour\",\"colorbar\":{\"outlinewidth\":0,\"ticks\":\"\"},\"colorscale\":[[0.0,\"#0d0887\"],[0.1111111111111111,\"#46039f\"],[0.2222222222222222,\"#7201a8\"],[0.3333333333333333,\"#9c179e\"],[0.4444444444444444,\"#bd3786\"],[0.5555555555555556,\"#d8576b\"],[0.6666666666666666,\"#ed7953\"],[0.7777777777777778,\"#fb9f3a\"],[0.8888888888888888,\"#fdca26\"],[1.0,\"#f0f921\"]]}],\"surface\":[{\"type\":\"surface\",\"colorbar\":{\"outlinewidth\":0,\"ticks\":\"\"},\"colorscale\":[[0.0,\"#0d0887\"],[0.1111111111111111,\"#46039f\"],[0.2222222222222222,\"#7201a8\"],[0.3333333333333333,\"#9c179e\"],[0.4444444444444444,\"#bd3786\"],[0.5555555555555556,\"#d8576b\"],[0.6666666666666666,\"#ed7953\"],[0.7777777777777778,\"#fb9f3a\"],[0.8888888888888888,\"#fdca26\"],[1.0,\"#f0f921\"]]}],\"mesh3d\":[{\"type\":\"mesh3d\",\"colorbar\":{\"outlinewidth\":0,\"ticks\":\"\"}}],\"scatter\":[{\"fillpattern\":{\"fillmode\":\"overlay\",\"size\":10,\"solidity\":0.2},\"type\":\"scatter\"}],\"parcoords\":[{\"type\":\"parcoords\",\"line\":{\"colorbar\":{\"outlinewidth\":0,\"ticks\":\"\"}}}],\"scatterpolargl\":[{\"type\":\"scatterpolargl\",\"marker\":{\"colorbar\":{\"outlinewidth\":0,\"ticks\":\"\"}}}],\"bar\":[{\"error_x\":{\"color\":\"#2a3f5f\"},\"error_y\":{\"color\":\"#2a3f5f\"},\"marker\":{\"line\":{\"color\":\"#E5ECF6\",\"width\":0.5},\"pattern\":{\"fillmode\":\"overlay\",\"size\":10,\"solidity\":0.2}},\"type\":\"bar\"}],\"scattergeo\":[{\"type\":\"scattergeo\",\"marker\":{\"colorbar\":{\"outlinewidth\":0,\"ticks\":\"\"}}}],\"scatterpolar\":[{\"type\":\"scatterpolar\",\"marker\":{\"colorbar\":{\"outlinewidth\":0,\"ticks\":\"\"}}}],\"histogram\":[{\"marker\":{\"pattern\":{\"fillmode\":\"overlay\",\"size\":10,\"solidity\":0.2}},\"type\":\"histogram\"}],\"scattergl\":[{\"type\":\"scattergl\",\"marker\":{\"colorbar\":{\"outlinewidth\":0,\"ticks\":\"\"}}}],\"scatter3d\":[{\"type\":\"scatter3d\",\"line\":{\"colorbar\":{\"outlinewidth\":0,\"ticks\":\"\"}},\"marker\":{\"colorbar\":{\"outlinewidth\":0,\"ticks\":\"\"}}}],\"scattermapbox\":[{\"type\":\"scattermapbox\",\"marker\":{\"colorbar\":{\"outlinewidth\":0,\"ticks\":\"\"}}}],\"scatterternary\":[{\"type\":\"scatterternary\",\"marker\":{\"colorbar\":{\"outlinewidth\":0,\"ticks\":\"\"}}}],\"scattercarpet\":[{\"type\":\"scattercarpet\",\"marker\":{\"colorbar\":{\"outlinewidth\":0,\"ticks\":\"\"}}}],\"carpet\":[{\"aaxis\":{\"endlinecolor\":\"#2a3f5f\",\"gridcolor\":\"white\",\"linecolor\":\"white\",\"minorgridcolor\":\"white\",\"startlinecolor\":\"#2a3f5f\"},\"baxis\":{\"endlinecolor\":\"#2a3f5f\",\"gridcolor\":\"white\",\"linecolor\":\"white\",\"minorgridcolor\":\"white\",\"startlinecolor\":\"#2a3f5f\"},\"type\":\"carpet\"}],\"table\":[{\"cells\":{\"fill\":{\"color\":\"#EBF0F8\"},\"line\":{\"color\":\"white\"}},\"header\":{\"fill\":{\"color\":\"#C8D4E3\"},\"line\":{\"color\":\"white\"}},\"type\":\"table\"}],\"barpolar\":[{\"marker\":{\"line\":{\"color\":\"#E5ECF6\",\"width\":0.5},\"pattern\":{\"fillmode\":\"overlay\",\"size\":10,\"solidity\":0.2}},\"type\":\"barpolar\"}],\"pie\":[{\"automargin\":true,\"type\":\"pie\"}]},\"layout\":{\"autotypenumbers\":\"strict\",\"colorway\":[\"#636efa\",\"#EF553B\",\"#00cc96\",\"#ab63fa\",\"#FFA15A\",\"#19d3f3\",\"#FF6692\",\"#B6E880\",\"#FF97FF\",\"#FECB52\"],\"font\":{\"color\":\"#2a3f5f\"},\"hovermode\":\"closest\",\"hoverlabel\":{\"align\":\"left\"},\"paper_bgcolor\":\"white\",\"plot_bgcolor\":\"#E5ECF6\",\"polar\":{\"bgcolor\":\"#E5ECF6\",\"angularaxis\":{\"gridcolor\":\"white\",\"linecolor\":\"white\",\"ticks\":\"\"},\"radialaxis\":{\"gridcolor\":\"white\",\"linecolor\":\"white\",\"ticks\":\"\"}},\"ternary\":{\"bgcolor\":\"#E5ECF6\",\"aaxis\":{\"gridcolor\":\"white\",\"linecolor\":\"white\",\"ticks\":\"\"},\"baxis\":{\"gridcolor\":\"white\",\"linecolor\":\"white\",\"ticks\":\"\"},\"caxis\":{\"gridcolor\":\"white\",\"linecolor\":\"white\",\"ticks\":\"\"}},\"coloraxis\":{\"colorbar\":{\"outlinewidth\":0,\"ticks\":\"\"}},\"colorscale\":{\"sequential\":[[0.0,\"#0d0887\"],[0.1111111111111111,\"#46039f\"],[0.2222222222222222,\"#7201a8\"],[0.3333333333333333,\"#9c179e\"],[0.4444444444444444,\"#bd3786\"],[0.5555555555555556,\"#d8576b\"],[0.6666666666666666,\"#ed7953\"],[0.7777777777777778,\"#fb9f3a\"],[0.8888888888888888,\"#fdca26\"],[1.0,\"#f0f921\"]],\"sequentialminus\":[[0.0,\"#0d0887\"],[0.1111111111111111,\"#46039f\"],[0.2222222222222222,\"#7201a8\"],[0.3333333333333333,\"#9c179e\"],[0.4444444444444444,\"#bd3786\"],[0.5555555555555556,\"#d8576b\"],[0.6666666666666666,\"#ed7953\"],[0.7777777777777778,\"#fb9f3a\"],[0.8888888888888888,\"#fdca26\"],[1.0,\"#f0f921\"]],\"diverging\":[[0,\"#8e0152\"],[0.1,\"#c51b7d\"],[0.2,\"#de77ae\"],[0.3,\"#f1b6da\"],[0.4,\"#fde0ef\"],[0.5,\"#f7f7f7\"],[0.6,\"#e6f5d0\"],[0.7,\"#b8e186\"],[0.8,\"#7fbc41\"],[0.9,\"#4d9221\"],[1,\"#276419\"]]},\"xaxis\":{\"gridcolor\":\"white\",\"linecolor\":\"white\",\"ticks\":\"\",\"title\":{\"standoff\":15},\"zerolinecolor\":\"white\",\"automargin\":true,\"zerolinewidth\":2},\"yaxis\":{\"gridcolor\":\"white\",\"linecolor\":\"white\",\"ticks\":\"\",\"title\":{\"standoff\":15},\"zerolinecolor\":\"white\",\"automargin\":true,\"zerolinewidth\":2},\"scene\":{\"xaxis\":{\"backgroundcolor\":\"#E5ECF6\",\"gridcolor\":\"white\",\"linecolor\":\"white\",\"showbackground\":true,\"ticks\":\"\",\"zerolinecolor\":\"white\",\"gridwidth\":2},\"yaxis\":{\"backgroundcolor\":\"#E5ECF6\",\"gridcolor\":\"white\",\"linecolor\":\"white\",\"showbackground\":true,\"ticks\":\"\",\"zerolinecolor\":\"white\",\"gridwidth\":2},\"zaxis\":{\"backgroundcolor\":\"#E5ECF6\",\"gridcolor\":\"white\",\"linecolor\":\"white\",\"showbackground\":true,\"ticks\":\"\",\"zerolinecolor\":\"white\",\"gridwidth\":2}},\"shapedefaults\":{\"line\":{\"color\":\"#2a3f5f\"}},\"annotationdefaults\":{\"arrowcolor\":\"#2a3f5f\",\"arrowhead\":0,\"arrowwidth\":1},\"geo\":{\"bgcolor\":\"white\",\"landcolor\":\"#E5ECF6\",\"subunitcolor\":\"white\",\"showland\":true,\"showlakes\":true,\"lakecolor\":\"white\"},\"title\":{\"x\":0.05},\"mapbox\":{\"style\":\"light\"}}},\"font\":{\"size\":18},\"xaxis\":{\"title\":{\"text\":\"$G/\\\\epsilon$\"}},\"yaxis\":{\"title\":{\"text\":\"Overlap\"}},\"showlegend\":false},                        {\"responsive\": true}                    ).then(function(){\n",
       "                            \n",
       "var gd = document.getElementById('0e363ba9-8116-4735-9f6e-624bc26e845e');\n",
       "var x = new MutationObserver(function (mutations, observer) {{\n",
       "        var display = window.getComputedStyle(gd).display;\n",
       "        if (!display || display === 'none') {{\n",
       "            console.log([gd, 'removed!']);\n",
       "            Plotly.purge(gd);\n",
       "            observer.disconnect();\n",
       "        }}\n",
       "}});\n",
       "\n",
       "// Listen for the removal of the full notebook cells\n",
       "var notebookContainer = gd.closest('#notebook-container');\n",
       "if (notebookContainer) {{\n",
       "    x.observe(notebookContainer, {childList: true});\n",
       "}}\n",
       "\n",
       "// Listen for the clearing of the current output cell\n",
       "var outputEl = gd.closest('.output');\n",
       "if (outputEl) {{\n",
       "    x.observe(outputEl, {childList: true});\n",
       "}}\n",
       "\n",
       "                        })                };                });            </script>        </div>"
      ]
     },
     "metadata": {},
     "output_type": "display_data"
    }
   ],
   "source": [
    "x_axis = list(overlap_range.keys())\n",
    "values = list(overlap_range.items())\n",
    "size = len(values[0][1])\n",
    "num = 20\n",
    "fig = go.Figure()\n",
    "for k in range(0,8):\n",
    "    fig.add_trace(go.Scatter(\n",
    "        x=x_axis,\n",
    "        y=[values[j][1][k] for j in range(0,num)]\n",
    "    ))\n",
    "fig.update_layout(xaxis_title=r'$G/\\epsilon$',\n",
    "                   yaxis_title='Overlap',           \n",
    "                  showlegend = False,\n",
    "                     font=dict(\n",
    "                      size=18,\n",
    "                   ))\n",
    "fig.show()"
   ]
  },
  {
   "cell_type": "code",
   "execution_count": 17,
   "metadata": {},
   "outputs": [
    {
     "data": {
      "text/plain": [
       "[(0.01,\n",
       "  [0.9956193411087314,\n",
       "   0.9956193411087314,\n",
       "   0.9956193411087314,\n",
       "   0.9956193411087314,\n",
       "   0.9956193411087314,\n",
       "   0.9956193411087314,\n",
       "   0.9956193411087314,\n",
       "   0.9956193411087314,\n",
       "   0.9956193411087314,\n",
       "   0.9956193411087314,\n",
       "   0.9956193411087314,\n",
       "   0.9956193411087314,\n",
       "   0.9956193411087314,\n",
       "   0.9956193411087314,\n",
       "   0.9956193411087314,\n",
       "   0.9956193411087314,\n",
       "   0.9956193411087314,\n",
       "   0.9956193411087314,\n",
       "   0.9956193411087314,\n",
       "   0.9956193411087314,\n",
       "   0.9956193411087314]),\n",
       " (0.13794871794871796,\n",
       "  [0.9708364225132435,\n",
       "   0.9708364225132435,\n",
       "   0.9708364225132435,\n",
       "   0.9708364225132435,\n",
       "   0.9708364225132435,\n",
       "   0.9708364225132435,\n",
       "   0.9708364225132435,\n",
       "   0.9708364225132435,\n",
       "   0.9708364225132435,\n",
       "   0.9708364225132435,\n",
       "   0.9708364225132435,\n",
       "   0.9708364225132435,\n",
       "   0.9708364225132435,\n",
       "   0.9708364225132435,\n",
       "   0.9708364225132435,\n",
       "   0.9708364225132435,\n",
       "   0.9708364225132435,\n",
       "   0.9708364225132435,\n",
       "   0.9708364225132435,\n",
       "   0.9708364225132435,\n",
       "   0.9708364225132435]),\n",
       " (0.2658974358974359,\n",
       "  [0.9634706180690517,\n",
       "   0.9634706180690517,\n",
       "   0.9634706180690517,\n",
       "   0.9634706180690517,\n",
       "   0.9634706180690517,\n",
       "   0.9634706180690517,\n",
       "   0.9634706180690517,\n",
       "   0.9634706180690517,\n",
       "   0.9634706180690517,\n",
       "   0.9634706180690517,\n",
       "   0.9634706180690517,\n",
       "   0.9634706180690517,\n",
       "   0.9634706180690517,\n",
       "   0.9634706180690517,\n",
       "   0.9634706180690517,\n",
       "   0.9634706180690517,\n",
       "   0.9634706180690517,\n",
       "   0.9634706180690517,\n",
       "   0.9634706180690517,\n",
       "   0.9634706180690517,\n",
       "   0.9634706180690517]),\n",
       " (0.39384615384615385,\n",
       "  [0.9611304471693956,\n",
       "   0.9611304471693956,\n",
       "   0.9611304471693956,\n",
       "   0.9611304471693956,\n",
       "   0.9611304471693956,\n",
       "   0.9611304471693956,\n",
       "   0.9611304471693956,\n",
       "   0.9611304471693956,\n",
       "   0.9611304471693956,\n",
       "   0.9611304471693956,\n",
       "   0.9611304471693956,\n",
       "   0.9611304471693956,\n",
       "   0.9611304471693956,\n",
       "   0.9611304471693956,\n",
       "   0.9611304471693956,\n",
       "   0.9611304471693956,\n",
       "   0.9611304471693956,\n",
       "   0.9611304471693956,\n",
       "   0.9611304471693956,\n",
       "   0.9611304471693956,\n",
       "   0.9611304471693956]),\n",
       " (0.5217948717948718,\n",
       "  [0.960866821988615,\n",
       "   0.960866821988615,\n",
       "   0.960866821988615,\n",
       "   0.960866821988615,\n",
       "   0.960866821988615,\n",
       "   0.960866821988615,\n",
       "   0.960866821988615,\n",
       "   0.960866821988615,\n",
       "   0.960866821988615,\n",
       "   0.960866821988615,\n",
       "   0.960866821988615,\n",
       "   0.960866821988615,\n",
       "   0.960866821988615,\n",
       "   0.960866821988615,\n",
       "   0.960866821988615,\n",
       "   0.960866821988615,\n",
       "   0.960866821988615,\n",
       "   0.960866821988615,\n",
       "   0.960866821988615,\n",
       "   0.960866821988615,\n",
       "   0.960866821988615]),\n",
       " (0.6497435897435898,\n",
       "  [0.9616556152473905,\n",
       "   0.9616556152473905,\n",
       "   0.9616556152473905,\n",
       "   0.9616556152473905,\n",
       "   0.9616556152473905,\n",
       "   0.9616556152473905,\n",
       "   0.9616556152473905,\n",
       "   0.9616556152473905,\n",
       "   0.9616556152473905,\n",
       "   0.9616556152473905,\n",
       "   0.9616556152473905,\n",
       "   0.9616556152473905,\n",
       "   0.9616556152473905,\n",
       "   0.9616556152473905,\n",
       "   0.9616556152473905,\n",
       "   0.9616556152473905,\n",
       "   0.9616556152473905,\n",
       "   0.9616556152473905,\n",
       "   0.9616556152473905,\n",
       "   0.9616556152473905,\n",
       "   0.9616556152473905]),\n",
       " (0.7776923076923077,\n",
       "  [0.9630630218663732,\n",
       "   0.9630630218663732,\n",
       "   0.9630630218663732,\n",
       "   0.9630630218663732,\n",
       "   0.9630630218663732,\n",
       "   0.9630630218663732,\n",
       "   0.9630630218663732,\n",
       "   0.9630630218663732,\n",
       "   0.9630630218663732,\n",
       "   0.9630630218663732,\n",
       "   0.9630630218663732,\n",
       "   0.9630630218663732,\n",
       "   0.9630630218663732,\n",
       "   0.9630630218663732,\n",
       "   0.9630630218663732,\n",
       "   0.9630630218663732,\n",
       "   0.9630630218663732,\n",
       "   0.9630630218663732,\n",
       "   0.9630630218663732,\n",
       "   0.9630630218663732,\n",
       "   0.9630630218663732]),\n",
       " (0.9056410256410257,\n",
       "  [0.964859193881306,\n",
       "   0.964859193881306,\n",
       "   0.964859193881306,\n",
       "   0.964859193881306,\n",
       "   0.964859193881306,\n",
       "   0.964859193881306,\n",
       "   0.964859193881306,\n",
       "   0.964859193881306,\n",
       "   0.964859193881306,\n",
       "   0.964859193881306,\n",
       "   0.964859193881306,\n",
       "   0.964859193881306,\n",
       "   0.964859193881306,\n",
       "   0.964859193881306,\n",
       "   0.964859193881306,\n",
       "   0.964859193881306,\n",
       "   0.964859193881306,\n",
       "   0.964859193881306,\n",
       "   0.964859193881306,\n",
       "   0.964859193881306,\n",
       "   0.964859193881306]),\n",
       " (1.0335897435897436,\n",
       "  [0.9668906048313913,\n",
       "   0.9668906048313913,\n",
       "   0.9668906048313913,\n",
       "   0.9668906048313913,\n",
       "   0.9668906048313913,\n",
       "   0.9668906048313913,\n",
       "   0.9668906048313913,\n",
       "   0.9668906048313913,\n",
       "   0.9668906048313913,\n",
       "   0.9668906048313913,\n",
       "   0.9668906048313913,\n",
       "   0.9668906048313913,\n",
       "   0.9668906048313913,\n",
       "   0.9668906048313913,\n",
       "   0.9668906048313913,\n",
       "   0.9668906048313913,\n",
       "   0.9668906048313913,\n",
       "   0.9668906048313913,\n",
       "   0.9668906048313913,\n",
       "   0.9668906048313913,\n",
       "   0.9668906048313913]),\n",
       " (1.1615384615384616,\n",
       "  [0.969040315130677,\n",
       "   0.969040315130677,\n",
       "   0.969040315130677,\n",
       "   0.969040315130677,\n",
       "   0.969040315130677,\n",
       "   0.969040315130677,\n",
       "   0.969040315130677,\n",
       "   0.969040315130677,\n",
       "   0.969040315130677,\n",
       "   0.969040315130677,\n",
       "   0.969040315130677,\n",
       "   0.969040315130677,\n",
       "   0.969040315130677,\n",
       "   0.969040315130677,\n",
       "   0.969040315130677,\n",
       "   0.969040315130677,\n",
       "   0.969040315130677,\n",
       "   0.969040315130677,\n",
       "   0.969040315130677,\n",
       "   0.969040315130677,\n",
       "   0.969040315130677]),\n",
       " (1.2894871794871796,\n",
       "  [0.9712177812783807,\n",
       "   0.9712177812783807,\n",
       "   0.9712177812783807,\n",
       "   0.9712177812783807,\n",
       "   0.9712177812783807,\n",
       "   0.9712177812783807,\n",
       "   0.9712177812783807,\n",
       "   0.9712177812783807,\n",
       "   0.9712177812783807,\n",
       "   0.9712177812783807,\n",
       "   0.9712177812783807,\n",
       "   0.9712177812783807,\n",
       "   0.9712177812783807,\n",
       "   0.9712177812783807,\n",
       "   0.9712177812783807,\n",
       "   0.9712177812783807,\n",
       "   0.9712177812783807,\n",
       "   0.9712177812783807,\n",
       "   0.9712177812783807,\n",
       "   0.9712177812783807,\n",
       "   0.9712177812783807]),\n",
       " (1.4174358974358976,\n",
       "  [0.9733552931633781,\n",
       "   0.9733552931633781,\n",
       "   0.9733552931633781,\n",
       "   0.9733552931633781,\n",
       "   0.9733552931633781,\n",
       "   0.9733552931633781,\n",
       "   0.9733552931633781,\n",
       "   0.9733552931633781,\n",
       "   0.9733552931633781,\n",
       "   0.9733552931633781,\n",
       "   0.9733552931633781,\n",
       "   0.9733552931633781,\n",
       "   0.9733552931633781,\n",
       "   0.9733552931633781,\n",
       "   0.9733552931633781,\n",
       "   0.9733552931633781,\n",
       "   0.9733552931633781,\n",
       "   0.9733552931633781,\n",
       "   0.9733552931633781,\n",
       "   0.9733552931633781,\n",
       "   0.9733552931633781]),\n",
       " (1.5453846153846154,\n",
       "  [0.9754054497124007,\n",
       "   0.9754054497124007,\n",
       "   0.9754054497124007,\n",
       "   0.9754054497124007,\n",
       "   0.9754054497124007,\n",
       "   0.9754054497124007,\n",
       "   0.9754054497124007,\n",
       "   0.9754054497124007,\n",
       "   0.9754054497124007,\n",
       "   0.9754054497124007,\n",
       "   0.9754054497124007,\n",
       "   0.9754054497124007,\n",
       "   0.9754054497124007,\n",
       "   0.9754054497124007,\n",
       "   0.9754054497124007,\n",
       "   0.9754054497124007,\n",
       "   0.9754054497124007,\n",
       "   0.9754054497124007,\n",
       "   0.9754054497124007,\n",
       "   0.9754054497124007,\n",
       "   0.9754054497124007]),\n",
       " (1.6733333333333333,\n",
       "  [0.9773378868023699,\n",
       "   0.9773378868023699,\n",
       "   0.9773378868023699,\n",
       "   0.9773378868023699,\n",
       "   0.9773378868023699,\n",
       "   0.9773378868023699,\n",
       "   0.9773378868023699,\n",
       "   0.9773378868023699,\n",
       "   0.9773378868023699,\n",
       "   0.9773378868023699,\n",
       "   0.9773378868023699,\n",
       "   0.9773378868023699,\n",
       "   0.9773378868023699,\n",
       "   0.9773378868023699,\n",
       "   0.9773378868023699,\n",
       "   0.9773378868023699,\n",
       "   0.9773378868023699,\n",
       "   0.9773378868023699,\n",
       "   0.9773378868023699,\n",
       "   0.9773378868023699,\n",
       "   0.9773378868023699]),\n",
       " (1.8012820512820513,\n",
       "  [0.9791363484247491,\n",
       "   0.9791363484247491,\n",
       "   0.9791363484247491,\n",
       "   0.9791363484247491,\n",
       "   0.9791363484247491,\n",
       "   0.9791363484247491,\n",
       "   0.9791363484247491,\n",
       "   0.9791363484247491,\n",
       "   0.9791363484247491,\n",
       "   0.9791363484247491,\n",
       "   0.9791363484247491,\n",
       "   0.9791363484247491,\n",
       "   0.9791363484247491,\n",
       "   0.9791363484247491,\n",
       "   0.9791363484247491,\n",
       "   0.9791363484247491,\n",
       "   0.9791363484247491,\n",
       "   0.9791363484247491,\n",
       "   0.9791363484247491,\n",
       "   0.9791363484247491,\n",
       "   0.9791363484247491]),\n",
       " (1.9292307692307693,\n",
       "  [0.9807943905108107,\n",
       "   0.9807943905108107,\n",
       "   0.9807943905108107,\n",
       "   0.9807943905108107,\n",
       "   0.9807943905108107,\n",
       "   0.9807943905108107,\n",
       "   0.9807943905108107,\n",
       "   0.9807943905108107,\n",
       "   0.9807943905108107,\n",
       "   0.9807943905108107,\n",
       "   0.9807943905108107,\n",
       "   0.9807943905108107,\n",
       "   0.9807943905108107,\n",
       "   0.9807943905108107,\n",
       "   0.9807943905108107,\n",
       "   0.9807943905108107,\n",
       "   0.9807943905108107,\n",
       "   0.9807943905108107,\n",
       "   0.9807943905108107,\n",
       "   0.9807943905108107,\n",
       "   0.9807943905108107]),\n",
       " (2.057179487179487,\n",
       "  [0.9823125191530211,\n",
       "   0.9823125191530211,\n",
       "   0.9823125191530211,\n",
       "   0.9823125191530211,\n",
       "   0.9823125191530211,\n",
       "   0.9823125191530211,\n",
       "   0.9823125191530211,\n",
       "   0.9823125191530211,\n",
       "   0.9823125191530211,\n",
       "   0.9823125191530211,\n",
       "   0.9823125191530211,\n",
       "   0.9823125191530211,\n",
       "   0.9823125191530211,\n",
       "   0.9823125191530211,\n",
       "   0.9823125191530211,\n",
       "   0.9823125191530211,\n",
       "   0.9823125191530211,\n",
       "   0.9823125191530211,\n",
       "   0.9823125191530211,\n",
       "   0.9823125191530211,\n",
       "   0.9823125191530211]),\n",
       " (2.185128205128205,\n",
       "  [0.9836963020700948,\n",
       "   0.9836963020700948,\n",
       "   0.9836963020700948,\n",
       "   0.9836963020700948,\n",
       "   0.9836963020700948,\n",
       "   0.9836963020700948,\n",
       "   0.9836963020700948,\n",
       "   0.9836963020700948,\n",
       "   0.9836963020700948,\n",
       "   0.9836963020700948,\n",
       "   0.9836963020700948,\n",
       "   0.9836963020700948,\n",
       "   0.9836963020700948,\n",
       "   0.9836963020700948,\n",
       "   0.9836963020700948,\n",
       "   0.9836963020700948,\n",
       "   0.9836963020700948,\n",
       "   0.9836963020700948,\n",
       "   0.9836963020700948,\n",
       "   0.9836963020700948,\n",
       "   0.9836963020700948]),\n",
       " (2.313076923076923,\n",
       "  [0.984953685330041,\n",
       "   0.984953685330041,\n",
       "   0.984953685330041,\n",
       "   0.984953685330041,\n",
       "   0.984953685330041,\n",
       "   0.984953685330041,\n",
       "   0.984953685330041,\n",
       "   0.984953685330041,\n",
       "   0.984953685330041,\n",
       "   0.984953685330041,\n",
       "   0.984953685330041,\n",
       "   0.984953685330041,\n",
       "   0.984953685330041,\n",
       "   0.984953685330041,\n",
       "   0.984953685330041,\n",
       "   0.984953685330041,\n",
       "   0.984953685330041,\n",
       "   0.984953685330041,\n",
       "   0.984953685330041,\n",
       "   0.984953685330041,\n",
       "   0.984953685330041]),\n",
       " (2.441025641025641,\n",
       "  [0.9860940992037328,\n",
       "   0.9860940992037328,\n",
       "   0.9860940992037328,\n",
       "   0.9860940992037328,\n",
       "   0.9860940992037328,\n",
       "   0.9860940992037328,\n",
       "   0.9860940992037328,\n",
       "   0.9860940992037328,\n",
       "   0.9860940992037328,\n",
       "   0.9860940992037328,\n",
       "   0.9860940992037328,\n",
       "   0.9860940992037328,\n",
       "   0.9860940992037328,\n",
       "   0.9860940992037328,\n",
       "   0.9860940992037328,\n",
       "   0.9860940992037328,\n",
       "   0.9860940992037328,\n",
       "   0.9860940992037328,\n",
       "   0.9860940992037328,\n",
       "   0.9860940992037328,\n",
       "   0.9860940992037328]),\n",
       " (2.568974358974359,\n",
       "  [0.9871275808477042,\n",
       "   0.9871275808477042,\n",
       "   0.9871275808477042,\n",
       "   0.9871275808477042,\n",
       "   0.9871275808477042,\n",
       "   0.9871275808477042,\n",
       "   0.9871275808477042,\n",
       "   0.9871275808477042,\n",
       "   0.9871275808477042,\n",
       "   0.9871275808477042,\n",
       "   0.9871275808477042,\n",
       "   0.9871275808477042,\n",
       "   0.9871275808477042,\n",
       "   0.9871275808477042,\n",
       "   0.9871275808477042,\n",
       "   0.9871275808477042,\n",
       "   0.9871275808477042,\n",
       "   0.9871275808477042,\n",
       "   0.9871275808477042,\n",
       "   0.9871275808477042,\n",
       "   0.9871275808477042]),\n",
       " (2.6969230769230768,\n",
       "  [0.9880639288531967,\n",
       "   0.9880639288531967,\n",
       "   0.9880639288531967,\n",
       "   0.9880639288531967,\n",
       "   0.9880639288531967,\n",
       "   0.9880639288531967,\n",
       "   0.9880639288531967,\n",
       "   0.9880639288531967,\n",
       "   0.9880639288531967,\n",
       "   0.9880639288531967,\n",
       "   0.9880639288531967,\n",
       "   0.9880639288531967,\n",
       "   0.9880639288531967,\n",
       "   0.9880639288531967,\n",
       "   0.9880639288531967,\n",
       "   0.9880639288531967,\n",
       "   0.9880639288531967,\n",
       "   0.9880639288531967,\n",
       "   0.9880639288531967,\n",
       "   0.9880639288531967,\n",
       "   0.9880639288531967]),\n",
       " (2.824871794871795,\n",
       "  [0.9889128517345509,\n",
       "   0.9889128517345509,\n",
       "   0.9889128517345509,\n",
       "   0.9889128517345509,\n",
       "   0.9889128517345509,\n",
       "   0.9889128517345509,\n",
       "   0.9889128517345509,\n",
       "   0.9889128517345509,\n",
       "   0.9889128517345509,\n",
       "   0.9889128517345509,\n",
       "   0.9889128517345509,\n",
       "   0.9889128517345509,\n",
       "   0.9889128517345509,\n",
       "   0.9889128517345509,\n",
       "   0.9889128517345509,\n",
       "   0.9889128517345509,\n",
       "   0.9889128517345509,\n",
       "   0.9889128517345509,\n",
       "   0.9889128517345509,\n",
       "   0.9889128517345509,\n",
       "   0.9889128517345509]),\n",
       " (2.9528205128205127,\n",
       "  [0.9896829187319763,\n",
       "   0.9896829187319763,\n",
       "   0.9896829187319763,\n",
       "   0.9896829187319763,\n",
       "   0.9896829187319763,\n",
       "   0.9896829187319763,\n",
       "   0.9896829187319763,\n",
       "   0.9896829187319763,\n",
       "   0.9896829187319763,\n",
       "   0.9896829187319763,\n",
       "   0.9896829187319763,\n",
       "   0.9896829187319763,\n",
       "   0.9896829187319763,\n",
       "   0.9896829187319763,\n",
       "   0.9896829187319763,\n",
       "   0.9896829187319763,\n",
       "   0.9896829187319763,\n",
       "   0.9896829187319763,\n",
       "   0.9896829187319763,\n",
       "   0.9896829187319763,\n",
       "   0.9896829187319763]),\n",
       " (3.0807692307692305,\n",
       "  [0.9903823756611283,\n",
       "   0.9903823756611283,\n",
       "   0.9903823756611283,\n",
       "   0.9903823756611283,\n",
       "   0.9903823756611283,\n",
       "   0.9903823756611283,\n",
       "   0.9903823756611283,\n",
       "   0.9903823756611283,\n",
       "   0.9903823756611283,\n",
       "   0.9903823756611283,\n",
       "   0.9903823756611283,\n",
       "   0.9903823756611283,\n",
       "   0.9903823756611283,\n",
       "   0.9903823756611283,\n",
       "   0.9903823756611283,\n",
       "   0.9903823756611283,\n",
       "   0.9903823756611283,\n",
       "   0.9903823756611283,\n",
       "   0.9903823756611283,\n",
       "   0.9903823756611283,\n",
       "   0.9903823756611283]),\n",
       " (3.2087179487179487,\n",
       "  [0.9910184748377371,\n",
       "   0.9910184748377371,\n",
       "   0.9910184748377371,\n",
       "   0.9910184748377371,\n",
       "   0.9910184748377371,\n",
       "   0.9910184748377371,\n",
       "   0.9910184748377371,\n",
       "   0.9910184748377371,\n",
       "   0.9910184748377371,\n",
       "   0.9910184748377371,\n",
       "   0.9910184748377371,\n",
       "   0.9910184748377371,\n",
       "   0.9910184748377371,\n",
       "   0.9910184748377371,\n",
       "   0.9910184748377371,\n",
       "   0.9910184748377371,\n",
       "   0.9910184748377371,\n",
       "   0.9910184748377371,\n",
       "   0.9910184748377371,\n",
       "   0.9910184748377371,\n",
       "   0.9910184748377371]),\n",
       " (3.3366666666666664,\n",
       "  [0.9915979417917884,\n",
       "   0.9915979417917884,\n",
       "   0.9915979417917884,\n",
       "   0.9915979417917884,\n",
       "   0.9915979417917884,\n",
       "   0.9915979417917884,\n",
       "   0.9915979417917884,\n",
       "   0.9915979417917884,\n",
       "   0.9915979417917884,\n",
       "   0.9915979417917884,\n",
       "   0.9915979417917884,\n",
       "   0.9915979417917884,\n",
       "   0.9915979417917884,\n",
       "   0.9915979417917884,\n",
       "   0.9915979417917884,\n",
       "   0.9915979417917884,\n",
       "   0.9915979417917884,\n",
       "   0.9915979417917884,\n",
       "   0.9915979417917884,\n",
       "   0.9915979417917884,\n",
       "   0.9915979417917884]),\n",
       " (3.4646153846153847,\n",
       "  [0.992126699630917,\n",
       "   0.992126699630917,\n",
       "   0.992126699630917,\n",
       "   0.992126699630917,\n",
       "   0.992126699630917,\n",
       "   0.992126699630917,\n",
       "   0.992126699630917,\n",
       "   0.992126699630917,\n",
       "   0.992126699630917,\n",
       "   0.992126699630917,\n",
       "   0.992126699630917,\n",
       "   0.992126699630917,\n",
       "   0.992126699630917,\n",
       "   0.992126699630917,\n",
       "   0.992126699630917,\n",
       "   0.992126699630917,\n",
       "   0.992126699630917,\n",
       "   0.992126699630917,\n",
       "   0.992126699630917,\n",
       "   0.992126699630917,\n",
       "   0.992126699630917]),\n",
       " (3.5925641025641024,\n",
       "  [0.9926098541893914,\n",
       "   0.9926098541893914,\n",
       "   0.9926098541893914,\n",
       "   0.9926098541893914,\n",
       "   0.9926098541893914,\n",
       "   0.9926098541893914,\n",
       "   0.9926098541893914,\n",
       "   0.9926098541893914,\n",
       "   0.9926098541893914,\n",
       "   0.9926098541893914,\n",
       "   0.9926098541893914,\n",
       "   0.9926098541893914,\n",
       "   0.9926098541893914,\n",
       "   0.9926098541893914,\n",
       "   0.9926098541893914,\n",
       "   0.9926098541893914,\n",
       "   0.9926098541893914,\n",
       "   0.9926098541893914,\n",
       "   0.9926098541893914,\n",
       "   0.9926098541893914,\n",
       "   0.9926098541893914]),\n",
       " (3.7205128205128206,\n",
       "  [0.9930522989547561,\n",
       "   0.9930522989547561,\n",
       "   0.9930522989547561,\n",
       "   0.9930522989547561,\n",
       "   0.9930522989547561,\n",
       "   0.9930522989547561,\n",
       "   0.9930522989547561,\n",
       "   0.9930522989547561,\n",
       "   0.9930522989547561,\n",
       "   0.9930522989547561,\n",
       "   0.9930522989547561,\n",
       "   0.9930522989547561,\n",
       "   0.9930522989547561,\n",
       "   0.9930522989547561,\n",
       "   0.9930522989547561,\n",
       "   0.9930522989547561,\n",
       "   0.9930522989547561,\n",
       "   0.9930522989547561,\n",
       "   0.9930522989547561,\n",
       "   0.9930522989547561,\n",
       "   0.9930522989547561]),\n",
       " (3.8484615384615384,\n",
       "  [0.9934580398598851,\n",
       "   0.9934580398598851,\n",
       "   0.9934580398598851,\n",
       "   0.9934580398598851,\n",
       "   0.9934580398598851,\n",
       "   0.9934580398598851,\n",
       "   0.9934580398598851,\n",
       "   0.9934580398598851,\n",
       "   0.9934580398598851,\n",
       "   0.9934580398598851,\n",
       "   0.9934580398598851,\n",
       "   0.9934580398598851,\n",
       "   0.9934580398598851,\n",
       "   0.9934580398598851,\n",
       "   0.9934580398598851,\n",
       "   0.9934580398598851,\n",
       "   0.9934580398598851,\n",
       "   0.9934580398598851,\n",
       "   0.9934580398598851,\n",
       "   0.9934580398598851,\n",
       "   0.9934580398598851]),\n",
       " (3.9764102564102566,\n",
       "  [0.9938309602382023,\n",
       "   0.9938309602382023,\n",
       "   0.9938309602382023,\n",
       "   0.9938309602382023,\n",
       "   0.9938309602382023,\n",
       "   0.9938309602382023,\n",
       "   0.9938309602382023,\n",
       "   0.9938309602382023,\n",
       "   0.9938309602382023,\n",
       "   0.9938309602382023,\n",
       "   0.9938309602382023,\n",
       "   0.9938309602382023,\n",
       "   0.9938309602382023,\n",
       "   0.9938309602382023,\n",
       "   0.9938309602382023,\n",
       "   0.9938309602382023,\n",
       "   0.9938309602382023,\n",
       "   0.9938309602382023,\n",
       "   0.9938309602382023,\n",
       "   0.9938309602382023,\n",
       "   0.9938309602382023]),\n",
       " (4.104358974358974,\n",
       "  [0.9941741426955677,\n",
       "   0.9941741426955677,\n",
       "   0.9941741426955677,\n",
       "   0.9941741426955677,\n",
       "   0.9941741426955677,\n",
       "   0.9941741426955677,\n",
       "   0.9941741426955677,\n",
       "   0.9941741426955677,\n",
       "   0.9941741426955677,\n",
       "   0.9941741426955677,\n",
       "   0.9941741426955677,\n",
       "   0.9941741426955677,\n",
       "   0.9941741426955677,\n",
       "   0.9941741426955677,\n",
       "   0.9941741426955677,\n",
       "   0.9941741426955677,\n",
       "   0.9941741426955677,\n",
       "   0.9941741426955677,\n",
       "   0.9941741426955677,\n",
       "   0.9941741426955677,\n",
       "   0.9941741426955677]),\n",
       " (4.2323076923076925,\n",
       "  [0.994490533093725,\n",
       "   0.994490533093725,\n",
       "   0.994490533093725,\n",
       "   0.994490533093725,\n",
       "   0.994490533093725,\n",
       "   0.994490533093725,\n",
       "   0.994490533093725,\n",
       "   0.994490533093725,\n",
       "   0.994490533093725,\n",
       "   0.994490533093725,\n",
       "   0.994490533093725,\n",
       "   0.994490533093725,\n",
       "   0.994490533093725,\n",
       "   0.994490533093725,\n",
       "   0.994490533093725,\n",
       "   0.994490533093725,\n",
       "   0.994490533093725,\n",
       "   0.994490533093725,\n",
       "   0.994490533093725,\n",
       "   0.994490533093725,\n",
       "   0.994490533093725]),\n",
       " (4.36025641025641,\n",
       "  [0.9947827339971712,\n",
       "   0.9947827339971712,\n",
       "   0.9947827339971712,\n",
       "   0.9947827339971712,\n",
       "   0.9947827339971712,\n",
       "   0.9947827339971712,\n",
       "   0.9947827339971712,\n",
       "   0.9947827339971712,\n",
       "   0.9947827339971712,\n",
       "   0.9947827339971712,\n",
       "   0.9947827339971712,\n",
       "   0.9947827339971712,\n",
       "   0.9947827339971712,\n",
       "   0.9947827339971712,\n",
       "   0.9947827339971712,\n",
       "   0.9947827339971712,\n",
       "   0.9947827339971712,\n",
       "   0.9947827339971712,\n",
       "   0.9947827339971712,\n",
       "   0.9947827339971712,\n",
       "   0.9947827339971712]),\n",
       " (4.488205128205128,\n",
       "  [0.9950531312357105,\n",
       "   0.9950531312357105,\n",
       "   0.9950531312357105,\n",
       "   0.9950531312357105,\n",
       "   0.9950531312357105,\n",
       "   0.9950531312357105,\n",
       "   0.9950531312357105,\n",
       "   0.9950531312357105,\n",
       "   0.9950531312357105,\n",
       "   0.9950531312357105,\n",
       "   0.9950531312357105,\n",
       "   0.9950531312357105,\n",
       "   0.9950531312357105,\n",
       "   0.9950531312357105,\n",
       "   0.9950531312357105,\n",
       "   0.9950531312357105,\n",
       "   0.9950531312357105,\n",
       "   0.9950531312357105,\n",
       "   0.9950531312357105,\n",
       "   0.9950531312357105,\n",
       "   0.9950531312357105]),\n",
       " (4.616153846153846,\n",
       "  [0.9953036680378409,\n",
       "   0.9953036680378409,\n",
       "   0.9953036680378409,\n",
       "   0.9953036680378409,\n",
       "   0.9953036680378409,\n",
       "   0.9953036680378409,\n",
       "   0.9953036680378409,\n",
       "   0.9953036680378409,\n",
       "   0.9953036680378409,\n",
       "   0.9953036680378409,\n",
       "   0.9953036680378409,\n",
       "   0.9953036680378409,\n",
       "   0.9953036680378409,\n",
       "   0.9953036680378409,\n",
       "   0.9953036680378409,\n",
       "   0.9953036680378409,\n",
       "   0.9953036680378409,\n",
       "   0.9953036680378409,\n",
       "   0.9953036680378409,\n",
       "   0.9953036680378409,\n",
       "   0.9953036680378409]),\n",
       " (4.7441025641025645,\n",
       "  [0.9955361851380503,\n",
       "   0.9955361851380503,\n",
       "   0.9955361851380503,\n",
       "   0.9955361851380503,\n",
       "   0.9955361851380503,\n",
       "   0.9955361851380503,\n",
       "   0.9955361851380503,\n",
       "   0.9955361851380503,\n",
       "   0.9955361851380503,\n",
       "   0.9955361851380503,\n",
       "   0.9955361851380503,\n",
       "   0.9955361851380503,\n",
       "   0.9955361851380503,\n",
       "   0.9955361851380503,\n",
       "   0.9955361851380503,\n",
       "   0.9955361851380503,\n",
       "   0.9955361851380503,\n",
       "   0.9955361851380503,\n",
       "   0.9955361851380503,\n",
       "   0.9955361851380503,\n",
       "   0.9955361851380503]),\n",
       " (4.872051282051282,\n",
       "  [0.9957523400692911,\n",
       "   0.9957523400692911,\n",
       "   0.9957523400692911,\n",
       "   0.9957523400692911,\n",
       "   0.9957523400692911,\n",
       "   0.9957523400692911,\n",
       "   0.9957523400692911,\n",
       "   0.9957523400692911,\n",
       "   0.9957523400692911,\n",
       "   0.9957523400692911,\n",
       "   0.9957523400692911,\n",
       "   0.9957523400692911,\n",
       "   0.9957523400692911,\n",
       "   0.9957523400692911,\n",
       "   0.9957523400692911,\n",
       "   0.9957523400692911,\n",
       "   0.9957523400692911,\n",
       "   0.9957523400692911,\n",
       "   0.9957523400692911,\n",
       "   0.9957523400692911,\n",
       "   0.9957523400692911]),\n",
       " (5.0,\n",
       "  [0.9959534940021952,\n",
       "   0.9959534940021952,\n",
       "   0.9959534940021952,\n",
       "   0.9959534940021952,\n",
       "   0.9959534940021952,\n",
       "   0.9959534940021952,\n",
       "   0.9959534940021952,\n",
       "   0.9959534940021952,\n",
       "   0.9959534940021952,\n",
       "   0.9959534940021952,\n",
       "   0.9959534940021952,\n",
       "   0.9959534940021952,\n",
       "   0.9959534940021952,\n",
       "   0.9959534940021952,\n",
       "   0.9959534940021952,\n",
       "   0.9959534940021952,\n",
       "   0.9959534940021952,\n",
       "   0.9959534940021952,\n",
       "   0.9959534940021952,\n",
       "   0.9959534940021952,\n",
       "   0.9959534940021952])]"
      ]
     },
     "execution_count": 17,
     "metadata": {},
     "output_type": "execute_result"
    }
   ],
   "source": [
    "x_axis = list(overlap_range.keys())\n",
    "values = list(overlap_range.items())\n",
    "values"
   ]
  },
  {
   "cell_type": "code",
   "execution_count": 70,
   "metadata": {},
   "outputs": [],
   "source": [
    "with open('ovlp.npy','wb') as f:\n",
    "    pickle.dump(overlap_range,f)"
   ]
  },
  {
   "cell_type": "code",
   "execution_count": 4,
   "metadata": {},
   "outputs": [],
   "source": [
    "with open('ovlp.npy','rb') as f:\n",
    "    overlap_range = pickle.load(f)"
   ]
  },
  {
   "cell_type": "code",
   "execution_count": null,
   "metadata": {},
   "outputs": [],
   "source": []
  }
 ],
 "metadata": {
  "colab": {
   "name": "main.py.ipynb",
   "provenance": []
  },
  "kernelspec": {
   "display_name": "Python 3",
   "language": "python",
   "name": "python3"
  },
  "language_info": {
   "codemirror_mode": {
    "name": "ipython",
    "version": 3
   },
   "file_extension": ".py",
   "mimetype": "text/x-python",
   "name": "python",
   "nbconvert_exporter": "python",
   "pygments_lexer": "ipython3",
   "version": "3.9.7"
  }
 },
 "nbformat": 4,
 "nbformat_minor": 1
}
