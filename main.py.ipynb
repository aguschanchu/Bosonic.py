{
 "cells": [
  {
   "cell_type": "markdown",
   "metadata": {
    "id": "gmg2zMT5iLvk"
   },
   "source": [
    "# Bosonic.py"
   ]
  },
  {
   "cell_type": "code",
   "execution_count": 2,
   "metadata": {
    "id": "XMdfOwDNiLvr"
   },
   "outputs": [],
   "source": [
    "import numpy as np\n",
    "from scipy.special import binom \n",
    "from scipy.sparse import dok_matrix, linalg\n",
    "from scipy import linalg as linalg_d\n",
    "from joblib import Memory\n",
    "import random\n",
    "import plotly.graph_objects as go\n",
    "from joblib import Parallel, delayed\n",
    "from numba import jit, prange\n",
    "\n",
    "location = './cachedir'\n",
    "memory = Memory(location, verbose=0)"
   ]
  },
  {
   "cell_type": "code",
   "execution_count": 3,
   "metadata": {
    "id": "4bbt6PcJiLvu"
   },
   "outputs": [],
   "source": [
    "# Funciones auxiliares optimiadas\n",
    "@jit\n",
    "def int_to_tuple(n, b, digits = None):\n",
    "    r = []\n",
    "    re = n \n",
    "    while re != 0:\n",
    "        r.append(re%b)\n",
    "        re = re // b\n",
    "    if digits is not None:\n",
    "        if len(r)<digits:\n",
    "            for i in range(0,digits-len(r)):\n",
    "                r.append(0)\n",
    "    r.reverse()\n",
    "    return r\n",
    "\n",
    "@jit\n",
    "def _create_basis(m, d):\n",
    "    base = []\n",
    "    index = 0\n",
    "    for x in range(0,(d+1)**max(d,m)):\n",
    "        x = int_to_tuple(x,m+1,d)\n",
    "        if sum(x) == m and len(x) == d:\n",
    "            base.append(x)\n",
    "            index += 1\n",
    "    return base\n",
    "\n",
    "class fixed_basis:\n",
    "\n",
    "    # Convierte a un enterno n a su escritura en base b\n",
    "    def _int_to_tuple(self, n, b, digits = None):\n",
    "        rep = np.base_repr(n, b)\n",
    "        rep_int = [int(x,b) for x in rep] \n",
    "        if digits is not None:\n",
    "            zeros = [0 for i in range(0,digits-len(rep))]\n",
    "            return zeros + rep_int\n",
    "        else:\n",
    "            return rep_int\n",
    "    \n",
    "    # Revierte la transformacion anterior\n",
    "    def tuple_to_int(self, t):\n",
    "        b = self.d-1\n",
    "        l = len(t)\n",
    "        s = [t[k]*b**(l-k-1) for k in range(0,l)]\n",
    "        return sum(s)\n",
    "\n",
    "    # Convierte el vector en su representacion\n",
    "    def vect_to_repr(self, vect):\n",
    "        for i, k in enumerate(vect):\n",
    "            if k == 1. or k == 1:\n",
    "                break\n",
    "        return self.base[i,:]\n",
    "            \n",
    "    def rep_to_vect(self, rep):\n",
    "        rep = list(rep)\n",
    "        for i, r in [(j, self.base[j,:]) for j in range(0,self.size)]:\n",
    "            if list(r) == rep:\n",
    "                return self.canonicals[:,i]\n",
    "        else:\n",
    "            None\n",
    "    \n",
    "    def rep_to_index(self, rep):\n",
    "        rep = list(rep)\n",
    "        for i, r in [(j, self.base[j,:]) for j in range(0,self.size)]:\n",
    "            if list(r) == rep:\n",
    "                return i\n",
    "        else:\n",
    "            None\n",
    "\n",
    "    @staticmethod\n",
    "    def rep_to_exi(rep):\n",
    "        r = []\n",
    "        for i, k in enumerate(rep):\n",
    "            r += [i for x in range(0,k)]\n",
    "        return r\n",
    "\n",
    "    # Crea base de M particulas en D estados (repr y base canonica)\n",
    "    def create_basis(self, m, d):\n",
    "        length = int(binom(d+m-1,d-1))\n",
    "        base = np.array(_create_basis(m, d))\n",
    "        # Asignamos a cada uno de ellos un canónico\n",
    "        length = int(binom(d+m-1,d-1))\n",
    "        x = [1.0 for j in range(0,length)]\n",
    "        canonicals = np.diag(x)\n",
    "        return base, canonicals\n",
    "    \n",
    "    def __init__(self, m, d):\n",
    "        self.m = m\n",
    "        self.d = d\n",
    "        self.size = int(binom(d+m-1,d-1))\n",
    "        (self.base, self.canonicals) = self.create_basis(m, d)\n",
    "\n",
    "# Matrices de aniquilación y creación endomórficas. Estan fuera de la clase para poder ser cacheadas        \n",
    "@memory.cache    \n",
    "def bdb(basis, i, j):\n",
    "    mat = dok_matrix((basis.size, basis.size), dtype=np.float32)\n",
    "    if i != j:\n",
    "        for k, v in enumerate(basis.base):\n",
    "            if v[j] != 0:\n",
    "                dest = list(v.copy())\n",
    "                dest[j] -= 1\n",
    "                dest[i] += 1\n",
    "                tar = basis.rep_to_index(dest)\n",
    "                mat[tar, k] = np.sqrt(v[i]+1)*np.sqrt(v[j])\n",
    "    else:\n",
    "        for k, v in enumerate(basis.base):\n",
    "            if v[j] != 0:\n",
    "                mat[k, k] = v[i] \n",
    "    return mat\n",
    "\n",
    "@memory.cache    \n",
    "def bbd(basis, i, j):\n",
    "    mat = dok_matrix((basis.size, basis.size), dtype=np.float32)\n",
    "    if i != j:\n",
    "        for k, v in enumerate(basis.base):\n",
    "            if v[i] != 0:\n",
    "                dest = list(v.copy())\n",
    "                dest[i] -= 1\n",
    "                dest[j] += 1\n",
    "                tar = basis.rep_to_index(dest)\n",
    "                mat[tar, k] = np.sqrt(v[j]+1)*np.sqrt(v[i])\n",
    "    else:\n",
    "        for k, v in enumerate(basis.base):\n",
    "            mat[k, k] = v[i]+1\n",
    "    return mat\n",
    "\n",
    "# Matrices de aniquilación y creación.Toman la base de origen y destino (basis_o, basis_d) resp\n",
    "@memory.cache   \n",
    "def b(basis_o, basis_d, i):\n",
    "    mat = dok_matrix((basis_d.size, basis_o.size), dtype=np.float32)\n",
    "    for k, v in enumerate(basis_o.base):\n",
    "        if v[i] != 0:\n",
    "            dest = list(v.copy())\n",
    "            dest[i] -= 1   \n",
    "            tar = basis_d.rep_to_index(dest)\n",
    "            mat[tar, k] = np.sqrt(v[i])\n",
    "    return mat\n",
    "\n",
    "\n",
    "@memory.cache   \n",
    "def bd(basis_o, basis_d, i):\n",
    "    mat = dok_matrix((basis_d.size, basis_o.size), dtype=np.float32)\n",
    "    for k, v in enumerate(basis_o.base):\n",
    "        dest = list(v.copy())\n",
    "        dest[i] += 1   \n",
    "        tar = basis_d.rep_to_index(dest)\n",
    "        mat[tar, k] = np.sqrt(v[i]+1)\n",
    "    return mat\n",
    "\n",
    "# Devuelve la matriz gamma asociada a la descomposición (M,N-M) del vector\n",
    "def gamma(basis, m, vect, m_basis = None, nm_basis = None):\n",
    "    d = basis.d\n",
    "    if not m_basis or not nm_basis:\n",
    "        m_basis = fixed_basis(m, d)\n",
    "        nm_basis = fixed_basis(basis.m-m,d)\n",
    "    mat = dok_matrix((m_basis.size, nm_basis.size), dtype=np.float32)\n",
    "    for i, v in enumerate(m_basis.base):\n",
    "        for j, w in enumerate(nm_basis.base):\n",
    "            targ = v+w\n",
    "            index = basis.rep_to_index(targ)\n",
    "            if index == None:\n",
    "                continue\n",
    "            coef = vect[index]\n",
    "            if coef != 0:      \n",
    "                aux = lambda x: np.prod(np.reciprocal(np.sqrt([np.math.factorial(o) for o in x])))\n",
    "                aux_inv = lambda x: np.prod(np.sqrt([np.math.factorial(o) for o in x]))\n",
    "                coef = coef * aux(v) * aux(w) * aux_inv(targ)\n",
    "            mat[i,j] = coef\n",
    "    return mat\n",
    "\n",
    "# Devuelve la matriz rho M asociada al vector\n",
    "def rho_m(basis, m, vect, m_basis = None, nm_basis = None):\n",
    "    g = gamma(basis, m, vect, m_basis, nm_basis)\n",
    "    return np.dot(g,np.transpose(g))\n",
    "\n",
    "# Devuelve la matriz rho 1 asociada al vector\n",
    "def rho_1(basis, vect):\n",
    "    d = basis.d\n",
    "    mat = dok_matrix((d, d), dtype=np.float32)\n",
    "    for i in range(0, d):\n",
    "        for j in range(0, d):\n",
    "            v = bdb(basis,j,i)*vect\n",
    "            mat[i,j] = np.inner(vect,v)\n",
    "    return mat\n",
    "      \n",
    "# Devuelve la matriz rho 2 asociada al vector\n",
    "def rho_2(basis, vect, ml_basis = None, mll_basis = None, t_basis = None):\n",
    "    d = basis.d\n",
    "    # Creo las bases si no están dadad\n",
    "    if ml_basis == None or mll_basis == None or t_basis == None:\n",
    "        ml_basis = fixed_basis(m-1,d)\n",
    "        mll_basis = fixed_basis(m-2,d)\n",
    "        t_basis = fixed_basis(2,d)\n",
    "    mat = dok_matrix((t_basis.size, t_basis.size), dtype=np.float32)\n",
    "    for i, v in enumerate(t_basis.base):\n",
    "        for j, w in enumerate(t_basis.base):\n",
    "            # Creacion de los a\n",
    "            i_set = t_basis.rep_to_exi(v)\n",
    "            b_m = np.dot(b(ml_basis, mll_basis, i_set[1]),b(basis, ml_basis, i_set[0]))\n",
    "            \n",
    "            # Creacion de los ad\n",
    "            i_set = t_basis.rep_to_exi(w)\n",
    "            bd_m = np.dot(bd(ml_basis, basis, i_set[1]),bd(mll_basis, ml_basis, i_set[0]))    \n",
    "\n",
    "            # Mult de b's y filleo de mat\n",
    "            coef = np.inner(vect,np.dot(bd_m,b_m)*vect)\n",
    "            aux = lambda x: np.prod(np.reciprocal(np.sqrt([np.math.factorial(o) for o in x])))\n",
    "            mat[i,j] = coef * aux(v) * aux(w)\n",
    "    return mat    "
   ]
  },
  {
   "cell_type": "code",
   "execution_count": 4,
   "metadata": {},
   "outputs": [
    {
     "name": "stdout",
     "output_type": "stream",
     "text": [
      "0.6876320838928223\n",
      "[[0 0 0 4]\n",
      " [0 0 1 3]\n",
      " [0 0 2 2]\n",
      " [0 0 3 1]\n",
      " [0 0 4 0]\n",
      " [0 1 0 3]\n",
      " [0 1 1 2]\n",
      " [0 1 2 1]\n",
      " [0 1 3 0]\n",
      " [0 2 0 2]\n",
      " [0 2 1 1]\n",
      " [0 2 2 0]\n",
      " [0 3 0 1]\n",
      " [0 3 1 0]\n",
      " [0 4 0 0]\n",
      " [1 0 0 3]\n",
      " [1 0 1 2]\n",
      " [1 0 2 1]\n",
      " [1 0 3 0]\n",
      " [1 1 0 2]\n",
      " [1 1 1 1]\n",
      " [1 1 2 0]\n",
      " [1 2 0 1]\n",
      " [1 2 1 0]\n",
      " [1 3 0 0]\n",
      " [2 0 0 2]\n",
      " [2 0 1 1]\n",
      " [2 0 2 0]\n",
      " [2 1 0 1]\n",
      " [2 1 1 0]\n",
      " [2 2 0 0]\n",
      " [3 0 0 1]\n",
      " [3 0 1 0]\n",
      " [3 1 0 0]\n",
      " [4 0 0 0]]\n"
     ]
    }
   ],
   "source": [
    "m = 4\n",
    "d = 4\n",
    "import time\n",
    "ti = time.time()\n",
    "base = fixed_basis(m, d).base\n",
    "tf = time.time()\n",
    "print(tf-ti)\n",
    "print(base)"
   ]
  },
  {
   "cell_type": "code",
   "execution_count": 97,
   "metadata": {
    "id": "J1BYHiABiLv1",
    "outputId": "da2a22e5-64cd-43a7-d2e0-4e42c8b3719f"
   },
   "outputs": [
    {
     "ename": "AttributeError",
     "evalue": "'tuple' object has no attribute 'rep_to_vect'",
     "output_type": "error",
     "traceback": [
      "\u001b[0;31m---------------------------------------------------------------------------\u001b[0m",
      "\u001b[0;31mAttributeError\u001b[0m                            Traceback (most recent call last)",
      "\u001b[0;32m<ipython-input-97-5dd6fcc21d66>\u001b[0m in \u001b[0;36m<module>\u001b[0;34m\u001b[0m\n\u001b[1;32m      1\u001b[0m \u001b[0;31m# Prueba de las matrices gamma (TODO normalizacion)\u001b[0m\u001b[0;34m\u001b[0m\u001b[0;34m\u001b[0m\u001b[0;34m\u001b[0m\u001b[0m\n\u001b[0;32m----> 2\u001b[0;31m \u001b[0mv\u001b[0m \u001b[0;34m=\u001b[0m \u001b[0ma\u001b[0m\u001b[0;34m.\u001b[0m\u001b[0mrep_to_vect\u001b[0m\u001b[0;34m(\u001b[0m\u001b[0;34m[\u001b[0m\u001b[0;36m0\u001b[0m\u001b[0;34m,\u001b[0m \u001b[0;36m1\u001b[0m\u001b[0;34m,\u001b[0m \u001b[0;36m1\u001b[0m\u001b[0;34m,\u001b[0m \u001b[0;36m2\u001b[0m\u001b[0;34m]\u001b[0m\u001b[0;34m)\u001b[0m\u001b[0;34m+\u001b[0m\u001b[0ma\u001b[0m\u001b[0;34m.\u001b[0m\u001b[0mrep_to_vect\u001b[0m\u001b[0;34m(\u001b[0m\u001b[0;34m[\u001b[0m\u001b[0;36m1\u001b[0m\u001b[0;34m,\u001b[0m \u001b[0;36m1\u001b[0m\u001b[0;34m,\u001b[0m \u001b[0;36m2\u001b[0m\u001b[0;34m,\u001b[0m \u001b[0;36m0\u001b[0m\u001b[0;34m]\u001b[0m\u001b[0;34m)\u001b[0m\u001b[0;34m\u001b[0m\u001b[0;34m\u001b[0m\u001b[0m\n\u001b[0m\u001b[1;32m      3\u001b[0m \u001b[0mprint\u001b[0m\u001b[0;34m(\u001b[0m\u001b[0mv\u001b[0m\u001b[0;34m)\u001b[0m\u001b[0;34m\u001b[0m\u001b[0;34m\u001b[0m\u001b[0m\n\u001b[1;32m      4\u001b[0m \u001b[0mgamma\u001b[0m\u001b[0;34m(\u001b[0m\u001b[0ma\u001b[0m\u001b[0;34m,\u001b[0m \u001b[0;36m2\u001b[0m\u001b[0;34m,\u001b[0m \u001b[0mv\u001b[0m\u001b[0;34m)\u001b[0m\u001b[0;34m\u001b[0m\u001b[0;34m\u001b[0m\u001b[0m\n\u001b[1;32m      5\u001b[0m \u001b[0mv\u001b[0m \u001b[0;34m=\u001b[0m \u001b[0mnp\u001b[0m\u001b[0;34m.\u001b[0m\u001b[0marray\u001b[0m\u001b[0;34m(\u001b[0m\u001b[0;34m[\u001b[0m\u001b[0mrandom\u001b[0m\u001b[0;34m.\u001b[0m\u001b[0mrandom\u001b[0m\u001b[0;34m(\u001b[0m\u001b[0;34m)\u001b[0m \u001b[0;32mfor\u001b[0m \u001b[0ma\u001b[0m \u001b[0;32min\u001b[0m \u001b[0mrange\u001b[0m\u001b[0;34m(\u001b[0m\u001b[0;36m0\u001b[0m\u001b[0;34m,\u001b[0m\u001b[0ma\u001b[0m\u001b[0;34m.\u001b[0m\u001b[0msize\u001b[0m\u001b[0;34m)\u001b[0m\u001b[0;34m]\u001b[0m\u001b[0;34m)\u001b[0m\u001b[0;34m\u001b[0m\u001b[0;34m\u001b[0m\u001b[0m\n",
      "\u001b[0;31mAttributeError\u001b[0m: 'tuple' object has no attribute 'rep_to_vect'"
     ]
    }
   ],
   "source": [
    "# Prueba de las matrices gamma (TODO normalizacion)\n",
    "v = a.rep_to_vect([0, 1, 1, 2])+a.rep_to_vect([1, 1, 2, 0])\n",
    "print(v)\n",
    "gamma(a, 2, v)\n",
    "v = np.array([random.random() for a in range(0,a.size)])\n",
    "v = v / np.linalg.norm(v)\n",
    "print(v)\n",
    "gamma(a, 2, v)"
   ]
  },
  {
   "cell_type": "code",
   "execution_count": 63,
   "metadata": {
    "id": "gzscSFeriLv1",
    "outputId": "5786aeba-4b51-4f52-daf1-24873702c38c"
   },
   "outputs": [
    {
     "name": "stdout",
     "output_type": "stream",
     "text": [
      "[0 2 0 2]\n"
     ]
    }
   ],
   "source": [
    "# Prueba de funcionamiento de las matrices bdb y bbd\n",
    "v = [1, 1, 0, 2]\n",
    "vect = a.rep_to_vect(v)\n",
    "res = bbd(a,0,1) * vect\n",
    "if np.linalg.norm(res) != 0:\n",
    "    res = res / np.linalg.norm(res)\n",
    "    print(a.vect_to_repr(res))\n",
    "else:\n",
    "    res = 0\n",
    "    print(0)\n"
   ]
  },
  {
   "cell_type": "code",
   "execution_count": 69,
   "metadata": {
    "id": "-34mFuIViLv3",
    "outputId": "c7c4e973-b9f7-48cc-afac-f6089c71f0ec"
   },
   "outputs": [
    {
     "name": "stdout",
     "output_type": "stream",
     "text": [
      "[0.         1.41421354 0.         0.         0.         0.        ]\n",
      "[0 1 1]\n",
      "[1.73205078 0.         0.         0.         0.         0.\n",
      " 0.         0.         0.         0.        ]\n",
      "[0 0 3]\n"
     ]
    }
   ],
   "source": [
    "# Prueba de funcionamiento de las matrices b y bd\n",
    "\n",
    "l = fixed_basis(3, 3)\n",
    "m = fixed_basis(2, 3)\n",
    "\n",
    "vect = l.rep_to_vect([0,1,2])\n",
    "res = b(l,m,2) * vect\n",
    "if np.linalg.norm(res) != 0:\n",
    "    print(res)\n",
    "    res = res / np.linalg.norm(res)\n",
    "    print(m.vect_to_repr(res))\n",
    "    \n",
    "vect = m.rep_to_vect([0,0,2])\n",
    "res = bd(m,l,2) * vect\n",
    "if np.linalg.norm(res) != 0:\n",
    "    print(res)\n",
    "    res = res / np.linalg.norm(res)\n",
    "    print(l.vect_to_repr(res))"
   ]
  },
  {
   "cell_type": "markdown",
   "metadata": {
    "id": "6u9pr4WuiLv4"
   },
   "source": [
    "## Pairing"
   ]
  },
  {
   "cell_type": "markdown",
   "metadata": {
    "id": "WL14MzsGiLv4"
   },
   "source": [
    "Construimos el espacio para n particulas en d estados. El hamiltoniano de pairing posee energias equiespaciadas con degeneración doble (asociada a cada estado y su inverso temporal), así como un término de interacción. Por tal motivo, crearemos un espacio con d = 2d."
   ]
  },
  {
   "cell_type": "code",
   "execution_count": 8,
   "metadata": {
    "colab": {
     "base_uri": "https://localhost:8080/"
    },
    "id": "4wyZ2Mu3iLv6",
    "outputId": "1d675801-7913-4a51-b56a-37202bb50102"
   },
   "outputs": [
    {
     "name": "stdout",
     "output_type": "stream",
     "text": [
      "[[0 0 0 0 0 4]\n",
      " [0 0 0 0 1 3]\n",
      " [0 0 0 0 2 2]\n",
      " [0 0 0 0 3 1]\n",
      " [0 0 0 0 4 0]\n",
      " [0 0 0 1 0 3]\n",
      " [0 0 0 1 1 2]\n",
      " [0 0 0 1 2 1]\n",
      " [0 0 0 1 3 0]\n",
      " [0 0 0 2 0 2]\n",
      " [0 0 0 2 1 1]\n",
      " [0 0 0 2 2 0]\n",
      " [0 0 0 3 0 1]\n",
      " [0 0 0 3 1 0]\n",
      " [0 0 0 4 0 0]\n",
      " [0 0 1 0 0 3]\n",
      " [0 0 1 0 1 2]\n",
      " [0 0 1 0 2 1]\n",
      " [0 0 1 0 3 0]\n",
      " [0 0 1 1 0 2]\n",
      " [0 0 1 1 1 1]\n",
      " [0 0 1 1 2 0]\n",
      " [0 0 1 2 0 1]\n",
      " [0 0 1 2 1 0]\n",
      " [0 0 1 3 0 0]\n",
      " [0 0 2 0 0 2]\n",
      " [0 0 2 0 1 1]\n",
      " [0 0 2 0 2 0]\n",
      " [0 0 2 1 0 1]\n",
      " [0 0 2 1 1 0]\n",
      " [0 0 2 2 0 0]\n",
      " [0 0 3 0 0 1]\n",
      " [0 0 3 0 1 0]\n",
      " [0 0 3 1 0 0]\n",
      " [0 0 4 0 0 0]\n",
      " [0 1 0 0 0 3]\n",
      " [0 1 0 0 1 2]\n",
      " [0 1 0 0 2 1]\n",
      " [0 1 0 0 3 0]\n",
      " [0 1 0 1 0 2]\n",
      " [0 1 0 1 1 1]\n",
      " [0 1 0 1 2 0]\n",
      " [0 1 0 2 0 1]\n",
      " [0 1 0 2 1 0]\n",
      " [0 1 0 3 0 0]\n",
      " [0 1 1 0 0 2]\n",
      " [0 1 1 0 1 1]\n",
      " [0 1 1 0 2 0]\n",
      " [0 1 1 1 0 1]\n",
      " [0 1 1 1 1 0]\n",
      " [0 1 1 2 0 0]\n",
      " [0 1 2 0 0 1]\n",
      " [0 1 2 0 1 0]\n",
      " [0 1 2 1 0 0]\n",
      " [0 1 3 0 0 0]\n",
      " [0 2 0 0 0 2]\n",
      " [0 2 0 0 1 1]\n",
      " [0 2 0 0 2 0]\n",
      " [0 2 0 1 0 1]\n",
      " [0 2 0 1 1 0]\n",
      " [0 2 0 2 0 0]\n",
      " [0 2 1 0 0 1]\n",
      " [0 2 1 0 1 0]\n",
      " [0 2 1 1 0 0]\n",
      " [0 2 2 0 0 0]\n",
      " [0 3 0 0 0 1]\n",
      " [0 3 0 0 1 0]\n",
      " [0 3 0 1 0 0]\n",
      " [0 3 1 0 0 0]\n",
      " [0 4 0 0 0 0]\n",
      " [1 0 0 0 0 3]\n",
      " [1 0 0 0 1 2]\n",
      " [1 0 0 0 2 1]\n",
      " [1 0 0 0 3 0]\n",
      " [1 0 0 1 0 2]\n",
      " [1 0 0 1 1 1]\n",
      " [1 0 0 1 2 0]\n",
      " [1 0 0 2 0 1]\n",
      " [1 0 0 2 1 0]\n",
      " [1 0 0 3 0 0]\n",
      " [1 0 1 0 0 2]\n",
      " [1 0 1 0 1 1]\n",
      " [1 0 1 0 2 0]\n",
      " [1 0 1 1 0 1]\n",
      " [1 0 1 1 1 0]\n",
      " [1 0 1 2 0 0]\n",
      " [1 0 2 0 0 1]\n",
      " [1 0 2 0 1 0]\n",
      " [1 0 2 1 0 0]\n",
      " [1 0 3 0 0 0]\n",
      " [1 1 0 0 0 2]\n",
      " [1 1 0 0 1 1]\n",
      " [1 1 0 0 2 0]\n",
      " [1 1 0 1 0 1]\n",
      " [1 1 0 1 1 0]\n",
      " [1 1 0 2 0 0]\n",
      " [1 1 1 0 0 1]\n",
      " [1 1 1 0 1 0]\n",
      " [1 1 1 1 0 0]\n",
      " [1 1 2 0 0 0]\n",
      " [1 2 0 0 0 1]\n",
      " [1 2 0 0 1 0]\n",
      " [1 2 0 1 0 0]\n",
      " [1 2 1 0 0 0]\n",
      " [1 3 0 0 0 0]\n",
      " [2 0 0 0 0 2]\n",
      " [2 0 0 0 1 1]\n",
      " [2 0 0 0 2 0]\n",
      " [2 0 0 1 0 1]\n",
      " [2 0 0 1 1 0]\n",
      " [2 0 0 2 0 0]\n",
      " [2 0 1 0 0 1]\n",
      " [2 0 1 0 1 0]\n",
      " [2 0 1 1 0 0]\n",
      " [2 0 2 0 0 0]\n",
      " [2 1 0 0 0 1]\n",
      " [2 1 0 0 1 0]\n",
      " [2 1 0 1 0 0]\n",
      " [2 1 1 0 0 0]\n",
      " [2 2 0 0 0 0]\n",
      " [3 0 0 0 0 1]\n",
      " [3 0 0 0 1 0]\n",
      " [3 0 0 1 0 0]\n",
      " [3 0 1 0 0 0]\n",
      " [3 1 0 0 0 0]\n",
      " [4 0 0 0 0 0]]\n",
      "126\n"
     ]
    }
   ],
   "source": [
    "m = 4\n",
    "d = 3\n",
    "# Creo las bases para no tener que recrearlas luego\n",
    "basis = fixed_basis(m, 2*d)\n",
    "basis_m1 = fixed_basis(m-1, 2*d)\n",
    "basis_m2 = fixed_basis(m-2, 2*d)\n",
    "print(basis.base)\n",
    "print(basis.size)\n",
    "\n"
   ]
  },
  {
   "cell_type": "code",
   "execution_count": 9,
   "metadata": {
    "id": "2Qg_HZUziLv7"
   },
   "outputs": [],
   "source": [
    "# Parametros hamiltoniano\n",
    "e = 1\n",
    "eps = 0.0001\n",
    "e0 = np.zeros(2*d)\n",
    "eigenspace_tol = 0.0001\n",
    "for k in range(0, d):\n",
    "    r = random.random() * eps\n",
    "    e0[2*k] = k*e+r\n",
    "    e0[2*k+1] = k*e+r\n",
    "\n",
    "def hamiltonian(g, basis, basis_m1, basis_m2):\n",
    "    # Construccion de H\n",
    "    h0 = sum([e0[k]*bdb(basis,k,k) for k in range(0,2*d)])\n",
    "    hi = dok_matrix((basis.size, basis.size), dtype=np.float32)\n",
    "    for k in range(0,d):\n",
    "        for kb in range(0,d):\n",
    "            hi += -1*g*bd(basis_m1, basis, 2*k)*bd(basis_m2, basis_m1, 2*k+1)*b(basis_m1, basis_m2, 2*kb+1)*b(basis, basis_m1, 2*kb)\n",
    "\n",
    "    return h0+hi\n",
    "\n",
    "def solve(g, m, last_step = None):\n",
    "    h = hamiltonian(g, basis, basis_m1, basis_m2)\n",
    "    sol = linalg.eigsh(h,which='SA',k=19)\n",
    "    if type(last_step) != type(None):\n",
    "        # Seleccionamos todos los autovects que difieren sus autovalores menos que tol (mismo autoespacio)\n",
    "        # y tomamos la proyección en el autoespacio de la solución del paso anterior (last_step)\n",
    "        eig = sol[0].real\n",
    "        eigv = sol[1]\n",
    "        cand = [eigv[:,i].real  for (i, x) in enumerate(eig) if abs(x-min(eig)) < eigenspace_tol]\n",
    "        cand_norm = [x/np.linalg.norm(x) for x in cand]\n",
    "        fund = np.zeros(len(cand[0]))\n",
    "        for x in cand_norm:\n",
    "            fund += np.dot(last_step,x) * x\n",
    "        #print(np.dot(fund,last_step))\n",
    "    else:\n",
    "        argmin = np.argmin(sol[0].real)\n",
    "        fund = sol[1][:,argmin]\n",
    "    fund = fund.real / np.linalg.norm(fund)\n",
    "    return fund"
   ]
  },
  {
   "cell_type": "code",
   "execution_count": 7,
   "metadata": {
    "colab": {
     "base_uri": "https://localhost:8080/"
    },
    "id": "MgGqseiNiLv8",
    "outputId": "47952ad7-1a1b-4cb2-d3cf-4599d4094a6f"
   },
   "outputs": [
    {
     "name": "stdout",
     "output_type": "stream",
     "text": [
      "0.01\n",
      "0.060404040404040410.11080808080808081\n",
      "\n",
      "0.16121212121212125\n",
      "0.21161616161616165\n",
      "0.26202020202020204\n",
      "0.3124242424242425\n",
      "0.3628282828282829\n",
      "0.4132323232323233\n",
      "0.4636363636363637\n",
      "0.5140404040404041\n",
      "0.5644444444444445\n",
      "0.614848484848485\n",
      "0.6652525252525253\n",
      "0.7156565656565658\n",
      "0.7660606060606061\n",
      "0.81646464646464660.8668686868686870.9172727272727274\n",
      "\n",
      "\n",
      "0.9676767676767678\n",
      "1.0180808080808081\n",
      "1.0684848484848486\n",
      "1.118888888888889\n",
      "1.1692929292929295\n",
      "1.21969696969697\n",
      "1.2701010101010102\n",
      "1.3205050505050506\n",
      "1.370909090909091\n",
      "1.4213131313131315\n",
      "1.471717171717172\n",
      "1.5221212121212122\n",
      "1.5725252525252527\n",
      "1.622929292929293\n",
      "1.6733333333333336\n",
      "1.723737373737374\n",
      "1.7741414141414142\n",
      "1.8245454545454547\n",
      "1.8749494949494951\n",
      "1.92535353535353561.975757575757576\n",
      "\n",
      "2.026161616161616\n",
      "2.0765656565656565\n",
      "2.126969696969697\n",
      "2.1773737373737374\n",
      "2.227777777777778\n",
      "2.2781818181818183\n",
      "2.3285858585858588\n",
      "2.378989898989899\n",
      "2.4293939393939397\n",
      "2.4797979797979797\n",
      "2.53020202020202\n",
      "2.5806060606060606\n",
      "2.631010101010101\n",
      "2.6814141414141415\n",
      "2.731818181818182\n",
      "2.7822222222222224\n",
      "2.832626262626263\n",
      "2.8830303030303033\n",
      "2.9334343434343437\n",
      "2.9838383838383837\n",
      "3.034242424242424\n",
      "3.0846464646464646\n",
      "3.135050505050505\n",
      "3.1854545454545455\n",
      "3.235858585858586\n",
      "3.2862626262626264\n",
      "3.336666666666667\n",
      "3.3870707070707073\n",
      "3.437474747474748\n",
      "3.4878787878787882\n",
      "3.5382828282828283\n",
      "3.5886868686868687\n",
      "3.639090909090909\n",
      "3.6894949494949496\n",
      "3.73989898989899\n",
      "3.7903030303030305\n",
      "3.840707070707071\n",
      "3.8911111111111114\n",
      "3.941515151515152\n",
      "3.9919191919191923\n",
      "4.042323232323232\n",
      "4.092727272727273\n",
      "4.143131313131313\n",
      "4.193535353535354\n",
      "4.243939393939394\n",
      "4.294343434343435\n",
      "4.344747474747475\n",
      "4.3951515151515155\n",
      "4.445555555555556\n",
      "4.495959595959596\n",
      "4.546363636363637\n",
      "4.596767676767677\n",
      "4.647171717171718\n",
      "4.697575757575758\n",
      "4.747979797979799\n",
      "4.798383838383839\n",
      "4.8487878787878795\n",
      "4.899191919191919\n",
      "4.9495959595959595\n",
      "5.0\n"
     ]
    }
   ],
   "source": [
    "# Rutina de resolución\n",
    "m = 1\n",
    "m_basis = fixed_basis(m, 2*d)\n",
    "nm_basis = fixed_basis(basis.m-m, 2*d)\n",
    "\n",
    "num = 100\n",
    "g_range = np.linspace(0.01,5,num)\n",
    "rho_range= {}\n",
    "\n",
    "def compute_g(g):\n",
    "    print(g)\n",
    "    fund = solve(g, m)\n",
    "    rho = rho_m(basis, m, fund, m_basis, nm_basis).todense()\n",
    "    r = np.sort(linalg_d.eigvals(rho).real)\n",
    "    rho_range[g] = r\n",
    "\n",
    "Parallel(n_jobs=8, require='sharedmem')(\n",
    "    delayed(compute_g)(g) for g in g_range);"
   ]
  },
  {
   "cell_type": "code",
   "execution_count": 178,
   "metadata": {
    "colab": {
     "base_uri": "https://localhost:8080/",
     "height": 542
    },
    "id": "eZ3lAu42iLv9",
    "outputId": "d8b10584-0a47-4958-c6fa-66eccd4dfa8e"
   },
   "outputs": [
    {
     "data": {
      "application/vnd.plotly.v1+json": {
       "config": {
        "plotlyServerURL": "https://plot.ly"
       },
       "data": [
        {
         "type": "scatter",
         "x": [
          0.01,
          0.06040404040404041,
          0.11080808080808081,
          0.16121212121212125,
          0.21161616161616165,
          0.26202020202020204,
          0.3124242424242425,
          0.3628282828282829,
          0.4132323232323233,
          0.4636363636363637,
          0.5140404040404041,
          0.5644444444444445,
          0.614848484848485,
          0.6652525252525253,
          0.7156565656565658,
          0.7660606060606061,
          0.8164646464646466,
          0.866868686868687,
          0.9172727272727274,
          0.9676767676767678,
          1.0180808080808081,
          1.0684848484848486,
          1.118888888888889,
          1.1692929292929295,
          1.21969696969697,
          1.2701010101010102,
          1.3205050505050506,
          1.370909090909091,
          1.4213131313131315,
          1.471717171717172,
          1.5221212121212122,
          1.5725252525252527,
          1.622929292929293,
          1.6733333333333336,
          1.723737373737374,
          1.7741414141414142,
          1.8245454545454547,
          1.8749494949494951,
          1.9253535353535356,
          1.975757575757576,
          2.026161616161616,
          2.0765656565656565,
          2.126969696969697,
          2.1773737373737374,
          2.227777777777778,
          2.2781818181818183,
          2.3285858585858588,
          2.378989898989899,
          2.4293939393939397,
          2.4797979797979797,
          2.53020202020202,
          2.5806060606060606,
          2.631010101010101,
          2.6814141414141415,
          2.731818181818182,
          2.7822222222222224,
          2.832626262626263,
          2.8830303030303033,
          2.9334343434343437,
          2.9838383838383837,
          3.034242424242424,
          3.0846464646464646,
          3.135050505050505,
          3.1854545454545455,
          3.235858585858586,
          3.2862626262626264,
          3.336666666666667,
          3.3870707070707073,
          3.437474747474748,
          3.4878787878787882,
          3.5382828282828283,
          3.5886868686868687,
          3.639090909090909,
          3.6894949494949496,
          3.73989898989899,
          3.7903030303030305,
          3.840707070707071,
          3.8911111111111114,
          3.941515151515152,
          3.9919191919191923,
          4.042323232323232,
          4.092727272727273,
          4.143131313131313,
          4.193535353535354,
          4.243939393939394,
          4.294343434343435,
          4.344747474747475,
          4.3951515151515155,
          4.445555555555556,
          4.495959595959596,
          4.546363636363637,
          4.596767676767677,
          4.647171717171718,
          4.697575757575758,
          4.747979797979799,
          4.798383838383839,
          4.8487878787878795,
          4.899191919191919,
          4.9495959595959595,
          5
         ],
         "y": [
          1.1200383596587926e-05,
          0.00042213493725284934,
          0.0014493763446807861,
          0.0030970340594649315,
          0.005340603645890951,
          0.008137287572026253,
          0.01143602840602398,
          0.015183479525148869,
          0.019328689202666283,
          0.023825250566005707,
          0.028630752116441727,
          0.03370753303170204,
          0.039021264761686325,
          0.04454026371240616,
          0.050235047936439514,
          0.05607745423913002,
          0.06204070895910263,
          0.06809920072555542,
          0.07422839850187302,
          0.08040530234575272,
          0.08660812675952911,
          0.09281675517559052,
          0.09901279211044312,
          0.10517965257167816,
          0.11130248010158539,
          0.11736810207366943,
          0.1233653873205185,
          0.12928450107574463,
          0.13511747121810913,
          0.14085735380649567,
          0.1464989334344864,
          0.1520378440618515,
          0.15747088193893433,
          0.16279572248458862,
          0.16801084578037262,
          0.17311525344848633,
          0.17810894548892975,
          0.18299205601215363,
          0.18776530027389526,
          0.1924298256635666,
          0.19698701798915863,
          0.20143823325634003,
          0.20578548312187195,
          0.21003063023090363,
          0.21417579054832458,
          0.21822309494018555,
          0.222174733877182,
          0.2260332703590393,
          0.22980058193206787,
          0.23347941040992737,
          0.2370716780424118,
          0.24057988822460175,
          0.2440064400434494,
          0.24735331535339355,
          0.2506229281425476,
          0.25381726026535034,
          0.2569388449192047,
          0.2599892318248749,
          0.26297080516815186,
          0.2658853828907013,
          0.268734872341156,
          0.27152150869369507,
          0.274246484041214,
          0.27691224217414856,
          0.2795199155807495,
          0.2820715308189392,
          0.2845686674118042,
          0.2870127558708191,
          0.28940537571907043,
          0.29174789786338806,
          0.2940419912338257,
          0.2962890565395355,
          0.29848992824554443,
          0.30064621567726135,
          0.30275920033454895,
          0.3048301935195923,
          0.30686020851135254,
          0.3088505268096924,
          0.31080150604248047,
          0.3127152621746063,
          0.3145921230316162,
          0.3164334297180176,
          0.3182399272918701,
          0.3200124502182007,
          0.32175225019454956,
          0.32346007227897644,
          0.3251364231109619,
          0.32678237557411194,
          0.3283988833427429,
          0.32998645305633545,
          0.3315456807613373,
          0.3330777883529663,
          0.33458301424980164,
          0.33606189489364624,
          0.33751583099365234,
          0.33894461393356323,
          0.34034934639930725,
          0.3417304456233978,
          0.3430885970592499,
          0.3444240987300873
         ]
        },
        {
         "type": "scatter",
         "x": [
          0.01,
          0.06040404040404041,
          0.11080808080808081,
          0.16121212121212125,
          0.21161616161616165,
          0.26202020202020204,
          0.3124242424242425,
          0.3628282828282829,
          0.4132323232323233,
          0.4636363636363637,
          0.5140404040404041,
          0.5644444444444445,
          0.614848484848485,
          0.6652525252525253,
          0.7156565656565658,
          0.7660606060606061,
          0.8164646464646466,
          0.866868686868687,
          0.9172727272727274,
          0.9676767676767678,
          1.0180808080808081,
          1.0684848484848486,
          1.118888888888889,
          1.1692929292929295,
          1.21969696969697,
          1.2701010101010102,
          1.3205050505050506,
          1.370909090909091,
          1.4213131313131315,
          1.471717171717172,
          1.5221212121212122,
          1.5725252525252527,
          1.622929292929293,
          1.6733333333333336,
          1.723737373737374,
          1.7741414141414142,
          1.8245454545454547,
          1.8749494949494951,
          1.9253535353535356,
          1.975757575757576,
          2.026161616161616,
          2.0765656565656565,
          2.126969696969697,
          2.1773737373737374,
          2.227777777777778,
          2.2781818181818183,
          2.3285858585858588,
          2.378989898989899,
          2.4293939393939397,
          2.4797979797979797,
          2.53020202020202,
          2.5806060606060606,
          2.631010101010101,
          2.6814141414141415,
          2.731818181818182,
          2.7822222222222224,
          2.832626262626263,
          2.8830303030303033,
          2.9334343434343437,
          2.9838383838383837,
          3.034242424242424,
          3.0846464646464646,
          3.135050505050505,
          3.1854545454545455,
          3.235858585858586,
          3.2862626262626264,
          3.336666666666667,
          3.3870707070707073,
          3.437474747474748,
          3.4878787878787882,
          3.5382828282828283,
          3.5886868686868687,
          3.639090909090909,
          3.6894949494949496,
          3.73989898989899,
          3.7903030303030305,
          3.840707070707071,
          3.8911111111111114,
          3.941515151515152,
          3.9919191919191923,
          4.042323232323232,
          4.092727272727273,
          4.143131313131313,
          4.193535353535354,
          4.243939393939394,
          4.294343434343435,
          4.344747474747475,
          4.3951515151515155,
          4.445555555555556,
          4.495959595959596,
          4.546363636363637,
          4.596767676767677,
          4.647171717171718,
          4.697575757575758,
          4.747979797979799,
          4.798383838383839,
          4.8487878787878795,
          4.899191919191919,
          4.9495959595959595,
          5
         ],
         "y": [
          1.1200639164599124e-05,
          0.00042214905261062086,
          0.0014493769267573953,
          0.003097059205174446,
          0.005340653471648693,
          0.008137362077832222,
          0.011436043307185173,
          0.015183502808213234,
          0.019328782334923744,
          0.023825278505682945,
          0.028630763292312622,
          0.03370755538344383,
          0.03902128338813782,
          0.044540274888277054,
          0.050235092639923096,
          0.05607745423913002,
          0.06204075366258621,
          0.0680992379784584,
          0.07422845810651779,
          0.0804053470492363,
          0.0866081491112709,
          0.0928167998790741,
          0.0990128144621849,
          0.10517984628677368,
          0.1113027036190033,
          0.11736820638179779,
          0.12336541712284088,
          0.1292845904827118,
          0.13511766493320465,
          0.14085739850997925,
          0.14649894833564758,
          0.15203788876533508,
          0.1574709117412567,
          0.1627957671880722,
          0.1680108606815338,
          0.17311526834964752,
          0.17810896039009094,
          0.1829921007156372,
          0.18776530027389526,
          0.19242985546588898,
          0.19698703289031982,
          0.2014385610818863,
          0.20578554272651672,
          0.2100307196378708,
          0.2141760140657425,
          0.2182232141494751,
          0.22217483818531036,
          0.2260333150625229,
          0.22980068624019623,
          0.23347944021224976,
          0.23707184195518494,
          0.24057990312576294,
          0.24400663375854492,
          0.24735337495803833,
          0.25062301754951477,
          0.2538173794746399,
          0.2569388747215271,
          0.25998929142951965,
          0.2629709541797638,
          0.2658854126930237,
          0.26873496174812317,
          0.271521657705307,
          0.2742465138435364,
          0.27691227197647095,
          0.27952003479003906,
          0.28207162022590637,
          0.2845686674118042,
          0.2870127558708191,
          0.28940555453300476,
          0.29174813628196716,
          0.2940422296524048,
          0.2962891459465027,
          0.2984899580478668,
          0.3006463050842285,
          0.3027592897415161,
          0.3048303723335266,
          0.3068602681159973,
          0.30885061621665955,
          0.31080156564712524,
          0.3127153217792511,
          0.314592182636261,
          0.31643354892730713,
          0.3182400166988373,
          0.32001253962516785,
          0.32175227999687195,
          0.3234601318836212,
          0.3251364231109619,
          0.3267824053764343,
          0.3283989429473877,
          0.32998648285865784,
          0.33154579997062683,
          0.33307790756225586,
          0.33458319306373596,
          0.3360620141029358,
          0.33751586079597473,
          0.33894461393356323,
          0.3403494358062744,
          0.34173065423965454,
          0.3430887758731842,
          0.34442415833473206
         ]
        },
        {
         "type": "scatter",
         "x": [
          0.01,
          0.06040404040404041,
          0.11080808080808081,
          0.16121212121212125,
          0.21161616161616165,
          0.26202020202020204,
          0.3124242424242425,
          0.3628282828282829,
          0.4132323232323233,
          0.4636363636363637,
          0.5140404040404041,
          0.5644444444444445,
          0.614848484848485,
          0.6652525252525253,
          0.7156565656565658,
          0.7660606060606061,
          0.8164646464646466,
          0.866868686868687,
          0.9172727272727274,
          0.9676767676767678,
          1.0180808080808081,
          1.0684848484848486,
          1.118888888888889,
          1.1692929292929295,
          1.21969696969697,
          1.2701010101010102,
          1.3205050505050506,
          1.370909090909091,
          1.4213131313131315,
          1.471717171717172,
          1.5221212121212122,
          1.5725252525252527,
          1.622929292929293,
          1.6733333333333336,
          1.723737373737374,
          1.7741414141414142,
          1.8245454545454547,
          1.8749494949494951,
          1.9253535353535356,
          1.975757575757576,
          2.026161616161616,
          2.0765656565656565,
          2.126969696969697,
          2.1773737373737374,
          2.227777777777778,
          2.2781818181818183,
          2.3285858585858588,
          2.378989898989899,
          2.4293939393939397,
          2.4797979797979797,
          2.53020202020202,
          2.5806060606060606,
          2.631010101010101,
          2.6814141414141415,
          2.731818181818182,
          2.7822222222222224,
          2.832626262626263,
          2.8830303030303033,
          2.9334343434343437,
          2.9838383838383837,
          3.034242424242424,
          3.0846464646464646,
          3.135050505050505,
          3.1854545454545455,
          3.235858585858586,
          3.2862626262626264,
          3.336666666666667,
          3.3870707070707073,
          3.437474747474748,
          3.4878787878787882,
          3.5382828282828283,
          3.5886868686868687,
          3.639090909090909,
          3.6894949494949496,
          3.73989898989899,
          3.7903030303030305,
          3.840707070707071,
          3.8911111111111114,
          3.941515151515152,
          3.9919191919191923,
          4.042323232323232,
          4.092727272727273,
          4.143131313131313,
          4.193535353535354,
          4.243939393939394,
          4.294343434343435,
          4.344747474747475,
          4.3951515151515155,
          4.445555555555556,
          4.495959595959596,
          4.546363636363637,
          4.596767676767677,
          4.647171717171718,
          4.697575757575758,
          4.747979797979799,
          4.798383838383839,
          4.8487878787878795,
          4.899191919191919,
          4.9495959595959595,
          5
         ],
         "y": [
          2.5075380108319223e-05,
          0.0009215690079145133,
          0.003086411627009511,
          0.0064382366836071014,
          0.010849875397980213,
          0.016177313402295113,
          0.022280054166913033,
          0.029032204300165176,
          0.03632690757513046,
          0.044075265526771545,
          0.052203498780727386,
          0.060649484395980835,
          0.06935885548591614,
          0.07828210294246674,
          0.08737289160490036,
          0.09658694267272949,
          0.10588119924068451,
          0.11521453410387039,
          0.12454742193222046,
          0.13384254276752472,
          0.14306551218032837,
          0.1521853804588318,
          0.16117410361766815,
          0.17000792920589447,
          0.17866626381874084,
          0.18713217973709106,
          0.19539259374141693,
          0.20343667268753052,
          0.21125754714012146,
          0.21884968876838684,
          0.2262108325958252,
          0.23334045708179474,
          0.24023906886577606,
          0.24690891802310944,
          0.2533538043498993,
          0.25957751274108887,
          0.26558566093444824,
          0.2713833749294281,
          0.27697688341140747,
          0.282372385263443,
          0.28757667541503906,
          0.2925955057144165,
          0.29743635654449463,
          0.3021050691604614,
          0.30660900473594666,
          0.3109530210494995,
          0.3151457607746124,
          0.31919124722480774,
          0.3230961561203003,
          0.32686647772789,
          0.3305070102214813,
          0.3340235948562622,
          0.33742159605026245,
          0.3407052457332611,
          0.34387969970703125,
          0.3469494581222534,
          0.3499189615249634,
          0.35279202461242676,
          0.35557296872138977,
          0.3582650125026703,
          0.36087268590927124,
          0.3633986711502075,
          0.3658464550971985,
          0.36821937561035156,
          0.37052038311958313,
          0.37275227904319763,
          0.3749176859855652,
          0.37701934576034546,
          0.3790600895881653,
          0.381041556596756,
          0.38296636939048767,
          0.38483694195747375,
          0.38665491342544556,
          0.3884223997592926,
          0.3901416063308716,
          0.39181405305862427,
          0.39344149827957153,
          0.395025372505188,
          0.39656758308410645,
          0.3980696499347687,
          0.39953258633613586,
          0.40095818042755127,
          0.4023476243019104,
          0.40370187163352966,
          0.4050227701663971,
          0.4063110053539276,
          0.4075678884983063,
          0.4087941646575928,
          0.40999141335487366,
          0.41116005182266235,
          0.4123007357120514,
          0.41341546177864075,
          0.4145042896270752,
          0.4155682325363159,
          0.4166080057621002,
          0.417624831199646,
          0.41861870884895325,
          0.41959065198898315,
          0.42054155468940735,
          0.421471506357193
         ]
        },
        {
         "type": "scatter",
         "x": [
          0.01,
          0.06040404040404041,
          0.11080808080808081,
          0.16121212121212125,
          0.21161616161616165,
          0.26202020202020204,
          0.3124242424242425,
          0.3628282828282829,
          0.4132323232323233,
          0.4636363636363637,
          0.5140404040404041,
          0.5644444444444445,
          0.614848484848485,
          0.6652525252525253,
          0.7156565656565658,
          0.7660606060606061,
          0.8164646464646466,
          0.866868686868687,
          0.9172727272727274,
          0.9676767676767678,
          1.0180808080808081,
          1.0684848484848486,
          1.118888888888889,
          1.1692929292929295,
          1.21969696969697,
          1.2701010101010102,
          1.3205050505050506,
          1.370909090909091,
          1.4213131313131315,
          1.471717171717172,
          1.5221212121212122,
          1.5725252525252527,
          1.622929292929293,
          1.6733333333333336,
          1.723737373737374,
          1.7741414141414142,
          1.8245454545454547,
          1.8749494949494951,
          1.9253535353535356,
          1.975757575757576,
          2.026161616161616,
          2.0765656565656565,
          2.126969696969697,
          2.1773737373737374,
          2.227777777777778,
          2.2781818181818183,
          2.3285858585858588,
          2.378989898989899,
          2.4293939393939397,
          2.4797979797979797,
          2.53020202020202,
          2.5806060606060606,
          2.631010101010101,
          2.6814141414141415,
          2.731818181818182,
          2.7822222222222224,
          2.832626262626263,
          2.8830303030303033,
          2.9334343434343437,
          2.9838383838383837,
          3.034242424242424,
          3.0846464646464646,
          3.135050505050505,
          3.1854545454545455,
          3.235858585858586,
          3.2862626262626264,
          3.336666666666667,
          3.3870707070707073,
          3.437474747474748,
          3.4878787878787882,
          3.5382828282828283,
          3.5886868686868687,
          3.639090909090909,
          3.6894949494949496,
          3.73989898989899,
          3.7903030303030305,
          3.840707070707071,
          3.8911111111111114,
          3.941515151515152,
          3.9919191919191923,
          4.042323232323232,
          4.092727272727273,
          4.143131313131313,
          4.193535353535354,
          4.243939393939394,
          4.294343434343435,
          4.344747474747475,
          4.3951515151515155,
          4.445555555555556,
          4.495959595959596,
          4.546363636363637,
          4.596767676767677,
          4.647171717171718,
          4.697575757575758,
          4.747979797979799,
          4.798383838383839,
          4.8487878787878795,
          4.899191919191919,
          4.9495959595959595,
          5
         ],
         "y": [
          2.5075380108319223e-05,
          0.0009215777390636504,
          0.00308642047457397,
          0.006438242271542549,
          0.010849886573851109,
          0.016177363693714142,
          0.022280056029558182,
          0.02903221920132637,
          0.03632694110274315,
          0.04407530277967453,
          0.052203528583049774,
          0.060649577528238297,
          0.06935890763998032,
          0.07828213274478912,
          0.08737293630838394,
          0.09658695012331009,
          0.10588129609823227,
          0.11521457880735397,
          0.12454743683338165,
          0.13384254276752472,
          0.14306560158729553,
          0.15218545496463776,
          0.1611742526292801,
          0.17000806331634521,
          0.17866629362106323,
          0.1871323585510254,
          0.1953926384449005,
          0.20343679189682007,
          0.21125759184360504,
          0.21884968876838684,
          0.2262110710144043,
          0.2333405762910843,
          0.24023912847042084,
          0.24690894782543182,
          0.25335386395454407,
          0.25957751274108887,
          0.26558583974838257,
          0.27138349413871765,
          0.27697694301605225,
          0.2823725640773773,
          0.28757670521736145,
          0.2925959825515747,
          0.29743656516075134,
          0.30210527777671814,
          0.30660906434059143,
          0.3109535574913025,
          0.3151457905769348,
          0.3191913962364197,
          0.32309627532958984,
          0.3268665075302124,
          0.3305071294307709,
          0.33402377367019653,
          0.33742183446884155,
          0.3407054543495178,
          0.343879759311676,
          0.3469495475292206,
          0.3499189615249634,
          0.3527921438217163,
          0.35557299852371216,
          0.35826507210731506,
          0.36087286472320557,
          0.36339879035949707,
          0.36584654450416565,
          0.36821961402893066,
          0.3705205023288727,
          0.37275230884552,
          0.37491798400878906,
          0.37701940536499023,
          0.3790600895881653,
          0.3810417950153351,
          0.3829668462276459,
          0.3848370313644409,
          0.3866553008556366,
          0.38842254877090454,
          0.39014169573783875,
          0.39181411266326904,
          0.3934415578842163,
          0.39502549171447754,
          0.39656761288642883,
          0.39806967973709106,
          0.3995327651500702,
          0.4009583592414856,
          0.4023478031158447,
          0.4037020802497864,
          0.4050229489803314,
          0.40631118416786194,
          0.4075678884983063,
          0.40879425406455994,
          0.40999165177345276,
          0.41116005182266235,
          0.4123011529445648,
          0.4134156107902527,
          0.41450464725494385,
          0.4155685007572174,
          0.41660842299461365,
          0.4176248610019684,
          0.4186188578605652,
          0.4195907711982727,
          0.4205416142940521,
          0.42147189378738403
         ]
        },
        {
         "type": "scatter",
         "x": [
          0.01,
          0.06040404040404041,
          0.11080808080808081,
          0.16121212121212125,
          0.21161616161616165,
          0.26202020202020204,
          0.3124242424242425,
          0.3628282828282829,
          0.4132323232323233,
          0.4636363636363637,
          0.5140404040404041,
          0.5644444444444445,
          0.614848484848485,
          0.6652525252525253,
          0.7156565656565658,
          0.7660606060606061,
          0.8164646464646466,
          0.866868686868687,
          0.9172727272727274,
          0.9676767676767678,
          1.0180808080808081,
          1.0684848484848486,
          1.118888888888889,
          1.1692929292929295,
          1.21969696969697,
          1.2701010101010102,
          1.3205050505050506,
          1.370909090909091,
          1.4213131313131315,
          1.471717171717172,
          1.5221212121212122,
          1.5725252525252527,
          1.622929292929293,
          1.6733333333333336,
          1.723737373737374,
          1.7741414141414142,
          1.8245454545454547,
          1.8749494949494951,
          1.9253535353535356,
          1.975757575757576,
          2.026161616161616,
          2.0765656565656565,
          2.126969696969697,
          2.1773737373737374,
          2.227777777777778,
          2.2781818181818183,
          2.3285858585858588,
          2.378989898989899,
          2.4293939393939397,
          2.4797979797979797,
          2.53020202020202,
          2.5806060606060606,
          2.631010101010101,
          2.6814141414141415,
          2.731818181818182,
          2.7822222222222224,
          2.832626262626263,
          2.8830303030303033,
          2.9334343434343437,
          2.9838383838383837,
          3.034242424242424,
          3.0846464646464646,
          3.135050505050505,
          3.1854545454545455,
          3.235858585858586,
          3.2862626262626264,
          3.336666666666667,
          3.3870707070707073,
          3.437474747474748,
          3.4878787878787882,
          3.5382828282828283,
          3.5886868686868687,
          3.639090909090909,
          3.6894949494949496,
          3.73989898989899,
          3.7903030303030305,
          3.840707070707071,
          3.8911111111111114,
          3.941515151515152,
          3.9919191919191923,
          4.042323232323232,
          4.092727272727273,
          4.143131313131313,
          4.193535353535354,
          4.243939393939394,
          4.294343434343435,
          4.344747474747475,
          4.3951515151515155,
          4.445555555555556,
          4.495959595959596,
          4.546363636363637,
          4.596767676767677,
          4.647171717171718,
          4.697575757575758,
          4.747979797979799,
          4.798383838383839,
          4.8487878787878795,
          4.899191919191919,
          4.9495959595959595,
          5
         ],
         "y": [
          9.881024743663147e-05,
          0.0033786878921091557,
          0.010587413795292377,
          0.020792827010154724,
          0.03320170193910599,
          0.04719915986061096,
          0.06233983859419823,
          0.07831375300884247,
          0.0949065238237381,
          0.11196369677782059,
          0.12936446070671082,
          0.14700235426425934,
          0.1647757589817047,
          0.18258196115493774,
          0.20031684637069702,
          0.21787801384925842,
          0.23516441881656647,
          0.2520834505558014,
          0.26855039596557617,
          0.28449320793151855,
          0.29985183477401733,
          0.31457963585853577,
          0.32864269614219666,
          0.3420221209526062,
          0.3547051250934601,
          0.3666929304599762,
          0.37799254059791565,
          0.3886192739009857,
          0.3985922038555145,
          0.4079357981681824,
          0.4166760742664337,
          0.4248422682285309,
          0.4324641823768616,
          0.43957066535949707,
          0.4461936354637146,
          0.4523601531982422,
          0.45810046792030334,
          0.46344244480133057,
          0.4684109091758728,
          0.4730323851108551,
          0.4773303270339966,
          0.4813266396522522,
          0.4850427508354187,
          0.48849812150001526,
          0.4917110800743103,
          0.49469906091690063,
          0.4974774420261383,
          0.5000618100166321,
          0.5024654269218445,
          0.5047017335891724,
          0.506781280040741,
          0.5087158679962158,
          0.5105162262916565,
          0.512191116809845,
          0.5137491226196289,
          0.5151982307434082,
          0.5165469646453857,
          0.5178009271621704,
          0.5189679265022278,
          0.5200526118278503,
          0.521061360836029,
          0.5219987630844116,
          0.5228699445724487,
          0.5236796736717224,
          0.5244312286376953,
          0.5251289010047913,
          0.525775671005249,
          0.5263756513595581,
          0.5269318222999573,
          0.5274459719657898,
          0.5279220938682556,
          0.5283618569374084,
          0.5287678241729736,
          0.5291417837142944,
          0.5294860005378723,
          0.5298025012016296,
          0.5300929546356201,
          0.530358612537384,
          0.5306010842323303,
          0.5308222770690918,
          0.5310233235359192,
          0.5312048196792603,
          0.531369149684906,
          0.5315161943435669,
          0.5316472053527832,
          0.5317639112472534,
          0.5318666696548462,
          0.5319560170173645,
          0.5320332646369934,
          0.5320988893508911,
          0.5321536064147949,
          0.5321982502937317,
          0.5322331786155701,
          0.5322586297988892,
          0.5322761535644531,
          0.5322855114936829,
          0.5322874188423157,
          0.532281756401062,
          0.5322698950767517,
          0.5322515964508057
         ]
        },
        {
         "type": "scatter",
         "x": [
          0.01,
          0.06040404040404041,
          0.11080808080808081,
          0.16121212121212125,
          0.21161616161616165,
          0.26202020202020204,
          0.3124242424242425,
          0.3628282828282829,
          0.4132323232323233,
          0.4636363636363637,
          0.5140404040404041,
          0.5644444444444445,
          0.614848484848485,
          0.6652525252525253,
          0.7156565656565658,
          0.7660606060606061,
          0.8164646464646466,
          0.866868686868687,
          0.9172727272727274,
          0.9676767676767678,
          1.0180808080808081,
          1.0684848484848486,
          1.118888888888889,
          1.1692929292929295,
          1.21969696969697,
          1.2701010101010102,
          1.3205050505050506,
          1.370909090909091,
          1.4213131313131315,
          1.471717171717172,
          1.5221212121212122,
          1.5725252525252527,
          1.622929292929293,
          1.6733333333333336,
          1.723737373737374,
          1.7741414141414142,
          1.8245454545454547,
          1.8749494949494951,
          1.9253535353535356,
          1.975757575757576,
          2.026161616161616,
          2.0765656565656565,
          2.126969696969697,
          2.1773737373737374,
          2.227777777777778,
          2.2781818181818183,
          2.3285858585858588,
          2.378989898989899,
          2.4293939393939397,
          2.4797979797979797,
          2.53020202020202,
          2.5806060606060606,
          2.631010101010101,
          2.6814141414141415,
          2.731818181818182,
          2.7822222222222224,
          2.832626262626263,
          2.8830303030303033,
          2.9334343434343437,
          2.9838383838383837,
          3.034242424242424,
          3.0846464646464646,
          3.135050505050505,
          3.1854545454545455,
          3.235858585858586,
          3.2862626262626264,
          3.336666666666667,
          3.3870707070707073,
          3.437474747474748,
          3.4878787878787882,
          3.5382828282828283,
          3.5886868686868687,
          3.639090909090909,
          3.6894949494949496,
          3.73989898989899,
          3.7903030303030305,
          3.840707070707071,
          3.8911111111111114,
          3.941515151515152,
          3.9919191919191923,
          4.042323232323232,
          4.092727272727273,
          4.143131313131313,
          4.193535353535354,
          4.243939393939394,
          4.294343434343435,
          4.344747474747475,
          4.3951515151515155,
          4.445555555555556,
          4.495959595959596,
          4.546363636363637,
          4.596767676767677,
          4.647171717171718,
          4.697575757575758,
          4.747979797979799,
          4.798383838383839,
          4.8487878787878795,
          4.899191919191919,
          4.9495959595959595,
          5
         ],
         "y": [
          9.881467849481851e-05,
          0.003378697205334902,
          0.010587426833808422,
          0.020792877301573753,
          0.033201731741428375,
          0.047199178487062454,
          0.06233987957239151,
          0.07831379026174545,
          0.09490654617547989,
          0.11196379363536835,
          0.1293644905090332,
          0.14700239896774292,
          0.16477584838867188,
          0.18258196115493774,
          0.20031706988811493,
          0.21787811815738678,
          0.2351645976305008,
          0.25208351016044617,
          0.2685506343841553,
          0.2844933271408081,
          0.2998519837856293,
          0.31457987427711487,
          0.32864290475845337,
          0.34202221035957336,
          0.35470515489578247,
          0.36669301986694336,
          0.37799254059791565,
          0.3886192739009857,
          0.3985922336578369,
          0.40793582797050476,
          0.41667619347572327,
          0.4248424172401428,
          0.43246445059776306,
          0.4395708441734314,
          0.44619375467300415,
          0.4523601830005646,
          0.4581006169319153,
          0.46344247460365295,
          0.4684109091758728,
          0.47303253412246704,
          0.47733035683631897,
          0.4813266396522522,
          0.4850428104400635,
          0.4884985387325287,
          0.49171143770217896,
          0.4946994185447693,
          0.4974777400493622,
          0.5000622272491455,
          0.5024656653404236,
          0.5047021508216858,
          0.5067814588546753,
          0.5087161064147949,
          0.5105164051055908,
          0.5121911764144897,
          0.5137492418289185,
          0.5151988863945007,
          0.5165471434593201,
          0.5178011655807495,
          0.5189681649208069,
          0.520052969455719,
          0.5210614204406738,
          0.5219987630844116,
          0.5228701829910278,
          0.5236799716949463,
          0.5244314074516296,
          0.5251290798187256,
          0.5257761478424072,
          0.5263756513595581,
          0.5269320011138916,
          0.5274462699890137,
          0.5279223918914795,
          0.5283620953559875,
          0.5287678241729736,
          0.529141902923584,
          0.5294860601425171,
          0.5298027992248535,
          0.5300930142402649,
          0.5303586721420288,
          0.5306013822555542,
          0.5308223962783813,
          0.5310237407684326,
          0.5312051773071289,
          0.5313693881034851,
          0.5315165519714355,
          0.5316476225852966,
          0.5317641496658325,
          0.5318668484687805,
          0.5319560766220093,
          0.532033383846283,
          0.5320988893508911,
          0.532153844833374,
          0.5321983098983765,
          0.5322331786155701,
          0.5322587490081787,
          0.5322762131690979,
          0.5322856903076172,
          0.5322874188423157,
          0.532281756401062,
          0.5322701930999756,
          0.5322518348693848
         ]
        },
        {
         "type": "scatter",
         "x": [
          0.01,
          0.06040404040404041,
          0.11080808080808081,
          0.16121212121212125,
          0.21161616161616165,
          0.26202020202020204,
          0.3124242424242425,
          0.3628282828282829,
          0.4132323232323233,
          0.4636363636363637,
          0.5140404040404041,
          0.5644444444444445,
          0.614848484848485,
          0.6652525252525253,
          0.7156565656565658,
          0.7660606060606061,
          0.8164646464646466,
          0.866868686868687,
          0.9172727272727274,
          0.9676767676767678,
          1.0180808080808081,
          1.0684848484848486,
          1.118888888888889,
          1.1692929292929295,
          1.21969696969697,
          1.2701010101010102,
          1.3205050505050506,
          1.370909090909091,
          1.4213131313131315,
          1.471717171717172,
          1.5221212121212122,
          1.5725252525252527,
          1.622929292929293,
          1.6733333333333336,
          1.723737373737374,
          1.7741414141414142,
          1.8245454545454547,
          1.8749494949494951,
          1.9253535353535356,
          1.975757575757576,
          2.026161616161616,
          2.0765656565656565,
          2.126969696969697,
          2.1773737373737374,
          2.227777777777778,
          2.2781818181818183,
          2.3285858585858588,
          2.378989898989899,
          2.4293939393939397,
          2.4797979797979797,
          2.53020202020202,
          2.5806060606060606,
          2.631010101010101,
          2.6814141414141415,
          2.731818181818182,
          2.7822222222222224,
          2.832626262626263,
          2.8830303030303033,
          2.9334343434343437,
          2.9838383838383837,
          3.034242424242424,
          3.0846464646464646,
          3.135050505050505,
          3.1854545454545455,
          3.235858585858586,
          3.2862626262626264,
          3.336666666666667,
          3.3870707070707073,
          3.437474747474748,
          3.4878787878787882,
          3.5382828282828283,
          3.5886868686868687,
          3.639090909090909,
          3.6894949494949496,
          3.73989898989899,
          3.7903030303030305,
          3.840707070707071,
          3.8911111111111114,
          3.941515151515152,
          3.9919191919191923,
          4.042323232323232,
          4.092727272727273,
          4.143131313131313,
          4.193535353535354,
          4.243939393939394,
          4.294343434343435,
          4.344747474747475,
          4.3951515151515155,
          4.445555555555556,
          4.495959595959596,
          4.546363636363637,
          4.596767676767677,
          4.647171717171718,
          4.697575757575758,
          4.747979797979799,
          4.798383838383839,
          4.8487878787878795,
          4.899191919191919,
          4.9495959595959595,
          5
         ],
         "y": [
          1.9997700452804565,
          1.9952772855758667,
          1.9848554134368896,
          1.9696662425994873,
          1.9506080150604248,
          1.9284785985946655,
          1.9039442539215088,
          1.8774689435958862,
          1.8494365215301514,
          1.8201345205307007,
          1.789800763130188,
          1.758638858795166,
          1.7268434762954712,
          1.694595456123352,
          1.662074327468872,
          1.6294562816619873,
          1.5969130992889404,
          1.5646032094955444,
          1.532670021057129,
          1.5012587308883667,
          1.470472812652588,
          1.4404159784317017,
          1.4111690521240234,
          1.3827900886535645,
          1.3553255796432495,
          1.32880699634552,
          1.3032498359680176,
          1.2786599397659302,
          1.2550336122512817,
          1.232356309890747,
          1.21061372756958,
          1.1897785663604736,
          1.1698256731033325,
          1.1507240533828735,
          1.1324410438537598,
          1.1149464845657349,
          1.0982048511505127,
          1.0821820497512817,
          1.0668468475341797,
          1.0521647930145264,
          1.0381051301956177,
          1.0246391296386719,
          1.0117353200912476,
          0.9993659257888794,
          0.9875038862228394,
          0.9761234521865845,
          0.9652009010314941,
          0.9547128677368164,
          0.9446372985839844,
          0.9349521994590759,
          0.9256397485733032,
          0.9166801571846008,
          0.9080560207366943,
          0.8997498750686646,
          0.8917483687400818,
          0.8840345144271851,
          0.876595139503479,
          0.8694173097610474,
          0.8624886274337769,
          0.8557966351509094,
          0.8493303656578064,
          0.8430806398391724,
          0.8370360136032104,
          0.8311880826950073,
          0.8255272507667542,
          0.8200468420982361,
          0.8147375583648682,
          0.8095917701721191,
          0.8046029210090637,
          0.799764096736908,
          0.7950689792633057,
          0.7905120849609375,
          0.7860872745513916,
          0.7817891240119934,
          0.7776123285293579,
          0.7735528945922852,
          0.7696051001548767,
          0.7657653093338013,
          0.7620291113853455,
          0.7583925724029541,
          0.7548515796661377,
          0.7514035701751709,
          0.7480432391166687,
          0.7447693943977356,
          0.7415773272514343,
          0.7384650707244873,
          0.7354287505149841,
          0.7324670553207397,
          0.7295764684677124,
          0.7267540693283081,
          0.7239994406700134,
          0.7213084101676941,
          0.7186790108680725,
          0.7161104679107666,
          0.713599681854248,
          0.7111449837684631,
          0.7087442874908447,
          0.7063966393470764,
          0.7041000127792358,
          0.7018525004386902
         ]
        },
        {
         "type": "scatter",
         "x": [
          0.01,
          0.06040404040404041,
          0.11080808080808081,
          0.16121212121212125,
          0.21161616161616165,
          0.26202020202020204,
          0.3124242424242425,
          0.3628282828282829,
          0.4132323232323233,
          0.4636363636363637,
          0.5140404040404041,
          0.5644444444444445,
          0.614848484848485,
          0.6652525252525253,
          0.7156565656565658,
          0.7660606060606061,
          0.8164646464646466,
          0.866868686868687,
          0.9172727272727274,
          0.9676767676767678,
          1.0180808080808081,
          1.0684848484848486,
          1.118888888888889,
          1.1692929292929295,
          1.21969696969697,
          1.2701010101010102,
          1.3205050505050506,
          1.370909090909091,
          1.4213131313131315,
          1.471717171717172,
          1.5221212121212122,
          1.5725252525252527,
          1.622929292929293,
          1.6733333333333336,
          1.723737373737374,
          1.7741414141414142,
          1.8245454545454547,
          1.8749494949494951,
          1.9253535353535356,
          1.975757575757576,
          2.026161616161616,
          2.0765656565656565,
          2.126969696969697,
          2.1773737373737374,
          2.227777777777778,
          2.2781818181818183,
          2.3285858585858588,
          2.378989898989899,
          2.4293939393939397,
          2.4797979797979797,
          2.53020202020202,
          2.5806060606060606,
          2.631010101010101,
          2.6814141414141415,
          2.731818181818182,
          2.7822222222222224,
          2.832626262626263,
          2.8830303030303033,
          2.9334343434343437,
          2.9838383838383837,
          3.034242424242424,
          3.0846464646464646,
          3.135050505050505,
          3.1854545454545455,
          3.235858585858586,
          3.2862626262626264,
          3.336666666666667,
          3.3870707070707073,
          3.437474747474748,
          3.4878787878787882,
          3.5382828282828283,
          3.5886868686868687,
          3.639090909090909,
          3.6894949494949496,
          3.73989898989899,
          3.7903030303030305,
          3.840707070707071,
          3.8911111111111114,
          3.941515151515152,
          3.9919191919191923,
          4.042323232323232,
          4.092727272727273,
          4.143131313131313,
          4.193535353535354,
          4.243939393939394,
          4.294343434343435,
          4.344747474747475,
          4.3951515151515155,
          4.445555555555556,
          4.495959595959596,
          4.546363636363637,
          4.596767676767677,
          4.647171717171718,
          4.697575757575758,
          4.747979797979799,
          4.798383838383839,
          4.8487878787878795,
          4.899191919191919,
          4.9495959595959595,
          5
         ],
         "y": [
          1.9999608993530273,
          1.9952788352966309,
          1.984898567199707,
          1.9696779251098633,
          1.9506081342697144,
          1.928492546081543,
          1.9039450883865356,
          1.877471923828125,
          1.849440097808838,
          1.8201382160186768,
          1.7898019552230835,
          1.7586408853530884,
          1.7268444299697876,
          1.6945961713790894,
          1.6620755195617676,
          1.6294585466384888,
          1.596913456916809,
          1.5646032094955444,
          1.5326764583587646,
          1.501259207725525,
          1.4704750776290894,
          1.440420389175415,
          1.4111725091934204,
          1.3827900886535645,
          1.3553271293640137,
          1.3288074731826782,
          1.3032503128051758,
          1.2786613702774048,
          1.2550338506698608,
          1.2323588132858276,
          1.2106144428253174,
          1.189780354499817,
          1.1698263883590698,
          1.1507251262664795,
          1.1324424743652344,
          1.1149476766586304,
          1.0982049703598022,
          1.0821824073791504,
          1.0668472051620483,
          1.0521653890609741,
          1.038106918334961,
          1.0246403217315674,
          1.0117361545562744,
          0.9993661642074585,
          0.9875052571296692,
          0.9761248826980591,
          0.9652019739151001,
          0.9547144174575806,
          0.9446377754211426,
          0.9349537491798401,
          0.9256407022476196,
          0.9166807532310486,
          0.9080562591552734,
          0.8997511863708496,
          0.8917484879493713,
          0.8840353488922119,
          0.8765957355499268,
          0.8694180250167847,
          0.8624886274337769,
          0.8557971715927124,
          0.849330723285675,
          0.843082070350647,
          0.8370369672775269,
          0.8311890363693237,
          0.825529158115387,
          0.8200470805168152,
          0.8147379159927368,
          0.8095918893814087,
          0.8046035170555115,
          0.79976487159729,
          0.7950692772865295,
          0.7905123233795166,
          0.7860880494117737,
          0.7817904353141785,
          0.7776135206222534,
          0.7735541462898254,
          0.7696056365966797,
          0.7657657861709595,
          0.7620296478271484,
          0.7583932876586914,
          0.7548521757125854,
          0.7514039874076843,
          0.7480438351631165,
          0.7447693943977356,
          0.7415779232978821,
          0.7384653091430664,
          0.7354293465614319,
          0.7324671745300293,
          0.7295766472816467,
          0.7267556190490723,
          0.7239995002746582,
          0.7213087677955627,
          0.7186798453330994,
          0.7161108255386353,
          0.7135999202728271,
          0.7111456394195557,
          0.7087444067001343,
          0.7063975930213928,
          0.704100489616394,
          0.7018528580665588
         ]
        }
       ],
       "layout": {
        "template": {
         "data": {
          "bar": [
           {
            "error_x": {
             "color": "#2a3f5f"
            },
            "error_y": {
             "color": "#2a3f5f"
            },
            "marker": {
             "line": {
              "color": "#E5ECF6",
              "width": 0.5
             }
            },
            "type": "bar"
           }
          ],
          "barpolar": [
           {
            "marker": {
             "line": {
              "color": "#E5ECF6",
              "width": 0.5
             }
            },
            "type": "barpolar"
           }
          ],
          "carpet": [
           {
            "aaxis": {
             "endlinecolor": "#2a3f5f",
             "gridcolor": "white",
             "linecolor": "white",
             "minorgridcolor": "white",
             "startlinecolor": "#2a3f5f"
            },
            "baxis": {
             "endlinecolor": "#2a3f5f",
             "gridcolor": "white",
             "linecolor": "white",
             "minorgridcolor": "white",
             "startlinecolor": "#2a3f5f"
            },
            "type": "carpet"
           }
          ],
          "choropleth": [
           {
            "colorbar": {
             "outlinewidth": 0,
             "ticks": ""
            },
            "type": "choropleth"
           }
          ],
          "contour": [
           {
            "colorbar": {
             "outlinewidth": 0,
             "ticks": ""
            },
            "colorscale": [
             [
              0,
              "#0d0887"
             ],
             [
              0.1111111111111111,
              "#46039f"
             ],
             [
              0.2222222222222222,
              "#7201a8"
             ],
             [
              0.3333333333333333,
              "#9c179e"
             ],
             [
              0.4444444444444444,
              "#bd3786"
             ],
             [
              0.5555555555555556,
              "#d8576b"
             ],
             [
              0.6666666666666666,
              "#ed7953"
             ],
             [
              0.7777777777777778,
              "#fb9f3a"
             ],
             [
              0.8888888888888888,
              "#fdca26"
             ],
             [
              1,
              "#f0f921"
             ]
            ],
            "type": "contour"
           }
          ],
          "contourcarpet": [
           {
            "colorbar": {
             "outlinewidth": 0,
             "ticks": ""
            },
            "type": "contourcarpet"
           }
          ],
          "heatmap": [
           {
            "colorbar": {
             "outlinewidth": 0,
             "ticks": ""
            },
            "colorscale": [
             [
              0,
              "#0d0887"
             ],
             [
              0.1111111111111111,
              "#46039f"
             ],
             [
              0.2222222222222222,
              "#7201a8"
             ],
             [
              0.3333333333333333,
              "#9c179e"
             ],
             [
              0.4444444444444444,
              "#bd3786"
             ],
             [
              0.5555555555555556,
              "#d8576b"
             ],
             [
              0.6666666666666666,
              "#ed7953"
             ],
             [
              0.7777777777777778,
              "#fb9f3a"
             ],
             [
              0.8888888888888888,
              "#fdca26"
             ],
             [
              1,
              "#f0f921"
             ]
            ],
            "type": "heatmap"
           }
          ],
          "heatmapgl": [
           {
            "colorbar": {
             "outlinewidth": 0,
             "ticks": ""
            },
            "colorscale": [
             [
              0,
              "#0d0887"
             ],
             [
              0.1111111111111111,
              "#46039f"
             ],
             [
              0.2222222222222222,
              "#7201a8"
             ],
             [
              0.3333333333333333,
              "#9c179e"
             ],
             [
              0.4444444444444444,
              "#bd3786"
             ],
             [
              0.5555555555555556,
              "#d8576b"
             ],
             [
              0.6666666666666666,
              "#ed7953"
             ],
             [
              0.7777777777777778,
              "#fb9f3a"
             ],
             [
              0.8888888888888888,
              "#fdca26"
             ],
             [
              1,
              "#f0f921"
             ]
            ],
            "type": "heatmapgl"
           }
          ],
          "histogram": [
           {
            "marker": {
             "colorbar": {
              "outlinewidth": 0,
              "ticks": ""
             }
            },
            "type": "histogram"
           }
          ],
          "histogram2d": [
           {
            "colorbar": {
             "outlinewidth": 0,
             "ticks": ""
            },
            "colorscale": [
             [
              0,
              "#0d0887"
             ],
             [
              0.1111111111111111,
              "#46039f"
             ],
             [
              0.2222222222222222,
              "#7201a8"
             ],
             [
              0.3333333333333333,
              "#9c179e"
             ],
             [
              0.4444444444444444,
              "#bd3786"
             ],
             [
              0.5555555555555556,
              "#d8576b"
             ],
             [
              0.6666666666666666,
              "#ed7953"
             ],
             [
              0.7777777777777778,
              "#fb9f3a"
             ],
             [
              0.8888888888888888,
              "#fdca26"
             ],
             [
              1,
              "#f0f921"
             ]
            ],
            "type": "histogram2d"
           }
          ],
          "histogram2dcontour": [
           {
            "colorbar": {
             "outlinewidth": 0,
             "ticks": ""
            },
            "colorscale": [
             [
              0,
              "#0d0887"
             ],
             [
              0.1111111111111111,
              "#46039f"
             ],
             [
              0.2222222222222222,
              "#7201a8"
             ],
             [
              0.3333333333333333,
              "#9c179e"
             ],
             [
              0.4444444444444444,
              "#bd3786"
             ],
             [
              0.5555555555555556,
              "#d8576b"
             ],
             [
              0.6666666666666666,
              "#ed7953"
             ],
             [
              0.7777777777777778,
              "#fb9f3a"
             ],
             [
              0.8888888888888888,
              "#fdca26"
             ],
             [
              1,
              "#f0f921"
             ]
            ],
            "type": "histogram2dcontour"
           }
          ],
          "mesh3d": [
           {
            "colorbar": {
             "outlinewidth": 0,
             "ticks": ""
            },
            "type": "mesh3d"
           }
          ],
          "parcoords": [
           {
            "line": {
             "colorbar": {
              "outlinewidth": 0,
              "ticks": ""
             }
            },
            "type": "parcoords"
           }
          ],
          "pie": [
           {
            "automargin": true,
            "type": "pie"
           }
          ],
          "scatter": [
           {
            "marker": {
             "colorbar": {
              "outlinewidth": 0,
              "ticks": ""
             }
            },
            "type": "scatter"
           }
          ],
          "scatter3d": [
           {
            "line": {
             "colorbar": {
              "outlinewidth": 0,
              "ticks": ""
             }
            },
            "marker": {
             "colorbar": {
              "outlinewidth": 0,
              "ticks": ""
             }
            },
            "type": "scatter3d"
           }
          ],
          "scattercarpet": [
           {
            "marker": {
             "colorbar": {
              "outlinewidth": 0,
              "ticks": ""
             }
            },
            "type": "scattercarpet"
           }
          ],
          "scattergeo": [
           {
            "marker": {
             "colorbar": {
              "outlinewidth": 0,
              "ticks": ""
             }
            },
            "type": "scattergeo"
           }
          ],
          "scattergl": [
           {
            "marker": {
             "colorbar": {
              "outlinewidth": 0,
              "ticks": ""
             }
            },
            "type": "scattergl"
           }
          ],
          "scattermapbox": [
           {
            "marker": {
             "colorbar": {
              "outlinewidth": 0,
              "ticks": ""
             }
            },
            "type": "scattermapbox"
           }
          ],
          "scatterpolar": [
           {
            "marker": {
             "colorbar": {
              "outlinewidth": 0,
              "ticks": ""
             }
            },
            "type": "scatterpolar"
           }
          ],
          "scatterpolargl": [
           {
            "marker": {
             "colorbar": {
              "outlinewidth": 0,
              "ticks": ""
             }
            },
            "type": "scatterpolargl"
           }
          ],
          "scatterternary": [
           {
            "marker": {
             "colorbar": {
              "outlinewidth": 0,
              "ticks": ""
             }
            },
            "type": "scatterternary"
           }
          ],
          "surface": [
           {
            "colorbar": {
             "outlinewidth": 0,
             "ticks": ""
            },
            "colorscale": [
             [
              0,
              "#0d0887"
             ],
             [
              0.1111111111111111,
              "#46039f"
             ],
             [
              0.2222222222222222,
              "#7201a8"
             ],
             [
              0.3333333333333333,
              "#9c179e"
             ],
             [
              0.4444444444444444,
              "#bd3786"
             ],
             [
              0.5555555555555556,
              "#d8576b"
             ],
             [
              0.6666666666666666,
              "#ed7953"
             ],
             [
              0.7777777777777778,
              "#fb9f3a"
             ],
             [
              0.8888888888888888,
              "#fdca26"
             ],
             [
              1,
              "#f0f921"
             ]
            ],
            "type": "surface"
           }
          ],
          "table": [
           {
            "cells": {
             "fill": {
              "color": "#EBF0F8"
             },
             "line": {
              "color": "white"
             }
            },
            "header": {
             "fill": {
              "color": "#C8D4E3"
             },
             "line": {
              "color": "white"
             }
            },
            "type": "table"
           }
          ]
         },
         "layout": {
          "annotationdefaults": {
           "arrowcolor": "#2a3f5f",
           "arrowhead": 0,
           "arrowwidth": 1
          },
          "coloraxis": {
           "colorbar": {
            "outlinewidth": 0,
            "ticks": ""
           }
          },
          "colorscale": {
           "diverging": [
            [
             0,
             "#8e0152"
            ],
            [
             0.1,
             "#c51b7d"
            ],
            [
             0.2,
             "#de77ae"
            ],
            [
             0.3,
             "#f1b6da"
            ],
            [
             0.4,
             "#fde0ef"
            ],
            [
             0.5,
             "#f7f7f7"
            ],
            [
             0.6,
             "#e6f5d0"
            ],
            [
             0.7,
             "#b8e186"
            ],
            [
             0.8,
             "#7fbc41"
            ],
            [
             0.9,
             "#4d9221"
            ],
            [
             1,
             "#276419"
            ]
           ],
           "sequential": [
            [
             0,
             "#0d0887"
            ],
            [
             0.1111111111111111,
             "#46039f"
            ],
            [
             0.2222222222222222,
             "#7201a8"
            ],
            [
             0.3333333333333333,
             "#9c179e"
            ],
            [
             0.4444444444444444,
             "#bd3786"
            ],
            [
             0.5555555555555556,
             "#d8576b"
            ],
            [
             0.6666666666666666,
             "#ed7953"
            ],
            [
             0.7777777777777778,
             "#fb9f3a"
            ],
            [
             0.8888888888888888,
             "#fdca26"
            ],
            [
             1,
             "#f0f921"
            ]
           ],
           "sequentialminus": [
            [
             0,
             "#0d0887"
            ],
            [
             0.1111111111111111,
             "#46039f"
            ],
            [
             0.2222222222222222,
             "#7201a8"
            ],
            [
             0.3333333333333333,
             "#9c179e"
            ],
            [
             0.4444444444444444,
             "#bd3786"
            ],
            [
             0.5555555555555556,
             "#d8576b"
            ],
            [
             0.6666666666666666,
             "#ed7953"
            ],
            [
             0.7777777777777778,
             "#fb9f3a"
            ],
            [
             0.8888888888888888,
             "#fdca26"
            ],
            [
             1,
             "#f0f921"
            ]
           ]
          },
          "colorway": [
           "#636efa",
           "#EF553B",
           "#00cc96",
           "#ab63fa",
           "#FFA15A",
           "#19d3f3",
           "#FF6692",
           "#B6E880",
           "#FF97FF",
           "#FECB52"
          ],
          "font": {
           "color": "#2a3f5f"
          },
          "geo": {
           "bgcolor": "white",
           "lakecolor": "white",
           "landcolor": "#E5ECF6",
           "showlakes": true,
           "showland": true,
           "subunitcolor": "white"
          },
          "hoverlabel": {
           "align": "left"
          },
          "hovermode": "closest",
          "mapbox": {
           "style": "light"
          },
          "paper_bgcolor": "white",
          "plot_bgcolor": "#E5ECF6",
          "polar": {
           "angularaxis": {
            "gridcolor": "white",
            "linecolor": "white",
            "ticks": ""
           },
           "bgcolor": "#E5ECF6",
           "radialaxis": {
            "gridcolor": "white",
            "linecolor": "white",
            "ticks": ""
           }
          },
          "scene": {
           "xaxis": {
            "backgroundcolor": "#E5ECF6",
            "gridcolor": "white",
            "gridwidth": 2,
            "linecolor": "white",
            "showbackground": true,
            "ticks": "",
            "zerolinecolor": "white"
           },
           "yaxis": {
            "backgroundcolor": "#E5ECF6",
            "gridcolor": "white",
            "gridwidth": 2,
            "linecolor": "white",
            "showbackground": true,
            "ticks": "",
            "zerolinecolor": "white"
           },
           "zaxis": {
            "backgroundcolor": "#E5ECF6",
            "gridcolor": "white",
            "gridwidth": 2,
            "linecolor": "white",
            "showbackground": true,
            "ticks": "",
            "zerolinecolor": "white"
           }
          },
          "shapedefaults": {
           "line": {
            "color": "#2a3f5f"
           }
          },
          "ternary": {
           "aaxis": {
            "gridcolor": "white",
            "linecolor": "white",
            "ticks": ""
           },
           "baxis": {
            "gridcolor": "white",
            "linecolor": "white",
            "ticks": ""
           },
           "bgcolor": "#E5ECF6",
           "caxis": {
            "gridcolor": "white",
            "linecolor": "white",
            "ticks": ""
           }
          },
          "title": {
           "x": 0.05
          },
          "xaxis": {
           "automargin": true,
           "gridcolor": "white",
           "linecolor": "white",
           "ticks": "",
           "title": {
            "standoff": 15
           },
           "zerolinecolor": "white",
           "zerolinewidth": 2
          },
          "yaxis": {
           "automargin": true,
           "gridcolor": "white",
           "linecolor": "white",
           "ticks": "",
           "title": {
            "standoff": 15
           },
           "zerolinecolor": "white",
           "zerolinewidth": 2
          }
         }
        },
        "xaxis": {
         "title": {
          "text": "G"
         }
        },
        "yaxis": {
         "title": {
          "text": "Rho2"
         }
        }
       }
      },
      "text/html": [
       "<div>\n",
       "        \n",
       "        \n",
       "            <div id=\"70ceb78d-c1c9-45bf-ba8e-f6bae87a6aca\" class=\"plotly-graph-div\" style=\"height:525px; width:100%;\"></div>\n",
       "            <script type=\"text/javascript\">\n",
       "                require([\"plotly\"], function(Plotly) {\n",
       "                    window.PLOTLYENV=window.PLOTLYENV || {};\n",
       "                    \n",
       "                if (document.getElementById(\"70ceb78d-c1c9-45bf-ba8e-f6bae87a6aca\")) {\n",
       "                    Plotly.newPlot(\n",
       "                        '70ceb78d-c1c9-45bf-ba8e-f6bae87a6aca',\n",
       "                        [{\"type\": \"scatter\", \"x\": [0.01, 0.06040404040404041, 0.11080808080808081, 0.16121212121212125, 0.21161616161616165, 0.26202020202020204, 0.3124242424242425, 0.3628282828282829, 0.4132323232323233, 0.4636363636363637, 0.5140404040404041, 0.5644444444444445, 0.614848484848485, 0.6652525252525253, 0.7156565656565658, 0.7660606060606061, 0.8164646464646466, 0.866868686868687, 0.9172727272727274, 0.9676767676767678, 1.0180808080808081, 1.0684848484848486, 1.118888888888889, 1.1692929292929295, 1.21969696969697, 1.2701010101010102, 1.3205050505050506, 1.370909090909091, 1.4213131313131315, 1.471717171717172, 1.5221212121212122, 1.5725252525252527, 1.622929292929293, 1.6733333333333336, 1.723737373737374, 1.7741414141414142, 1.8245454545454547, 1.8749494949494951, 1.9253535353535356, 1.975757575757576, 2.026161616161616, 2.0765656565656565, 2.126969696969697, 2.1773737373737374, 2.227777777777778, 2.2781818181818183, 2.3285858585858588, 2.378989898989899, 2.4293939393939397, 2.4797979797979797, 2.53020202020202, 2.5806060606060606, 2.631010101010101, 2.6814141414141415, 2.731818181818182, 2.7822222222222224, 2.832626262626263, 2.8830303030303033, 2.9334343434343437, 2.9838383838383837, 3.034242424242424, 3.0846464646464646, 3.135050505050505, 3.1854545454545455, 3.235858585858586, 3.2862626262626264, 3.336666666666667, 3.3870707070707073, 3.437474747474748, 3.4878787878787882, 3.5382828282828283, 3.5886868686868687, 3.639090909090909, 3.6894949494949496, 3.73989898989899, 3.7903030303030305, 3.840707070707071, 3.8911111111111114, 3.941515151515152, 3.9919191919191923, 4.042323232323232, 4.092727272727273, 4.143131313131313, 4.193535353535354, 4.243939393939394, 4.294343434343435, 4.344747474747475, 4.3951515151515155, 4.445555555555556, 4.495959595959596, 4.546363636363637, 4.596767676767677, 4.647171717171718, 4.697575757575758, 4.747979797979799, 4.798383838383839, 4.8487878787878795, 4.899191919191919, 4.9495959595959595, 5.0], \"y\": [1.1200383596587926e-05, 0.00042213493725284934, 0.0014493763446807861, 0.0030970340594649315, 0.005340603645890951, 0.008137287572026253, 0.01143602840602398, 0.015183479525148869, 0.019328689202666283, 0.023825250566005707, 0.028630752116441727, 0.03370753303170204, 0.039021264761686325, 0.04454026371240616, 0.050235047936439514, 0.05607745423913002, 0.06204070895910263, 0.06809920072555542, 0.07422839850187302, 0.08040530234575272, 0.08660812675952911, 0.09281675517559052, 0.09901279211044312, 0.10517965257167816, 0.11130248010158539, 0.11736810207366943, 0.1233653873205185, 0.12928450107574463, 0.13511747121810913, 0.14085735380649567, 0.1464989334344864, 0.1520378440618515, 0.15747088193893433, 0.16279572248458862, 0.16801084578037262, 0.17311525344848633, 0.17810894548892975, 0.18299205601215363, 0.18776530027389526, 0.1924298256635666, 0.19698701798915863, 0.20143823325634003, 0.20578548312187195, 0.21003063023090363, 0.21417579054832458, 0.21822309494018555, 0.222174733877182, 0.2260332703590393, 0.22980058193206787, 0.23347941040992737, 0.2370716780424118, 0.24057988822460175, 0.2440064400434494, 0.24735331535339355, 0.2506229281425476, 0.25381726026535034, 0.2569388449192047, 0.2599892318248749, 0.26297080516815186, 0.2658853828907013, 0.268734872341156, 0.27152150869369507, 0.274246484041214, 0.27691224217414856, 0.2795199155807495, 0.2820715308189392, 0.2845686674118042, 0.2870127558708191, 0.28940537571907043, 0.29174789786338806, 0.2940419912338257, 0.2962890565395355, 0.29848992824554443, 0.30064621567726135, 0.30275920033454895, 0.3048301935195923, 0.30686020851135254, 0.3088505268096924, 0.31080150604248047, 0.3127152621746063, 0.3145921230316162, 0.3164334297180176, 0.3182399272918701, 0.3200124502182007, 0.32175225019454956, 0.32346007227897644, 0.3251364231109619, 0.32678237557411194, 0.3283988833427429, 0.32998645305633545, 0.3315456807613373, 0.3330777883529663, 0.33458301424980164, 0.33606189489364624, 0.33751583099365234, 0.33894461393356323, 0.34034934639930725, 0.3417304456233978, 0.3430885970592499, 0.3444240987300873]}, {\"type\": \"scatter\", \"x\": [0.01, 0.06040404040404041, 0.11080808080808081, 0.16121212121212125, 0.21161616161616165, 0.26202020202020204, 0.3124242424242425, 0.3628282828282829, 0.4132323232323233, 0.4636363636363637, 0.5140404040404041, 0.5644444444444445, 0.614848484848485, 0.6652525252525253, 0.7156565656565658, 0.7660606060606061, 0.8164646464646466, 0.866868686868687, 0.9172727272727274, 0.9676767676767678, 1.0180808080808081, 1.0684848484848486, 1.118888888888889, 1.1692929292929295, 1.21969696969697, 1.2701010101010102, 1.3205050505050506, 1.370909090909091, 1.4213131313131315, 1.471717171717172, 1.5221212121212122, 1.5725252525252527, 1.622929292929293, 1.6733333333333336, 1.723737373737374, 1.7741414141414142, 1.8245454545454547, 1.8749494949494951, 1.9253535353535356, 1.975757575757576, 2.026161616161616, 2.0765656565656565, 2.126969696969697, 2.1773737373737374, 2.227777777777778, 2.2781818181818183, 2.3285858585858588, 2.378989898989899, 2.4293939393939397, 2.4797979797979797, 2.53020202020202, 2.5806060606060606, 2.631010101010101, 2.6814141414141415, 2.731818181818182, 2.7822222222222224, 2.832626262626263, 2.8830303030303033, 2.9334343434343437, 2.9838383838383837, 3.034242424242424, 3.0846464646464646, 3.135050505050505, 3.1854545454545455, 3.235858585858586, 3.2862626262626264, 3.336666666666667, 3.3870707070707073, 3.437474747474748, 3.4878787878787882, 3.5382828282828283, 3.5886868686868687, 3.639090909090909, 3.6894949494949496, 3.73989898989899, 3.7903030303030305, 3.840707070707071, 3.8911111111111114, 3.941515151515152, 3.9919191919191923, 4.042323232323232, 4.092727272727273, 4.143131313131313, 4.193535353535354, 4.243939393939394, 4.294343434343435, 4.344747474747475, 4.3951515151515155, 4.445555555555556, 4.495959595959596, 4.546363636363637, 4.596767676767677, 4.647171717171718, 4.697575757575758, 4.747979797979799, 4.798383838383839, 4.8487878787878795, 4.899191919191919, 4.9495959595959595, 5.0], \"y\": [1.1200639164599124e-05, 0.00042214905261062086, 0.0014493769267573953, 0.003097059205174446, 0.005340653471648693, 0.008137362077832222, 0.011436043307185173, 0.015183502808213234, 0.019328782334923744, 0.023825278505682945, 0.028630763292312622, 0.03370755538344383, 0.03902128338813782, 0.044540274888277054, 0.050235092639923096, 0.05607745423913002, 0.06204075366258621, 0.0680992379784584, 0.07422845810651779, 0.0804053470492363, 0.0866081491112709, 0.0928167998790741, 0.0990128144621849, 0.10517984628677368, 0.1113027036190033, 0.11736820638179779, 0.12336541712284088, 0.1292845904827118, 0.13511766493320465, 0.14085739850997925, 0.14649894833564758, 0.15203788876533508, 0.1574709117412567, 0.1627957671880722, 0.1680108606815338, 0.17311526834964752, 0.17810896039009094, 0.1829921007156372, 0.18776530027389526, 0.19242985546588898, 0.19698703289031982, 0.2014385610818863, 0.20578554272651672, 0.2100307196378708, 0.2141760140657425, 0.2182232141494751, 0.22217483818531036, 0.2260333150625229, 0.22980068624019623, 0.23347944021224976, 0.23707184195518494, 0.24057990312576294, 0.24400663375854492, 0.24735337495803833, 0.25062301754951477, 0.2538173794746399, 0.2569388747215271, 0.25998929142951965, 0.2629709541797638, 0.2658854126930237, 0.26873496174812317, 0.271521657705307, 0.2742465138435364, 0.27691227197647095, 0.27952003479003906, 0.28207162022590637, 0.2845686674118042, 0.2870127558708191, 0.28940555453300476, 0.29174813628196716, 0.2940422296524048, 0.2962891459465027, 0.2984899580478668, 0.3006463050842285, 0.3027592897415161, 0.3048303723335266, 0.3068602681159973, 0.30885061621665955, 0.31080156564712524, 0.3127153217792511, 0.314592182636261, 0.31643354892730713, 0.3182400166988373, 0.32001253962516785, 0.32175227999687195, 0.3234601318836212, 0.3251364231109619, 0.3267824053764343, 0.3283989429473877, 0.32998648285865784, 0.33154579997062683, 0.33307790756225586, 0.33458319306373596, 0.3360620141029358, 0.33751586079597473, 0.33894461393356323, 0.3403494358062744, 0.34173065423965454, 0.3430887758731842, 0.34442415833473206]}, {\"type\": \"scatter\", \"x\": [0.01, 0.06040404040404041, 0.11080808080808081, 0.16121212121212125, 0.21161616161616165, 0.26202020202020204, 0.3124242424242425, 0.3628282828282829, 0.4132323232323233, 0.4636363636363637, 0.5140404040404041, 0.5644444444444445, 0.614848484848485, 0.6652525252525253, 0.7156565656565658, 0.7660606060606061, 0.8164646464646466, 0.866868686868687, 0.9172727272727274, 0.9676767676767678, 1.0180808080808081, 1.0684848484848486, 1.118888888888889, 1.1692929292929295, 1.21969696969697, 1.2701010101010102, 1.3205050505050506, 1.370909090909091, 1.4213131313131315, 1.471717171717172, 1.5221212121212122, 1.5725252525252527, 1.622929292929293, 1.6733333333333336, 1.723737373737374, 1.7741414141414142, 1.8245454545454547, 1.8749494949494951, 1.9253535353535356, 1.975757575757576, 2.026161616161616, 2.0765656565656565, 2.126969696969697, 2.1773737373737374, 2.227777777777778, 2.2781818181818183, 2.3285858585858588, 2.378989898989899, 2.4293939393939397, 2.4797979797979797, 2.53020202020202, 2.5806060606060606, 2.631010101010101, 2.6814141414141415, 2.731818181818182, 2.7822222222222224, 2.832626262626263, 2.8830303030303033, 2.9334343434343437, 2.9838383838383837, 3.034242424242424, 3.0846464646464646, 3.135050505050505, 3.1854545454545455, 3.235858585858586, 3.2862626262626264, 3.336666666666667, 3.3870707070707073, 3.437474747474748, 3.4878787878787882, 3.5382828282828283, 3.5886868686868687, 3.639090909090909, 3.6894949494949496, 3.73989898989899, 3.7903030303030305, 3.840707070707071, 3.8911111111111114, 3.941515151515152, 3.9919191919191923, 4.042323232323232, 4.092727272727273, 4.143131313131313, 4.193535353535354, 4.243939393939394, 4.294343434343435, 4.344747474747475, 4.3951515151515155, 4.445555555555556, 4.495959595959596, 4.546363636363637, 4.596767676767677, 4.647171717171718, 4.697575757575758, 4.747979797979799, 4.798383838383839, 4.8487878787878795, 4.899191919191919, 4.9495959595959595, 5.0], \"y\": [2.5075380108319223e-05, 0.0009215690079145133, 0.003086411627009511, 0.0064382366836071014, 0.010849875397980213, 0.016177313402295113, 0.022280054166913033, 0.029032204300165176, 0.03632690757513046, 0.044075265526771545, 0.052203498780727386, 0.060649484395980835, 0.06935885548591614, 0.07828210294246674, 0.08737289160490036, 0.09658694267272949, 0.10588119924068451, 0.11521453410387039, 0.12454742193222046, 0.13384254276752472, 0.14306551218032837, 0.1521853804588318, 0.16117410361766815, 0.17000792920589447, 0.17866626381874084, 0.18713217973709106, 0.19539259374141693, 0.20343667268753052, 0.21125754714012146, 0.21884968876838684, 0.2262108325958252, 0.23334045708179474, 0.24023906886577606, 0.24690891802310944, 0.2533538043498993, 0.25957751274108887, 0.26558566093444824, 0.2713833749294281, 0.27697688341140747, 0.282372385263443, 0.28757667541503906, 0.2925955057144165, 0.29743635654449463, 0.3021050691604614, 0.30660900473594666, 0.3109530210494995, 0.3151457607746124, 0.31919124722480774, 0.3230961561203003, 0.32686647772789, 0.3305070102214813, 0.3340235948562622, 0.33742159605026245, 0.3407052457332611, 0.34387969970703125, 0.3469494581222534, 0.3499189615249634, 0.35279202461242676, 0.35557296872138977, 0.3582650125026703, 0.36087268590927124, 0.3633986711502075, 0.3658464550971985, 0.36821937561035156, 0.37052038311958313, 0.37275227904319763, 0.3749176859855652, 0.37701934576034546, 0.3790600895881653, 0.381041556596756, 0.38296636939048767, 0.38483694195747375, 0.38665491342544556, 0.3884223997592926, 0.3901416063308716, 0.39181405305862427, 0.39344149827957153, 0.395025372505188, 0.39656758308410645, 0.3980696499347687, 0.39953258633613586, 0.40095818042755127, 0.4023476243019104, 0.40370187163352966, 0.4050227701663971, 0.4063110053539276, 0.4075678884983063, 0.4087941646575928, 0.40999141335487366, 0.41116005182266235, 0.4123007357120514, 0.41341546177864075, 0.4145042896270752, 0.4155682325363159, 0.4166080057621002, 0.417624831199646, 0.41861870884895325, 0.41959065198898315, 0.42054155468940735, 0.421471506357193]}, {\"type\": \"scatter\", \"x\": [0.01, 0.06040404040404041, 0.11080808080808081, 0.16121212121212125, 0.21161616161616165, 0.26202020202020204, 0.3124242424242425, 0.3628282828282829, 0.4132323232323233, 0.4636363636363637, 0.5140404040404041, 0.5644444444444445, 0.614848484848485, 0.6652525252525253, 0.7156565656565658, 0.7660606060606061, 0.8164646464646466, 0.866868686868687, 0.9172727272727274, 0.9676767676767678, 1.0180808080808081, 1.0684848484848486, 1.118888888888889, 1.1692929292929295, 1.21969696969697, 1.2701010101010102, 1.3205050505050506, 1.370909090909091, 1.4213131313131315, 1.471717171717172, 1.5221212121212122, 1.5725252525252527, 1.622929292929293, 1.6733333333333336, 1.723737373737374, 1.7741414141414142, 1.8245454545454547, 1.8749494949494951, 1.9253535353535356, 1.975757575757576, 2.026161616161616, 2.0765656565656565, 2.126969696969697, 2.1773737373737374, 2.227777777777778, 2.2781818181818183, 2.3285858585858588, 2.378989898989899, 2.4293939393939397, 2.4797979797979797, 2.53020202020202, 2.5806060606060606, 2.631010101010101, 2.6814141414141415, 2.731818181818182, 2.7822222222222224, 2.832626262626263, 2.8830303030303033, 2.9334343434343437, 2.9838383838383837, 3.034242424242424, 3.0846464646464646, 3.135050505050505, 3.1854545454545455, 3.235858585858586, 3.2862626262626264, 3.336666666666667, 3.3870707070707073, 3.437474747474748, 3.4878787878787882, 3.5382828282828283, 3.5886868686868687, 3.639090909090909, 3.6894949494949496, 3.73989898989899, 3.7903030303030305, 3.840707070707071, 3.8911111111111114, 3.941515151515152, 3.9919191919191923, 4.042323232323232, 4.092727272727273, 4.143131313131313, 4.193535353535354, 4.243939393939394, 4.294343434343435, 4.344747474747475, 4.3951515151515155, 4.445555555555556, 4.495959595959596, 4.546363636363637, 4.596767676767677, 4.647171717171718, 4.697575757575758, 4.747979797979799, 4.798383838383839, 4.8487878787878795, 4.899191919191919, 4.9495959595959595, 5.0], \"y\": [2.5075380108319223e-05, 0.0009215777390636504, 0.00308642047457397, 0.006438242271542549, 0.010849886573851109, 0.016177363693714142, 0.022280056029558182, 0.02903221920132637, 0.03632694110274315, 0.04407530277967453, 0.052203528583049774, 0.060649577528238297, 0.06935890763998032, 0.07828213274478912, 0.08737293630838394, 0.09658695012331009, 0.10588129609823227, 0.11521457880735397, 0.12454743683338165, 0.13384254276752472, 0.14306560158729553, 0.15218545496463776, 0.1611742526292801, 0.17000806331634521, 0.17866629362106323, 0.1871323585510254, 0.1953926384449005, 0.20343679189682007, 0.21125759184360504, 0.21884968876838684, 0.2262110710144043, 0.2333405762910843, 0.24023912847042084, 0.24690894782543182, 0.25335386395454407, 0.25957751274108887, 0.26558583974838257, 0.27138349413871765, 0.27697694301605225, 0.2823725640773773, 0.28757670521736145, 0.2925959825515747, 0.29743656516075134, 0.30210527777671814, 0.30660906434059143, 0.3109535574913025, 0.3151457905769348, 0.3191913962364197, 0.32309627532958984, 0.3268665075302124, 0.3305071294307709, 0.33402377367019653, 0.33742183446884155, 0.3407054543495178, 0.343879759311676, 0.3469495475292206, 0.3499189615249634, 0.3527921438217163, 0.35557299852371216, 0.35826507210731506, 0.36087286472320557, 0.36339879035949707, 0.36584654450416565, 0.36821961402893066, 0.3705205023288727, 0.37275230884552, 0.37491798400878906, 0.37701940536499023, 0.3790600895881653, 0.3810417950153351, 0.3829668462276459, 0.3848370313644409, 0.3866553008556366, 0.38842254877090454, 0.39014169573783875, 0.39181411266326904, 0.3934415578842163, 0.39502549171447754, 0.39656761288642883, 0.39806967973709106, 0.3995327651500702, 0.4009583592414856, 0.4023478031158447, 0.4037020802497864, 0.4050229489803314, 0.40631118416786194, 0.4075678884983063, 0.40879425406455994, 0.40999165177345276, 0.41116005182266235, 0.4123011529445648, 0.4134156107902527, 0.41450464725494385, 0.4155685007572174, 0.41660842299461365, 0.4176248610019684, 0.4186188578605652, 0.4195907711982727, 0.4205416142940521, 0.42147189378738403]}, {\"type\": \"scatter\", \"x\": [0.01, 0.06040404040404041, 0.11080808080808081, 0.16121212121212125, 0.21161616161616165, 0.26202020202020204, 0.3124242424242425, 0.3628282828282829, 0.4132323232323233, 0.4636363636363637, 0.5140404040404041, 0.5644444444444445, 0.614848484848485, 0.6652525252525253, 0.7156565656565658, 0.7660606060606061, 0.8164646464646466, 0.866868686868687, 0.9172727272727274, 0.9676767676767678, 1.0180808080808081, 1.0684848484848486, 1.118888888888889, 1.1692929292929295, 1.21969696969697, 1.2701010101010102, 1.3205050505050506, 1.370909090909091, 1.4213131313131315, 1.471717171717172, 1.5221212121212122, 1.5725252525252527, 1.622929292929293, 1.6733333333333336, 1.723737373737374, 1.7741414141414142, 1.8245454545454547, 1.8749494949494951, 1.9253535353535356, 1.975757575757576, 2.026161616161616, 2.0765656565656565, 2.126969696969697, 2.1773737373737374, 2.227777777777778, 2.2781818181818183, 2.3285858585858588, 2.378989898989899, 2.4293939393939397, 2.4797979797979797, 2.53020202020202, 2.5806060606060606, 2.631010101010101, 2.6814141414141415, 2.731818181818182, 2.7822222222222224, 2.832626262626263, 2.8830303030303033, 2.9334343434343437, 2.9838383838383837, 3.034242424242424, 3.0846464646464646, 3.135050505050505, 3.1854545454545455, 3.235858585858586, 3.2862626262626264, 3.336666666666667, 3.3870707070707073, 3.437474747474748, 3.4878787878787882, 3.5382828282828283, 3.5886868686868687, 3.639090909090909, 3.6894949494949496, 3.73989898989899, 3.7903030303030305, 3.840707070707071, 3.8911111111111114, 3.941515151515152, 3.9919191919191923, 4.042323232323232, 4.092727272727273, 4.143131313131313, 4.193535353535354, 4.243939393939394, 4.294343434343435, 4.344747474747475, 4.3951515151515155, 4.445555555555556, 4.495959595959596, 4.546363636363637, 4.596767676767677, 4.647171717171718, 4.697575757575758, 4.747979797979799, 4.798383838383839, 4.8487878787878795, 4.899191919191919, 4.9495959595959595, 5.0], \"y\": [9.881024743663147e-05, 0.0033786878921091557, 0.010587413795292377, 0.020792827010154724, 0.03320170193910599, 0.04719915986061096, 0.06233983859419823, 0.07831375300884247, 0.0949065238237381, 0.11196369677782059, 0.12936446070671082, 0.14700235426425934, 0.1647757589817047, 0.18258196115493774, 0.20031684637069702, 0.21787801384925842, 0.23516441881656647, 0.2520834505558014, 0.26855039596557617, 0.28449320793151855, 0.29985183477401733, 0.31457963585853577, 0.32864269614219666, 0.3420221209526062, 0.3547051250934601, 0.3666929304599762, 0.37799254059791565, 0.3886192739009857, 0.3985922038555145, 0.4079357981681824, 0.4166760742664337, 0.4248422682285309, 0.4324641823768616, 0.43957066535949707, 0.4461936354637146, 0.4523601531982422, 0.45810046792030334, 0.46344244480133057, 0.4684109091758728, 0.4730323851108551, 0.4773303270339966, 0.4813266396522522, 0.4850427508354187, 0.48849812150001526, 0.4917110800743103, 0.49469906091690063, 0.4974774420261383, 0.5000618100166321, 0.5024654269218445, 0.5047017335891724, 0.506781280040741, 0.5087158679962158, 0.5105162262916565, 0.512191116809845, 0.5137491226196289, 0.5151982307434082, 0.5165469646453857, 0.5178009271621704, 0.5189679265022278, 0.5200526118278503, 0.521061360836029, 0.5219987630844116, 0.5228699445724487, 0.5236796736717224, 0.5244312286376953, 0.5251289010047913, 0.525775671005249, 0.5263756513595581, 0.5269318222999573, 0.5274459719657898, 0.5279220938682556, 0.5283618569374084, 0.5287678241729736, 0.5291417837142944, 0.5294860005378723, 0.5298025012016296, 0.5300929546356201, 0.530358612537384, 0.5306010842323303, 0.5308222770690918, 0.5310233235359192, 0.5312048196792603, 0.531369149684906, 0.5315161943435669, 0.5316472053527832, 0.5317639112472534, 0.5318666696548462, 0.5319560170173645, 0.5320332646369934, 0.5320988893508911, 0.5321536064147949, 0.5321982502937317, 0.5322331786155701, 0.5322586297988892, 0.5322761535644531, 0.5322855114936829, 0.5322874188423157, 0.532281756401062, 0.5322698950767517, 0.5322515964508057]}, {\"type\": \"scatter\", \"x\": [0.01, 0.06040404040404041, 0.11080808080808081, 0.16121212121212125, 0.21161616161616165, 0.26202020202020204, 0.3124242424242425, 0.3628282828282829, 0.4132323232323233, 0.4636363636363637, 0.5140404040404041, 0.5644444444444445, 0.614848484848485, 0.6652525252525253, 0.7156565656565658, 0.7660606060606061, 0.8164646464646466, 0.866868686868687, 0.9172727272727274, 0.9676767676767678, 1.0180808080808081, 1.0684848484848486, 1.118888888888889, 1.1692929292929295, 1.21969696969697, 1.2701010101010102, 1.3205050505050506, 1.370909090909091, 1.4213131313131315, 1.471717171717172, 1.5221212121212122, 1.5725252525252527, 1.622929292929293, 1.6733333333333336, 1.723737373737374, 1.7741414141414142, 1.8245454545454547, 1.8749494949494951, 1.9253535353535356, 1.975757575757576, 2.026161616161616, 2.0765656565656565, 2.126969696969697, 2.1773737373737374, 2.227777777777778, 2.2781818181818183, 2.3285858585858588, 2.378989898989899, 2.4293939393939397, 2.4797979797979797, 2.53020202020202, 2.5806060606060606, 2.631010101010101, 2.6814141414141415, 2.731818181818182, 2.7822222222222224, 2.832626262626263, 2.8830303030303033, 2.9334343434343437, 2.9838383838383837, 3.034242424242424, 3.0846464646464646, 3.135050505050505, 3.1854545454545455, 3.235858585858586, 3.2862626262626264, 3.336666666666667, 3.3870707070707073, 3.437474747474748, 3.4878787878787882, 3.5382828282828283, 3.5886868686868687, 3.639090909090909, 3.6894949494949496, 3.73989898989899, 3.7903030303030305, 3.840707070707071, 3.8911111111111114, 3.941515151515152, 3.9919191919191923, 4.042323232323232, 4.092727272727273, 4.143131313131313, 4.193535353535354, 4.243939393939394, 4.294343434343435, 4.344747474747475, 4.3951515151515155, 4.445555555555556, 4.495959595959596, 4.546363636363637, 4.596767676767677, 4.647171717171718, 4.697575757575758, 4.747979797979799, 4.798383838383839, 4.8487878787878795, 4.899191919191919, 4.9495959595959595, 5.0], \"y\": [9.881467849481851e-05, 0.003378697205334902, 0.010587426833808422, 0.020792877301573753, 0.033201731741428375, 0.047199178487062454, 0.06233987957239151, 0.07831379026174545, 0.09490654617547989, 0.11196379363536835, 0.1293644905090332, 0.14700239896774292, 0.16477584838867188, 0.18258196115493774, 0.20031706988811493, 0.21787811815738678, 0.2351645976305008, 0.25208351016044617, 0.2685506343841553, 0.2844933271408081, 0.2998519837856293, 0.31457987427711487, 0.32864290475845337, 0.34202221035957336, 0.35470515489578247, 0.36669301986694336, 0.37799254059791565, 0.3886192739009857, 0.3985922336578369, 0.40793582797050476, 0.41667619347572327, 0.4248424172401428, 0.43246445059776306, 0.4395708441734314, 0.44619375467300415, 0.4523601830005646, 0.4581006169319153, 0.46344247460365295, 0.4684109091758728, 0.47303253412246704, 0.47733035683631897, 0.4813266396522522, 0.4850428104400635, 0.4884985387325287, 0.49171143770217896, 0.4946994185447693, 0.4974777400493622, 0.5000622272491455, 0.5024656653404236, 0.5047021508216858, 0.5067814588546753, 0.5087161064147949, 0.5105164051055908, 0.5121911764144897, 0.5137492418289185, 0.5151988863945007, 0.5165471434593201, 0.5178011655807495, 0.5189681649208069, 0.520052969455719, 0.5210614204406738, 0.5219987630844116, 0.5228701829910278, 0.5236799716949463, 0.5244314074516296, 0.5251290798187256, 0.5257761478424072, 0.5263756513595581, 0.5269320011138916, 0.5274462699890137, 0.5279223918914795, 0.5283620953559875, 0.5287678241729736, 0.529141902923584, 0.5294860601425171, 0.5298027992248535, 0.5300930142402649, 0.5303586721420288, 0.5306013822555542, 0.5308223962783813, 0.5310237407684326, 0.5312051773071289, 0.5313693881034851, 0.5315165519714355, 0.5316476225852966, 0.5317641496658325, 0.5318668484687805, 0.5319560766220093, 0.532033383846283, 0.5320988893508911, 0.532153844833374, 0.5321983098983765, 0.5322331786155701, 0.5322587490081787, 0.5322762131690979, 0.5322856903076172, 0.5322874188423157, 0.532281756401062, 0.5322701930999756, 0.5322518348693848]}, {\"type\": \"scatter\", \"x\": [0.01, 0.06040404040404041, 0.11080808080808081, 0.16121212121212125, 0.21161616161616165, 0.26202020202020204, 0.3124242424242425, 0.3628282828282829, 0.4132323232323233, 0.4636363636363637, 0.5140404040404041, 0.5644444444444445, 0.614848484848485, 0.6652525252525253, 0.7156565656565658, 0.7660606060606061, 0.8164646464646466, 0.866868686868687, 0.9172727272727274, 0.9676767676767678, 1.0180808080808081, 1.0684848484848486, 1.118888888888889, 1.1692929292929295, 1.21969696969697, 1.2701010101010102, 1.3205050505050506, 1.370909090909091, 1.4213131313131315, 1.471717171717172, 1.5221212121212122, 1.5725252525252527, 1.622929292929293, 1.6733333333333336, 1.723737373737374, 1.7741414141414142, 1.8245454545454547, 1.8749494949494951, 1.9253535353535356, 1.975757575757576, 2.026161616161616, 2.0765656565656565, 2.126969696969697, 2.1773737373737374, 2.227777777777778, 2.2781818181818183, 2.3285858585858588, 2.378989898989899, 2.4293939393939397, 2.4797979797979797, 2.53020202020202, 2.5806060606060606, 2.631010101010101, 2.6814141414141415, 2.731818181818182, 2.7822222222222224, 2.832626262626263, 2.8830303030303033, 2.9334343434343437, 2.9838383838383837, 3.034242424242424, 3.0846464646464646, 3.135050505050505, 3.1854545454545455, 3.235858585858586, 3.2862626262626264, 3.336666666666667, 3.3870707070707073, 3.437474747474748, 3.4878787878787882, 3.5382828282828283, 3.5886868686868687, 3.639090909090909, 3.6894949494949496, 3.73989898989899, 3.7903030303030305, 3.840707070707071, 3.8911111111111114, 3.941515151515152, 3.9919191919191923, 4.042323232323232, 4.092727272727273, 4.143131313131313, 4.193535353535354, 4.243939393939394, 4.294343434343435, 4.344747474747475, 4.3951515151515155, 4.445555555555556, 4.495959595959596, 4.546363636363637, 4.596767676767677, 4.647171717171718, 4.697575757575758, 4.747979797979799, 4.798383838383839, 4.8487878787878795, 4.899191919191919, 4.9495959595959595, 5.0], \"y\": [1.9997700452804565, 1.9952772855758667, 1.9848554134368896, 1.9696662425994873, 1.9506080150604248, 1.9284785985946655, 1.9039442539215088, 1.8774689435958862, 1.8494365215301514, 1.8201345205307007, 1.789800763130188, 1.758638858795166, 1.7268434762954712, 1.694595456123352, 1.662074327468872, 1.6294562816619873, 1.5969130992889404, 1.5646032094955444, 1.532670021057129, 1.5012587308883667, 1.470472812652588, 1.4404159784317017, 1.4111690521240234, 1.3827900886535645, 1.3553255796432495, 1.32880699634552, 1.3032498359680176, 1.2786599397659302, 1.2550336122512817, 1.232356309890747, 1.21061372756958, 1.1897785663604736, 1.1698256731033325, 1.1507240533828735, 1.1324410438537598, 1.1149464845657349, 1.0982048511505127, 1.0821820497512817, 1.0668468475341797, 1.0521647930145264, 1.0381051301956177, 1.0246391296386719, 1.0117353200912476, 0.9993659257888794, 0.9875038862228394, 0.9761234521865845, 0.9652009010314941, 0.9547128677368164, 0.9446372985839844, 0.9349521994590759, 0.9256397485733032, 0.9166801571846008, 0.9080560207366943, 0.8997498750686646, 0.8917483687400818, 0.8840345144271851, 0.876595139503479, 0.8694173097610474, 0.8624886274337769, 0.8557966351509094, 0.8493303656578064, 0.8430806398391724, 0.8370360136032104, 0.8311880826950073, 0.8255272507667542, 0.8200468420982361, 0.8147375583648682, 0.8095917701721191, 0.8046029210090637, 0.799764096736908, 0.7950689792633057, 0.7905120849609375, 0.7860872745513916, 0.7817891240119934, 0.7776123285293579, 0.7735528945922852, 0.7696051001548767, 0.7657653093338013, 0.7620291113853455, 0.7583925724029541, 0.7548515796661377, 0.7514035701751709, 0.7480432391166687, 0.7447693943977356, 0.7415773272514343, 0.7384650707244873, 0.7354287505149841, 0.7324670553207397, 0.7295764684677124, 0.7267540693283081, 0.7239994406700134, 0.7213084101676941, 0.7186790108680725, 0.7161104679107666, 0.713599681854248, 0.7111449837684631, 0.7087442874908447, 0.7063966393470764, 0.7041000127792358, 0.7018525004386902]}, {\"type\": \"scatter\", \"x\": [0.01, 0.06040404040404041, 0.11080808080808081, 0.16121212121212125, 0.21161616161616165, 0.26202020202020204, 0.3124242424242425, 0.3628282828282829, 0.4132323232323233, 0.4636363636363637, 0.5140404040404041, 0.5644444444444445, 0.614848484848485, 0.6652525252525253, 0.7156565656565658, 0.7660606060606061, 0.8164646464646466, 0.866868686868687, 0.9172727272727274, 0.9676767676767678, 1.0180808080808081, 1.0684848484848486, 1.118888888888889, 1.1692929292929295, 1.21969696969697, 1.2701010101010102, 1.3205050505050506, 1.370909090909091, 1.4213131313131315, 1.471717171717172, 1.5221212121212122, 1.5725252525252527, 1.622929292929293, 1.6733333333333336, 1.723737373737374, 1.7741414141414142, 1.8245454545454547, 1.8749494949494951, 1.9253535353535356, 1.975757575757576, 2.026161616161616, 2.0765656565656565, 2.126969696969697, 2.1773737373737374, 2.227777777777778, 2.2781818181818183, 2.3285858585858588, 2.378989898989899, 2.4293939393939397, 2.4797979797979797, 2.53020202020202, 2.5806060606060606, 2.631010101010101, 2.6814141414141415, 2.731818181818182, 2.7822222222222224, 2.832626262626263, 2.8830303030303033, 2.9334343434343437, 2.9838383838383837, 3.034242424242424, 3.0846464646464646, 3.135050505050505, 3.1854545454545455, 3.235858585858586, 3.2862626262626264, 3.336666666666667, 3.3870707070707073, 3.437474747474748, 3.4878787878787882, 3.5382828282828283, 3.5886868686868687, 3.639090909090909, 3.6894949494949496, 3.73989898989899, 3.7903030303030305, 3.840707070707071, 3.8911111111111114, 3.941515151515152, 3.9919191919191923, 4.042323232323232, 4.092727272727273, 4.143131313131313, 4.193535353535354, 4.243939393939394, 4.294343434343435, 4.344747474747475, 4.3951515151515155, 4.445555555555556, 4.495959595959596, 4.546363636363637, 4.596767676767677, 4.647171717171718, 4.697575757575758, 4.747979797979799, 4.798383838383839, 4.8487878787878795, 4.899191919191919, 4.9495959595959595, 5.0], \"y\": [1.9999608993530273, 1.9952788352966309, 1.984898567199707, 1.9696779251098633, 1.9506081342697144, 1.928492546081543, 1.9039450883865356, 1.877471923828125, 1.849440097808838, 1.8201382160186768, 1.7898019552230835, 1.7586408853530884, 1.7268444299697876, 1.6945961713790894, 1.6620755195617676, 1.6294585466384888, 1.596913456916809, 1.5646032094955444, 1.5326764583587646, 1.501259207725525, 1.4704750776290894, 1.440420389175415, 1.4111725091934204, 1.3827900886535645, 1.3553271293640137, 1.3288074731826782, 1.3032503128051758, 1.2786613702774048, 1.2550338506698608, 1.2323588132858276, 1.2106144428253174, 1.189780354499817, 1.1698263883590698, 1.1507251262664795, 1.1324424743652344, 1.1149476766586304, 1.0982049703598022, 1.0821824073791504, 1.0668472051620483, 1.0521653890609741, 1.038106918334961, 1.0246403217315674, 1.0117361545562744, 0.9993661642074585, 0.9875052571296692, 0.9761248826980591, 0.9652019739151001, 0.9547144174575806, 0.9446377754211426, 0.9349537491798401, 0.9256407022476196, 0.9166807532310486, 0.9080562591552734, 0.8997511863708496, 0.8917484879493713, 0.8840353488922119, 0.8765957355499268, 0.8694180250167847, 0.8624886274337769, 0.8557971715927124, 0.849330723285675, 0.843082070350647, 0.8370369672775269, 0.8311890363693237, 0.825529158115387, 0.8200470805168152, 0.8147379159927368, 0.8095918893814087, 0.8046035170555115, 0.79976487159729, 0.7950692772865295, 0.7905123233795166, 0.7860880494117737, 0.7817904353141785, 0.7776135206222534, 0.7735541462898254, 0.7696056365966797, 0.7657657861709595, 0.7620296478271484, 0.7583932876586914, 0.7548521757125854, 0.7514039874076843, 0.7480438351631165, 0.7447693943977356, 0.7415779232978821, 0.7384653091430664, 0.7354293465614319, 0.7324671745300293, 0.7295766472816467, 0.7267556190490723, 0.7239995002746582, 0.7213087677955627, 0.7186798453330994, 0.7161108255386353, 0.7135999202728271, 0.7111456394195557, 0.7087444067001343, 0.7063975930213928, 0.704100489616394, 0.7018528580665588]}],\n",
       "                        {\"template\": {\"data\": {\"bar\": [{\"error_x\": {\"color\": \"#2a3f5f\"}, \"error_y\": {\"color\": \"#2a3f5f\"}, \"marker\": {\"line\": {\"color\": \"#E5ECF6\", \"width\": 0.5}}, \"type\": \"bar\"}], \"barpolar\": [{\"marker\": {\"line\": {\"color\": \"#E5ECF6\", \"width\": 0.5}}, \"type\": \"barpolar\"}], \"carpet\": [{\"aaxis\": {\"endlinecolor\": \"#2a3f5f\", \"gridcolor\": \"white\", \"linecolor\": \"white\", \"minorgridcolor\": \"white\", \"startlinecolor\": \"#2a3f5f\"}, \"baxis\": {\"endlinecolor\": \"#2a3f5f\", \"gridcolor\": \"white\", \"linecolor\": \"white\", \"minorgridcolor\": \"white\", \"startlinecolor\": \"#2a3f5f\"}, \"type\": \"carpet\"}], \"choropleth\": [{\"colorbar\": {\"outlinewidth\": 0, \"ticks\": \"\"}, \"type\": \"choropleth\"}], \"contour\": [{\"colorbar\": {\"outlinewidth\": 0, \"ticks\": \"\"}, \"colorscale\": [[0.0, \"#0d0887\"], [0.1111111111111111, \"#46039f\"], [0.2222222222222222, \"#7201a8\"], [0.3333333333333333, \"#9c179e\"], [0.4444444444444444, \"#bd3786\"], [0.5555555555555556, \"#d8576b\"], [0.6666666666666666, \"#ed7953\"], [0.7777777777777778, \"#fb9f3a\"], [0.8888888888888888, \"#fdca26\"], [1.0, \"#f0f921\"]], \"type\": \"contour\"}], \"contourcarpet\": [{\"colorbar\": {\"outlinewidth\": 0, \"ticks\": \"\"}, \"type\": \"contourcarpet\"}], \"heatmap\": [{\"colorbar\": {\"outlinewidth\": 0, \"ticks\": \"\"}, \"colorscale\": [[0.0, \"#0d0887\"], [0.1111111111111111, \"#46039f\"], [0.2222222222222222, \"#7201a8\"], [0.3333333333333333, \"#9c179e\"], [0.4444444444444444, \"#bd3786\"], [0.5555555555555556, \"#d8576b\"], [0.6666666666666666, \"#ed7953\"], [0.7777777777777778, \"#fb9f3a\"], [0.8888888888888888, \"#fdca26\"], [1.0, \"#f0f921\"]], \"type\": \"heatmap\"}], \"heatmapgl\": [{\"colorbar\": {\"outlinewidth\": 0, \"ticks\": \"\"}, \"colorscale\": [[0.0, \"#0d0887\"], [0.1111111111111111, \"#46039f\"], [0.2222222222222222, \"#7201a8\"], [0.3333333333333333, \"#9c179e\"], [0.4444444444444444, \"#bd3786\"], [0.5555555555555556, \"#d8576b\"], [0.6666666666666666, \"#ed7953\"], [0.7777777777777778, \"#fb9f3a\"], [0.8888888888888888, \"#fdca26\"], [1.0, \"#f0f921\"]], \"type\": \"heatmapgl\"}], \"histogram\": [{\"marker\": {\"colorbar\": {\"outlinewidth\": 0, \"ticks\": \"\"}}, \"type\": \"histogram\"}], \"histogram2d\": [{\"colorbar\": {\"outlinewidth\": 0, \"ticks\": \"\"}, \"colorscale\": [[0.0, \"#0d0887\"], [0.1111111111111111, \"#46039f\"], [0.2222222222222222, \"#7201a8\"], [0.3333333333333333, \"#9c179e\"], [0.4444444444444444, \"#bd3786\"], [0.5555555555555556, \"#d8576b\"], [0.6666666666666666, \"#ed7953\"], [0.7777777777777778, \"#fb9f3a\"], [0.8888888888888888, \"#fdca26\"], [1.0, \"#f0f921\"]], \"type\": \"histogram2d\"}], \"histogram2dcontour\": [{\"colorbar\": {\"outlinewidth\": 0, \"ticks\": \"\"}, \"colorscale\": [[0.0, \"#0d0887\"], [0.1111111111111111, \"#46039f\"], [0.2222222222222222, \"#7201a8\"], [0.3333333333333333, \"#9c179e\"], [0.4444444444444444, \"#bd3786\"], [0.5555555555555556, \"#d8576b\"], [0.6666666666666666, \"#ed7953\"], [0.7777777777777778, \"#fb9f3a\"], [0.8888888888888888, \"#fdca26\"], [1.0, \"#f0f921\"]], \"type\": \"histogram2dcontour\"}], \"mesh3d\": [{\"colorbar\": {\"outlinewidth\": 0, \"ticks\": \"\"}, \"type\": \"mesh3d\"}], \"parcoords\": [{\"line\": {\"colorbar\": {\"outlinewidth\": 0, \"ticks\": \"\"}}, \"type\": \"parcoords\"}], \"pie\": [{\"automargin\": true, \"type\": \"pie\"}], \"scatter\": [{\"marker\": {\"colorbar\": {\"outlinewidth\": 0, \"ticks\": \"\"}}, \"type\": \"scatter\"}], \"scatter3d\": [{\"line\": {\"colorbar\": {\"outlinewidth\": 0, \"ticks\": \"\"}}, \"marker\": {\"colorbar\": {\"outlinewidth\": 0, \"ticks\": \"\"}}, \"type\": \"scatter3d\"}], \"scattercarpet\": [{\"marker\": {\"colorbar\": {\"outlinewidth\": 0, \"ticks\": \"\"}}, \"type\": \"scattercarpet\"}], \"scattergeo\": [{\"marker\": {\"colorbar\": {\"outlinewidth\": 0, \"ticks\": \"\"}}, \"type\": \"scattergeo\"}], \"scattergl\": [{\"marker\": {\"colorbar\": {\"outlinewidth\": 0, \"ticks\": \"\"}}, \"type\": \"scattergl\"}], \"scattermapbox\": [{\"marker\": {\"colorbar\": {\"outlinewidth\": 0, \"ticks\": \"\"}}, \"type\": \"scattermapbox\"}], \"scatterpolar\": [{\"marker\": {\"colorbar\": {\"outlinewidth\": 0, \"ticks\": \"\"}}, \"type\": \"scatterpolar\"}], \"scatterpolargl\": [{\"marker\": {\"colorbar\": {\"outlinewidth\": 0, \"ticks\": \"\"}}, \"type\": \"scatterpolargl\"}], \"scatterternary\": [{\"marker\": {\"colorbar\": {\"outlinewidth\": 0, \"ticks\": \"\"}}, \"type\": \"scatterternary\"}], \"surface\": [{\"colorbar\": {\"outlinewidth\": 0, \"ticks\": \"\"}, \"colorscale\": [[0.0, \"#0d0887\"], [0.1111111111111111, \"#46039f\"], [0.2222222222222222, \"#7201a8\"], [0.3333333333333333, \"#9c179e\"], [0.4444444444444444, \"#bd3786\"], [0.5555555555555556, \"#d8576b\"], [0.6666666666666666, \"#ed7953\"], [0.7777777777777778, \"#fb9f3a\"], [0.8888888888888888, \"#fdca26\"], [1.0, \"#f0f921\"]], \"type\": \"surface\"}], \"table\": [{\"cells\": {\"fill\": {\"color\": \"#EBF0F8\"}, \"line\": {\"color\": \"white\"}}, \"header\": {\"fill\": {\"color\": \"#C8D4E3\"}, \"line\": {\"color\": \"white\"}}, \"type\": \"table\"}]}, \"layout\": {\"annotationdefaults\": {\"arrowcolor\": \"#2a3f5f\", \"arrowhead\": 0, \"arrowwidth\": 1}, \"coloraxis\": {\"colorbar\": {\"outlinewidth\": 0, \"ticks\": \"\"}}, \"colorscale\": {\"diverging\": [[0, \"#8e0152\"], [0.1, \"#c51b7d\"], [0.2, \"#de77ae\"], [0.3, \"#f1b6da\"], [0.4, \"#fde0ef\"], [0.5, \"#f7f7f7\"], [0.6, \"#e6f5d0\"], [0.7, \"#b8e186\"], [0.8, \"#7fbc41\"], [0.9, \"#4d9221\"], [1, \"#276419\"]], \"sequential\": [[0.0, \"#0d0887\"], [0.1111111111111111, \"#46039f\"], [0.2222222222222222, \"#7201a8\"], [0.3333333333333333, \"#9c179e\"], [0.4444444444444444, \"#bd3786\"], [0.5555555555555556, \"#d8576b\"], [0.6666666666666666, \"#ed7953\"], [0.7777777777777778, \"#fb9f3a\"], [0.8888888888888888, \"#fdca26\"], [1.0, \"#f0f921\"]], \"sequentialminus\": [[0.0, \"#0d0887\"], [0.1111111111111111, \"#46039f\"], [0.2222222222222222, \"#7201a8\"], [0.3333333333333333, \"#9c179e\"], [0.4444444444444444, \"#bd3786\"], [0.5555555555555556, \"#d8576b\"], [0.6666666666666666, \"#ed7953\"], [0.7777777777777778, \"#fb9f3a\"], [0.8888888888888888, \"#fdca26\"], [1.0, \"#f0f921\"]]}, \"colorway\": [\"#636efa\", \"#EF553B\", \"#00cc96\", \"#ab63fa\", \"#FFA15A\", \"#19d3f3\", \"#FF6692\", \"#B6E880\", \"#FF97FF\", \"#FECB52\"], \"font\": {\"color\": \"#2a3f5f\"}, \"geo\": {\"bgcolor\": \"white\", \"lakecolor\": \"white\", \"landcolor\": \"#E5ECF6\", \"showlakes\": true, \"showland\": true, \"subunitcolor\": \"white\"}, \"hoverlabel\": {\"align\": \"left\"}, \"hovermode\": \"closest\", \"mapbox\": {\"style\": \"light\"}, \"paper_bgcolor\": \"white\", \"plot_bgcolor\": \"#E5ECF6\", \"polar\": {\"angularaxis\": {\"gridcolor\": \"white\", \"linecolor\": \"white\", \"ticks\": \"\"}, \"bgcolor\": \"#E5ECF6\", \"radialaxis\": {\"gridcolor\": \"white\", \"linecolor\": \"white\", \"ticks\": \"\"}}, \"scene\": {\"xaxis\": {\"backgroundcolor\": \"#E5ECF6\", \"gridcolor\": \"white\", \"gridwidth\": 2, \"linecolor\": \"white\", \"showbackground\": true, \"ticks\": \"\", \"zerolinecolor\": \"white\"}, \"yaxis\": {\"backgroundcolor\": \"#E5ECF6\", \"gridcolor\": \"white\", \"gridwidth\": 2, \"linecolor\": \"white\", \"showbackground\": true, \"ticks\": \"\", \"zerolinecolor\": \"white\"}, \"zaxis\": {\"backgroundcolor\": \"#E5ECF6\", \"gridcolor\": \"white\", \"gridwidth\": 2, \"linecolor\": \"white\", \"showbackground\": true, \"ticks\": \"\", \"zerolinecolor\": \"white\"}}, \"shapedefaults\": {\"line\": {\"color\": \"#2a3f5f\"}}, \"ternary\": {\"aaxis\": {\"gridcolor\": \"white\", \"linecolor\": \"white\", \"ticks\": \"\"}, \"baxis\": {\"gridcolor\": \"white\", \"linecolor\": \"white\", \"ticks\": \"\"}, \"bgcolor\": \"#E5ECF6\", \"caxis\": {\"gridcolor\": \"white\", \"linecolor\": \"white\", \"ticks\": \"\"}}, \"title\": {\"x\": 0.05}, \"xaxis\": {\"automargin\": true, \"gridcolor\": \"white\", \"linecolor\": \"white\", \"ticks\": \"\", \"title\": {\"standoff\": 15}, \"zerolinecolor\": \"white\", \"zerolinewidth\": 2}, \"yaxis\": {\"automargin\": true, \"gridcolor\": \"white\", \"linecolor\": \"white\", \"ticks\": \"\", \"title\": {\"standoff\": 15}, \"zerolinecolor\": \"white\", \"zerolinewidth\": 2}}}, \"xaxis\": {\"title\": {\"text\": \"G\"}}, \"yaxis\": {\"title\": {\"text\": \"Rho2\"}}},\n",
       "                        {\"responsive\": true}\n",
       "                    ).then(function(){\n",
       "                            \n",
       "var gd = document.getElementById('70ceb78d-c1c9-45bf-ba8e-f6bae87a6aca');\n",
       "var x = new MutationObserver(function (mutations, observer) {{\n",
       "        var display = window.getComputedStyle(gd).display;\n",
       "        if (!display || display === 'none') {{\n",
       "            console.log([gd, 'removed!']);\n",
       "            Plotly.purge(gd);\n",
       "            observer.disconnect();\n",
       "        }}\n",
       "}});\n",
       "\n",
       "// Listen for the removal of the full notebook cells\n",
       "var notebookContainer = gd.closest('#notebook-container');\n",
       "if (notebookContainer) {{\n",
       "    x.observe(notebookContainer, {childList: true});\n",
       "}}\n",
       "\n",
       "// Listen for the clearing of the current output cell\n",
       "var outputEl = gd.closest('.output');\n",
       "if (outputEl) {{\n",
       "    x.observe(outputEl, {childList: true});\n",
       "}}\n",
       "\n",
       "                        })\n",
       "                };\n",
       "                });\n",
       "            </script>\n",
       "        </div>"
      ]
     },
     "metadata": {},
     "output_type": "display_data"
    }
   ],
   "source": [
    "# Ploteamos\n",
    "rho_range = dict(sorted(rho_range.items()))\n",
    "x_axis = list(rho_range.keys())\n",
    "values = list(rho_range.items())\n",
    "size = len(values[0][1])\n",
    "\n",
    "fig = go.Figure()\n",
    "for k in range(0,size):\n",
    "    fig.add_trace(go.Scatter(\n",
    "        x=x_axis,\n",
    "        y=[values[j][1][k] for j in range(0,num)]\n",
    "    ))\n",
    "fig.update_layout(xaxis_title='G',\n",
    "                   yaxis_title='Rho2')\n",
    "fig.show()"
   ]
  },
  {
   "cell_type": "code",
   "execution_count": 11,
   "metadata": {
    "id": "AWjeIo1BiLv9",
    "outputId": "8ab0aee4-17b2-4d0f-8449-477c9b9d9b35"
   },
   "outputs": [
    {
     "name": "stdout",
     "output_type": "stream",
     "text": [
      "[[0 0 0 ... 0 0 4]\n",
      " [0 0 0 ... 0 1 3]\n",
      " [0 0 0 ... 0 2 2]\n",
      " ...\n",
      " [3 0 1 ... 0 0 0]\n",
      " [3 1 0 ... 0 0 0]\n",
      " [4 0 0 ... 0 0 0]]\n"
     ]
    },
    {
     "data": {
      "text/plain": [
       "330"
      ]
     },
     "execution_count": 11,
     "metadata": {},
     "output_type": "execute_result"
    }
   ],
   "source": [
    "m = 4\n",
    "d = 4\n",
    "# Creo las bases para no tener que recrearlas luego\n",
    "basis = fixed_basis(m, 2*d)\n",
    "basis_m1 = fixed_basis(m-1, 2*d)\n",
    "basis_m2 = fixed_basis(m-2, 2*d)\n",
    "print(basis.base)\n",
    "e = 1\n",
    "eps = 0\n",
    "e0 = np.zeros(2*d)\n",
    "for k in range(0, d):\n",
    "    r = random.random() * eps\n",
    "    e0[2*k] = k*e+r\n",
    "    e0[2*k+1] = k*e+r\n",
    "\n",
    "h = hamiltonian(2, basis, basis_m1, basis_m2)\n",
    "ha = np.array(h.todense())\n",
    "ha.astype(np.float32).tofile(\"myData.dat\")\n",
    "basis.size"
   ]
  },
  {
   "cell_type": "code",
   "execution_count": 14,
   "metadata": {
    "id": "KJnULGghiLv_",
    "outputId": "eb50f4eb-2c77-49b8-8057-093b8b6faa93"
   },
   "outputs": [
    {
     "name": "stdout",
     "output_type": "stream",
     "text": [
      "[0.0999997  0.10000002 2.5000002  0.10000013 0.10000028 0.10000008\n",
      " 0.09999993 0.0999997  0.09999981 0.09999999 0.09999975 0.09999979\n",
      " 0.09999982 0.09999996 0.10000022 0.10000026 0.1000001  0.10000025\n",
      " 0.09999979 0.0999999  0.0999999  0.10000021 0.10000017 0.09999994\n",
      " 0.10000004 0.1000001  0.09999993 0.09999997 0.10000015 0.10000023\n",
      " 0.10000017 0.09999999 0.10000005 0.10000003 0.09999999 0.10000005]\n"
     ]
    },
    {
     "data": {
      "text/plain": [
       "array([-9999993.72617466, -5999997.89231149, -5999997.89231145,\n",
       "       -5999996.70759559, -5999996.52975324, -5999996.52975324,\n",
       "       -5999996.52975323, -5999996.52975322, -5999995.22564455,\n",
       "       -5999995.22564454, -5999995.19641999, -5999995.19641997,\n",
       "       -5999995.19641996, -5999995.19641995, -5999993.8630869 ,\n",
       "       -5999993.8630869 , -5999993.86308689, -5999993.86308645,\n",
       "       -5999993.86308645])"
      ]
     },
     "execution_count": 14,
     "metadata": {},
     "output_type": "execute_result"
    }
   ],
   "source": [
    "h = hamiltonian(1000000, basis, basis_m1, basis_m2)\n",
    "sol = linalg.eigsh(h,which='SA',k=19,return_eigenvectors=True)\n",
    "eig = sol[0].real\n",
    "eigv = sol[1]\n",
    "argmin = np.argmin(sol[0].real)\n",
    "fund = sol[1][:,argmin]\n",
    "fund = fund.real / np.linalg.norm(fund)\n",
    "rho = rho_m(basis, 2, fund).todense()\n",
    "print(linalg_d.eigvals(rho).real)\n",
    "eig\n"
   ]
  },
  {
   "cell_type": "code",
   "execution_count": null,
   "metadata": {},
   "outputs": [],
   "source": []
  },
  {
   "cell_type": "code",
   "execution_count": 18,
   "metadata": {},
   "outputs": [
    {
     "name": "stdout",
     "output_type": "stream",
     "text": [
      "3.9999998\n",
      "[1.8763163  1.876315   0.12368434 0.12368418]\n"
     ]
    }
   ],
   "source": [
    "rho1 = rho_1(basis, fund).todense()\n",
    "print(np.trace(rho1))\n",
    "print(linalg_d.eigvals(rho1).real)"
   ]
  },
  {
   "cell_type": "code",
   "execution_count": 13,
   "metadata": {},
   "outputs": [
    {
     "name": "stdout",
     "output_type": "stream",
     "text": [
      "6.0\n",
      "[0.00731809 3.7699203  0.00731803 0.01199096 0.88363785 0.10904462\n",
      " 0.88363725 0.10904456 0.10904457 0.10904454]\n"
     ]
    }
   ],
   "source": [
    "rho2 = rho_2(basis, fund).todense()\n",
    "print(np.trace(rho2))\n",
    "print(linalg_d.eigvals(rho2).real)\n",
    "np.set_printoptions(suppress=True)\n"
   ]
  },
  {
   "cell_type": "code",
   "execution_count": 28,
   "metadata": {},
   "outputs": [
    {
     "name": "stdout",
     "output_type": "stream",
     "text": [
      "0 2\n",
      "[0 0 0 2] [0 0 2 0] 0.08554583787918091\n",
      "1 1\n",
      "[0 0 1 1] [0 0 1 1] 0.17109167575836184\n",
      "1 8\n",
      "[0 0 1 1] [1 1 0 0] 0.3302189111709595\n",
      "2 0\n",
      "[0 0 2 0] [0 0 0 2] 0.08554583787918091\n",
      "3 7\n",
      "[0 1 0 1] [1 0 1 0] 0.3302189111709595\n",
      "4 6\n",
      "[0 1 1 0] [1 0 0 1] 0.3302189111709595\n",
      "5 9\n",
      "[0 2 0 0] [2 0 0 0] 0.9400199055671692\n",
      "6 4\n",
      "[1 0 0 1] [0 1 1 0] 0.3302189111709595\n",
      "7 3\n",
      "[1 0 1 0] [0 1 0 1] 0.3302189111709595\n",
      "8 1\n",
      "[1 1 0 0] [0 0 1 1] 0.3302189111709595\n",
      "8 8\n",
      "[1 1 0 0] [1 1 0 0] 1.8800398111343388\n",
      "9 5\n",
      "[2 0 0 0] [0 2 0 0] 0.9400199055671692\n",
      "6.0000005\n"
     ]
    },
    {
     "data": {
      "text/plain": [
       "array([ 0.00000019, -0.00000003,  0.08554584, -0.00000006,  0.00000006,\n",
       "        0.00000007, -0.00000002, -0.00000005,  0.00000001, -0.        ,\n",
       "       -0.00000008,  0.00000001,  0.00000005,  0.00000005, -0.        ,\n",
       "        0.00000008,  0.00000007, -0.00000007,  0.00000002, -0.00000004,\n",
       "        0.3302189 ,  0.00000004, -0.00000001, -0.00000015, -0.00000048,\n",
       "        0.00000002,  0.00000011, -0.00000001,  0.00000016, -0.00000014,\n",
       "        0.9400199 , -0.00000003,  0.00000011,  0.0000002 , -0.00000003],\n",
       "      dtype=float32)"
      ]
     },
     "execution_count": 28,
     "metadata": {},
     "output_type": "execute_result"
    }
   ],
   "source": [
    "g = gamma(basis, 2, fund).todense()\n",
    "rho = np.dot(g,np.transpose(g))\n",
    "print(np.trace(rho))\n",
    "fund"
   ]
  },
  {
   "cell_type": "code",
   "execution_count": 8,
   "metadata": {},
   "outputs": [
    {
     "name": "stdout",
     "output_type": "stream",
     "text": [
      "0.030218124389648438\n",
      "0.31302523612976074\n"
     ]
    }
   ],
   "source": [
    "import time\n",
    "t = time.time()\n",
    "r1 = rho_m(basis, 2, fund)\n",
    "to = time.time()\n",
    "print(to-t)\n",
    "t = time.time()\n",
    "r1 = rho_2(basis, fund)\n",
    "to = time.time()\n",
    "print(to-t)"
   ]
  },
  {
   "cell_type": "code",
   "execution_count": null,
   "metadata": {},
   "outputs": [],
   "source": []
  }
 ],
 "metadata": {
  "colab": {
   "name": "main.py.ipynb",
   "provenance": []
  },
  "kernelspec": {
   "display_name": "Python 3",
   "language": "python",
   "name": "python3"
  },
  "language_info": {
   "codemirror_mode": {
    "name": "ipython",
    "version": 3
   },
   "file_extension": ".py",
   "mimetype": "text/x-python",
   "name": "python",
   "nbconvert_exporter": "python",
   "pygments_lexer": "ipython3",
   "version": "3.9.7"
  }
 },
 "nbformat": 4,
 "nbformat_minor": 1
}
